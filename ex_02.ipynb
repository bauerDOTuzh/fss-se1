{
 "cells": [
  {
   "cell_type": "markdown",
   "metadata": {},
   "source": [
    "# Preprocessing"
   ]
  },
  {
   "cell_type": "code",
   "execution_count": 1,
   "metadata": {},
   "outputs": [
    {
     "name": "stdout",
     "output_type": "stream",
     "text": [
      "Requirement already satisfied: pydriller in c:\\users\\adam\\anaconda3\\envs\\utils_env\\lib\\site-packages (2.5.1)\n",
      "Requirement already satisfied: gitpython in c:\\users\\adam\\anaconda3\\envs\\utils_env\\lib\\site-packages (from pydriller) (3.1.40)\n",
      "Requirement already satisfied: pytz in c:\\users\\adam\\anaconda3\\envs\\utils_env\\lib\\site-packages (from pydriller) (2023.3.post1)\n",
      "Requirement already satisfied: types-pytz in c:\\users\\adam\\anaconda3\\envs\\utils_env\\lib\\site-packages (from pydriller) (2023.3.1.1)\n",
      "Requirement already satisfied: lizard in c:\\users\\adam\\anaconda3\\envs\\utils_env\\lib\\site-packages (from pydriller) (1.17.10)\n",
      "Requirement already satisfied: gitdb<5,>=4.0.1 in c:\\users\\adam\\anaconda3\\envs\\utils_env\\lib\\site-packages (from gitpython->pydriller) (4.0.11)\n",
      "Requirement already satisfied: smmap<6,>=3.0.1 in c:\\users\\adam\\anaconda3\\envs\\utils_env\\lib\\site-packages (from gitdb<5,>=4.0.1->gitpython->pydriller) (5.0.1)\n",
      "Note: you may need to restart the kernel to use updated packages.\n",
      "Requirement already satisfied: lizard in c:\\users\\adam\\anaconda3\\envs\\utils_env\\lib\\site-packages (1.17.10)\n",
      "Note: you may need to restart the kernel to use updated packages.\n"
     ]
    }
   ],
   "source": [
    "%pip install pydriller\n",
    "%pip install lizard"
   ]
  },
  {
   "cell_type": "code",
   "execution_count": 2,
   "metadata": {},
   "outputs": [],
   "source": [
    "from pydriller import Repository\n",
    "import os\n",
    "import datetime as dt\n",
    "import pandas as pd\n",
    "import tqdm"
   ]
  },
  {
   "cell_type": "code",
   "execution_count": 3,
   "metadata": {},
   "outputs": [
    {
     "data": {
      "text/plain": [
       "128"
      ]
     },
     "execution_count": 3,
     "metadata": {},
     "output_type": "execute_result"
    }
   ],
   "source": [
    "# Clone code from the repo and save it for code portability -> via normal git clone\n",
    "url = \"https://github.com/apache/kafka\"\n",
    "repo_path = os.path.join(os.getcwd(), 'kafka')\n",
    "clone = f\"git clone {url} {repo_path}\" \n",
    "\n",
    "os.system(clone) # Cloning"
   ]
  },
  {
   "cell_type": "code",
   "execution_count": 4,
   "metadata": {},
   "outputs": [],
   "source": [
    "# checkout the tag 3.6.0\n",
    "os.chdir(repo_path)\n",
    "os.system(\"git checkout 3.6.0\")\n",
    "# back to the \"home\" folder\n",
    "os.chdir(\"..\")"
   ]
  },
  {
   "cell_type": "code",
   "execution_count": 5,
   "metadata": {},
   "outputs": [],
   "source": [
    "from_tag = \"3.5.1\"\n",
    "from_date=dt.datetime(2023, 7, 14, 18, 51, 0)\n",
    "\n",
    "to_tag = \"3.6.0\"\n",
    "to_date=dt.datetime(2023, 9, 29, 6, 56, 0)\n",
    "\n",
    "# Using datetimes of the releases, since tags don't yield any commits\n",
    "# Open question \n",
    "# repo = Repository(path_to_repo=repo_path, from_tag=to_tag, to_tag=from_tag)\n",
    "repo = Repository(path_to_repo=repo_path, since=from_date, to=to_date)"
   ]
  },
  {
   "cell_type": "markdown",
   "metadata": {},
   "source": [
    "# Get file changes - like in EX1"
   ]
  },
  {
   "cell_type": "code",
   "execution_count": 6,
   "metadata": {},
   "outputs": [],
   "source": [
    "file_changes = {}\n",
    "# i = 30\n",
    "for commit in repo.traverse_commits():\n",
    "\n",
    "    author = commit.author.name\n",
    "\n",
    "    for file in commit.modified_files:\n",
    "\n",
    "        filename = file.new_path if file.new_path else file.old_path\n",
    "\n",
    "        if(filename not in file_changes):\n",
    "            file_changes[filename] = {\n",
    "                'num of revisions': 0,\n",
    "            }\n",
    "\n",
    "        file_changes[filename]['num of revisions'] += 1\n",
    "        "
   ]
  },
  {
   "cell_type": "markdown",
   "metadata": {},
   "source": [
    "# Exercise 2"
   ]
  },
  {
   "cell_type": "code",
   "execution_count": 7,
   "metadata": {},
   "outputs": [],
   "source": [
    "import lizard"
   ]
  },
  {
   "cell_type": "code",
   "execution_count": 8,
   "metadata": {},
   "outputs": [],
   "source": [
    "def calculate_indentation_complexity(file_path):\n",
    "    \"\"\"\n",
    "    Calculate the indentation-based complexity of a Python file.\n",
    "\n",
    "    :param file_path: Path to the Python file.\n",
    "    :return: The total indentation count and the number of lines\n",
    "    \"\"\"\n",
    "    total_indentation = 0\n",
    "    nr_lines = 0\n",
    "\n",
    "    with open(file_path, 'r') as file:\n",
    "        for line in file:\n",
    "            # Count leading spaces and tabs\n",
    "            total_indentation += line.count(\"    \")\n",
    "            nr_lines += 1\n",
    "\n",
    "    return total_indentation, nr_lines"
   ]
  },
  {
   "cell_type": "code",
   "execution_count": 9,
   "metadata": {},
   "outputs": [],
   "source": [
    "def get_nr_changes_between_commits(relative_file_path):\n",
    "    \"\"\"\n",
    "    Get the number of changes between two commits for a file.\n",
    "\n",
    "    :param relative_file_path: relative filepath in the analysed repository.\n",
    "    :return: The number of changes.\n",
    "    \"\"\"\n",
    "    # if relative file path has not \\\\ like separator replace them\n",
    "    if relative_file_path in file_changes:\n",
    "        return file_changes[relative_file_path]['num of revisions']\n",
    "    else:\n",
    "        return -1"
   ]
  },
  {
   "cell_type": "code",
   "execution_count": 10,
   "metadata": {},
   "outputs": [
    {
     "data": {
      "text/plain": [
       "1"
      ]
     },
     "execution_count": 10,
     "metadata": {},
     "output_type": "execute_result"
    }
   ],
   "source": [
    "get_nr_changes_between_commits(\"clients\\\\src\\\\test\\\\java\\\\org\\\\apache\\\\kafka\\\\clients\\\\MockClient.java\")"
   ]
  },
  {
   "cell_type": "code",
   "execution_count": 11,
   "metadata": {},
   "outputs": [
    {
     "name": "stderr",
     "output_type": "stream",
     "text": [
      "100%|██████████| 4264/4264 [00:50<00:00, 84.77it/s] \n"
     ]
    }
   ],
   "source": [
    "# Calculate lines of code for each .java file\n",
    "\n",
    "# Get all java files\n",
    "java_files = []\n",
    "for root, dirs, files in os.walk(repo_path):\n",
    "    # print(root, dirs)\n",
    "    for file in files:\n",
    "        if file.endswith(\".java\"):\n",
    "             java_files.append(os.path.join(root, file))\n",
    "\n",
    "# Calculate lines of code and cyclomatic complexity for each file\n",
    "analysis = {}\n",
    "for file in tqdm.tqdm(java_files):\n",
    "    i = lizard.analyze_file(file)\n",
    "\n",
    "    # filename = relative path to cwd\n",
    "    filename = file.replace(repo_path+\"\\\\\", \"\")\n",
    "\n",
    "    analysis[filename] = {\n",
    "        'loc': i.nloc,\n",
    "        'cc': sum([func.cyclomatic_complexity for func in i.function_list]),\n",
    "        'ic': calculate_indentation_complexity(file)[0], # for absolute values \n",
    "        # 'relative_ic': calculate_indentation_complexity(file)[0] / calculate_indentation_complexity(file)[1], # for relative values '\n",
    "        'nr_changes': get_nr_changes_between_commits(filename),\n",
    "    }\n"
   ]
  },
  {
   "cell_type": "code",
   "execution_count": 12,
   "metadata": {},
   "outputs": [
    {
     "data": {
      "text/html": [
       "<div>\n",
       "<style scoped>\n",
       "    .dataframe tbody tr th:only-of-type {\n",
       "        vertical-align: middle;\n",
       "    }\n",
       "\n",
       "    .dataframe tbody tr th {\n",
       "        vertical-align: top;\n",
       "    }\n",
       "\n",
       "    .dataframe thead th {\n",
       "        text-align: right;\n",
       "    }\n",
       "</style>\n",
       "<table border=\"1\" class=\"dataframe\">\n",
       "  <thead>\n",
       "    <tr style=\"text-align: right;\">\n",
       "      <th></th>\n",
       "      <th>loc</th>\n",
       "      <th>cc</th>\n",
       "      <th>ic</th>\n",
       "      <th>nr_changes</th>\n",
       "    </tr>\n",
       "  </thead>\n",
       "  <tbody>\n",
       "    <tr>\n",
       "      <th>core\\src\\main\\java\\kafka\\log\\remote\\RemoteLogManager.java</th>\n",
       "      <td>1196</td>\n",
       "      <td>247</td>\n",
       "      <td>4422</td>\n",
       "      <td>15</td>\n",
       "    </tr>\n",
       "    <tr>\n",
       "      <th>core\\src\\test\\java\\kafka\\log\\remote\\RemoteLogManagerTest.java</th>\n",
       "      <td>1396</td>\n",
       "      <td>64</td>\n",
       "      <td>3501</td>\n",
       "      <td>13</td>\n",
       "    </tr>\n",
       "    <tr>\n",
       "      <th>metadata\\src\\main\\java\\org\\apache\\kafka\\controller\\QuorumController.java</th>\n",
       "      <td>1753</td>\n",
       "      <td>265</td>\n",
       "      <td>5461</td>\n",
       "      <td>9</td>\n",
       "    </tr>\n",
       "    <tr>\n",
       "      <th>metadata\\src\\main\\java\\org\\apache\\kafka\\metadata\\migration\\KRaftMigrationDriver.java</th>\n",
       "      <td>730</td>\n",
       "      <td>138</td>\n",
       "      <td>2294</td>\n",
       "      <td>8</td>\n",
       "    </tr>\n",
       "    <tr>\n",
       "      <th>metadata\\src\\test\\java\\org\\apache\\kafka\\controller\\QuorumControllerTest.java</th>\n",
       "      <td>1378</td>\n",
       "      <td>57</td>\n",
       "      <td>4381</td>\n",
       "      <td>8</td>\n",
       "    </tr>\n",
       "    <tr>\n",
       "      <th>...</th>\n",
       "      <td>...</td>\n",
       "      <td>...</td>\n",
       "      <td>...</td>\n",
       "      <td>...</td>\n",
       "    </tr>\n",
       "    <tr>\n",
       "      <th>clients\\src\\test\\java\\org\\apache\\kafka\\common\\utils\\ImplicitLinkedHashMultiCollectionTest.java</th>\n",
       "      <td>139</td>\n",
       "      <td>16</td>\n",
       "      <td>273</td>\n",
       "      <td>-1</td>\n",
       "    </tr>\n",
       "    <tr>\n",
       "      <th>clients\\src\\test\\java\\org\\apache\\kafka\\common\\utils\\JavaTest.java</th>\n",
       "      <td>73</td>\n",
       "      <td>8</td>\n",
       "      <td>115</td>\n",
       "      <td>-1</td>\n",
       "    </tr>\n",
       "    <tr>\n",
       "      <th>clients\\src\\test\\java\\org\\apache\\kafka\\common\\utils\\LogCaptureAppender.java</th>\n",
       "      <td>93</td>\n",
       "      <td>18</td>\n",
       "      <td>184</td>\n",
       "      <td>-1</td>\n",
       "    </tr>\n",
       "    <tr>\n",
       "      <th>clients\\src\\test\\java\\org\\apache\\kafka\\common\\utils\\LoggingSignalHandlerTest.java</th>\n",
       "      <td>8</td>\n",
       "      <td>1</td>\n",
       "      <td>6</td>\n",
       "      <td>-1</td>\n",
       "    </tr>\n",
       "    <tr>\n",
       "      <th>trogdor\\src\\test\\java\\org\\apache\\kafka\\trogdor\\workload\\TopicsSpecTest.java</th>\n",
       "      <td>60</td>\n",
       "      <td>3</td>\n",
       "      <td>79</td>\n",
       "      <td>-1</td>\n",
       "    </tr>\n",
       "  </tbody>\n",
       "</table>\n",
       "<p>4264 rows × 4 columns</p>\n",
       "</div>"
      ],
      "text/plain": [
       "                                                     loc   cc    ic  \\\n",
       "core\\src\\main\\java\\kafka\\log\\remote\\RemoteLogMa...  1196  247  4422   \n",
       "core\\src\\test\\java\\kafka\\log\\remote\\RemoteLogMa...  1396   64  3501   \n",
       "metadata\\src\\main\\java\\org\\apache\\kafka\\control...  1753  265  5461   \n",
       "metadata\\src\\main\\java\\org\\apache\\kafka\\metadat...   730  138  2294   \n",
       "metadata\\src\\test\\java\\org\\apache\\kafka\\control...  1378   57  4381   \n",
       "...                                                  ...  ...   ...   \n",
       "clients\\src\\test\\java\\org\\apache\\kafka\\common\\u...   139   16   273   \n",
       "clients\\src\\test\\java\\org\\apache\\kafka\\common\\u...    73    8   115   \n",
       "clients\\src\\test\\java\\org\\apache\\kafka\\common\\u...    93   18   184   \n",
       "clients\\src\\test\\java\\org\\apache\\kafka\\common\\u...     8    1     6   \n",
       "trogdor\\src\\test\\java\\org\\apache\\kafka\\trogdor\\...    60    3    79   \n",
       "\n",
       "                                                    nr_changes  \n",
       "core\\src\\main\\java\\kafka\\log\\remote\\RemoteLogMa...          15  \n",
       "core\\src\\test\\java\\kafka\\log\\remote\\RemoteLogMa...          13  \n",
       "metadata\\src\\main\\java\\org\\apache\\kafka\\control...           9  \n",
       "metadata\\src\\main\\java\\org\\apache\\kafka\\metadat...           8  \n",
       "metadata\\src\\test\\java\\org\\apache\\kafka\\control...           8  \n",
       "...                                                        ...  \n",
       "clients\\src\\test\\java\\org\\apache\\kafka\\common\\u...          -1  \n",
       "clients\\src\\test\\java\\org\\apache\\kafka\\common\\u...          -1  \n",
       "clients\\src\\test\\java\\org\\apache\\kafka\\common\\u...          -1  \n",
       "clients\\src\\test\\java\\org\\apache\\kafka\\common\\u...          -1  \n",
       "trogdor\\src\\test\\java\\org\\apache\\kafka\\trogdor\\...          -1  \n",
       "\n",
       "[4264 rows x 4 columns]"
      ]
     },
     "execution_count": 12,
     "metadata": {},
     "output_type": "execute_result"
    }
   ],
   "source": [
    "# convert to pandas dataframe\n",
    "df = pd.DataFrame.from_dict(analysis, orient='index')\n",
    "df = df.sort_values(by=['nr_changes'], ascending=False)\n",
    "df"
   ]
  },
  {
   "cell_type": "code",
   "execution_count": 13,
   "metadata": {},
   "outputs": [
    {
     "data": {
      "application/vnd.plotly.v1+json": {
       "config": {
        "plotlyServerURL": "https://plot.ly"
       },
       "data": [
        {
         "coloraxis": "coloraxis",
         "hovertemplate": "x: %{x}<br>y: %{y}<br>Relative Value: %{z}<extra></extra>",
         "name": "0",
         "type": "heatmap",
         "x": [
          "loc",
          "cc",
          "ic",
          "nr_changes"
         ],
         "xaxis": "x",
         "y": [
          "group-coordinator\\src\\test\\java\\org\\apache\\kafka\\coordinator\\group\\GroupMetadataManagerTest.java",
          "clients\\src\\test\\java\\org\\apache\\kafka\\clients\\admin\\KafkaAdminClientTest.java",
          "clients\\src\\main\\java\\org\\apache\\kafka\\clients\\admin\\KafkaAdminClient.java",
          "core\\src\\main\\java\\kafka\\log\\remote\\RemoteLogManager.java",
          "clients\\src\\test\\java\\org\\apache\\kafka\\common\\requests\\RequestResponseTest.java",
          "streams\\src\\test\\java\\org\\apache\\kafka\\streams\\processor\\internals\\TaskManagerTest.java",
          "metadata\\src\\main\\java\\org\\apache\\kafka\\controller\\QuorumController.java",
          "group-coordinator\\src\\main\\java\\org\\apache\\kafka\\coordinator\\group\\GroupMetadataManager.java",
          "streams\\src\\main\\java\\org\\apache\\kafka\\streams\\processor\\internals\\InternalTopologyBuilder.java",
          "connect\\runtime\\src\\main\\java\\org\\apache\\kafka\\connect\\runtime\\distributed\\DistributedHerder.java",
          "raft\\src\\main\\java\\org\\apache\\kafka\\raft\\KafkaRaftClient.java",
          "clients\\src\\test\\java\\org\\apache\\kafka\\clients\\consumer\\internals\\ConsumerCoordinatorTest.java",
          "streams\\src\\test\\java\\org\\apache\\kafka\\streams\\kstream\\internals\\KStreamImplTest.java",
          "core\\src\\test\\java\\kafka\\log\\remote\\RemoteLogManagerTest.java",
          "streams\\src\\main\\java\\org\\apache\\kafka\\streams\\processor\\internals\\TaskManager.java",
          "clients\\src\\main\\java\\org\\apache\\kafka\\clients\\producer\\internals\\TransactionManager.java",
          "connect\\runtime\\src\\test\\java\\org\\apache\\kafka\\connect\\runtime\\distributed\\DistributedHerderTest.java",
          "clients\\src\\test\\java\\org\\apache\\kafka\\clients\\producer\\internals\\SenderTest.java",
          "clients\\src\\test\\java\\org\\apache\\kafka\\clients\\consumer\\internals\\FetcherTest.java",
          "streams\\src\\main\\java\\org\\apache\\kafka\\streams\\kstream\\internals\\KStreamImpl.java",
          "metadata\\src\\test\\java\\org\\apache\\kafka\\controller\\QuorumControllerTest.java",
          "generator\\src\\main\\java\\org\\apache\\kafka\\message\\MessageDataGenerator.java",
          "connect\\runtime\\src\\main\\java\\org\\apache\\kafka\\connect\\runtime\\Worker.java",
          "streams\\src\\main\\java\\org\\apache\\kafka\\streams\\state\\internals\\RocksDBGenericOptionsToDbOptionsColumnFamilyOptionsAdapter.java",
          "metadata\\src\\main\\java\\org\\apache\\kafka\\metadata\\migration\\KRaftMigrationDriver.java",
          "clients\\src\\test\\java\\org\\apache\\kafka\\clients\\producer\\internals\\TransactionManagerTest.java",
          "streams\\src\\main\\java\\org\\apache\\kafka\\streams\\processor\\internals\\StreamsPartitionAssignor.java",
          "metadata\\src\\main\\java\\org\\apache\\kafka\\controller\\ReplicationControlManager.java",
          "streams\\src\\test\\java\\org\\apache\\kafka\\streams\\processor\\internals\\StreamsPartitionAssignorTest.java",
          "clients\\src\\main\\java\\org\\apache\\kafka\\clients\\consumer\\internals\\ConsumerCoordinator.java",
          "streams\\src\\test\\java\\org\\apache\\kafka\\streams\\processor\\internals\\StreamThreadTest.java",
          "raft\\src\\test\\java\\org\\apache\\kafka\\raft\\KafkaRaftClientTest.java",
          "streams\\src\\test\\java\\org\\apache\\kafka\\streams\\processor\\internals\\assignment\\AssignmentTestUtils.java",
          "clients\\src\\test\\java\\org\\apache\\kafka\\clients\\consumer\\KafkaConsumerTest.java",
          "streams\\src\\test\\java\\org\\apache\\kafka\\streams\\processor\\internals\\StreamTaskTest.java",
          "clients\\src\\main\\java\\org\\apache\\kafka\\clients\\consumer\\internals\\AbstractStickyAssignor.java",
          "connect\\api\\src\\main\\java\\org\\apache\\kafka\\connect\\data\\Values.java",
          "clients\\src\\test\\java\\org\\apache\\kafka\\common\\security\\authenticator\\SaslAuthenticatorTest.java",
          "clients\\src\\test\\java\\org\\apache\\kafka\\clients\\admin\\MockAdminClient.java",
          "streams\\src\\main\\java\\org\\apache\\kafka\\streams\\StreamsConfig.java",
          "streams\\src\\main\\java\\org\\apache\\kafka\\streams\\KafkaStreams.java",
          "clients\\src\\test\\java\\org\\apache\\kafka\\clients\\producer\\KafkaProducerTest.java",
          "clients\\src\\main\\java\\org\\apache\\kafka\\common\\config\\ConfigDef.java",
          "streams\\src\\test\\java\\org\\apache\\kafka\\streams\\integration\\utils\\IntegrationTestUtils.java",
          "metadata\\src\\test\\java\\org\\apache\\kafka\\controller\\ReplicationControlManagerTest.java",
          "streams\\src\\test\\java\\org\\apache\\kafka\\streams\\StreamsConfigTest.java",
          "streams\\src\\test\\java\\org\\apache\\kafka\\streams\\TopologyTest.java",
          "clients\\src\\main\\java\\org\\apache\\kafka\\clients\\consumer\\internals\\AbstractCoordinator.java",
          "streams\\src\\main\\java\\org\\apache\\kafka\\streams\\processor\\internals\\assignment\\RackAwareTaskAssignor.java",
          "clients\\src\\main\\java\\org\\apache\\kafka\\common\\utils\\Utils.java"
         ],
         "yaxis": "y",
         "z": [
          [
           1,
           0.56,
           1,
           0.375
          ],
          [
           0.7793466223698782,
           0.644,
           0.8646992797680292,
           0.1875
          ],
          [
           0.47231450719822815,
           0.99,
           0.6209896174352258,
           0.125
          ],
          [
           0.16542081949058693,
           0.494,
           0.20676269759610888,
           1
          ],
          [
           0.43438538205980065,
           0.838,
           0.4225516789823216,
           0.125
          ],
          [
           0.5467884828349945,
           0.474,
           0.39416331493779816,
           0.25
          ],
          [
           0.2425249169435216,
           0.53,
           0.255354971471331,
           0.625
          ],
          [
           0.26287375415282394,
           0.622,
           0.31643438406136004,
           0.4375
          ],
          [
           0.24432447397563678,
           1,
           0.260125339070246,
           0.125
          ],
          [
           0.29305094130675524,
           0.784,
           0.36329623047423065,
           0.125
          ],
          [
           0.2805924695459579,
           0.764,
           0.2657843045552334,
           0.25
          ],
          [
           0.43978405315614616,
           0.598,
           0.3646525114582359,
           0.125
          ],
          [
           0.42469545957918053,
           0.744,
           0.3469740903563745,
           0
          ],
          [
           0.1931063122923588,
           0.128,
           0.16368908427649426,
           0.875
          ],
          [
           0.19836655592469546,
           0.652,
           0.22280422785520532,
           0.1875
          ],
          [
           0.18632336655592469,
           0.718,
           0.18758769058086242,
           0.125
          ],
          [
           0.39770210409745294,
           0.32,
           0.30698718548311665,
           0.1875
          ],
          [
           0.3588039867109635,
           0.342,
           0.27901973622673276,
           0.1875
          ],
          [
           0.39562569213732,
           0.418,
           0.3437003086708446,
           0
          ],
          [
           0.18300110741971207,
           0.462,
           0.17771957721447948,
           0.25
          ],
          [
           0.19061461794019935,
           0.114,
           0.20484519689458422,
           0.5625
          ],
          [
           0.22217607973421927,
           0.526,
           0.32214011785614066,
           0
          ],
          [
           0.22466777408637872,
           0.416,
           0.296838462257974,
           0.125
          ],
          [
           0.2080564784053156,
           0.634,
           0.09489290057057338,
           0.125
          ],
          [
           0.10091362126245847,
           0.276,
           0.10723973435600037,
           0.5625
          ],
          [
           0.3964562569213732,
           0.366,
           0.2836030305864746,
           0
          ],
          [
           0.15337763012181616,
           0.32,
           0.19652043775137967,
           0.375
          ],
          [
           0.22231450719822812,
           0.566,
           0.24001496585913384,
           0
          ],
          [
           0.30564784053156147,
           0.244,
           0.2903844355065008,
           0.1875
          ],
          [
           0.17026578073089702,
           0.508,
           0.2105041623795716,
           0.125
          ],
          [
           0.3654485049833887,
           0.216,
           0.28958937424001496,
           0.125
          ],
          [
           0.2977574750830565,
           0.214,
           0.21859507997380975,
           0.25
          ],
          [
           0.1280454042081949,
           0.222,
           0.1273501075671125,
           0.5
          ],
          [
           0.3179678848283499,
           0.406,
           0.2525021045739407,
           0
          ],
          [
           0.3344407530454042,
           0.262,
           0.24151155177251893,
           0.125
          ],
          [
           0.13815060908084165,
           0.48,
           0.2122813581517164,
           0.125
          ],
          [
           0.1294296788482835,
           0.624,
           0.17033018426714058,
           0
          ],
          [
           0.25719822812846066,
           0.428,
           0.22790197362267328,
           0
          ],
          [
           0.15960686600221483,
           0.48,
           0.1445140772612478,
           0.125
          ],
          [
           0.15919158361018826,
           0.19,
           0.17262183144701151,
           0.375
          ],
          [
           0.17317275747508307,
           0.478,
           0.23183051164530913,
           0
          ],
          [
           0.27311738648947953,
           0.26,
           0.2239734356000374,
           0.125
          ],
          [
           0.14078073089700996,
           0.572,
           0.16223926667290245,
           0
          ],
          [
           0.14770210409745294,
           0.37,
           0.23089514544944345,
           0.125
          ],
          [
           0.3171373200442968,
           0.248,
           0.30104761013936954,
           0
          ],
          [
           0.1746954595791805,
           0.336,
           0.09947619493031522,
           0.25
          ],
          [
           0.2760243632336656,
           0.286,
           0.27022729398559536,
           0
          ],
          [
           0.15753045404208194,
           0.456,
           0.21737910391918436,
           0
          ],
          [
           0.06270764119601328,
           0.178,
           0.0766064914413993,
           0.5
          ],
          [
           0.12001661129568106,
           0.446,
           0.11565803011879151,
           0.125
          ]
         ]
        }
       ],
       "layout": {
        "coloraxis": {
         "colorbar": {
          "title": {
           "text": "Relative Value"
          }
         },
         "colorscale": [
          [
           0,
           "#0d0887"
          ],
          [
           0.1111111111111111,
           "#46039f"
          ],
          [
           0.2222222222222222,
           "#7201a8"
          ],
          [
           0.3333333333333333,
           "#9c179e"
          ],
          [
           0.4444444444444444,
           "#bd3786"
          ],
          [
           0.5555555555555556,
           "#d8576b"
          ],
          [
           0.6666666666666666,
           "#ed7953"
          ],
          [
           0.7777777777777778,
           "#fb9f3a"
          ],
          [
           0.8888888888888888,
           "#fdca26"
          ],
          [
           1,
           "#f0f921"
          ]
         ]
        },
        "template": {
         "data": {
          "bar": [
           {
            "error_x": {
             "color": "#2a3f5f"
            },
            "error_y": {
             "color": "#2a3f5f"
            },
            "marker": {
             "line": {
              "color": "#E5ECF6",
              "width": 0.5
             },
             "pattern": {
              "fillmode": "overlay",
              "size": 10,
              "solidity": 0.2
             }
            },
            "type": "bar"
           }
          ],
          "barpolar": [
           {
            "marker": {
             "line": {
              "color": "#E5ECF6",
              "width": 0.5
             },
             "pattern": {
              "fillmode": "overlay",
              "size": 10,
              "solidity": 0.2
             }
            },
            "type": "barpolar"
           }
          ],
          "carpet": [
           {
            "aaxis": {
             "endlinecolor": "#2a3f5f",
             "gridcolor": "white",
             "linecolor": "white",
             "minorgridcolor": "white",
             "startlinecolor": "#2a3f5f"
            },
            "baxis": {
             "endlinecolor": "#2a3f5f",
             "gridcolor": "white",
             "linecolor": "white",
             "minorgridcolor": "white",
             "startlinecolor": "#2a3f5f"
            },
            "type": "carpet"
           }
          ],
          "choropleth": [
           {
            "colorbar": {
             "outlinewidth": 0,
             "ticks": ""
            },
            "type": "choropleth"
           }
          ],
          "contour": [
           {
            "colorbar": {
             "outlinewidth": 0,
             "ticks": ""
            },
            "colorscale": [
             [
              0,
              "#0d0887"
             ],
             [
              0.1111111111111111,
              "#46039f"
             ],
             [
              0.2222222222222222,
              "#7201a8"
             ],
             [
              0.3333333333333333,
              "#9c179e"
             ],
             [
              0.4444444444444444,
              "#bd3786"
             ],
             [
              0.5555555555555556,
              "#d8576b"
             ],
             [
              0.6666666666666666,
              "#ed7953"
             ],
             [
              0.7777777777777778,
              "#fb9f3a"
             ],
             [
              0.8888888888888888,
              "#fdca26"
             ],
             [
              1,
              "#f0f921"
             ]
            ],
            "type": "contour"
           }
          ],
          "contourcarpet": [
           {
            "colorbar": {
             "outlinewidth": 0,
             "ticks": ""
            },
            "type": "contourcarpet"
           }
          ],
          "heatmap": [
           {
            "colorbar": {
             "outlinewidth": 0,
             "ticks": ""
            },
            "colorscale": [
             [
              0,
              "#0d0887"
             ],
             [
              0.1111111111111111,
              "#46039f"
             ],
             [
              0.2222222222222222,
              "#7201a8"
             ],
             [
              0.3333333333333333,
              "#9c179e"
             ],
             [
              0.4444444444444444,
              "#bd3786"
             ],
             [
              0.5555555555555556,
              "#d8576b"
             ],
             [
              0.6666666666666666,
              "#ed7953"
             ],
             [
              0.7777777777777778,
              "#fb9f3a"
             ],
             [
              0.8888888888888888,
              "#fdca26"
             ],
             [
              1,
              "#f0f921"
             ]
            ],
            "type": "heatmap"
           }
          ],
          "heatmapgl": [
           {
            "colorbar": {
             "outlinewidth": 0,
             "ticks": ""
            },
            "colorscale": [
             [
              0,
              "#0d0887"
             ],
             [
              0.1111111111111111,
              "#46039f"
             ],
             [
              0.2222222222222222,
              "#7201a8"
             ],
             [
              0.3333333333333333,
              "#9c179e"
             ],
             [
              0.4444444444444444,
              "#bd3786"
             ],
             [
              0.5555555555555556,
              "#d8576b"
             ],
             [
              0.6666666666666666,
              "#ed7953"
             ],
             [
              0.7777777777777778,
              "#fb9f3a"
             ],
             [
              0.8888888888888888,
              "#fdca26"
             ],
             [
              1,
              "#f0f921"
             ]
            ],
            "type": "heatmapgl"
           }
          ],
          "histogram": [
           {
            "marker": {
             "pattern": {
              "fillmode": "overlay",
              "size": 10,
              "solidity": 0.2
             }
            },
            "type": "histogram"
           }
          ],
          "histogram2d": [
           {
            "colorbar": {
             "outlinewidth": 0,
             "ticks": ""
            },
            "colorscale": [
             [
              0,
              "#0d0887"
             ],
             [
              0.1111111111111111,
              "#46039f"
             ],
             [
              0.2222222222222222,
              "#7201a8"
             ],
             [
              0.3333333333333333,
              "#9c179e"
             ],
             [
              0.4444444444444444,
              "#bd3786"
             ],
             [
              0.5555555555555556,
              "#d8576b"
             ],
             [
              0.6666666666666666,
              "#ed7953"
             ],
             [
              0.7777777777777778,
              "#fb9f3a"
             ],
             [
              0.8888888888888888,
              "#fdca26"
             ],
             [
              1,
              "#f0f921"
             ]
            ],
            "type": "histogram2d"
           }
          ],
          "histogram2dcontour": [
           {
            "colorbar": {
             "outlinewidth": 0,
             "ticks": ""
            },
            "colorscale": [
             [
              0,
              "#0d0887"
             ],
             [
              0.1111111111111111,
              "#46039f"
             ],
             [
              0.2222222222222222,
              "#7201a8"
             ],
             [
              0.3333333333333333,
              "#9c179e"
             ],
             [
              0.4444444444444444,
              "#bd3786"
             ],
             [
              0.5555555555555556,
              "#d8576b"
             ],
             [
              0.6666666666666666,
              "#ed7953"
             ],
             [
              0.7777777777777778,
              "#fb9f3a"
             ],
             [
              0.8888888888888888,
              "#fdca26"
             ],
             [
              1,
              "#f0f921"
             ]
            ],
            "type": "histogram2dcontour"
           }
          ],
          "mesh3d": [
           {
            "colorbar": {
             "outlinewidth": 0,
             "ticks": ""
            },
            "type": "mesh3d"
           }
          ],
          "parcoords": [
           {
            "line": {
             "colorbar": {
              "outlinewidth": 0,
              "ticks": ""
             }
            },
            "type": "parcoords"
           }
          ],
          "pie": [
           {
            "automargin": true,
            "type": "pie"
           }
          ],
          "scatter": [
           {
            "fillpattern": {
             "fillmode": "overlay",
             "size": 10,
             "solidity": 0.2
            },
            "type": "scatter"
           }
          ],
          "scatter3d": [
           {
            "line": {
             "colorbar": {
              "outlinewidth": 0,
              "ticks": ""
             }
            },
            "marker": {
             "colorbar": {
              "outlinewidth": 0,
              "ticks": ""
             }
            },
            "type": "scatter3d"
           }
          ],
          "scattercarpet": [
           {
            "marker": {
             "colorbar": {
              "outlinewidth": 0,
              "ticks": ""
             }
            },
            "type": "scattercarpet"
           }
          ],
          "scattergeo": [
           {
            "marker": {
             "colorbar": {
              "outlinewidth": 0,
              "ticks": ""
             }
            },
            "type": "scattergeo"
           }
          ],
          "scattergl": [
           {
            "marker": {
             "colorbar": {
              "outlinewidth": 0,
              "ticks": ""
             }
            },
            "type": "scattergl"
           }
          ],
          "scattermapbox": [
           {
            "marker": {
             "colorbar": {
              "outlinewidth": 0,
              "ticks": ""
             }
            },
            "type": "scattermapbox"
           }
          ],
          "scatterpolar": [
           {
            "marker": {
             "colorbar": {
              "outlinewidth": 0,
              "ticks": ""
             }
            },
            "type": "scatterpolar"
           }
          ],
          "scatterpolargl": [
           {
            "marker": {
             "colorbar": {
              "outlinewidth": 0,
              "ticks": ""
             }
            },
            "type": "scatterpolargl"
           }
          ],
          "scatterternary": [
           {
            "marker": {
             "colorbar": {
              "outlinewidth": 0,
              "ticks": ""
             }
            },
            "type": "scatterternary"
           }
          ],
          "surface": [
           {
            "colorbar": {
             "outlinewidth": 0,
             "ticks": ""
            },
            "colorscale": [
             [
              0,
              "#0d0887"
             ],
             [
              0.1111111111111111,
              "#46039f"
             ],
             [
              0.2222222222222222,
              "#7201a8"
             ],
             [
              0.3333333333333333,
              "#9c179e"
             ],
             [
              0.4444444444444444,
              "#bd3786"
             ],
             [
              0.5555555555555556,
              "#d8576b"
             ],
             [
              0.6666666666666666,
              "#ed7953"
             ],
             [
              0.7777777777777778,
              "#fb9f3a"
             ],
             [
              0.8888888888888888,
              "#fdca26"
             ],
             [
              1,
              "#f0f921"
             ]
            ],
            "type": "surface"
           }
          ],
          "table": [
           {
            "cells": {
             "fill": {
              "color": "#EBF0F8"
             },
             "line": {
              "color": "white"
             }
            },
            "header": {
             "fill": {
              "color": "#C8D4E3"
             },
             "line": {
              "color": "white"
             }
            },
            "type": "table"
           }
          ]
         },
         "layout": {
          "annotationdefaults": {
           "arrowcolor": "#2a3f5f",
           "arrowhead": 0,
           "arrowwidth": 1
          },
          "autotypenumbers": "strict",
          "coloraxis": {
           "colorbar": {
            "outlinewidth": 0,
            "ticks": ""
           }
          },
          "colorscale": {
           "diverging": [
            [
             0,
             "#8e0152"
            ],
            [
             0.1,
             "#c51b7d"
            ],
            [
             0.2,
             "#de77ae"
            ],
            [
             0.3,
             "#f1b6da"
            ],
            [
             0.4,
             "#fde0ef"
            ],
            [
             0.5,
             "#f7f7f7"
            ],
            [
             0.6,
             "#e6f5d0"
            ],
            [
             0.7,
             "#b8e186"
            ],
            [
             0.8,
             "#7fbc41"
            ],
            [
             0.9,
             "#4d9221"
            ],
            [
             1,
             "#276419"
            ]
           ],
           "sequential": [
            [
             0,
             "#0d0887"
            ],
            [
             0.1111111111111111,
             "#46039f"
            ],
            [
             0.2222222222222222,
             "#7201a8"
            ],
            [
             0.3333333333333333,
             "#9c179e"
            ],
            [
             0.4444444444444444,
             "#bd3786"
            ],
            [
             0.5555555555555556,
             "#d8576b"
            ],
            [
             0.6666666666666666,
             "#ed7953"
            ],
            [
             0.7777777777777778,
             "#fb9f3a"
            ],
            [
             0.8888888888888888,
             "#fdca26"
            ],
            [
             1,
             "#f0f921"
            ]
           ],
           "sequentialminus": [
            [
             0,
             "#0d0887"
            ],
            [
             0.1111111111111111,
             "#46039f"
            ],
            [
             0.2222222222222222,
             "#7201a8"
            ],
            [
             0.3333333333333333,
             "#9c179e"
            ],
            [
             0.4444444444444444,
             "#bd3786"
            ],
            [
             0.5555555555555556,
             "#d8576b"
            ],
            [
             0.6666666666666666,
             "#ed7953"
            ],
            [
             0.7777777777777778,
             "#fb9f3a"
            ],
            [
             0.8888888888888888,
             "#fdca26"
            ],
            [
             1,
             "#f0f921"
            ]
           ]
          },
          "colorway": [
           "#636efa",
           "#EF553B",
           "#00cc96",
           "#ab63fa",
           "#FFA15A",
           "#19d3f3",
           "#FF6692",
           "#B6E880",
           "#FF97FF",
           "#FECB52"
          ],
          "font": {
           "color": "#2a3f5f"
          },
          "geo": {
           "bgcolor": "white",
           "lakecolor": "white",
           "landcolor": "#E5ECF6",
           "showlakes": true,
           "showland": true,
           "subunitcolor": "white"
          },
          "hoverlabel": {
           "align": "left"
          },
          "hovermode": "closest",
          "mapbox": {
           "style": "light"
          },
          "paper_bgcolor": "white",
          "plot_bgcolor": "#E5ECF6",
          "polar": {
           "angularaxis": {
            "gridcolor": "white",
            "linecolor": "white",
            "ticks": ""
           },
           "bgcolor": "#E5ECF6",
           "radialaxis": {
            "gridcolor": "white",
            "linecolor": "white",
            "ticks": ""
           }
          },
          "scene": {
           "xaxis": {
            "backgroundcolor": "#E5ECF6",
            "gridcolor": "white",
            "gridwidth": 2,
            "linecolor": "white",
            "showbackground": true,
            "ticks": "",
            "zerolinecolor": "white"
           },
           "yaxis": {
            "backgroundcolor": "#E5ECF6",
            "gridcolor": "white",
            "gridwidth": 2,
            "linecolor": "white",
            "showbackground": true,
            "ticks": "",
            "zerolinecolor": "white"
           },
           "zaxis": {
            "backgroundcolor": "#E5ECF6",
            "gridcolor": "white",
            "gridwidth": 2,
            "linecolor": "white",
            "showbackground": true,
            "ticks": "",
            "zerolinecolor": "white"
           }
          },
          "shapedefaults": {
           "line": {
            "color": "#2a3f5f"
           }
          },
          "ternary": {
           "aaxis": {
            "gridcolor": "white",
            "linecolor": "white",
            "ticks": ""
           },
           "baxis": {
            "gridcolor": "white",
            "linecolor": "white",
            "ticks": ""
           },
           "bgcolor": "#E5ECF6",
           "caxis": {
            "gridcolor": "white",
            "linecolor": "white",
            "ticks": ""
           }
          },
          "title": {
           "x": 0.05
          },
          "xaxis": {
           "automargin": true,
           "gridcolor": "white",
           "linecolor": "white",
           "ticks": "",
           "title": {
            "standoff": 15
           },
           "zerolinecolor": "white",
           "zerolinewidth": 2
          },
          "yaxis": {
           "automargin": true,
           "gridcolor": "white",
           "linecolor": "white",
           "ticks": "",
           "title": {
            "standoff": 15
           },
           "zerolinecolor": "white",
           "zerolinewidth": 2
          }
         }
        },
        "title": {
         "text": "Heatmap of File Metrics (Relative to Column)"
        },
        "xaxis": {
         "anchor": "y",
         "domain": [
          0,
          1
         ],
         "side": "top",
         "title": {
          "text": "Metric"
         }
        },
        "yaxis": {
         "anchor": "x",
         "autorange": "reversed",
         "domain": [
          0,
          1
         ],
         "title": {
          "text": "File"
         }
        }
       }
      }
     },
     "metadata": {},
     "output_type": "display_data"
    }
   ],
   "source": [
    "# with plotly display heapmap of the top 10 files with the most changes\n",
    "import plotly.express as px\n",
    "\n",
    "df_normalized = df.apply(lambda x: (x - x.min()) / (x.max() - x.min()) if x.name != 'files' else x)\n",
    "\n",
    "df_normalized['relative_count'] = df_normalized['nr_changes'] + df_normalized['cc']  + df_normalized['loc'] + df_normalized['ic']\n",
    "df_normalized = df_normalized.sort_values(by=['relative_count'], ascending=False).head(50)\n",
    "df_normalized.drop(columns=['relative_count'], inplace=True)\n",
    "# Create the heatmap using Plotly\n",
    "fig = px.imshow(df_normalized,\n",
    "                labels=dict(color=\"Relative Value\"),\n",
    "                x=df_normalized.columns,  # Use the columns of the dataframe as the x-axis labels\n",
    "                y=df_normalized.index,  # Use the index for the y-axis labels\n",
    "                aspect=\"auto\",\n",
    "                title=\"Heatmap of File Metrics (Relative to Column)\")\n",
    "\n",
    "# Customizing the layout to have meaningful axis titles\n",
    "fig.update_xaxes(side=\"top\")  # To move the x-axis to the top of the heatmap\n",
    "fig.update_layout(xaxis_title=\"Metric\", yaxis_title=\"File\")\n",
    "\n",
    "# Show the heatmap\n",
    "fig.show()"
   ]
  },
  {
   "cell_type": "code",
   "execution_count": 14,
   "metadata": {},
   "outputs": [],
   "source": [
    "fig.write_html(\"ex2_heatmap.html\")"
   ]
  }
 ],
 "metadata": {
  "kernelspec": {
   "display_name": "utils_env",
   "language": "python",
   "name": "python3"
  },
  "language_info": {
   "codemirror_mode": {
    "name": "ipython",
    "version": 3
   },
   "file_extension": ".py",
   "mimetype": "text/x-python",
   "name": "python",
   "nbconvert_exporter": "python",
   "pygments_lexer": "ipython3",
   "version": "3.12.0"
  }
 },
 "nbformat": 4,
 "nbformat_minor": 2
}
