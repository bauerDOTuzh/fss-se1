{
 "cells": [
  {
   "cell_type": "markdown",
   "id": "e68f0b5155563b0",
   "metadata": {
    "collapsed": false
   },
   "source": [
    "# Preprocessing"
   ]
  },
  {
   "cell_type": "code",
   "execution_count": 4,
   "id": "initial_id",
   "metadata": {
    "collapsed": true
   },
   "outputs": [
    {
     "name": "stdout",
     "output_type": "stream",
     "text": [
      "Requirement already satisfied: pydriller in c:\\users\\paull\\miniconda3\\envs\\fss\\lib\\site-packages (2.6)\n",
      "Requirement already satisfied: gitpython in c:\\users\\paull\\miniconda3\\envs\\fss\\lib\\site-packages (from pydriller) (3.1.40)\n",
      "Requirement already satisfied: pytz in c:\\users\\paull\\miniconda3\\envs\\fss\\lib\\site-packages (from pydriller) (2023.3.post1)\n",
      "Requirement already satisfied: types-pytz in c:\\users\\paull\\miniconda3\\envs\\fss\\lib\\site-packages (from pydriller) (2023.3.1.1)\n",
      "Requirement already satisfied: lizard in c:\\users\\paull\\miniconda3\\envs\\fss\\lib\\site-packages (from pydriller) (1.17.10)\n",
      "Requirement already satisfied: gitdb<5,>=4.0.1 in c:\\users\\paull\\miniconda3\\envs\\fss\\lib\\site-packages (from gitpython->pydriller) (4.0.11)\n",
      "Requirement already satisfied: smmap<6,>=3.0.1 in c:\\users\\paull\\miniconda3\\envs\\fss\\lib\\site-packages (from gitdb<5,>=4.0.1->gitpython->pydriller) (5.0.1)\n",
      "Note: you may need to restart the kernel to use updated packages.\n",
      "Requirement already satisfied: ujson in c:\\users\\paull\\miniconda3\\envs\\fss\\lib\\site-packages (5.8.0)\n",
      "Note: you may need to restart the kernel to use updated packages.\n",
      "Requirement already satisfied: numpy in c:\\users\\paull\\miniconda3\\envs\\fss\\lib\\site-packages (1.26.2)\n",
      "Note: you may need to restart the kernel to use updated packages.\n",
      "Requirement already satisfied: scipy in c:\\users\\paull\\miniconda3\\envs\\fss\\lib\\site-packages (1.11.4)\n",
      "Requirement already satisfied: numpy<1.28.0,>=1.21.6 in c:\\users\\paull\\miniconda3\\envs\\fss\\lib\\site-packages (from scipy) (1.26.2)\n",
      "Note: you may need to restart the kernel to use updated packages.\n"
     ]
    }
   ],
   "source": [
    "%pip install pydriller --upgrade\n",
    "%pip install ujson --upgrade\n",
    "%pip install numpy --upgrade\n",
    "%pip install scipy --upgrade"
   ]
  },
  {
   "cell_type": "code",
   "execution_count": 5,
   "id": "8402de1ce5762dd8",
   "metadata": {
    "ExecuteTime": {
     "end_time": "2023-11-27T09:57:25.446263700Z",
     "start_time": "2023-11-27T09:57:25.434395900Z"
    },
    "collapsed": false
   },
   "outputs": [],
   "source": [
    "from pydriller import Repository, Git\n",
    "import numpy as np\n",
    "from scipy.sparse import csc_matrix, vstack\n",
    "from datetime import timedelta, datetime\n",
    "import os\n",
    "import ujson\n",
    "from collections import deque"
   ]
  },
  {
   "cell_type": "code",
   "execution_count": 6,
   "id": "c28ff228a1e1b016",
   "metadata": {
    "collapsed": false
   },
   "outputs": [
    {
     "data": {
      "text/plain": [
       "128"
      ]
     },
     "execution_count": 6,
     "metadata": {},
     "output_type": "execute_result"
    }
   ],
   "source": [
    "# Clone code from the repo and save it for code portability -> via normal git clone\n",
    "url = \"https://github.com/apache/kafka\"\n",
    "repo_path = os.path.join(os.getcwd(), 'kafka')\n",
    "clone = f\"git clone {url} \\\"{repo_path}\\\"\" \n",
    "\n",
    "os.system(clone) # Cloning"
   ]
  },
  {
   "cell_type": "code",
   "execution_count": 183,
   "id": "64d8de252a2b2fd7",
   "metadata": {
    "ExecuteTime": {
     "end_time": "2023-11-27T09:57:25.636200900Z",
     "start_time": "2023-11-27T09:57:25.500688700Z"
    },
    "collapsed": false
   },
   "outputs": [],
   "source": [
    "# checkout the tag 3.6.0\n",
    "os.chdir(repo_path)\n",
    "os.system(\"git checkout 3.6.0\")\n",
    "# back to the \"home\" folder\n",
    "os.chdir(\"..\")"
   ]
  },
  {
   "cell_type": "markdown",
   "id": "9bf96b83d55442ff",
   "metadata": {
    "collapsed": false
   },
   "source": [
    "# Exercise 3"
   ]
  },
  {
   "cell_type": "code",
   "execution_count": 184,
   "id": "73130d2e39b80abb",
   "metadata": {
    "ExecuteTime": {
     "end_time": "2023-11-27T09:57:25.646483600Z",
     "start_time": "2023-11-27T09:57:25.638766100Z"
    },
    "collapsed": false
   },
   "outputs": [],
   "source": [
    "# Configuration\n",
    "\n",
    "# Timeframes to look at\n",
    "timeframes = [168, 72, 48, 24]\n",
    "\n",
    "temporal_coupling_save_file = \"./ex_3_temporal_coupling.json\"\n",
    "logical_coupling_save_file = \"./ex_3_logical_coupling.json\"\n",
    "\n",
    "repo_path = \"./kafka\""
   ]
  },
  {
   "cell_type": "code",
   "execution_count": 185,
   "id": "1193eadf87edd071",
   "metadata": {
    "ExecuteTime": {
     "end_time": "2023-11-27T09:57:27.280361Z",
     "start_time": "2023-11-27T09:57:25.642978800Z"
    },
    "collapsed": false
   },
   "outputs": [],
   "source": [
    "# Get all files currently in the repository\n",
    "files = [os.path.relpath(entity, repo_path) for entity in Git(repo_path).files()]\n",
    "\n",
    "number_of_files = len(files)\n",
    "commits_since = datetime(2023, 9, 1, 0, 0, 0)\n",
    "\n",
    "commits = [c for c in Repository(repo_path).traverse_commits()]\n",
    "\n",
    "timeframes.sort(reverse=True)"
   ]
  },
  {
   "cell_type": "code",
   "execution_count": 186,
   "id": "d17d254d55561550",
   "metadata": {
    "ExecuteTime": {
     "end_time": "2023-11-27T10:11:16.638872600Z",
     "start_time": "2023-11-27T09:57:27.280361Z"
    },
    "collapsed": false
   },
   "outputs": [],
   "source": [
    "commit_window = deque()\n",
    "temporal_update_vectors = [{'v': [], 'w': []} for _ in timeframes]\n",
    "logical_update_vectors = []\n",
    "\n",
    "for commit in commits:\n",
    "    modifications = [file.new_path for file in commit.modified_files]\n",
    "    mask = np.isin(files, modifications)\n",
    "    indices = np.where(mask)[0]\n",
    "    c1_modifications = csc_matrix((np.ones_like(indices), (np.zeros_like(indices), indices)), shape=(1, len(files)))\n",
    "    c1_time = commit.committer_date\n",
    "    c1 = {\"time\": c1_time, \"modifications\": c1_modifications}\n",
    "    inside_timeframe = [False for _ in timeframes]\n",
    "    i = 0\n",
    "    logical_update_vectors.append(c1_modifications)\n",
    "    while i < len(commit_window):\n",
    "        c2 = commit_window[i]\n",
    "        delta = c1_time - c2[\"time\"]\n",
    "        for idx, timeframe in enumerate(timeframes):\n",
    "            if inside_timeframe[idx] or delta <= timedelta(hours=timeframe):\n",
    "                temporal_update_vectors[idx]['v'].append(c1_modifications)\n",
    "                temporal_update_vectors[idx]['w'].append(c2[\"modifications\"])\n",
    "                inside_timeframe[idx] = True\n",
    "        if inside_timeframe[0]:\n",
    "            i += 1\n",
    "        else:\n",
    "            commit_window.popleft()\n",
    "    commit_window.append(c1)              "
   ]
  },
  {
   "cell_type": "code",
   "execution_count": 187,
   "id": "d86019982700d88b",
   "metadata": {
    "ExecuteTime": {
     "end_time": "2023-11-27T10:15:34.247795400Z",
     "start_time": "2023-11-27T10:11:16.645254500Z"
    },
    "collapsed": false
   },
   "outputs": [],
   "source": [
    "# For each timeframe compute a temporal coupling matrix\n",
    "temporal_matrices = []\n",
    "for update_vector in temporal_update_vectors:\n",
    "    v1_stack = vstack(update_vector['v'])\n",
    "    v2_stack = vstack(update_vector['w'])\n",
    "    m = v1_stack.transpose(copy=True) @ v2_stack\n",
    "    a = v1_stack.multiply(v2_stack)\n",
    "    duplicates = a.transpose(copy=True) @ a\n",
    "    temporal_matrices.append(m + m.transpose(copy=True) - duplicates)"
   ]
  },
  {
   "cell_type": "code",
   "execution_count": 188,
   "id": "539a68e18b5f05f1",
   "metadata": {
    "ExecuteTime": {
     "end_time": "2023-11-27T10:15:35.805627400Z",
     "start_time": "2023-11-27T10:15:34.259697500Z"
    },
    "collapsed": false
   },
   "outputs": [],
   "source": [
    "# Compute the logical coupling matrix and joint commits vector\n",
    "logical_coupling_matrix = vstack(logical_update_vectors).transpose() @ vstack(logical_update_vectors)\n",
    "\n",
    "joint_commits_vector = logical_coupling_matrix.sum(axis=0).A1 - logical_coupling_matrix.diagonal()"
   ]
  },
  {
   "cell_type": "code",
   "execution_count": 189,
   "id": "fde5d05b58e6d6de",
   "metadata": {
    "ExecuteTime": {
     "end_time": "2023-11-27T10:21:02.159912700Z",
     "start_time": "2023-11-27T10:15:42.021026700Z"
    },
    "collapsed": false
   },
   "outputs": [],
   "source": [
    "# Convert the temporal coupling matrix to the required format\n",
    "temporal_coupling = {}\n",
    "for idx, matrix in enumerate(temporal_matrices):\n",
    "    for row, col in zip(*matrix.nonzero()):\n",
    "        if row == col:\n",
    "            continue\n",
    "        val = int(matrix[row, col])\n",
    "        key = f\"{row}_{col}\"\n",
    "        if key not in temporal_coupling:\n",
    "            temporal_coupling[key] = {\n",
    "                \"file_pair\": [\n",
    "                    files[row],\n",
    "                    files[col]\n",
    "                ],\n",
    "                \"coupled_commits\": [\n",
    "                    {\n",
    "                        \"time_window\": timeframe,\n",
    "                        \"commit_count\": 0\n",
    "                    } for timeframe in reversed(timeframes)\n",
    "                ]\n",
    "            }\n",
    "        temporal_coupling[key][\"coupled_commits\"][len(timeframes) - 1 - idx][\"commit_count\"] = val"
   ]
  },
  {
   "cell_type": "code",
   "execution_count": 190,
   "id": "4eb9c769e0fc16cf",
   "metadata": {
    "ExecuteTime": {
     "end_time": "2023-11-27T10:21:21.521782300Z",
     "start_time": "2023-11-27T10:21:02.476150900Z"
    },
    "collapsed": false
   },
   "outputs": [],
   "source": [
    "# Convert the logical coupling matrix and vector to the required format\n",
    "logical_coupling = []\n",
    "for row, col in zip(*logical_coupling_matrix.nonzero()):\n",
    "    # We just need to look at the upper triangle because the matrix is symmetric\n",
    "    if row >= col:\n",
    "        continue\n",
    "    val = int(logical_coupling_matrix[row, col])\n",
    "    file_name_1 = files[row]\n",
    "    file_name_2 = files[col]\n",
    "    \n",
    "    logical_coupling.append({\n",
    "        \"file_pair\": [file_name_1, file_name_2],\n",
    "        \"logical_coupling\": {\n",
    "            \"Joint\": val,\n",
    "            file_name_1: int(joint_commits_vector[row]) - val,\n",
    "            file_name_2: int(joint_commits_vector[col]) - val\n",
    "        }\n",
    "    })"
   ]
  },
  {
   "cell_type": "code",
   "execution_count": 191,
   "id": "4f06ec8f4ab9123e",
   "metadata": {
    "ExecuteTime": {
     "end_time": "2023-11-27T10:22:32.437539700Z",
     "start_time": "2023-11-27T10:21:21.536785700Z"
    },
    "collapsed": false
   },
   "outputs": [],
   "source": [
    "# Saving temporal couplings\n",
    "with open(temporal_coupling_save_file, \"w\") as f:\n",
    "    ujson.dump(list(temporal_coupling.values()), f, indent=4)"
   ]
  },
  {
   "cell_type": "code",
   "execution_count": 192,
   "id": "b7d7d3e7b3d6c600",
   "metadata": {
    "ExecuteTime": {
     "end_time": "2023-11-27T10:22:38.213694100Z",
     "start_time": "2023-11-27T10:22:32.439761700Z"
    },
    "collapsed": false
   },
   "outputs": [],
   "source": [
    "# Saving logical couplings\n",
    "with open(logical_coupling_save_file, \"w\") as f:\n",
    "    ujson.dump(logical_coupling, f, indent=4)"
   ]
  }
 ],
 "metadata": {
  "kernelspec": {
   "display_name": "Python 3",
   "language": "python",
   "name": "python3"
  },
  "language_info": {
   "codemirror_mode": {
    "name": "ipython",
    "version": 3
   },
   "file_extension": ".py",
   "mimetype": "text/x-python",
   "name": "python",
   "nbconvert_exporter": "python",
   "pygments_lexer": "ipython3",
   "version": "3.12.0"
  }
 },
 "nbformat": 4,
 "nbformat_minor": 5
}
