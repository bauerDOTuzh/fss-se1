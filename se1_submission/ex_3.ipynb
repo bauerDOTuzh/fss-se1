{
 "cells": [
  {
   "cell_type": "markdown",
   "source": [
    "# Preprocessing"
   ],
   "metadata": {
    "collapsed": false
   },
   "id": "e68f0b5155563b0"
  },
  {
   "cell_type": "code",
   "execution_count": null,
   "id": "initial_id",
   "metadata": {
    "collapsed": true
   },
   "outputs": [],
   "source": [
    "%pip install pydriller --upgrade\n",
    "%pip install ujson --upgrade\n",
    "%pip install numpy --upgrade\n",
    "%pip install scipy --upgrade"
   ]
  },
  {
   "cell_type": "code",
   "execution_count": 181,
   "outputs": [],
   "source": [
    "from pydriller import Repository, Git\n",
    "import numpy as np\n",
    "from scipy.sparse import csc_matrix, vstack\n",
    "from datetime import timedelta, datetime\n",
    "import os\n",
    "import ujson\n",
    "from collections import deque"
   ],
   "metadata": {
    "collapsed": false,
    "ExecuteTime": {
     "end_time": "2023-11-27T09:57:25.446263700Z",
     "start_time": "2023-11-27T09:57:25.434395900Z"
    }
   },
   "id": "8402de1ce5762dd8"
  },
  {
   "cell_type": "code",
   "execution_count": null,
   "outputs": [],
   "source": [
    "# Clone code from the repo and save it for code portability -> via normal git clone\n",
    "url = \"https://github.com/apache/kafka\"\n",
    "repo_path = os.path.join(os.getcwd(), 'kafka')\n",
    "clone = f\"git clone {url} {repo_path}\" \n",
    "\n",
    "os.system(clone) # Cloning"
   ],
   "metadata": {
    "collapsed": false
   },
   "id": "c28ff228a1e1b016"
  },
  {
   "cell_type": "code",
   "execution_count": 183,
   "outputs": [],
   "source": [
    "# checkout the tag 3.6.0\n",
    "os.chdir(repo_path)\n",
    "os.system(\"git checkout 3.6.0\")\n",
    "# back to the \"home\" folder\n",
    "os.chdir(\"..\")"
   ],
   "metadata": {
    "collapsed": false,
    "ExecuteTime": {
     "end_time": "2023-11-27T09:57:25.636200900Z",
     "start_time": "2023-11-27T09:57:25.500688700Z"
    }
   },
   "id": "64d8de252a2b2fd7"
  },
  {
   "cell_type": "markdown",
   "source": [
    "# Exercise 3"
   ],
   "metadata": {
    "collapsed": false
   },
   "id": "9bf96b83d55442ff"
  },
  {
   "cell_type": "code",
   "execution_count": 184,
   "outputs": [],
   "source": [
    "# Configuration\n",
    "\n",
    "# Timeframes to look at\n",
    "timeframes = [168, 72, 48, 24]\n",
    "\n",
    "temporal_coupling_save_file = \"./ex_3_temporal_coupling.json\"\n",
    "logical_coupling_save_file = \"./ex_3_logical_coupling.json\"\n",
    "\n",
    "repo_path = \"./kafka\""
   ],
   "metadata": {
    "collapsed": false,
    "ExecuteTime": {
     "end_time": "2023-11-27T09:57:25.646483600Z",
     "start_time": "2023-11-27T09:57:25.638766100Z"
    }
   },
   "id": "73130d2e39b80abb"
  },
  {
   "cell_type": "code",
   "execution_count": 185,
   "outputs": [],
   "source": [
    "# Get all files currently in the repository\n",
    "files = [os.path.relpath(entity, repo_path) for entity in Git(repo_path).files()]\n",
    "\n",
    "number_of_files = len(files)\n",
    "commits_since = datetime(2023, 9, 1, 0, 0, 0)\n",
    "\n",
    "commits = [c for c in Repository(repo_path).traverse_commits()]\n",
    "\n",
    "timeframes.sort(reverse=True)"
   ],
   "metadata": {
    "collapsed": false,
    "ExecuteTime": {
     "end_time": "2023-11-27T09:57:27.280361Z",
     "start_time": "2023-11-27T09:57:25.642978800Z"
    }
   },
   "id": "1193eadf87edd071"
  },
  {
   "cell_type": "code",
   "execution_count": 186,
   "outputs": [],
   "source": [
    "commit_window = deque()\n",
    "temporal_update_vectors = [{'v': [], 'w': []} for _ in timeframes]\n",
    "logical_update_vectors = []\n",
    "\n",
    "for commit in commits:\n",
    "    modifications = [file.new_path for file in commit.modified_files]\n",
    "    mask = np.isin(files, modifications)\n",
    "    indices = np.where(mask)[0]\n",
    "    c1_modifications = csc_matrix((np.ones_like(indices), (np.zeros_like(indices), indices)), shape=(1, len(files)))\n",
    "    c1_time = commit.committer_date\n",
    "    c1 = {\"time\": c1_time, \"modifications\": c1_modifications}\n",
    "    inside_timeframe = [False for _ in timeframes]\n",
    "    i = 0\n",
    "    logical_update_vectors.append(c1_modifications)\n",
    "    while i < len(commit_window):\n",
    "        c2 = commit_window[i]\n",
    "        delta = c1_time - c2[\"time\"]\n",
    "        for idx, timeframe in enumerate(timeframes):\n",
    "            if inside_timeframe[idx] or delta <= timedelta(hours=timeframe):\n",
    "                temporal_update_vectors[idx]['v'].append(c1_modifications)\n",
    "                temporal_update_vectors[idx]['w'].append(c2[\"modifications\"])\n",
    "                inside_timeframe[idx] = True\n",
    "        if inside_timeframe[0]:\n",
    "            i += 1\n",
    "        else:\n",
    "            commit_window.popleft()\n",
    "    commit_window.append(c1)              "
   ],
   "metadata": {
    "collapsed": false,
    "ExecuteTime": {
     "end_time": "2023-11-27T10:11:16.638872600Z",
     "start_time": "2023-11-27T09:57:27.280361Z"
    }
   },
   "id": "d17d254d55561550"
  },
  {
   "cell_type": "code",
   "execution_count": 187,
   "outputs": [],
   "source": [
    "# For each timeframe compute a temporal coupling matrix\n",
    "temporal_matrices = []\n",
    "for update_vector in temporal_update_vectors:\n",
    "    v1_stack = vstack(update_vector['v'])\n",
    "    v2_stack = vstack(update_vector['w'])\n",
    "    m = v1_stack.transpose(copy=True) @ v2_stack\n",
    "    a = v1_stack.multiply(v2_stack)\n",
    "    duplicates = a.transpose(copy=True) @ a\n",
    "    temporal_matrices.append(m + m.transpose(copy=True) - duplicates)"
   ],
   "metadata": {
    "collapsed": false,
    "ExecuteTime": {
     "end_time": "2023-11-27T10:15:34.247795400Z",
     "start_time": "2023-11-27T10:11:16.645254500Z"
    }
   },
   "id": "d86019982700d88b"
  },
  {
   "cell_type": "code",
   "execution_count": 188,
   "outputs": [],
   "source": [
    "# Compute the logical coupling matrix and joint commits vector\n",
    "logical_coupling_matrix = vstack(logical_update_vectors).transpose() @ vstack(logical_update_vectors)\n",
    "\n",
    "joint_commits_vector = logical_coupling_matrix.sum(axis=0).A1 - logical_coupling_matrix.diagonal()"
   ],
   "metadata": {
    "collapsed": false,
    "ExecuteTime": {
     "end_time": "2023-11-27T10:15:35.805627400Z",
     "start_time": "2023-11-27T10:15:34.259697500Z"
    }
   },
   "id": "539a68e18b5f05f1"
  },
  {
   "cell_type": "code",
   "execution_count": 189,
   "outputs": [],
   "source": [
    "# Convert the temporal coupling matrix to the required format\n",
    "temporal_coupling = {}\n",
    "for idx, matrix in enumerate(temporal_matrices):\n",
    "    for row, col in zip(*matrix.nonzero()):\n",
    "        if row == col:\n",
    "            continue\n",
    "        val = int(matrix[row, col])\n",
    "        key = f\"{row}_{col}\"\n",
    "        if key not in temporal_coupling:\n",
    "            temporal_coupling[key] = {\n",
    "                \"file_pair\": [\n",
    "                    files[row],\n",
    "                    files[col]\n",
    "                ],\n",
    "                \"coupled_commits\": [\n",
    "                    {\n",
    "                        \"time_window\": timeframe,\n",
    "                        \"commit_count\": 0\n",
    "                    } for timeframe in reversed(timeframes)\n",
    "                ]\n",
    "            }\n",
    "        temporal_coupling[key][\"coupled_commits\"][len(timeframes) - 1 - idx][\"commit_count\"] = val"
   ],
   "metadata": {
    "collapsed": false,
    "ExecuteTime": {
     "end_time": "2023-11-27T10:21:02.159912700Z",
     "start_time": "2023-11-27T10:15:42.021026700Z"
    }
   },
   "id": "fde5d05b58e6d6de"
  },
  {
   "cell_type": "code",
   "execution_count": 190,
   "outputs": [],
   "source": [
    "# Convert the logical coupling matrix and vector to the required format\n",
    "logical_coupling = []\n",
    "for row, col in zip(*logical_coupling_matrix.nonzero()):\n",
    "    # We just need to look at the upper triangle because the matrix is symmetric\n",
    "    if row >= col:\n",
    "        continue\n",
    "    val = int(logical_coupling_matrix[row, col])\n",
    "    file_name_1 = files[row]\n",
    "    file_name_2 = files[col]\n",
    "    \n",
    "    logical_coupling.append({\n",
    "        \"file_pair\": [file_name_1, file_name_2],\n",
    "        \"logical_coupling\": {\n",
    "            \"Joint\": val,\n",
    "            file_name_1: int(joint_commits_vector[row]) - val,\n",
    "            file_name_2: int(joint_commits_vector[col]) - val\n",
    "        }\n",
    "    })"
   ],
   "metadata": {
    "collapsed": false,
    "ExecuteTime": {
     "end_time": "2023-11-27T10:21:21.521782300Z",
     "start_time": "2023-11-27T10:21:02.476150900Z"
    }
   },
   "id": "4eb9c769e0fc16cf"
  },
  {
   "cell_type": "code",
   "execution_count": 191,
   "outputs": [],
   "source": [
    "# Saving temporal couplings\n",
    "with open(temporal_coupling_save_file, \"w\") as f:\n",
    "    ujson.dump(list(temporal_coupling.values()), f, indent=4)"
   ],
   "metadata": {
    "collapsed": false,
    "ExecuteTime": {
     "end_time": "2023-11-27T10:22:32.437539700Z",
     "start_time": "2023-11-27T10:21:21.536785700Z"
    }
   },
   "id": "4f06ec8f4ab9123e"
  },
  {
   "cell_type": "code",
   "execution_count": 192,
   "outputs": [],
   "source": [
    "# Saving logical couplings\n",
    "with open(logical_coupling_save_file, \"w\") as f:\n",
    "    ujson.dump(logical_coupling, f, indent=4)"
   ],
   "metadata": {
    "collapsed": false,
    "ExecuteTime": {
     "end_time": "2023-11-27T10:22:38.213694100Z",
     "start_time": "2023-11-27T10:22:32.439761700Z"
    }
   },
   "id": "b7d7d3e7b3d6c600"
  }
 ],
 "metadata": {
  "kernelspec": {
   "display_name": "Python 3",
   "language": "python",
   "name": "python3"
  },
  "language_info": {
   "codemirror_mode": {
    "name": "ipython",
    "version": 2
   },
   "file_extension": ".py",
   "mimetype": "text/x-python",
   "name": "python",
   "nbconvert_exporter": "python",
   "pygments_lexer": "ipython2",
   "version": "2.7.6"
  }
 },
 "nbformat": 4,
 "nbformat_minor": 5
}
