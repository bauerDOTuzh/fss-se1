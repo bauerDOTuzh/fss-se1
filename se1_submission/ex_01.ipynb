{
 "cells": [
  {
   "cell_type": "markdown",
   "source": [
    "# Preprocessing"
   ],
   "metadata": {
    "collapsed": false
   },
   "id": "db4fe57eca4c109e"
  },
  {
   "cell_type": "code",
   "execution_count": null,
   "outputs": [],
   "source": [
    "%pip install pydriller --upgrade"
   ],
   "metadata": {
    "collapsed": false
   },
   "id": "8e5d9c94075489ca"
  },
  {
   "cell_type": "code",
   "execution_count": 10,
   "outputs": [],
   "source": [
    "from pydriller import Repository, Git\n",
    "import os\n",
    "import json"
   ],
   "metadata": {
    "collapsed": false,
    "ExecuteTime": {
     "end_time": "2023-11-27T11:15:22.636416Z",
     "start_time": "2023-11-27T11:15:22.623235100Z"
    }
   },
   "id": "7052832f1bd42827"
  },
  {
   "cell_type": "code",
   "execution_count": null,
   "outputs": [],
   "source": [
    "# Clone code from the repo and save it for code portability -> via normal git clone\n",
    "url = \"https://github.com/apache/kafka\"\n",
    "repo_path = os.path.join(os.getcwd(), 'kafka')\n",
    "clone = f\"git clone {url} {repo_path}\" \n",
    "\n",
    "os.system(clone) # Cloning"
   ],
   "metadata": {
    "collapsed": false
   },
   "id": "9806891ec8d62623"
  },
  {
   "cell_type": "code",
   "execution_count": 12,
   "outputs": [],
   "source": [
    "# checkout the tag 3.6.0\n",
    "os.chdir(repo_path)\n",
    "os.system(\"git checkout 3.6.0\")\n",
    "# back to the \"home\" folder\n",
    "os.chdir(\"..\")"
   ],
   "metadata": {
    "collapsed": false,
    "ExecuteTime": {
     "end_time": "2023-11-27T11:15:22.776925600Z",
     "start_time": "2023-11-27T11:15:22.672181300Z"
    }
   },
   "id": "5148e015974fbc07"
  },
  {
   "cell_type": "markdown",
   "source": [
    "# Exercise 1"
   ],
   "metadata": {
    "collapsed": false
   },
   "id": "f0c0b74d8120940a"
  },
  {
   "cell_type": "code",
   "execution_count": 13,
   "outputs": [],
   "source": [
    "# Configuration\n",
    "path = \"./kafka\"\n",
    "save_path = \"./ex_1_result.json\"\n",
    "tag = \"3.6.0\"\n",
    "from_ = \"3.5.1\""
   ],
   "metadata": {
    "collapsed": false,
    "ExecuteTime": {
     "end_time": "2023-11-27T11:15:22.790990600Z",
     "start_time": "2023-11-27T11:15:22.759142900Z"
    }
   },
   "id": "438ca0facc8216e1"
  },
  {
   "cell_type": "code",
   "execution_count": 14,
   "outputs": [],
   "source": [
    "# List all entities (files) of tag\n",
    "gr = Git(path)\n",
    "commit = gr.get_commit_from_tag(tag)\n",
    "gr.checkout(commit.hash)\n",
    "file_list = gr.files()"
   ],
   "metadata": {
    "collapsed": false,
    "ExecuteTime": {
     "end_time": "2023-11-27T11:15:23.029324400Z",
     "start_time": "2023-11-27T11:15:22.763055500Z"
    }
   },
   "id": "d6b9253f38238e9e"
  },
  {
   "cell_type": "code",
   "execution_count": 15,
   "outputs": [],
   "source": [
    "#Get the number of revisions and authors of each entity in a given list.\n",
    "result = {\n",
    "    file.split(\"\\\\\")[-1]: {\"num of revisions\": 0, \"authors\": {}} for file in file_list\n",
    "}\n",
    "from_commit_date = gr.get_commit_from_tag(from_).committer_date\n",
    "to_commit_date = gr.get_commit_from_tag(tag).committer_date\n",
    "\n",
    "for commit in Repository(path, since=from_commit_date, to=to_commit_date).traverse_commits():\n",
    "    for file in commit.modified_files:\n",
    "        filename = file.filename\n",
    "        if filename not in result:\n",
    "            continue\n",
    "        result[filename][\"num of revisions\"] += 1\n",
    "        if commit.author.name not in result[filename][\"authors\"]:\n",
    "            result[filename][\"authors\"][commit.author.name] = {\n",
    "                \"added\": commit.insertions,\n",
    "                \"deleted\": commit.deletions,\n",
    "                \"total\": commit.lines,\n",
    "            }\n",
    "        else:\n",
    "            result[filename][\"authors\"][commit.author.name][\"added\"] += commit.insertions\n",
    "            result[filename][\"authors\"][commit.author.name][\"deleted\"] += commit.deletions\n",
    "            result[filename][\"authors\"][commit.author.name][\"total\"] += commit.lines"
   ],
   "metadata": {
    "collapsed": false,
    "ExecuteTime": {
     "end_time": "2023-11-27T11:18:29.400070100Z",
     "start_time": "2023-11-27T11:15:23.040918800Z"
    }
   },
   "id": "541f7a84bdc9e913"
  },
  {
   "cell_type": "code",
   "execution_count": null,
   "outputs": [],
   "source": [
    "#Save the result as a JSON file.\n",
    "with open(save_path, \"w\") as f:\n",
    "    json.dump(result, f, indent=4)\n",
    "\n",
    "print(\"Saved as {}\".format(save_path))"
   ],
   "metadata": {
    "collapsed": false
   },
   "id": "8e08a652cbf3fd4b"
  }
 ],
 "metadata": {
  "kernelspec": {
   "display_name": "Python 3",
   "language": "python",
   "name": "python3"
  },
  "language_info": {
   "codemirror_mode": {
    "name": "ipython",
    "version": 2
   },
   "file_extension": ".py",
   "mimetype": "text/x-python",
   "name": "python",
   "nbconvert_exporter": "python",
   "pygments_lexer": "ipython2",
   "version": "2.7.6"
  }
 },
 "nbformat": 4,
 "nbformat_minor": 5
}
