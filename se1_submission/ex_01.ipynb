{
 "cells": [
  {
   "cell_type": "markdown",
   "id": "db4fe57eca4c109e",
   "metadata": {
    "collapsed": false
   },
   "source": [
    "# Preprocessing"
   ]
  },
  {
   "cell_type": "code",
   "execution_count": 1,
   "id": "8e5d9c94075489ca",
   "metadata": {
    "collapsed": false
   },
   "outputs": [
    {
     "name": "stdout",
     "output_type": "stream",
     "text": [
      "Requirement already satisfied: pydriller in c:\\users\\paull\\miniconda3\\envs\\fss\\lib\\site-packages (2.6)\n",
      "Requirement already satisfied: gitpython in c:\\users\\paull\\miniconda3\\envs\\fss\\lib\\site-packages (from pydriller) (3.1.40)\n",
      "Requirement already satisfied: pytz in c:\\users\\paull\\miniconda3\\envs\\fss\\lib\\site-packages (from pydriller) (2023.3.post1)\n",
      "Requirement already satisfied: types-pytz in c:\\users\\paull\\miniconda3\\envs\\fss\\lib\\site-packages (from pydriller) (2023.3.1.1)\n",
      "Requirement already satisfied: lizard in c:\\users\\paull\\miniconda3\\envs\\fss\\lib\\site-packages (from pydriller) (1.17.10)\n",
      "Requirement already satisfied: gitdb<5,>=4.0.1 in c:\\users\\paull\\miniconda3\\envs\\fss\\lib\\site-packages (from gitpython->pydriller) (4.0.11)\n",
      "Requirement already satisfied: smmap<6,>=3.0.1 in c:\\users\\paull\\miniconda3\\envs\\fss\\lib\\site-packages (from gitdb<5,>=4.0.1->gitpython->pydriller) (5.0.1)\n",
      "Note: you may need to restart the kernel to use updated packages.\n"
     ]
    }
   ],
   "source": [
    "%pip install pydriller --upgrade"
   ]
  },
  {
   "cell_type": "code",
   "execution_count": 2,
   "id": "7052832f1bd42827",
   "metadata": {
    "ExecuteTime": {
     "end_time": "2023-11-27T11:15:22.636416Z",
     "start_time": "2023-11-27T11:15:22.623235100Z"
    },
    "collapsed": false
   },
   "outputs": [],
   "source": [
    "from pydriller import Repository, Git\n",
    "import os\n",
    "import json"
   ]
  },
  {
   "cell_type": "code",
   "execution_count": 3,
   "id": "9806891ec8d62623",
   "metadata": {
    "collapsed": false
   },
   "outputs": [
    {
     "data": {
      "text/plain": [
       "128"
      ]
     },
     "execution_count": 3,
     "metadata": {},
     "output_type": "execute_result"
    }
   ],
   "source": [
    "# Clone code from the repo and save it for code portability -> via normal git clone\n",
    "url = \"https://github.com/apache/kafka\"\n",
    "repo_path = os.path.join(os.getcwd(), 'kafka')\n",
    "clone = f\"git clone {url} \\\"{repo_path}\\\"\"\n",
    "\n",
    "os.system(clone) # Cloning"
   ]
  },
  {
   "cell_type": "code",
   "execution_count": 4,
   "id": "5148e015974fbc07",
   "metadata": {
    "ExecuteTime": {
     "end_time": "2023-11-27T11:15:22.776925600Z",
     "start_time": "2023-11-27T11:15:22.672181300Z"
    },
    "collapsed": false
   },
   "outputs": [],
   "source": [
    "# checkout the tag 3.6.0\n",
    "os.chdir(repo_path)\n",
    "os.system(\"git checkout 3.6.0\")\n",
    "# back to the \"home\" folder\n",
    "os.chdir(\"..\")"
   ]
  },
  {
   "cell_type": "markdown",
   "id": "f0c0b74d8120940a",
   "metadata": {
    "collapsed": false
   },
   "source": [
    "# Exercise 1"
   ]
  },
  {
   "cell_type": "code",
   "execution_count": 5,
   "id": "438ca0facc8216e1",
   "metadata": {
    "ExecuteTime": {
     "end_time": "2023-11-27T11:15:22.790990600Z",
     "start_time": "2023-11-27T11:15:22.759142900Z"
    },
    "collapsed": false
   },
   "outputs": [],
   "source": [
    "# Configuration\n",
    "path = \"./kafka\"\n",
    "save_path = \"./ex_1_result.json\"\n",
    "tag = \"3.6.0\"\n",
    "from_ = \"3.5.1\""
   ]
  },
  {
   "cell_type": "code",
   "execution_count": null,
   "id": "d6b9253f38238e9e",
   "metadata": {
    "ExecuteTime": {
     "end_time": "2023-11-27T11:15:23.029324400Z",
     "start_time": "2023-11-27T11:15:22.763055500Z"
    },
    "collapsed": false
   },
   "outputs": [],
   "source": [
    "# List all entities (files) of tag\n",
    "gr = Git(path)\n",
    "commit = gr.get_commit_from_tag(tag)\n",
    "gr.checkout(commit.hash)\n",
    "file_list = gr.files()"
   ]
  },
  {
   "cell_type": "code",
   "execution_count": 15,
   "id": "541f7a84bdc9e913",
   "metadata": {
    "ExecuteTime": {
     "end_time": "2023-11-27T11:18:29.400070100Z",
     "start_time": "2023-11-27T11:15:23.040918800Z"
    },
    "collapsed": false
   },
   "outputs": [],
   "source": [
    "#Get the number of revisions and authors of each entity in a given list.\n",
    "result = {\n",
    "    file.split(\"\\\\\")[-1]: {\"num of revisions\": 0, \"authors\": {}} for file in file_list\n",
    "}\n",
    "from_commit_date = gr.get_commit_from_tag(from_).committer_date\n",
    "to_commit_date = gr.get_commit_from_tag(tag).committer_date\n",
    "\n",
    "for commit in Repository(path, since=from_commit_date, to=to_commit_date).traverse_commits():\n",
    "    for file in commit.modified_files:\n",
    "        filename = file.filename\n",
    "        if filename not in result:\n",
    "            continue\n",
    "        result[filename][\"num of revisions\"] += 1\n",
    "        if commit.author.name not in result[filename][\"authors\"]:\n",
    "            result[filename][\"authors\"][commit.author.name] = {\n",
    "                \"added\": commit.insertions,\n",
    "                \"deleted\": commit.deletions,\n",
    "                \"total\": commit.lines,\n",
    "            }\n",
    "        else:\n",
    "            result[filename][\"authors\"][commit.author.name][\"added\"] += commit.insertions\n",
    "            result[filename][\"authors\"][commit.author.name][\"deleted\"] += commit.deletions\n",
    "            result[filename][\"authors\"][commit.author.name][\"total\"] += commit.lines"
   ]
  },
  {
   "cell_type": "code",
   "execution_count": null,
   "id": "8e08a652cbf3fd4b",
   "metadata": {
    "collapsed": false
   },
   "outputs": [],
   "source": [
    "#Save the result as a JSON file.\n",
    "with open(save_path, \"w\") as f:\n",
    "    json.dump(result, f, indent=4)\n",
    "\n",
    "print(\"Saved as {}\".format(save_path))"
   ]
  }
 ],
 "metadata": {
  "kernelspec": {
   "display_name": "Python 3",
   "language": "python",
   "name": "python3"
  },
  "language_info": {
   "codemirror_mode": {
    "name": "ipython",
    "version": 3
   },
   "file_extension": ".py",
   "mimetype": "text/x-python",
   "name": "python",
   "nbconvert_exporter": "python",
   "pygments_lexer": "ipython3",
   "version": "3.12.0"
  }
 },
 "nbformat": 4,
 "nbformat_minor": 5
}
