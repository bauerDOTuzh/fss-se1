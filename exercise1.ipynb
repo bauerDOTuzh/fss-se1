{
 "cells": [
  {
   "cell_type": "markdown",
   "metadata": {},
   "source": [
    "# Preprocessing"
   ]
  },
  {
   "cell_type": "code",
   "execution_count": 12,
   "metadata": {},
   "outputs": [
    {
     "name": "stdout",
     "output_type": "stream",
     "text": [
      "Requirement already satisfied: pydriller in c:\\users\\adam\\anaconda3\\envs\\utils_env\\lib\\site-packages (2.5.1)\n",
      "Requirement already satisfied: gitpython in c:\\users\\adam\\anaconda3\\envs\\utils_env\\lib\\site-packages (from pydriller) (3.1.40)\n",
      "Requirement already satisfied: pytz in c:\\users\\adam\\anaconda3\\envs\\utils_env\\lib\\site-packages (from pydriller) (2023.3.post1)\n",
      "Requirement already satisfied: types-pytz in c:\\users\\adam\\anaconda3\\envs\\utils_env\\lib\\site-packages (from pydriller) (2023.3.1.1)\n",
      "Requirement already satisfied: lizard in c:\\users\\adam\\anaconda3\\envs\\utils_env\\lib\\site-packages (from pydriller) (1.17.10)\n",
      "Requirement already satisfied: gitdb<5,>=4.0.1 in c:\\users\\adam\\anaconda3\\envs\\utils_env\\lib\\site-packages (from gitpython->pydriller) (4.0.11)\n",
      "Requirement already satisfied: smmap<6,>=3.0.1 in c:\\users\\adam\\anaconda3\\envs\\utils_env\\lib\\site-packages (from gitdb<5,>=4.0.1->gitpython->pydriller) (5.0.1)\n",
      "Note: you may need to restart the kernel to use updated packages.\n"
     ]
    }
   ],
   "source": [
    "%pip install pydriller"
   ]
  },
  {
   "cell_type": "code",
   "execution_count": 13,
   "metadata": {},
   "outputs": [],
   "source": [
    "from pydriller import Repository\n",
    "import os"
   ]
  },
  {
   "cell_type": "code",
   "execution_count": 14,
   "metadata": {},
   "outputs": [
    {
     "data": {
      "text/plain": [
       "128"
      ]
     },
     "execution_count": 14,
     "metadata": {},
     "output_type": "execute_result"
    }
   ],
   "source": [
    "# Clone code from the repo and save it for code portability -> via normal git clone\n",
    "url = \"https://github.com/apache/kafka\"\n",
    "repo_path = os.path.join(os.getcwd(), 'kafka')\n",
    "clone = f\"git clone {url} {repo_path}\" \n",
    "\n",
    "os.system(clone) # Cloning"
   ]
  },
  {
   "cell_type": "markdown",
   "metadata": {},
   "source": [
    "# Exercise 1"
   ]
  },
  {
   "cell_type": "code",
   "execution_count": null,
   "metadata": {},
   "outputs": [],
   "source": []
  },
  {
   "cell_type": "code",
   "execution_count": 40,
   "metadata": {},
   "outputs": [],
   "source": [
    "from_tag = \"3.5.1\"\n",
    "to_tag = \"3.6.0\"\n",
    "#TODO fix from tag from to \n",
    "repo = Repository(path_to_repo=repo_path)\n",
    "\n",
    "data = {}\n",
    "i = 30\n",
    "for commit in repo.traverse_commits():\n",
    "\n",
    "    author = commit.author.name\n",
    "\n",
    "    for file in commit.modified_files:\n",
    "\n",
    "        # without path, but path has _none_ for deletions/creations, they must be handled\n",
    "        filename = file.filename\n",
    "\n",
    "        if(filename not in data):\n",
    "            data[filename] = {\n",
    "                'num of revisions': 0,\n",
    "                'authors': {},\n",
    "                'revisions': {},\n",
    "            }\n",
    "\n",
    "        data[filename]['num of revisions'] += 1\n",
    "        \n",
    "        if(author not in data[filename]['authors']):\n",
    "            data[filename]['authors'][author] = {\n",
    "                \"added\": 0,\n",
    "                \"removed\": 0,\n",
    "                'total': 0,\n",
    "            }\n",
    "\n",
    "        data[filename]['authors'][author]['added'] += file.added_lines\n",
    "        data[filename]['authors'][author]['removed'] += file.deleted_lines\n",
    "        data[filename]['authors'][author]['total'] += file.added_lines + file.deleted_lines\n",
    "\n",
    "\n",
    "        data[filename]['revisions'][commit.hash] = {\n",
    "            'changed lines': file.added_lines + file.deleted_lines\n",
    "        }\n",
    "\n",
    "        \n",
    "    i -= 1\n",
    "    if(i == 0):\n",
    "        break\n",
    "\n"
   ]
  },
  {
   "cell_type": "code",
   "execution_count": 43,
   "metadata": {},
   "outputs": [],
   "source": [
    "# save data into json \"exercise1.json\"\n",
    "import json\n",
    "with open('exercise1.json', 'w') as outfile:\n",
    "    json.dump(data, outfile, indent=4)"
   ]
  }
 ],
 "metadata": {
  "kernelspec": {
   "display_name": "utils_env",
   "language": "python",
   "name": "python3"
  },
  "language_info": {
   "codemirror_mode": {
    "name": "ipython",
    "version": 3
   },
   "file_extension": ".py",
   "mimetype": "text/x-python",
   "name": "python",
   "nbconvert_exporter": "python",
   "pygments_lexer": "ipython3",
   "version": "3.12.0"
  }
 },
 "nbformat": 4,
 "nbformat_minor": 2
}
