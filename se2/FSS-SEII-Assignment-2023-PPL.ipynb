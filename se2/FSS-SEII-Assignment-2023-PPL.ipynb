{
 "cells": [
  {
   "cell_type": "markdown",
   "id": "dcb2a67b",
   "metadata": {},
   "source": [
    "# Fundamentals of Software Systems (FSS)\n",
    "**Software Evolution – Part 02 Assignment**\n",
    "\n",
    "## Submission Guidelines\n",
    "\n",
    "To correctly complete this assignment you must:\n",
    "\n",
    "* Carry out the assignment in a team of 2 to 4 students.\n",
    "* Carry out the assignment with your team only. You are allowed to discuss solutions with other teams, but each team should come up its own personal solution. A strict plagiarism policy is going to be applied to all the artifacts submitted for evaluation.\n",
    "* As your submission, upload the filled Jupyter Notebook (including outputs) together with the d3 visualization web pages (i.e. upload everything you downloaded including the filled Jupyter Notebook plus your `output.json`)\n",
    "* The files must be uploaded to OLAT as a single ZIP (`.zip`) file by 2023-12-04 18:00.\n"
   ]
  },
  {
   "cell_type": "markdown",
   "id": "2a552ae3",
   "metadata": {},
   "source": [
    "## Group Members\n",
    "* Firstname, Lastname, Immatrikulation Number\n",
    "* **TO BE FILLED**"
   ]
  },
  {
   "cell_type": "markdown",
   "id": "b46791aa",
   "metadata": {},
   "source": [
    "## Task Context\n",
    "\n",
    "In this assigment we will be analyzing the _elasticsearch_ project. All following tasks should be done with the subset of commits from tag `v1.6.0` to tag `v2.0.0`."
   ]
  },
  {
   "cell_type": "code",
   "execution_count": 2,
   "metadata": {},
   "outputs": [],
   "source": [
    "from pydriller import Repository, Git\n",
    "import os\n",
    "import matplotlib.pyplot as plt\n",
    "import numpy as np"
   ]
  },
  {
   "cell_type": "code",
   "execution_count": 3,
   "metadata": {},
   "outputs": [
    {
     "data": {
      "text/plain": [
       "128"
      ]
     },
     "execution_count": 3,
     "metadata": {},
     "output_type": "execute_result"
    }
   ],
   "source": [
    "# Clone code from the repo and save it for code portability -> via normal git clone\n",
    "url = \"https://github.com/elastic/elasticsearch\"\n",
    "repo_path = os.path.join(os.getcwd(), 'elasticsearch')\n",
    "clone = f\"git clone {url} \\\"{repo_path}\\\"\"\n",
    "\n",
    "os.system(clone) # Cloning"
   ]
  },
  {
   "cell_type": "code",
   "execution_count": 4,
   "metadata": {},
   "outputs": [],
   "source": [
    "# checkout the tag 3.6.0\n",
    "os.chdir(repo_path)\n",
    "os.system(\"git checkout v2.0.0\")\n",
    "# back to the \"home\" folder\n",
    "os.chdir(\"..\")"
   ]
  },
  {
   "cell_type": "code",
   "execution_count": 5,
   "metadata": {},
   "outputs": [],
   "source": [
    "from_tag = \"v1.6.0\"\n",
    "to_tag = \"v2.0.0\""
   ]
  },
  {
   "cell_type": "code",
   "execution_count": 6,
   "metadata": {},
   "outputs": [],
   "source": [
    "gr = Git(repo_path)\n",
    "# get all commits between the two tags\n",
    "from_commit_date = gr.get_commit_from_tag(from_tag).committer_date\n",
    "to_commit_date = gr.get_commit_from_tag(to_tag).committer_date"
   ]
  },
  {
   "cell_type": "markdown",
   "id": "b1a29d1b",
   "metadata": {},
   "source": [
    "## Task 1: Author analysis\n",
    "\n",
    "In the following, please consider only `java` files.\n",
    "\n",
    "The first task is to get an overview of the author ownership of the _elasticsearch_ project. In particular, we want to understand who are the main authors in the system between the two considered tags, the authors distribution among files and the files distribution among authors. To this aim, perform the following:\n",
    "\n",
    "* create a dictionary (or a list of tuples) with the pairs author => number of modified files\n",
    "* create a dictionary (or a list of tuples) with the pairs file => number of authors who modified the file\n",
    "* visualize the distribution of authors among files: the visualization should have on the x axis the number of authors per file (from 1 to max), and on the y axis the number of files with the given number of authors (so for example the first bar represent the number of files with single author)\n",
    "* visualize the distribution of files among authors: the visualization should have on the x axis the number of files per author (from 1 to max), and on the y axis the number of authors that own the given number of files (so for example the first bar represent the minor contributors, i.e., the number of authors who own 1 file)\n",
    "\n",
    "Comment the two distribution visualizations.\n",
    "\n",
    "\n",
    "\n",
    "Now, let's look at the following 3 packages in more details:\n",
    "\n",
    "1. `src/main/java/org/elasticsearch/common`\n",
    "2. `src/main/java/org/elasticsearch/rest`\n",
    "3. `src/main/java/org/elasticsearch/cluster`\n",
    "\n",
    "Create a function that, given the path of a package and a modification type (see class Modification below), returns a dictionary of authors => number, where the number counts the total lines added or removed or added+removed or added-removed (depending on the given Modification parameter), for the given package. To compute the value at the package level, you should aggregate the data per file.\n",
    "\n",
    "Using the function defined above, visualize the author contributions (lines added + lines removed). The visualization should have the author on the x axis, and the total lines on the y axis. Sort the visualization in decreasing amount of contributions, i.e., the main author should be the first.\n",
    "\n",
    "Compare the visualization for the 3 packages and comment."
   ]
  },
  {
   "cell_type": "code",
   "execution_count": 8,
   "id": "7a9aafca-a8d4-4f16-8b22-df3950dc9f1d",
   "metadata": {},
   "outputs": [],
   "source": [
    "authors_nr_modifications = {}\n",
    "files_nr_authors = {}\n",
    "\n",
    "for commit in Repository(repo_path, since=from_commit_date, to=to_commit_date).traverse_commits():\n",
    "    for file in commit.modified_files:\n",
    "        filename = file.filename\n",
    "        if not filename.endswith(\".java\"):\n",
    "            continue\n",
    "        author = commit.author.name\n",
    "        if filename not in files_nr_authors:\n",
    "            files_nr_authors[filename] = set()\n",
    "        files_nr_authors[filename].add(author)\n",
    "        if author not in authors_nr_modifications:\n",
    "            authors_nr_modifications[author] = set()\n",
    "        authors_nr_modifications[author].add(filename)\n",
    "\n",
    "for author in authors_nr_modifications:\n",
    "    authors_nr_modifications[author] = len(authors_nr_modifications[author])\n",
    "\n",
    "for filename in files_nr_authors:\n",
    "    files_nr_authors[filename] = len(files_nr_authors[filename])"
   ]
  },
  {
   "cell_type": "code",
   "execution_count": 7,
   "metadata": {},
   "outputs": [],
   "source": [
    "# Function to create a histogram for the distribution of authors among files\n",
    "def plot_authors_distribution(authors_files):\n",
    "    author_counts = list(authors_files.values())\n",
    "    max_authors = max(author_counts)\n",
    "\n",
    "    plt.hist(author_counts, bins=np.arange(1, max_authors + 2) - 0.5, edgecolor='black', alpha=0.7)\n",
    "    plt.xlabel('Number of Authors per File')\n",
    "    plt.ylabel('Number of Files')\n",
    "    plt.title('Distribution of Authors Among Files')\n",
    "    plt.show()"
   ]
  },
  {
   "cell_type": "code",
   "execution_count": 8,
   "metadata": {},
   "outputs": [],
   "source": [
    "# Function to create a histogram for the distribution of files among authors\n",
    "def plot_files_distribution(files_authors):\n",
    "    files_counts = list(files_authors.values())\n",
    "    max_files = max(files_counts)\n",
    "\n",
    "    plt.hist(files_counts, bins=np.arange(1, max_files + 2) - 0.5, edgecolor='black', alpha=0.7)\n",
    "    plt.xlabel('Number of Files per Author')\n",
    "    plt.ylabel('Number of Authors')\n",
    "    plt.title('Distribution of Files Among Authors')\n",
    "    plt.show()"
   ]
  },
  {
   "cell_type": "code",
   "execution_count": 9,
   "metadata": {},
   "outputs": [
    {
     "ename": "NameError",
     "evalue": "name 'authors_nr_modifications' is not defined",
     "output_type": "error",
     "traceback": [
      "\u001b[1;31m---------------------------------------------------------------------------\u001b[0m",
      "\u001b[1;31mNameError\u001b[0m                                 Traceback (most recent call last)",
      "\u001b[1;32mc:\\Users\\paull\\Documents\\UZH\\HS23\\Fundamentals of Software Systems\\FSS-SEII-Assignment-2023\\FSS-SEII-Assignment-2023.ipynb Cell 13\u001b[0m line \u001b[0;36m1\n\u001b[1;32m----> <a href='vscode-notebook-cell:/c%3A/Users/paull/Documents/UZH/HS23/Fundamentals%20of%20Software%20Systems/FSS-SEII-Assignment-2023/FSS-SEII-Assignment-2023.ipynb#X20sZmlsZQ%3D%3D?line=0'>1</a>\u001b[0m plot_authors_distribution(authors_nr_modifications)\n\u001b[0;32m      <a href='vscode-notebook-cell:/c%3A/Users/paull/Documents/UZH/HS23/Fundamentals%20of%20Software%20Systems/FSS-SEII-Assignment-2023/FSS-SEII-Assignment-2023.ipynb#X20sZmlsZQ%3D%3D?line=1'>2</a>\u001b[0m plot_files_distribution(files_nr_authors)\n",
      "\u001b[1;31mNameError\u001b[0m: name 'authors_nr_modifications' is not defined"
     ]
    }
   ],
   "source": [
    "plot_authors_distribution(authors_nr_modifications)\n",
    "plot_files_distribution(files_nr_authors)"
   ]
  },
  {
   "cell_type": "code",
   "execution_count": 7,
   "id": "a002e25f-8759-4897-9bc9-d26f1880b4ad",
   "metadata": {},
   "outputs": [],
   "source": [
    "from enum import Enum \n",
    "\n",
    "class Modification(Enum):\n",
    "    ADDED = \"Lines added\"\n",
    "    REMOVED = \"Lines removed\"\n",
    "    TOTAL = \"Lines added + lines removed\"\n",
    "    DIFF = \"Lines added - lines removed\""
   ]
  },
  {
   "cell_type": "code",
   "execution_count": 11,
   "metadata": {},
   "outputs": [],
   "source": [
    "def calc_authors_nr_modifications(package_path, modification):\n",
    "    authors_nr_modifications = {}\n",
    "    for commit in Repository(repo_path, since=from_commit_date, to=to_commit_date).traverse_commits():\n",
    "        for file in commit.modified_files:\n",
    "            filename = file.filename\n",
    "            if not filename.endswith(\".java\"):\n",
    "                continue\n",
    "            if file.new_path is None:\n",
    "                continue    \n",
    "            if not file.new_path.startswith(package_path):\n",
    "                continue\n",
    "            author = commit.author.name\n",
    "            if author not in authors_nr_modifications:\n",
    "                authors_nr_modifications[author] = 0\n",
    "            if modification == Modification.ADDED:\n",
    "                authors_nr_modifications[author] += file.added\n",
    "            elif modification == Modification.REMOVED:\n",
    "                authors_nr_modifications[author] += file.removed\n",
    "            elif modification == Modification.TOTAL:\n",
    "                authors_nr_modifications[author] += file.added + file.removed\n",
    "            elif modification == Modification.DIFF:\n",
    "                authors_nr_modifications[author] += file.added - file.removed\n",
    "    return authors_nr_modifications"
   ]
  },
  {
   "cell_type": "code",
   "execution_count": 12,
   "metadata": {},
   "outputs": [
    {
     "ename": "",
     "evalue": "",
     "output_type": "error",
     "traceback": [
      "\u001b[1;31mThe Kernel crashed while executing code in the the current cell or a previous cell. Please review the code in the cell(s) to identify a possible cause of the failure. Click <a href='https://aka.ms/vscodeJupyterKernelCrash'>here</a> for more info. View Jupyter <a href='command:jupyter.viewOutput'>log</a> for further details."
     ]
    }
   ],
   "source": [
    "package_paths = [\n",
    "    \"src\\\\main\\\\java\\\\org\\\\elasticsearch\\\\common\",\n",
    "    \"src\\\\main\\\\java\\\\org\\\\elasticsearch\\\\rest\",\n",
    "    \"src\\\\main\\\\java\\\\org\\\\elasticsearch\\\\cluster\",\n",
    "]\n",
    "\n",
    "authors_nr_modifications = {}\n",
    "\n",
    "for package_path in package_paths:\n",
    "    authors_nr_modifications[package_path] = {}\n",
    "    for modification in Modification:\n",
    "        authors_nr_modifications[package_path][modification] = calc_authors_nr_modifications(package_path, modification)\n"
   ]
  },
  {
   "cell_type": "markdown",
   "id": "ff9eee63",
   "metadata": {},
   "source": [
    "## Task 2: Knowledge loss\n",
    "\n",
    "We now want to analyze the knowledge loss when the main contributor of the analyzed project would leave. For this we will use the circle packaging layout introduced in the \"Code as a Crime Scene\" book. This assignment includes the necessary `knowledge_loss.html` file as well as the `d3` folder for all dependencies. Your task is to create the `output.json` file according to the specification below. This file can then be visualized with the files provided.\n",
    "\n",
    "For showing the visualization, once you have the output as `output.json` you should\n",
    "\n",
    "* make sure to have the `knowledge_loss.html` file in the same folder\n",
    "* start a local HTTP server in the same folder (e.g. with python `python3 -m http.server`) to serve the html file (necessary for d3 to work)\n",
    "* open the served `knowledge_loss.html` and look at the visualization\n",
    "\n",
    "Based on the visualization, comment on how is the project in terms of project loss and what could happen if the main contributor would leave.\n",
    "\n",
    "\n",
    "### Output Format for Visualization\n",
    "\n",
    "* `root` is always the root of the tree\n",
    "* `size` should be the total number of lines of contribution\n",
    "* `weight` can be set to the same as `size`\n",
    "* `ownership` should be set to the percentage of contributions from the main author (e.g. 0.98 for 98% if contributions coming from the main author)\n",
    "\n",
    "```\n",
    "{\n",
    "  \"name\": \"root\",\n",
    "  \"children\": [\n",
    "    {\n",
    "      \"name\": \"test\",\n",
    "      \"children\": [\n",
    "        {\n",
    "          \"name\": \"benchmarking\",\n",
    "          \"children\": [\n",
    "            {\n",
    "              \"author_color\": \"red\",\n",
    "              \"size\": \"4005\",\n",
    "              \"name\": \"t6726-patmat-analysis.scala\",\n",
    "              \"weight\": 1.0,\n",
    "              \"ownership\": 0.9,\n",
    "              \"children\": []\n",
    "            },\n",
    "            {\n",
    "              \"author_color\": \"red\",\n",
    "              \"size\": \"55\",\n",
    "              \"name\": \"TreeSetIterator.scala\",\n",
    "              \"weight\": 0.88,\n",
    "              \"ownership\": 0.9,\n",
    "              \"children\": []\n",
    "            }\n",
    "          ]\n",
    "        }\n",
    "      ]\n",
    "    }\n",
    "  ]\n",
    "}\n",
    "```\n",
    "\n",
    "### JSON Export\n",
    "\n",
    "For exporting the data to JSON you can use the following snippet:\n",
    "\n",
    "```\n",
    "import json\n",
    "\n",
    "with open(\"output.json\", \"w\") as file:\n",
    "    json.dump(tree, file, indent=4)\n",
    "```"
   ]
  },
  {
   "cell_type": "code",
   "execution_count": null,
   "id": "174d8e27-e888-4832-b29a-0a5e7adb9844",
   "metadata": {},
   "outputs": [],
   "source": []
  },
  {
   "cell_type": "markdown",
   "id": "6fe260b7",
   "metadata": {},
   "source": [
    "## Task 3: Code Churn Analysis\n",
    "\n",
    "The third and last task is to analyze the code churn of the _elasticsearch_ project. For this analysis we look at the code churn, meaning the daily change in the total number of lines of the project.\n",
    "\n",
    "Visualize the code churn over time bucketing the data by day. Remember that you'll need to consider also the days when there are no commits.\n",
    "\n",
    "Look at the churn trend over time, identify one outlier, and for it:\n",
    "\n",
    "* investigate if it was caused by a single or multiple commits (since you are bucketing the data by day)\n",
    "* find the hash of the involved commit(s)\n",
    "* find the involved files, and for each file look at the number of lines added and/or deleted as well as the modification type (addition, deletion, modification, renaming)\n",
    "* look at the commit messages\n",
    "\n",
    "Based on the above, discuss the potential reasons for the outlier and if it should be a reason for concern."
   ]
  },
  {
   "cell_type": "code",
   "execution_count": null,
   "id": "a1c94bca-d57f-48e8-9603-0061d372c0f3",
   "metadata": {},
   "outputs": [],
   "source": []
  }
 ],
 "metadata": {
  "kernelspec": {
   "display_name": "fss",
   "language": "python",
   "name": "python3"
  },
  "language_info": {
   "codemirror_mode": {
    "name": "ipython",
    "version": 3
   },
   "file_extension": ".py",
   "mimetype": "text/x-python",
   "name": "python",
   "nbconvert_exporter": "python",
   "pygments_lexer": "ipython3",
   "version": "3.12.0"
  }
 },
 "nbformat": 4,
 "nbformat_minor": 5
}
