{
 "cells": [
  {
   "cell_type": "markdown",
   "id": "dcb2a67b",
   "metadata": {},
   "source": [
    "# Fundamentals of Software Systems (FSS)\n",
    "**Software Evolution – Part 02 Assignment**\n",
    "\n",
    "## Submission Guidelines\n",
    "\n",
    "To correctly complete this assignment you must:\n",
    "\n",
    "* Carry out the assignment in a team of 2 to 4 students.\n",
    "* Carry out the assignment with your team only. You are allowed to discuss solutions with other teams, but each team should come up its own personal solution. A strict plagiarism policy is going to be applied to all the artifacts submitted for evaluation.\n",
    "* As your submission, upload the filled Jupyter Notebook (including outputs) together with the d3 visualization web pages (i.e. upload everything you downloaded including the filled Jupyter Notebook plus your `output.json`)\n",
    "* The files must be uploaded to OLAT as a single ZIP (`.zip`) file by 2023-12-04 18:00.\n"
   ]
  },
  {
   "cell_type": "markdown",
   "id": "2a552ae3",
   "metadata": {},
   "source": [
    "## Group Members\n",
    "* Bauer Adam, \t\t20-744-694\n",
    "* Brazerol Alessio, \t18-924-084\n",
    "* Luley Paul, \t\t21-741-491"
   ]
  },
  {
   "cell_type": "markdown",
   "id": "b46791aa",
   "metadata": {},
   "source": [
    "## Task Context\n",
    "\n",
    "In this assigment we will be analyzing the _elasticsearch_ project. All following tasks should be done with the subset of commits from tag `v1.6.0` to tag `v2.0.0`."
   ]
  },
  {
   "cell_type": "markdown",
   "metadata": {},
   "source": [
    "##  Preprocessing - Execute before each subtask, but the file dosen't have to be analyzes as whole for each subtask to work, all subtasks are implemented independently "
   ]
  },
  {
   "cell_type": "code",
   "execution_count": null,
   "metadata": {},
   "outputs": [],
   "source": [
    "%pip install plotly\n",
    "%pip install tdqm\n",
    "%pip install nbformat"
   ]
  },
  {
   "cell_type": "code",
   "execution_count": 3,
   "metadata": {},
   "outputs": [],
   "source": [
    "import os\n",
    "from pydriller import Repository, Git\n",
    "from tqdm import tqdm\n",
    "from collections import defaultdict, Counter\n",
    "import plotly.express as px\n",
    "import subprocess\n",
    "import platform\n",
    "import json\n",
    "import pandas as pd\n",
    "from datetime import datetime\n",
    "import numpy as np\n",
    "import math\n",
    "import plotly.graph_objs as go\n",
    "from plotly.subplots import make_subplots"
   ]
  },
  {
   "cell_type": "code",
   "execution_count": 4,
   "metadata": {},
   "outputs": [
    {
     "data": {
      "text/plain": [
       "128"
      ]
     },
     "execution_count": 4,
     "metadata": {},
     "output_type": "execute_result"
    }
   ],
   "source": [
    "# clone the project -> easier setup (will not clone if folder already exists or is not empty)\n",
    "url = \"https://github.com/elastic/elasticsearch\"\n",
    "repo_path = os.path.join(os.getcwd(), 'elasticsearch')\n",
    "clone = f\"git clone {url} {repo_path}\" \n",
    "\n",
    "os.system(clone)"
   ]
  },
  {
   "cell_type": "code",
   "execution_count": 5,
   "metadata": {},
   "outputs": [
    {
     "name": "stdout",
     "output_type": "stream",
     "text": [
      "Analyzing repo from v1.6.0 to v2.0.0, which are commits from 2015-06-09 13:35:08+00:00 to 2015-10-21 23:01:03+02:00\n"
     ]
    }
   ],
   "source": [
    "# define Repository\n",
    "gr = Git(repo_path)\n",
    "from_tag = \"v1.6.0\"\n",
    "to_tag = \"v2.0.0\"\n",
    "since_time = gr.get_commit_from_tag(from_tag).committer_date\n",
    "to_time = gr.get_commit_from_tag(to_tag).committer_date\n",
    "\n",
    "repo = Repository(repo_path, since=since_time, to=to_time)\n",
    "print(f\"Analyzing repo from {from_tag} to {to_tag}, which are commits from {since_time} to {to_time}\")\n"
   ]
  },
  {
   "cell_type": "code",
   "execution_count": 18,
   "id": "a002e25f-8759-4897-9bc9-d26f1880b4ad",
   "metadata": {},
   "outputs": [],
   "source": [
    "from enum import Enum \n",
    "\n",
    "class Modification(Enum):\n",
    "    ADDED = \"Lines added\"\n",
    "    REMOVED = \"Lines removed\"\n",
    "    TOTAL = \"Lines added + lines removed\"\n",
    "    DIFF = \"Lines added - lines removed\""
   ]
  },
  {
   "cell_type": "markdown",
   "metadata": {},
   "source": [
    "## Task 1: Author analysis"
   ]
  },
  {
   "cell_type": "markdown",
   "id": "b1a29d1b",
   "metadata": {},
   "source": [
    "\n",
    "\n",
    "In the following, please consider only `java` files.\n",
    "\n",
    "The first task is to get an overview of the author ownership of the _elasticsearch_ project. In particular, we want to understand who are the main authors in the system between the two considered tags, the authors distribution among files and the files distribution among authors. To this aim, perform the following:\n",
    "\n",
    "* create a dictionary (or a list of tuples) with the pairs author => number of modified files\n",
    "* create a dictionary (or a list of tuples) with the pairs file => number of authors who modified the file\n",
    "* visualize the distribution of authors among files: the visualization should have on the x axis the number of authors per file (from 1 to max), and on the y axis the number of files with the given number of authors (so for example the first bar represent the number of files with single author)\n",
    "* visualize the distribution of files among authors: the visualization should have on the x axis the number of files per author (from 1 to max), and on the y axis the number of authors that own the given number of files (so for example the first bar represent the minor contributors, i.e., the number of authors who own 1 file)\n",
    "\n",
    "Comment the two distribution visualizations.\n",
    "\n",
    "\n",
    "\n",
    "Now, let's look at the following 3 packages in more details:\n",
    "\n",
    "1. `src/main/java/org/elasticsearch/common`\n",
    "2. `src/main/java/org/elasticsearch/rest`\n",
    "3. `src/main/java/org/elasticsearch/cluster`\n",
    "\n",
    "Create a function that, given the path of a package and a modification type (see class Modification below), returns a dictionary of authors => number, where the number counts the total lines added or removed or added+removed or added-removed (depending on the given Modification parameter), for the given package. To compute the value at the package level, you should aggregate the data per file.\n",
    "\n",
    "Using the function defined above, visualize the author contributions (lines added + lines removed). The visualization should have the author on the x axis, and the total lines on the y axis. Sort the visualization in decreasing amount of contributions, i.e., the main author should be the first.\n",
    "\n",
    "Compare the visualization for the 3 packages and comment."
   ]
  },
  {
   "cell_type": "markdown",
   "metadata": {},
   "source": [
    "### Part 1"
   ]
  },
  {
   "cell_type": "code",
   "execution_count": 13,
   "id": "7a9aafca-a8d4-4f16-8b22-df3950dc9f1d",
   "metadata": {},
   "outputs": [],
   "source": [
    "def create_dictionary(repo):\n",
    "    authors_dict = defaultdict(set)\n",
    "    files_dict = defaultdict(set)\n",
    "\n",
    "    commits = [commit for commit in repo.traverse_commits()]\n",
    "\n",
    "    for commit in tqdm(commits, desc=\"Analyzing commits\", unit=\"commit\"):\n",
    "        for file in commit.modified_files:\n",
    "            filename = file.filename\n",
    "            if not filename.endswith(\".java\"):\n",
    "                continue\n",
    "\n",
    "            authors_dict[commit.author.name].add(filename) #since dict is a set, we don't have to care about duplicities\n",
    "            files_dict[filename].add(commit.author.name) #since dict is a set, we don't have to care about duplicities\n",
    "           \n",
    "    # perform counting on both dictionaries to get the numbers\n",
    "    authors_dict = {author: len(files) for author, files in authors_dict.items()}\n",
    "    files_dict = {file: len(authors) for file, authors in files_dict.items()}\n",
    "    return authors_dict, files_dict"
   ]
  },
  {
   "cell_type": "code",
   "execution_count": 14,
   "metadata": {},
   "outputs": [
    {
     "name": "stderr",
     "output_type": "stream",
     "text": [
      "Analyzing commits: 100%|██████████| 1746/1746 [01:23<00:00, 20.97commit/s]\n"
     ]
    }
   ],
   "source": [
    "# visualuse them\n",
    "authors_dict, files_dict = create_dictionary(repo)"
   ]
  },
  {
   "cell_type": "code",
   "execution_count": 15,
   "metadata": {},
   "outputs": [
    {
     "data": {
      "application/vnd.plotly.v1+json": {
       "config": {
        "plotlyServerURL": "https://plot.ly"
       },
       "data": [
        {
         "alignmentgroup": "True",
         "hovertemplate": "Number of files=%{x}<br>Number of authors=%{y}<extra></extra>",
         "legendgroup": "",
         "marker": {
          "color": "#636efa",
          "pattern": {
           "shape": ""
          }
         },
         "name": "",
         "offsetgroup": "",
         "orientation": "v",
         "showlegend": false,
         "textposition": "auto",
         "type": "bar",
         "x": [
          1,
          2,
          3,
          4,
          5,
          6,
          7,
          8,
          9,
          10,
          11,
          12
         ],
         "xaxis": "x",
         "y": [
          1680,
          605,
          248,
          83,
          36,
          13,
          4,
          9,
          1,
          2,
          1,
          1
         ],
         "yaxis": "y"
        }
       ],
       "layout": {
        "barmode": "relative",
        "legend": {
         "tracegroupgap": 0
        },
        "template": {
         "data": {
          "bar": [
           {
            "error_x": {
             "color": "#2a3f5f"
            },
            "error_y": {
             "color": "#2a3f5f"
            },
            "marker": {
             "line": {
              "color": "#E5ECF6",
              "width": 0.5
             },
             "pattern": {
              "fillmode": "overlay",
              "size": 10,
              "solidity": 0.2
             }
            },
            "type": "bar"
           }
          ],
          "barpolar": [
           {
            "marker": {
             "line": {
              "color": "#E5ECF6",
              "width": 0.5
             },
             "pattern": {
              "fillmode": "overlay",
              "size": 10,
              "solidity": 0.2
             }
            },
            "type": "barpolar"
           }
          ],
          "carpet": [
           {
            "aaxis": {
             "endlinecolor": "#2a3f5f",
             "gridcolor": "white",
             "linecolor": "white",
             "minorgridcolor": "white",
             "startlinecolor": "#2a3f5f"
            },
            "baxis": {
             "endlinecolor": "#2a3f5f",
             "gridcolor": "white",
             "linecolor": "white",
             "minorgridcolor": "white",
             "startlinecolor": "#2a3f5f"
            },
            "type": "carpet"
           }
          ],
          "choropleth": [
           {
            "colorbar": {
             "outlinewidth": 0,
             "ticks": ""
            },
            "type": "choropleth"
           }
          ],
          "contour": [
           {
            "colorbar": {
             "outlinewidth": 0,
             "ticks": ""
            },
            "colorscale": [
             [
              0,
              "#0d0887"
             ],
             [
              0.1111111111111111,
              "#46039f"
             ],
             [
              0.2222222222222222,
              "#7201a8"
             ],
             [
              0.3333333333333333,
              "#9c179e"
             ],
             [
              0.4444444444444444,
              "#bd3786"
             ],
             [
              0.5555555555555556,
              "#d8576b"
             ],
             [
              0.6666666666666666,
              "#ed7953"
             ],
             [
              0.7777777777777778,
              "#fb9f3a"
             ],
             [
              0.8888888888888888,
              "#fdca26"
             ],
             [
              1,
              "#f0f921"
             ]
            ],
            "type": "contour"
           }
          ],
          "contourcarpet": [
           {
            "colorbar": {
             "outlinewidth": 0,
             "ticks": ""
            },
            "type": "contourcarpet"
           }
          ],
          "heatmap": [
           {
            "colorbar": {
             "outlinewidth": 0,
             "ticks": ""
            },
            "colorscale": [
             [
              0,
              "#0d0887"
             ],
             [
              0.1111111111111111,
              "#46039f"
             ],
             [
              0.2222222222222222,
              "#7201a8"
             ],
             [
              0.3333333333333333,
              "#9c179e"
             ],
             [
              0.4444444444444444,
              "#bd3786"
             ],
             [
              0.5555555555555556,
              "#d8576b"
             ],
             [
              0.6666666666666666,
              "#ed7953"
             ],
             [
              0.7777777777777778,
              "#fb9f3a"
             ],
             [
              0.8888888888888888,
              "#fdca26"
             ],
             [
              1,
              "#f0f921"
             ]
            ],
            "type": "heatmap"
           }
          ],
          "heatmapgl": [
           {
            "colorbar": {
             "outlinewidth": 0,
             "ticks": ""
            },
            "colorscale": [
             [
              0,
              "#0d0887"
             ],
             [
              0.1111111111111111,
              "#46039f"
             ],
             [
              0.2222222222222222,
              "#7201a8"
             ],
             [
              0.3333333333333333,
              "#9c179e"
             ],
             [
              0.4444444444444444,
              "#bd3786"
             ],
             [
              0.5555555555555556,
              "#d8576b"
             ],
             [
              0.6666666666666666,
              "#ed7953"
             ],
             [
              0.7777777777777778,
              "#fb9f3a"
             ],
             [
              0.8888888888888888,
              "#fdca26"
             ],
             [
              1,
              "#f0f921"
             ]
            ],
            "type": "heatmapgl"
           }
          ],
          "histogram": [
           {
            "marker": {
             "pattern": {
              "fillmode": "overlay",
              "size": 10,
              "solidity": 0.2
             }
            },
            "type": "histogram"
           }
          ],
          "histogram2d": [
           {
            "colorbar": {
             "outlinewidth": 0,
             "ticks": ""
            },
            "colorscale": [
             [
              0,
              "#0d0887"
             ],
             [
              0.1111111111111111,
              "#46039f"
             ],
             [
              0.2222222222222222,
              "#7201a8"
             ],
             [
              0.3333333333333333,
              "#9c179e"
             ],
             [
              0.4444444444444444,
              "#bd3786"
             ],
             [
              0.5555555555555556,
              "#d8576b"
             ],
             [
              0.6666666666666666,
              "#ed7953"
             ],
             [
              0.7777777777777778,
              "#fb9f3a"
             ],
             [
              0.8888888888888888,
              "#fdca26"
             ],
             [
              1,
              "#f0f921"
             ]
            ],
            "type": "histogram2d"
           }
          ],
          "histogram2dcontour": [
           {
            "colorbar": {
             "outlinewidth": 0,
             "ticks": ""
            },
            "colorscale": [
             [
              0,
              "#0d0887"
             ],
             [
              0.1111111111111111,
              "#46039f"
             ],
             [
              0.2222222222222222,
              "#7201a8"
             ],
             [
              0.3333333333333333,
              "#9c179e"
             ],
             [
              0.4444444444444444,
              "#bd3786"
             ],
             [
              0.5555555555555556,
              "#d8576b"
             ],
             [
              0.6666666666666666,
              "#ed7953"
             ],
             [
              0.7777777777777778,
              "#fb9f3a"
             ],
             [
              0.8888888888888888,
              "#fdca26"
             ],
             [
              1,
              "#f0f921"
             ]
            ],
            "type": "histogram2dcontour"
           }
          ],
          "mesh3d": [
           {
            "colorbar": {
             "outlinewidth": 0,
             "ticks": ""
            },
            "type": "mesh3d"
           }
          ],
          "parcoords": [
           {
            "line": {
             "colorbar": {
              "outlinewidth": 0,
              "ticks": ""
             }
            },
            "type": "parcoords"
           }
          ],
          "pie": [
           {
            "automargin": true,
            "type": "pie"
           }
          ],
          "scatter": [
           {
            "fillpattern": {
             "fillmode": "overlay",
             "size": 10,
             "solidity": 0.2
            },
            "type": "scatter"
           }
          ],
          "scatter3d": [
           {
            "line": {
             "colorbar": {
              "outlinewidth": 0,
              "ticks": ""
             }
            },
            "marker": {
             "colorbar": {
              "outlinewidth": 0,
              "ticks": ""
             }
            },
            "type": "scatter3d"
           }
          ],
          "scattercarpet": [
           {
            "marker": {
             "colorbar": {
              "outlinewidth": 0,
              "ticks": ""
             }
            },
            "type": "scattercarpet"
           }
          ],
          "scattergeo": [
           {
            "marker": {
             "colorbar": {
              "outlinewidth": 0,
              "ticks": ""
             }
            },
            "type": "scattergeo"
           }
          ],
          "scattergl": [
           {
            "marker": {
             "colorbar": {
              "outlinewidth": 0,
              "ticks": ""
             }
            },
            "type": "scattergl"
           }
          ],
          "scattermapbox": [
           {
            "marker": {
             "colorbar": {
              "outlinewidth": 0,
              "ticks": ""
             }
            },
            "type": "scattermapbox"
           }
          ],
          "scatterpolar": [
           {
            "marker": {
             "colorbar": {
              "outlinewidth": 0,
              "ticks": ""
             }
            },
            "type": "scatterpolar"
           }
          ],
          "scatterpolargl": [
           {
            "marker": {
             "colorbar": {
              "outlinewidth": 0,
              "ticks": ""
             }
            },
            "type": "scatterpolargl"
           }
          ],
          "scatterternary": [
           {
            "marker": {
             "colorbar": {
              "outlinewidth": 0,
              "ticks": ""
             }
            },
            "type": "scatterternary"
           }
          ],
          "surface": [
           {
            "colorbar": {
             "outlinewidth": 0,
             "ticks": ""
            },
            "colorscale": [
             [
              0,
              "#0d0887"
             ],
             [
              0.1111111111111111,
              "#46039f"
             ],
             [
              0.2222222222222222,
              "#7201a8"
             ],
             [
              0.3333333333333333,
              "#9c179e"
             ],
             [
              0.4444444444444444,
              "#bd3786"
             ],
             [
              0.5555555555555556,
              "#d8576b"
             ],
             [
              0.6666666666666666,
              "#ed7953"
             ],
             [
              0.7777777777777778,
              "#fb9f3a"
             ],
             [
              0.8888888888888888,
              "#fdca26"
             ],
             [
              1,
              "#f0f921"
             ]
            ],
            "type": "surface"
           }
          ],
          "table": [
           {
            "cells": {
             "fill": {
              "color": "#EBF0F8"
             },
             "line": {
              "color": "white"
             }
            },
            "header": {
             "fill": {
              "color": "#C8D4E3"
             },
             "line": {
              "color": "white"
             }
            },
            "type": "table"
           }
          ]
         },
         "layout": {
          "annotationdefaults": {
           "arrowcolor": "#2a3f5f",
           "arrowhead": 0,
           "arrowwidth": 1
          },
          "autotypenumbers": "strict",
          "coloraxis": {
           "colorbar": {
            "outlinewidth": 0,
            "ticks": ""
           }
          },
          "colorscale": {
           "diverging": [
            [
             0,
             "#8e0152"
            ],
            [
             0.1,
             "#c51b7d"
            ],
            [
             0.2,
             "#de77ae"
            ],
            [
             0.3,
             "#f1b6da"
            ],
            [
             0.4,
             "#fde0ef"
            ],
            [
             0.5,
             "#f7f7f7"
            ],
            [
             0.6,
             "#e6f5d0"
            ],
            [
             0.7,
             "#b8e186"
            ],
            [
             0.8,
             "#7fbc41"
            ],
            [
             0.9,
             "#4d9221"
            ],
            [
             1,
             "#276419"
            ]
           ],
           "sequential": [
            [
             0,
             "#0d0887"
            ],
            [
             0.1111111111111111,
             "#46039f"
            ],
            [
             0.2222222222222222,
             "#7201a8"
            ],
            [
             0.3333333333333333,
             "#9c179e"
            ],
            [
             0.4444444444444444,
             "#bd3786"
            ],
            [
             0.5555555555555556,
             "#d8576b"
            ],
            [
             0.6666666666666666,
             "#ed7953"
            ],
            [
             0.7777777777777778,
             "#fb9f3a"
            ],
            [
             0.8888888888888888,
             "#fdca26"
            ],
            [
             1,
             "#f0f921"
            ]
           ],
           "sequentialminus": [
            [
             0,
             "#0d0887"
            ],
            [
             0.1111111111111111,
             "#46039f"
            ],
            [
             0.2222222222222222,
             "#7201a8"
            ],
            [
             0.3333333333333333,
             "#9c179e"
            ],
            [
             0.4444444444444444,
             "#bd3786"
            ],
            [
             0.5555555555555556,
             "#d8576b"
            ],
            [
             0.6666666666666666,
             "#ed7953"
            ],
            [
             0.7777777777777778,
             "#fb9f3a"
            ],
            [
             0.8888888888888888,
             "#fdca26"
            ],
            [
             1,
             "#f0f921"
            ]
           ]
          },
          "colorway": [
           "#636efa",
           "#EF553B",
           "#00cc96",
           "#ab63fa",
           "#FFA15A",
           "#19d3f3",
           "#FF6692",
           "#B6E880",
           "#FF97FF",
           "#FECB52"
          ],
          "font": {
           "color": "#2a3f5f"
          },
          "geo": {
           "bgcolor": "white",
           "lakecolor": "white",
           "landcolor": "#E5ECF6",
           "showlakes": true,
           "showland": true,
           "subunitcolor": "white"
          },
          "hoverlabel": {
           "align": "left"
          },
          "hovermode": "closest",
          "mapbox": {
           "style": "light"
          },
          "paper_bgcolor": "white",
          "plot_bgcolor": "#E5ECF6",
          "polar": {
           "angularaxis": {
            "gridcolor": "white",
            "linecolor": "white",
            "ticks": ""
           },
           "bgcolor": "#E5ECF6",
           "radialaxis": {
            "gridcolor": "white",
            "linecolor": "white",
            "ticks": ""
           }
          },
          "scene": {
           "xaxis": {
            "backgroundcolor": "#E5ECF6",
            "gridcolor": "white",
            "gridwidth": 2,
            "linecolor": "white",
            "showbackground": true,
            "ticks": "",
            "zerolinecolor": "white"
           },
           "yaxis": {
            "backgroundcolor": "#E5ECF6",
            "gridcolor": "white",
            "gridwidth": 2,
            "linecolor": "white",
            "showbackground": true,
            "ticks": "",
            "zerolinecolor": "white"
           },
           "zaxis": {
            "backgroundcolor": "#E5ECF6",
            "gridcolor": "white",
            "gridwidth": 2,
            "linecolor": "white",
            "showbackground": true,
            "ticks": "",
            "zerolinecolor": "white"
           }
          },
          "shapedefaults": {
           "line": {
            "color": "#2a3f5f"
           }
          },
          "ternary": {
           "aaxis": {
            "gridcolor": "white",
            "linecolor": "white",
            "ticks": ""
           },
           "baxis": {
            "gridcolor": "white",
            "linecolor": "white",
            "ticks": ""
           },
           "bgcolor": "#E5ECF6",
           "caxis": {
            "gridcolor": "white",
            "linecolor": "white",
            "ticks": ""
           }
          },
          "title": {
           "x": 0.05
          },
          "xaxis": {
           "automargin": true,
           "gridcolor": "white",
           "linecolor": "white",
           "ticks": "",
           "title": {
            "standoff": 15
           },
           "zerolinecolor": "white",
           "zerolinewidth": 2
          },
          "yaxis": {
           "automargin": true,
           "gridcolor": "white",
           "linecolor": "white",
           "ticks": "",
           "title": {
            "standoff": 15
           },
           "zerolinecolor": "white",
           "zerolinewidth": 2
          }
         }
        },
        "title": {
         "text": "How many files are used by how many authors (so for example the first bar represent the number of files with single author)"
        },
        "xaxis": {
         "anchor": "y",
         "domain": [
          0,
          1
         ],
         "title": {
          "text": "Number of files"
         },
         "type": "category"
        },
        "yaxis": {
         "anchor": "x",
         "domain": [
          0,
          1
         ],
         "title": {
          "text": "Number of authors"
         }
        }
       }
      }
     },
     "metadata": {},
     "output_type": "display_data"
    },
    {
     "data": {
      "application/vnd.plotly.v1+json": {
       "config": {
        "plotlyServerURL": "https://plot.ly"
       },
       "data": [
        {
         "alignmentgroup": "True",
         "hovertemplate": "Number of files=%{x}<br>Number of authors=%{y}<extra></extra>",
         "legendgroup": "",
         "marker": {
          "color": "#636efa",
          "pattern": {
           "shape": ""
          }
         },
         "name": "",
         "offsetgroup": "",
         "orientation": "v",
         "showlegend": false,
         "textposition": "auto",
         "type": "bar",
         "x": [
          1,
          2,
          3,
          4,
          5,
          8,
          16,
          20,
          22,
          25,
          26,
          27,
          32,
          34,
          38,
          43,
          54,
          62,
          71,
          73,
          94,
          99,
          109,
          140,
          141,
          164,
          194,
          226,
          271,
          302,
          749,
          1235
         ],
         "xaxis": "x",
         "y": [
          10,
          8,
          1,
          2,
          2,
          1,
          1,
          1,
          1,
          1,
          1,
          1,
          1,
          1,
          1,
          1,
          2,
          1,
          1,
          1,
          1,
          1,
          1,
          1,
          1,
          1,
          1,
          1,
          1,
          1,
          1,
          1
         ],
         "yaxis": "y"
        }
       ],
       "layout": {
        "barmode": "relative",
        "legend": {
         "tracegroupgap": 0
        },
        "template": {
         "data": {
          "bar": [
           {
            "error_x": {
             "color": "#2a3f5f"
            },
            "error_y": {
             "color": "#2a3f5f"
            },
            "marker": {
             "line": {
              "color": "#E5ECF6",
              "width": 0.5
             },
             "pattern": {
              "fillmode": "overlay",
              "size": 10,
              "solidity": 0.2
             }
            },
            "type": "bar"
           }
          ],
          "barpolar": [
           {
            "marker": {
             "line": {
              "color": "#E5ECF6",
              "width": 0.5
             },
             "pattern": {
              "fillmode": "overlay",
              "size": 10,
              "solidity": 0.2
             }
            },
            "type": "barpolar"
           }
          ],
          "carpet": [
           {
            "aaxis": {
             "endlinecolor": "#2a3f5f",
             "gridcolor": "white",
             "linecolor": "white",
             "minorgridcolor": "white",
             "startlinecolor": "#2a3f5f"
            },
            "baxis": {
             "endlinecolor": "#2a3f5f",
             "gridcolor": "white",
             "linecolor": "white",
             "minorgridcolor": "white",
             "startlinecolor": "#2a3f5f"
            },
            "type": "carpet"
           }
          ],
          "choropleth": [
           {
            "colorbar": {
             "outlinewidth": 0,
             "ticks": ""
            },
            "type": "choropleth"
           }
          ],
          "contour": [
           {
            "colorbar": {
             "outlinewidth": 0,
             "ticks": ""
            },
            "colorscale": [
             [
              0,
              "#0d0887"
             ],
             [
              0.1111111111111111,
              "#46039f"
             ],
             [
              0.2222222222222222,
              "#7201a8"
             ],
             [
              0.3333333333333333,
              "#9c179e"
             ],
             [
              0.4444444444444444,
              "#bd3786"
             ],
             [
              0.5555555555555556,
              "#d8576b"
             ],
             [
              0.6666666666666666,
              "#ed7953"
             ],
             [
              0.7777777777777778,
              "#fb9f3a"
             ],
             [
              0.8888888888888888,
              "#fdca26"
             ],
             [
              1,
              "#f0f921"
             ]
            ],
            "type": "contour"
           }
          ],
          "contourcarpet": [
           {
            "colorbar": {
             "outlinewidth": 0,
             "ticks": ""
            },
            "type": "contourcarpet"
           }
          ],
          "heatmap": [
           {
            "colorbar": {
             "outlinewidth": 0,
             "ticks": ""
            },
            "colorscale": [
             [
              0,
              "#0d0887"
             ],
             [
              0.1111111111111111,
              "#46039f"
             ],
             [
              0.2222222222222222,
              "#7201a8"
             ],
             [
              0.3333333333333333,
              "#9c179e"
             ],
             [
              0.4444444444444444,
              "#bd3786"
             ],
             [
              0.5555555555555556,
              "#d8576b"
             ],
             [
              0.6666666666666666,
              "#ed7953"
             ],
             [
              0.7777777777777778,
              "#fb9f3a"
             ],
             [
              0.8888888888888888,
              "#fdca26"
             ],
             [
              1,
              "#f0f921"
             ]
            ],
            "type": "heatmap"
           }
          ],
          "heatmapgl": [
           {
            "colorbar": {
             "outlinewidth": 0,
             "ticks": ""
            },
            "colorscale": [
             [
              0,
              "#0d0887"
             ],
             [
              0.1111111111111111,
              "#46039f"
             ],
             [
              0.2222222222222222,
              "#7201a8"
             ],
             [
              0.3333333333333333,
              "#9c179e"
             ],
             [
              0.4444444444444444,
              "#bd3786"
             ],
             [
              0.5555555555555556,
              "#d8576b"
             ],
             [
              0.6666666666666666,
              "#ed7953"
             ],
             [
              0.7777777777777778,
              "#fb9f3a"
             ],
             [
              0.8888888888888888,
              "#fdca26"
             ],
             [
              1,
              "#f0f921"
             ]
            ],
            "type": "heatmapgl"
           }
          ],
          "histogram": [
           {
            "marker": {
             "pattern": {
              "fillmode": "overlay",
              "size": 10,
              "solidity": 0.2
             }
            },
            "type": "histogram"
           }
          ],
          "histogram2d": [
           {
            "colorbar": {
             "outlinewidth": 0,
             "ticks": ""
            },
            "colorscale": [
             [
              0,
              "#0d0887"
             ],
             [
              0.1111111111111111,
              "#46039f"
             ],
             [
              0.2222222222222222,
              "#7201a8"
             ],
             [
              0.3333333333333333,
              "#9c179e"
             ],
             [
              0.4444444444444444,
              "#bd3786"
             ],
             [
              0.5555555555555556,
              "#d8576b"
             ],
             [
              0.6666666666666666,
              "#ed7953"
             ],
             [
              0.7777777777777778,
              "#fb9f3a"
             ],
             [
              0.8888888888888888,
              "#fdca26"
             ],
             [
              1,
              "#f0f921"
             ]
            ],
            "type": "histogram2d"
           }
          ],
          "histogram2dcontour": [
           {
            "colorbar": {
             "outlinewidth": 0,
             "ticks": ""
            },
            "colorscale": [
             [
              0,
              "#0d0887"
             ],
             [
              0.1111111111111111,
              "#46039f"
             ],
             [
              0.2222222222222222,
              "#7201a8"
             ],
             [
              0.3333333333333333,
              "#9c179e"
             ],
             [
              0.4444444444444444,
              "#bd3786"
             ],
             [
              0.5555555555555556,
              "#d8576b"
             ],
             [
              0.6666666666666666,
              "#ed7953"
             ],
             [
              0.7777777777777778,
              "#fb9f3a"
             ],
             [
              0.8888888888888888,
              "#fdca26"
             ],
             [
              1,
              "#f0f921"
             ]
            ],
            "type": "histogram2dcontour"
           }
          ],
          "mesh3d": [
           {
            "colorbar": {
             "outlinewidth": 0,
             "ticks": ""
            },
            "type": "mesh3d"
           }
          ],
          "parcoords": [
           {
            "line": {
             "colorbar": {
              "outlinewidth": 0,
              "ticks": ""
             }
            },
            "type": "parcoords"
           }
          ],
          "pie": [
           {
            "automargin": true,
            "type": "pie"
           }
          ],
          "scatter": [
           {
            "fillpattern": {
             "fillmode": "overlay",
             "size": 10,
             "solidity": 0.2
            },
            "type": "scatter"
           }
          ],
          "scatter3d": [
           {
            "line": {
             "colorbar": {
              "outlinewidth": 0,
              "ticks": ""
             }
            },
            "marker": {
             "colorbar": {
              "outlinewidth": 0,
              "ticks": ""
             }
            },
            "type": "scatter3d"
           }
          ],
          "scattercarpet": [
           {
            "marker": {
             "colorbar": {
              "outlinewidth": 0,
              "ticks": ""
             }
            },
            "type": "scattercarpet"
           }
          ],
          "scattergeo": [
           {
            "marker": {
             "colorbar": {
              "outlinewidth": 0,
              "ticks": ""
             }
            },
            "type": "scattergeo"
           }
          ],
          "scattergl": [
           {
            "marker": {
             "colorbar": {
              "outlinewidth": 0,
              "ticks": ""
             }
            },
            "type": "scattergl"
           }
          ],
          "scattermapbox": [
           {
            "marker": {
             "colorbar": {
              "outlinewidth": 0,
              "ticks": ""
             }
            },
            "type": "scattermapbox"
           }
          ],
          "scatterpolar": [
           {
            "marker": {
             "colorbar": {
              "outlinewidth": 0,
              "ticks": ""
             }
            },
            "type": "scatterpolar"
           }
          ],
          "scatterpolargl": [
           {
            "marker": {
             "colorbar": {
              "outlinewidth": 0,
              "ticks": ""
             }
            },
            "type": "scatterpolargl"
           }
          ],
          "scatterternary": [
           {
            "marker": {
             "colorbar": {
              "outlinewidth": 0,
              "ticks": ""
             }
            },
            "type": "scatterternary"
           }
          ],
          "surface": [
           {
            "colorbar": {
             "outlinewidth": 0,
             "ticks": ""
            },
            "colorscale": [
             [
              0,
              "#0d0887"
             ],
             [
              0.1111111111111111,
              "#46039f"
             ],
             [
              0.2222222222222222,
              "#7201a8"
             ],
             [
              0.3333333333333333,
              "#9c179e"
             ],
             [
              0.4444444444444444,
              "#bd3786"
             ],
             [
              0.5555555555555556,
              "#d8576b"
             ],
             [
              0.6666666666666666,
              "#ed7953"
             ],
             [
              0.7777777777777778,
              "#fb9f3a"
             ],
             [
              0.8888888888888888,
              "#fdca26"
             ],
             [
              1,
              "#f0f921"
             ]
            ],
            "type": "surface"
           }
          ],
          "table": [
           {
            "cells": {
             "fill": {
              "color": "#EBF0F8"
             },
             "line": {
              "color": "white"
             }
            },
            "header": {
             "fill": {
              "color": "#C8D4E3"
             },
             "line": {
              "color": "white"
             }
            },
            "type": "table"
           }
          ]
         },
         "layout": {
          "annotationdefaults": {
           "arrowcolor": "#2a3f5f",
           "arrowhead": 0,
           "arrowwidth": 1
          },
          "autotypenumbers": "strict",
          "coloraxis": {
           "colorbar": {
            "outlinewidth": 0,
            "ticks": ""
           }
          },
          "colorscale": {
           "diverging": [
            [
             0,
             "#8e0152"
            ],
            [
             0.1,
             "#c51b7d"
            ],
            [
             0.2,
             "#de77ae"
            ],
            [
             0.3,
             "#f1b6da"
            ],
            [
             0.4,
             "#fde0ef"
            ],
            [
             0.5,
             "#f7f7f7"
            ],
            [
             0.6,
             "#e6f5d0"
            ],
            [
             0.7,
             "#b8e186"
            ],
            [
             0.8,
             "#7fbc41"
            ],
            [
             0.9,
             "#4d9221"
            ],
            [
             1,
             "#276419"
            ]
           ],
           "sequential": [
            [
             0,
             "#0d0887"
            ],
            [
             0.1111111111111111,
             "#46039f"
            ],
            [
             0.2222222222222222,
             "#7201a8"
            ],
            [
             0.3333333333333333,
             "#9c179e"
            ],
            [
             0.4444444444444444,
             "#bd3786"
            ],
            [
             0.5555555555555556,
             "#d8576b"
            ],
            [
             0.6666666666666666,
             "#ed7953"
            ],
            [
             0.7777777777777778,
             "#fb9f3a"
            ],
            [
             0.8888888888888888,
             "#fdca26"
            ],
            [
             1,
             "#f0f921"
            ]
           ],
           "sequentialminus": [
            [
             0,
             "#0d0887"
            ],
            [
             0.1111111111111111,
             "#46039f"
            ],
            [
             0.2222222222222222,
             "#7201a8"
            ],
            [
             0.3333333333333333,
             "#9c179e"
            ],
            [
             0.4444444444444444,
             "#bd3786"
            ],
            [
             0.5555555555555556,
             "#d8576b"
            ],
            [
             0.6666666666666666,
             "#ed7953"
            ],
            [
             0.7777777777777778,
             "#fb9f3a"
            ],
            [
             0.8888888888888888,
             "#fdca26"
            ],
            [
             1,
             "#f0f921"
            ]
           ]
          },
          "colorway": [
           "#636efa",
           "#EF553B",
           "#00cc96",
           "#ab63fa",
           "#FFA15A",
           "#19d3f3",
           "#FF6692",
           "#B6E880",
           "#FF97FF",
           "#FECB52"
          ],
          "font": {
           "color": "#2a3f5f"
          },
          "geo": {
           "bgcolor": "white",
           "lakecolor": "white",
           "landcolor": "#E5ECF6",
           "showlakes": true,
           "showland": true,
           "subunitcolor": "white"
          },
          "hoverlabel": {
           "align": "left"
          },
          "hovermode": "closest",
          "mapbox": {
           "style": "light"
          },
          "paper_bgcolor": "white",
          "plot_bgcolor": "#E5ECF6",
          "polar": {
           "angularaxis": {
            "gridcolor": "white",
            "linecolor": "white",
            "ticks": ""
           },
           "bgcolor": "#E5ECF6",
           "radialaxis": {
            "gridcolor": "white",
            "linecolor": "white",
            "ticks": ""
           }
          },
          "scene": {
           "xaxis": {
            "backgroundcolor": "#E5ECF6",
            "gridcolor": "white",
            "gridwidth": 2,
            "linecolor": "white",
            "showbackground": true,
            "ticks": "",
            "zerolinecolor": "white"
           },
           "yaxis": {
            "backgroundcolor": "#E5ECF6",
            "gridcolor": "white",
            "gridwidth": 2,
            "linecolor": "white",
            "showbackground": true,
            "ticks": "",
            "zerolinecolor": "white"
           },
           "zaxis": {
            "backgroundcolor": "#E5ECF6",
            "gridcolor": "white",
            "gridwidth": 2,
            "linecolor": "white",
            "showbackground": true,
            "ticks": "",
            "zerolinecolor": "white"
           }
          },
          "shapedefaults": {
           "line": {
            "color": "#2a3f5f"
           }
          },
          "ternary": {
           "aaxis": {
            "gridcolor": "white",
            "linecolor": "white",
            "ticks": ""
           },
           "baxis": {
            "gridcolor": "white",
            "linecolor": "white",
            "ticks": ""
           },
           "bgcolor": "#E5ECF6",
           "caxis": {
            "gridcolor": "white",
            "linecolor": "white",
            "ticks": ""
           }
          },
          "title": {
           "x": 0.05
          },
          "xaxis": {
           "automargin": true,
           "gridcolor": "white",
           "linecolor": "white",
           "ticks": "",
           "title": {
            "standoff": 15
           },
           "zerolinecolor": "white",
           "zerolinewidth": 2
          },
          "yaxis": {
           "automargin": true,
           "gridcolor": "white",
           "linecolor": "white",
           "ticks": "",
           "title": {
            "standoff": 15
           },
           "zerolinecolor": "white",
           "zerolinewidth": 2
          }
         }
        },
        "title": {
         "text": "How many authors have interacted with how many files (so for example the first bar represent the minor contributors, i.e., the number of authors who own 1 file)"
        },
        "xaxis": {
         "anchor": "y",
         "domain": [
          0,
          1
         ],
         "title": {
          "text": "Number of files"
         },
         "type": "category"
        },
        "yaxis": {
         "anchor": "x",
         "domain": [
          0,
          1
         ],
         "title": {
          "text": "Number of authors"
         }
        }
       }
      }
     },
     "metadata": {},
     "output_type": "display_data"
    }
   ],
   "source": [
    "def plot_interactive_bar_chart(dictionary, title, ylabel, xlabel, top_n=10):\n",
    "    # Counting the occurrences in the dictionary\n",
    "    counts = Counter(dictionary.values())\n",
    "\n",
    "    # Sorting the counts dictionary by values in descending order\n",
    "    sorted_counts = dict(sorted(counts.items(), key=lambda item: item[0]))\n",
    "\n",
    "    # Getting the top n most common elements after sorting\n",
    "\n",
    "    # Preparing data for plotting\n",
    "    values = list(sorted_counts.keys())\n",
    "    frequencies = list(sorted_counts.values())\n",
    "\n",
    "    # Creating an interactive bar chart\n",
    "    fig = px.bar(x=values, y=frequencies, labels={'x': xlabel, 'y': ylabel}, title=title)\n",
    "    fig.update_layout(xaxis={'type':'category'})\n",
    "    fig.show()\n",
    "\n",
    "\n",
    "\n",
    "plot_interactive_bar_chart(files_dict, \"How many files are used by how many authors (so for example the first bar represent the number of files with single author)\", \"Number of authors\", \"Number of files\")\n",
    "plot_interactive_bar_chart(authors_dict, \"How many authors have interacted with how many files (so for example the first bar represent the minor contributors, i.e., the number of authors who own 1 file)\", \"Number of authors\", \"Number of files\")"
   ]
  },
  {
   "cell_type": "markdown",
   "metadata": {},
   "source": [
    "As we can see there are plenty of authors who are authors of only one files, this could speak for the fact, that elasticsearch is an open source where eveybody can contribute and do modifications, however there are still some files, where multiple developers have contributed, this can be God classes or for example package manager. The largest number of contributors have one file with 12 authors.\n",
    "\n",
    "In the second graphics, we can see, that there are again rather authors who own lower amount of files, however there are two core developers. One owns 1235 files and the second one mostly 800 files."
   ]
  },
  {
   "cell_type": "markdown",
   "metadata": {},
   "source": [
    "### Part 2"
   ]
  },
  {
   "cell_type": "code",
   "execution_count": 16,
   "metadata": {},
   "outputs": [],
   "source": [
    "def get_modified_value(file, modification_type):\n",
    "    if(modification_type not in Modification):\n",
    "        raise ValueError(\"Invalid modification type\")\n",
    "    \n",
    "    if(modification_type == Modification.ADDED):\n",
    "        return file.added_lines\n",
    "    elif(modification_type == Modification.REMOVED):\n",
    "        return file.deleted_lines\n",
    "    elif(modification_type == Modification.TOTAL):\n",
    "        return file.added_lines + file.deleted_lines\n",
    "    elif(modification_type == Modification.DIFF):\n",
    "        return file.added_lines - file.deleted_lines\n",
    "\n",
    "def get_authors_numbers(package_paths, modification_types):\n",
    "    if(not isinstance(package_paths, list)):\n",
    "        raise ValueError(\"Package paths must be a list\")\n",
    "    if(not isinstance(modification_types, list)):\n",
    "        raise ValueError(\"Modification types must be a list\")\n",
    "    \n",
    "    # restrict repo to the previous defined tags\n",
    "    repo = Repository(repo_path, since=since_time, to=to_time)\n",
    "    commits = [commit for commit in repo.traverse_commits()]\n",
    "\n",
    "    authors_dict = defaultdict(lambda: defaultdict(lambda: defaultdict(lambda: 0)))\n",
    "    for commit in tqdm(commits, desc=\"Analyzing commits\", unit=\"commit\"):\n",
    "        for file in commit.modified_files:\n",
    "            filename = file.new_path if file.new_path else file.old_path\n",
    "\n",
    "            for package_path in package_paths:\n",
    "                if filename.startswith(package_path):\n",
    "                    for modification_type in modification_types:\n",
    "                        authors_dict[package_path][modification_type][commit.author.name] += get_modified_value(file, modification_type)\n",
    "\n",
    "    return authors_dict   "
   ]
  },
  {
   "cell_type": "code",
   "execution_count": 19,
   "metadata": {},
   "outputs": [
    {
     "name": "stderr",
     "output_type": "stream",
     "text": [
      "Analyzing commits: 100%|██████████| 1746/1746 [01:32<00:00, 18.87commit/s]\n"
     ]
    }
   ],
   "source": [
    "# Be aware, they have moved from core into server folder in 2018\n",
    "packages = [\"core\\\\src\\\\main\\\\java\\\\org\\\\elasticsearch\\\\common\", \"core\\\\src\\\\main\\\\java\\\\org\\\\elasticsearch\\\\rest\", \"core\\\\src\\\\main\\\\java\\\\org\\\\elasticsearch\\\\cluster\"]\n",
    "modifications = [Modification.ADDED, Modification.REMOVED, Modification.TOTAL, Modification.DIFF]\n",
    "analysis_packages = get_authors_numbers(packages, modifications)"
   ]
  },
  {
   "cell_type": "code",
   "execution_count": 20,
   "metadata": {},
   "outputs": [
    {
     "data": {
      "application/vnd.plotly.v1+json": {
       "config": {
        "plotlyServerURL": "https://plot.ly"
       },
       "data": [
        {
         "alignmentgroup": "True",
         "hovertemplate": "x=%{x}<br>y=%{y}<extra></extra>",
         "legendgroup": "",
         "marker": {
          "color": "#636efa",
          "pattern": {
           "shape": ""
          }
         },
         "name": "",
         "offsetgroup": "",
         "orientation": "v",
         "showlegend": false,
         "textposition": "auto",
         "type": "bar",
         "x": [
          "saschamarkus",
          "Alexander Clare",
          "Christoph Büscher",
          "David Pilato",
          "Tanguy Leroux",
          "Jörg Prante",
          "Boaz Leskes",
          "Johannes Barthelmes",
          "Alex Ksikes",
          "jaymode",
          "szroland",
          "Martijn van Groningen",
          "Nicholas Knize",
          "Britta Weber",
          "uboness",
          "Jason Tedor",
          "Lee Hinman",
          "Colin Goodheart-Smithe",
          "Nik Everett",
          "Alexander Reelsen",
          "Igor Motov",
          "Adrien Grand",
          "javanna",
          "Ryan Ernst",
          "Robert Muir",
          "Simon Willnauer"
         ],
         "xaxis": "x",
         "y": [
          2,
          3,
          3,
          19,
          29,
          30,
          31,
          32,
          44,
          45,
          60,
          62,
          65,
          66,
          81,
          85,
          96,
          112,
          162,
          349,
          386,
          424,
          478,
          936,
          1316,
          1742
         ],
         "yaxis": "y"
        }
       ],
       "layout": {
        "barmode": "relative",
        "legend": {
         "tracegroupgap": 0
        },
        "margin": {
         "t": 60
        },
        "template": {
         "data": {
          "bar": [
           {
            "error_x": {
             "color": "#2a3f5f"
            },
            "error_y": {
             "color": "#2a3f5f"
            },
            "marker": {
             "line": {
              "color": "#E5ECF6",
              "width": 0.5
             },
             "pattern": {
              "fillmode": "overlay",
              "size": 10,
              "solidity": 0.2
             }
            },
            "type": "bar"
           }
          ],
          "barpolar": [
           {
            "marker": {
             "line": {
              "color": "#E5ECF6",
              "width": 0.5
             },
             "pattern": {
              "fillmode": "overlay",
              "size": 10,
              "solidity": 0.2
             }
            },
            "type": "barpolar"
           }
          ],
          "carpet": [
           {
            "aaxis": {
             "endlinecolor": "#2a3f5f",
             "gridcolor": "white",
             "linecolor": "white",
             "minorgridcolor": "white",
             "startlinecolor": "#2a3f5f"
            },
            "baxis": {
             "endlinecolor": "#2a3f5f",
             "gridcolor": "white",
             "linecolor": "white",
             "minorgridcolor": "white",
             "startlinecolor": "#2a3f5f"
            },
            "type": "carpet"
           }
          ],
          "choropleth": [
           {
            "colorbar": {
             "outlinewidth": 0,
             "ticks": ""
            },
            "type": "choropleth"
           }
          ],
          "contour": [
           {
            "colorbar": {
             "outlinewidth": 0,
             "ticks": ""
            },
            "colorscale": [
             [
              0,
              "#0d0887"
             ],
             [
              0.1111111111111111,
              "#46039f"
             ],
             [
              0.2222222222222222,
              "#7201a8"
             ],
             [
              0.3333333333333333,
              "#9c179e"
             ],
             [
              0.4444444444444444,
              "#bd3786"
             ],
             [
              0.5555555555555556,
              "#d8576b"
             ],
             [
              0.6666666666666666,
              "#ed7953"
             ],
             [
              0.7777777777777778,
              "#fb9f3a"
             ],
             [
              0.8888888888888888,
              "#fdca26"
             ],
             [
              1,
              "#f0f921"
             ]
            ],
            "type": "contour"
           }
          ],
          "contourcarpet": [
           {
            "colorbar": {
             "outlinewidth": 0,
             "ticks": ""
            },
            "type": "contourcarpet"
           }
          ],
          "heatmap": [
           {
            "colorbar": {
             "outlinewidth": 0,
             "ticks": ""
            },
            "colorscale": [
             [
              0,
              "#0d0887"
             ],
             [
              0.1111111111111111,
              "#46039f"
             ],
             [
              0.2222222222222222,
              "#7201a8"
             ],
             [
              0.3333333333333333,
              "#9c179e"
             ],
             [
              0.4444444444444444,
              "#bd3786"
             ],
             [
              0.5555555555555556,
              "#d8576b"
             ],
             [
              0.6666666666666666,
              "#ed7953"
             ],
             [
              0.7777777777777778,
              "#fb9f3a"
             ],
             [
              0.8888888888888888,
              "#fdca26"
             ],
             [
              1,
              "#f0f921"
             ]
            ],
            "type": "heatmap"
           }
          ],
          "heatmapgl": [
           {
            "colorbar": {
             "outlinewidth": 0,
             "ticks": ""
            },
            "colorscale": [
             [
              0,
              "#0d0887"
             ],
             [
              0.1111111111111111,
              "#46039f"
             ],
             [
              0.2222222222222222,
              "#7201a8"
             ],
             [
              0.3333333333333333,
              "#9c179e"
             ],
             [
              0.4444444444444444,
              "#bd3786"
             ],
             [
              0.5555555555555556,
              "#d8576b"
             ],
             [
              0.6666666666666666,
              "#ed7953"
             ],
             [
              0.7777777777777778,
              "#fb9f3a"
             ],
             [
              0.8888888888888888,
              "#fdca26"
             ],
             [
              1,
              "#f0f921"
             ]
            ],
            "type": "heatmapgl"
           }
          ],
          "histogram": [
           {
            "marker": {
             "pattern": {
              "fillmode": "overlay",
              "size": 10,
              "solidity": 0.2
             }
            },
            "type": "histogram"
           }
          ],
          "histogram2d": [
           {
            "colorbar": {
             "outlinewidth": 0,
             "ticks": ""
            },
            "colorscale": [
             [
              0,
              "#0d0887"
             ],
             [
              0.1111111111111111,
              "#46039f"
             ],
             [
              0.2222222222222222,
              "#7201a8"
             ],
             [
              0.3333333333333333,
              "#9c179e"
             ],
             [
              0.4444444444444444,
              "#bd3786"
             ],
             [
              0.5555555555555556,
              "#d8576b"
             ],
             [
              0.6666666666666666,
              "#ed7953"
             ],
             [
              0.7777777777777778,
              "#fb9f3a"
             ],
             [
              0.8888888888888888,
              "#fdca26"
             ],
             [
              1,
              "#f0f921"
             ]
            ],
            "type": "histogram2d"
           }
          ],
          "histogram2dcontour": [
           {
            "colorbar": {
             "outlinewidth": 0,
             "ticks": ""
            },
            "colorscale": [
             [
              0,
              "#0d0887"
             ],
             [
              0.1111111111111111,
              "#46039f"
             ],
             [
              0.2222222222222222,
              "#7201a8"
             ],
             [
              0.3333333333333333,
              "#9c179e"
             ],
             [
              0.4444444444444444,
              "#bd3786"
             ],
             [
              0.5555555555555556,
              "#d8576b"
             ],
             [
              0.6666666666666666,
              "#ed7953"
             ],
             [
              0.7777777777777778,
              "#fb9f3a"
             ],
             [
              0.8888888888888888,
              "#fdca26"
             ],
             [
              1,
              "#f0f921"
             ]
            ],
            "type": "histogram2dcontour"
           }
          ],
          "mesh3d": [
           {
            "colorbar": {
             "outlinewidth": 0,
             "ticks": ""
            },
            "type": "mesh3d"
           }
          ],
          "parcoords": [
           {
            "line": {
             "colorbar": {
              "outlinewidth": 0,
              "ticks": ""
             }
            },
            "type": "parcoords"
           }
          ],
          "pie": [
           {
            "automargin": true,
            "type": "pie"
           }
          ],
          "scatter": [
           {
            "fillpattern": {
             "fillmode": "overlay",
             "size": 10,
             "solidity": 0.2
            },
            "type": "scatter"
           }
          ],
          "scatter3d": [
           {
            "line": {
             "colorbar": {
              "outlinewidth": 0,
              "ticks": ""
             }
            },
            "marker": {
             "colorbar": {
              "outlinewidth": 0,
              "ticks": ""
             }
            },
            "type": "scatter3d"
           }
          ],
          "scattercarpet": [
           {
            "marker": {
             "colorbar": {
              "outlinewidth": 0,
              "ticks": ""
             }
            },
            "type": "scattercarpet"
           }
          ],
          "scattergeo": [
           {
            "marker": {
             "colorbar": {
              "outlinewidth": 0,
              "ticks": ""
             }
            },
            "type": "scattergeo"
           }
          ],
          "scattergl": [
           {
            "marker": {
             "colorbar": {
              "outlinewidth": 0,
              "ticks": ""
             }
            },
            "type": "scattergl"
           }
          ],
          "scattermapbox": [
           {
            "marker": {
             "colorbar": {
              "outlinewidth": 0,
              "ticks": ""
             }
            },
            "type": "scattermapbox"
           }
          ],
          "scatterpolar": [
           {
            "marker": {
             "colorbar": {
              "outlinewidth": 0,
              "ticks": ""
             }
            },
            "type": "scatterpolar"
           }
          ],
          "scatterpolargl": [
           {
            "marker": {
             "colorbar": {
              "outlinewidth": 0,
              "ticks": ""
             }
            },
            "type": "scatterpolargl"
           }
          ],
          "scatterternary": [
           {
            "marker": {
             "colorbar": {
              "outlinewidth": 0,
              "ticks": ""
             }
            },
            "type": "scatterternary"
           }
          ],
          "surface": [
           {
            "colorbar": {
             "outlinewidth": 0,
             "ticks": ""
            },
            "colorscale": [
             [
              0,
              "#0d0887"
             ],
             [
              0.1111111111111111,
              "#46039f"
             ],
             [
              0.2222222222222222,
              "#7201a8"
             ],
             [
              0.3333333333333333,
              "#9c179e"
             ],
             [
              0.4444444444444444,
              "#bd3786"
             ],
             [
              0.5555555555555556,
              "#d8576b"
             ],
             [
              0.6666666666666666,
              "#ed7953"
             ],
             [
              0.7777777777777778,
              "#fb9f3a"
             ],
             [
              0.8888888888888888,
              "#fdca26"
             ],
             [
              1,
              "#f0f921"
             ]
            ],
            "type": "surface"
           }
          ],
          "table": [
           {
            "cells": {
             "fill": {
              "color": "#EBF0F8"
             },
             "line": {
              "color": "white"
             }
            },
            "header": {
             "fill": {
              "color": "#C8D4E3"
             },
             "line": {
              "color": "white"
             }
            },
            "type": "table"
           }
          ]
         },
         "layout": {
          "annotationdefaults": {
           "arrowcolor": "#2a3f5f",
           "arrowhead": 0,
           "arrowwidth": 1
          },
          "autotypenumbers": "strict",
          "coloraxis": {
           "colorbar": {
            "outlinewidth": 0,
            "ticks": ""
           }
          },
          "colorscale": {
           "diverging": [
            [
             0,
             "#8e0152"
            ],
            [
             0.1,
             "#c51b7d"
            ],
            [
             0.2,
             "#de77ae"
            ],
            [
             0.3,
             "#f1b6da"
            ],
            [
             0.4,
             "#fde0ef"
            ],
            [
             0.5,
             "#f7f7f7"
            ],
            [
             0.6,
             "#e6f5d0"
            ],
            [
             0.7,
             "#b8e186"
            ],
            [
             0.8,
             "#7fbc41"
            ],
            [
             0.9,
             "#4d9221"
            ],
            [
             1,
             "#276419"
            ]
           ],
           "sequential": [
            [
             0,
             "#0d0887"
            ],
            [
             0.1111111111111111,
             "#46039f"
            ],
            [
             0.2222222222222222,
             "#7201a8"
            ],
            [
             0.3333333333333333,
             "#9c179e"
            ],
            [
             0.4444444444444444,
             "#bd3786"
            ],
            [
             0.5555555555555556,
             "#d8576b"
            ],
            [
             0.6666666666666666,
             "#ed7953"
            ],
            [
             0.7777777777777778,
             "#fb9f3a"
            ],
            [
             0.8888888888888888,
             "#fdca26"
            ],
            [
             1,
             "#f0f921"
            ]
           ],
           "sequentialminus": [
            [
             0,
             "#0d0887"
            ],
            [
             0.1111111111111111,
             "#46039f"
            ],
            [
             0.2222222222222222,
             "#7201a8"
            ],
            [
             0.3333333333333333,
             "#9c179e"
            ],
            [
             0.4444444444444444,
             "#bd3786"
            ],
            [
             0.5555555555555556,
             "#d8576b"
            ],
            [
             0.6666666666666666,
             "#ed7953"
            ],
            [
             0.7777777777777778,
             "#fb9f3a"
            ],
            [
             0.8888888888888888,
             "#fdca26"
            ],
            [
             1,
             "#f0f921"
            ]
           ]
          },
          "colorway": [
           "#636efa",
           "#EF553B",
           "#00cc96",
           "#ab63fa",
           "#FFA15A",
           "#19d3f3",
           "#FF6692",
           "#B6E880",
           "#FF97FF",
           "#FECB52"
          ],
          "font": {
           "color": "#2a3f5f"
          },
          "geo": {
           "bgcolor": "white",
           "lakecolor": "white",
           "landcolor": "#E5ECF6",
           "showlakes": true,
           "showland": true,
           "subunitcolor": "white"
          },
          "hoverlabel": {
           "align": "left"
          },
          "hovermode": "closest",
          "mapbox": {
           "style": "light"
          },
          "paper_bgcolor": "white",
          "plot_bgcolor": "#E5ECF6",
          "polar": {
           "angularaxis": {
            "gridcolor": "white",
            "linecolor": "white",
            "ticks": ""
           },
           "bgcolor": "#E5ECF6",
           "radialaxis": {
            "gridcolor": "white",
            "linecolor": "white",
            "ticks": ""
           }
          },
          "scene": {
           "xaxis": {
            "backgroundcolor": "#E5ECF6",
            "gridcolor": "white",
            "gridwidth": 2,
            "linecolor": "white",
            "showbackground": true,
            "ticks": "",
            "zerolinecolor": "white"
           },
           "yaxis": {
            "backgroundcolor": "#E5ECF6",
            "gridcolor": "white",
            "gridwidth": 2,
            "linecolor": "white",
            "showbackground": true,
            "ticks": "",
            "zerolinecolor": "white"
           },
           "zaxis": {
            "backgroundcolor": "#E5ECF6",
            "gridcolor": "white",
            "gridwidth": 2,
            "linecolor": "white",
            "showbackground": true,
            "ticks": "",
            "zerolinecolor": "white"
           }
          },
          "shapedefaults": {
           "line": {
            "color": "#2a3f5f"
           }
          },
          "ternary": {
           "aaxis": {
            "gridcolor": "white",
            "linecolor": "white",
            "ticks": ""
           },
           "baxis": {
            "gridcolor": "white",
            "linecolor": "white",
            "ticks": ""
           },
           "bgcolor": "#E5ECF6",
           "caxis": {
            "gridcolor": "white",
            "linecolor": "white",
            "ticks": ""
           }
          },
          "title": {
           "x": 0.05
          },
          "xaxis": {
           "automargin": true,
           "gridcolor": "white",
           "linecolor": "white",
           "ticks": "",
           "title": {
            "standoff": 15
           },
           "zerolinecolor": "white",
           "zerolinewidth": 2
          },
          "yaxis": {
           "automargin": true,
           "gridcolor": "white",
           "linecolor": "white",
           "ticks": "",
           "title": {
            "standoff": 15
           },
           "zerolinecolor": "white",
           "zerolinewidth": 2
          }
         }
        },
        "title": {
         "text": "Package: core\\src\\main\\java\\org\\elasticsearch\\common"
        },
        "xaxis": {
         "anchor": "y",
         "categoryorder": "total descending",
         "domain": [
          0,
          1
         ],
         "title": {
          "text": "Authors"
         }
        },
        "yaxis": {
         "anchor": "x",
         "domain": [
          0,
          1
         ],
         "title": {
          "text": "Number of Lines"
         }
        }
       }
      }
     },
     "metadata": {},
     "output_type": "display_data"
    },
    {
     "data": {
      "application/vnd.plotly.v1+json": {
       "config": {
        "plotlyServerURL": "https://plot.ly"
       },
       "data": [
        {
         "alignmentgroup": "True",
         "hovertemplate": "x=%{x}<br>y=%{y}<extra></extra>",
         "legendgroup": "",
         "marker": {
          "color": "#636efa",
          "pattern": {
           "shape": ""
          }
         },
         "name": "",
         "offsetgroup": "",
         "orientation": "v",
         "showlegend": false,
         "textposition": "auto",
         "type": "bar",
         "x": [
          "Iarwa1n",
          "Ryan Ernst",
          "Robert Muir",
          "Alexander Reelsen",
          "Boaz Leskes",
          "uboness",
          "jaymode",
          "szroland",
          "Igor Motov",
          "Shay Banon",
          "Tanguy Leroux",
          "javanna",
          "Martijn van Groningen",
          "Areek Zillur",
          "Nik Everett",
          "Jason Tedor",
          "Adrien Grand",
          "Colin Goodheart-Smithe",
          "Dave Parfitt",
          "Simon Willnauer"
         ],
         "xaxis": "x",
         "y": [
          2,
          2,
          2,
          4,
          4,
          6,
          6,
          12,
          17,
          19,
          28,
          30,
          36,
          68,
          76,
          88,
          90,
          108,
          132,
          245
         ],
         "yaxis": "y"
        }
       ],
       "layout": {
        "barmode": "relative",
        "legend": {
         "tracegroupgap": 0
        },
        "margin": {
         "t": 60
        },
        "template": {
         "data": {
          "bar": [
           {
            "error_x": {
             "color": "#2a3f5f"
            },
            "error_y": {
             "color": "#2a3f5f"
            },
            "marker": {
             "line": {
              "color": "#E5ECF6",
              "width": 0.5
             },
             "pattern": {
              "fillmode": "overlay",
              "size": 10,
              "solidity": 0.2
             }
            },
            "type": "bar"
           }
          ],
          "barpolar": [
           {
            "marker": {
             "line": {
              "color": "#E5ECF6",
              "width": 0.5
             },
             "pattern": {
              "fillmode": "overlay",
              "size": 10,
              "solidity": 0.2
             }
            },
            "type": "barpolar"
           }
          ],
          "carpet": [
           {
            "aaxis": {
             "endlinecolor": "#2a3f5f",
             "gridcolor": "white",
             "linecolor": "white",
             "minorgridcolor": "white",
             "startlinecolor": "#2a3f5f"
            },
            "baxis": {
             "endlinecolor": "#2a3f5f",
             "gridcolor": "white",
             "linecolor": "white",
             "minorgridcolor": "white",
             "startlinecolor": "#2a3f5f"
            },
            "type": "carpet"
           }
          ],
          "choropleth": [
           {
            "colorbar": {
             "outlinewidth": 0,
             "ticks": ""
            },
            "type": "choropleth"
           }
          ],
          "contour": [
           {
            "colorbar": {
             "outlinewidth": 0,
             "ticks": ""
            },
            "colorscale": [
             [
              0,
              "#0d0887"
             ],
             [
              0.1111111111111111,
              "#46039f"
             ],
             [
              0.2222222222222222,
              "#7201a8"
             ],
             [
              0.3333333333333333,
              "#9c179e"
             ],
             [
              0.4444444444444444,
              "#bd3786"
             ],
             [
              0.5555555555555556,
              "#d8576b"
             ],
             [
              0.6666666666666666,
              "#ed7953"
             ],
             [
              0.7777777777777778,
              "#fb9f3a"
             ],
             [
              0.8888888888888888,
              "#fdca26"
             ],
             [
              1,
              "#f0f921"
             ]
            ],
            "type": "contour"
           }
          ],
          "contourcarpet": [
           {
            "colorbar": {
             "outlinewidth": 0,
             "ticks": ""
            },
            "type": "contourcarpet"
           }
          ],
          "heatmap": [
           {
            "colorbar": {
             "outlinewidth": 0,
             "ticks": ""
            },
            "colorscale": [
             [
              0,
              "#0d0887"
             ],
             [
              0.1111111111111111,
              "#46039f"
             ],
             [
              0.2222222222222222,
              "#7201a8"
             ],
             [
              0.3333333333333333,
              "#9c179e"
             ],
             [
              0.4444444444444444,
              "#bd3786"
             ],
             [
              0.5555555555555556,
              "#d8576b"
             ],
             [
              0.6666666666666666,
              "#ed7953"
             ],
             [
              0.7777777777777778,
              "#fb9f3a"
             ],
             [
              0.8888888888888888,
              "#fdca26"
             ],
             [
              1,
              "#f0f921"
             ]
            ],
            "type": "heatmap"
           }
          ],
          "heatmapgl": [
           {
            "colorbar": {
             "outlinewidth": 0,
             "ticks": ""
            },
            "colorscale": [
             [
              0,
              "#0d0887"
             ],
             [
              0.1111111111111111,
              "#46039f"
             ],
             [
              0.2222222222222222,
              "#7201a8"
             ],
             [
              0.3333333333333333,
              "#9c179e"
             ],
             [
              0.4444444444444444,
              "#bd3786"
             ],
             [
              0.5555555555555556,
              "#d8576b"
             ],
             [
              0.6666666666666666,
              "#ed7953"
             ],
             [
              0.7777777777777778,
              "#fb9f3a"
             ],
             [
              0.8888888888888888,
              "#fdca26"
             ],
             [
              1,
              "#f0f921"
             ]
            ],
            "type": "heatmapgl"
           }
          ],
          "histogram": [
           {
            "marker": {
             "pattern": {
              "fillmode": "overlay",
              "size": 10,
              "solidity": 0.2
             }
            },
            "type": "histogram"
           }
          ],
          "histogram2d": [
           {
            "colorbar": {
             "outlinewidth": 0,
             "ticks": ""
            },
            "colorscale": [
             [
              0,
              "#0d0887"
             ],
             [
              0.1111111111111111,
              "#46039f"
             ],
             [
              0.2222222222222222,
              "#7201a8"
             ],
             [
              0.3333333333333333,
              "#9c179e"
             ],
             [
              0.4444444444444444,
              "#bd3786"
             ],
             [
              0.5555555555555556,
              "#d8576b"
             ],
             [
              0.6666666666666666,
              "#ed7953"
             ],
             [
              0.7777777777777778,
              "#fb9f3a"
             ],
             [
              0.8888888888888888,
              "#fdca26"
             ],
             [
              1,
              "#f0f921"
             ]
            ],
            "type": "histogram2d"
           }
          ],
          "histogram2dcontour": [
           {
            "colorbar": {
             "outlinewidth": 0,
             "ticks": ""
            },
            "colorscale": [
             [
              0,
              "#0d0887"
             ],
             [
              0.1111111111111111,
              "#46039f"
             ],
             [
              0.2222222222222222,
              "#7201a8"
             ],
             [
              0.3333333333333333,
              "#9c179e"
             ],
             [
              0.4444444444444444,
              "#bd3786"
             ],
             [
              0.5555555555555556,
              "#d8576b"
             ],
             [
              0.6666666666666666,
              "#ed7953"
             ],
             [
              0.7777777777777778,
              "#fb9f3a"
             ],
             [
              0.8888888888888888,
              "#fdca26"
             ],
             [
              1,
              "#f0f921"
             ]
            ],
            "type": "histogram2dcontour"
           }
          ],
          "mesh3d": [
           {
            "colorbar": {
             "outlinewidth": 0,
             "ticks": ""
            },
            "type": "mesh3d"
           }
          ],
          "parcoords": [
           {
            "line": {
             "colorbar": {
              "outlinewidth": 0,
              "ticks": ""
             }
            },
            "type": "parcoords"
           }
          ],
          "pie": [
           {
            "automargin": true,
            "type": "pie"
           }
          ],
          "scatter": [
           {
            "fillpattern": {
             "fillmode": "overlay",
             "size": 10,
             "solidity": 0.2
            },
            "type": "scatter"
           }
          ],
          "scatter3d": [
           {
            "line": {
             "colorbar": {
              "outlinewidth": 0,
              "ticks": ""
             }
            },
            "marker": {
             "colorbar": {
              "outlinewidth": 0,
              "ticks": ""
             }
            },
            "type": "scatter3d"
           }
          ],
          "scattercarpet": [
           {
            "marker": {
             "colorbar": {
              "outlinewidth": 0,
              "ticks": ""
             }
            },
            "type": "scattercarpet"
           }
          ],
          "scattergeo": [
           {
            "marker": {
             "colorbar": {
              "outlinewidth": 0,
              "ticks": ""
             }
            },
            "type": "scattergeo"
           }
          ],
          "scattergl": [
           {
            "marker": {
             "colorbar": {
              "outlinewidth": 0,
              "ticks": ""
             }
            },
            "type": "scattergl"
           }
          ],
          "scattermapbox": [
           {
            "marker": {
             "colorbar": {
              "outlinewidth": 0,
              "ticks": ""
             }
            },
            "type": "scattermapbox"
           }
          ],
          "scatterpolar": [
           {
            "marker": {
             "colorbar": {
              "outlinewidth": 0,
              "ticks": ""
             }
            },
            "type": "scatterpolar"
           }
          ],
          "scatterpolargl": [
           {
            "marker": {
             "colorbar": {
              "outlinewidth": 0,
              "ticks": ""
             }
            },
            "type": "scatterpolargl"
           }
          ],
          "scatterternary": [
           {
            "marker": {
             "colorbar": {
              "outlinewidth": 0,
              "ticks": ""
             }
            },
            "type": "scatterternary"
           }
          ],
          "surface": [
           {
            "colorbar": {
             "outlinewidth": 0,
             "ticks": ""
            },
            "colorscale": [
             [
              0,
              "#0d0887"
             ],
             [
              0.1111111111111111,
              "#46039f"
             ],
             [
              0.2222222222222222,
              "#7201a8"
             ],
             [
              0.3333333333333333,
              "#9c179e"
             ],
             [
              0.4444444444444444,
              "#bd3786"
             ],
             [
              0.5555555555555556,
              "#d8576b"
             ],
             [
              0.6666666666666666,
              "#ed7953"
             ],
             [
              0.7777777777777778,
              "#fb9f3a"
             ],
             [
              0.8888888888888888,
              "#fdca26"
             ],
             [
              1,
              "#f0f921"
             ]
            ],
            "type": "surface"
           }
          ],
          "table": [
           {
            "cells": {
             "fill": {
              "color": "#EBF0F8"
             },
             "line": {
              "color": "white"
             }
            },
            "header": {
             "fill": {
              "color": "#C8D4E3"
             },
             "line": {
              "color": "white"
             }
            },
            "type": "table"
           }
          ]
         },
         "layout": {
          "annotationdefaults": {
           "arrowcolor": "#2a3f5f",
           "arrowhead": 0,
           "arrowwidth": 1
          },
          "autotypenumbers": "strict",
          "coloraxis": {
           "colorbar": {
            "outlinewidth": 0,
            "ticks": ""
           }
          },
          "colorscale": {
           "diverging": [
            [
             0,
             "#8e0152"
            ],
            [
             0.1,
             "#c51b7d"
            ],
            [
             0.2,
             "#de77ae"
            ],
            [
             0.3,
             "#f1b6da"
            ],
            [
             0.4,
             "#fde0ef"
            ],
            [
             0.5,
             "#f7f7f7"
            ],
            [
             0.6,
             "#e6f5d0"
            ],
            [
             0.7,
             "#b8e186"
            ],
            [
             0.8,
             "#7fbc41"
            ],
            [
             0.9,
             "#4d9221"
            ],
            [
             1,
             "#276419"
            ]
           ],
           "sequential": [
            [
             0,
             "#0d0887"
            ],
            [
             0.1111111111111111,
             "#46039f"
            ],
            [
             0.2222222222222222,
             "#7201a8"
            ],
            [
             0.3333333333333333,
             "#9c179e"
            ],
            [
             0.4444444444444444,
             "#bd3786"
            ],
            [
             0.5555555555555556,
             "#d8576b"
            ],
            [
             0.6666666666666666,
             "#ed7953"
            ],
            [
             0.7777777777777778,
             "#fb9f3a"
            ],
            [
             0.8888888888888888,
             "#fdca26"
            ],
            [
             1,
             "#f0f921"
            ]
           ],
           "sequentialminus": [
            [
             0,
             "#0d0887"
            ],
            [
             0.1111111111111111,
             "#46039f"
            ],
            [
             0.2222222222222222,
             "#7201a8"
            ],
            [
             0.3333333333333333,
             "#9c179e"
            ],
            [
             0.4444444444444444,
             "#bd3786"
            ],
            [
             0.5555555555555556,
             "#d8576b"
            ],
            [
             0.6666666666666666,
             "#ed7953"
            ],
            [
             0.7777777777777778,
             "#fb9f3a"
            ],
            [
             0.8888888888888888,
             "#fdca26"
            ],
            [
             1,
             "#f0f921"
            ]
           ]
          },
          "colorway": [
           "#636efa",
           "#EF553B",
           "#00cc96",
           "#ab63fa",
           "#FFA15A",
           "#19d3f3",
           "#FF6692",
           "#B6E880",
           "#FF97FF",
           "#FECB52"
          ],
          "font": {
           "color": "#2a3f5f"
          },
          "geo": {
           "bgcolor": "white",
           "lakecolor": "white",
           "landcolor": "#E5ECF6",
           "showlakes": true,
           "showland": true,
           "subunitcolor": "white"
          },
          "hoverlabel": {
           "align": "left"
          },
          "hovermode": "closest",
          "mapbox": {
           "style": "light"
          },
          "paper_bgcolor": "white",
          "plot_bgcolor": "#E5ECF6",
          "polar": {
           "angularaxis": {
            "gridcolor": "white",
            "linecolor": "white",
            "ticks": ""
           },
           "bgcolor": "#E5ECF6",
           "radialaxis": {
            "gridcolor": "white",
            "linecolor": "white",
            "ticks": ""
           }
          },
          "scene": {
           "xaxis": {
            "backgroundcolor": "#E5ECF6",
            "gridcolor": "white",
            "gridwidth": 2,
            "linecolor": "white",
            "showbackground": true,
            "ticks": "",
            "zerolinecolor": "white"
           },
           "yaxis": {
            "backgroundcolor": "#E5ECF6",
            "gridcolor": "white",
            "gridwidth": 2,
            "linecolor": "white",
            "showbackground": true,
            "ticks": "",
            "zerolinecolor": "white"
           },
           "zaxis": {
            "backgroundcolor": "#E5ECF6",
            "gridcolor": "white",
            "gridwidth": 2,
            "linecolor": "white",
            "showbackground": true,
            "ticks": "",
            "zerolinecolor": "white"
           }
          },
          "shapedefaults": {
           "line": {
            "color": "#2a3f5f"
           }
          },
          "ternary": {
           "aaxis": {
            "gridcolor": "white",
            "linecolor": "white",
            "ticks": ""
           },
           "baxis": {
            "gridcolor": "white",
            "linecolor": "white",
            "ticks": ""
           },
           "bgcolor": "#E5ECF6",
           "caxis": {
            "gridcolor": "white",
            "linecolor": "white",
            "ticks": ""
           }
          },
          "title": {
           "x": 0.05
          },
          "xaxis": {
           "automargin": true,
           "gridcolor": "white",
           "linecolor": "white",
           "ticks": "",
           "title": {
            "standoff": 15
           },
           "zerolinecolor": "white",
           "zerolinewidth": 2
          },
          "yaxis": {
           "automargin": true,
           "gridcolor": "white",
           "linecolor": "white",
           "ticks": "",
           "title": {
            "standoff": 15
           },
           "zerolinecolor": "white",
           "zerolinewidth": 2
          }
         }
        },
        "title": {
         "text": "Package: core\\src\\main\\java\\org\\elasticsearch\\rest"
        },
        "xaxis": {
         "anchor": "y",
         "categoryorder": "total descending",
         "domain": [
          0,
          1
         ],
         "title": {
          "text": "Authors"
         }
        },
        "yaxis": {
         "anchor": "x",
         "domain": [
          0,
          1
         ],
         "title": {
          "text": "Number of Lines"
         }
        }
       }
      }
     },
     "metadata": {},
     "output_type": "display_data"
    },
    {
     "data": {
      "application/vnd.plotly.v1+json": {
       "config": {
        "plotlyServerURL": "https://plot.ly"
       },
       "data": [
        {
         "alignmentgroup": "True",
         "hovertemplate": "x=%{x}<br>y=%{y}<extra></extra>",
         "legendgroup": "",
         "marker": {
          "color": "#636efa",
          "pattern": {
           "shape": ""
          }
         },
         "name": "",
         "offsetgroup": "",
         "orientation": "v",
         "showlegend": false,
         "textposition": "auto",
         "type": "bar",
         "x": [
          "Michael McCandless",
          "xuzha",
          "Nik Everett",
          "Britta Weber",
          "Masaru Hasegawa",
          "Robert Muir",
          "Tanguy Leroux",
          "Areek Zillur",
          "Nirmal Chidambaram",
          "Adrien Grand",
          "Alexander Reelsen",
          "Jason Tedor",
          "uboness",
          "Lee Hinman",
          "Igor Motov",
          "Boaz Leskes",
          "Ryan Ernst",
          "Shay Banon",
          "Martijn van Groningen",
          "Simon Willnauer"
         ],
         "xaxis": "x",
         "y": [
          2,
          2,
          3,
          7,
          10,
          12,
          14,
          34,
          40,
          46,
          88,
          88,
          94,
          218,
          319,
          808,
          1064,
          1541,
          2019,
          2605
         ],
         "yaxis": "y"
        }
       ],
       "layout": {
        "barmode": "relative",
        "legend": {
         "tracegroupgap": 0
        },
        "margin": {
         "t": 60
        },
        "template": {
         "data": {
          "bar": [
           {
            "error_x": {
             "color": "#2a3f5f"
            },
            "error_y": {
             "color": "#2a3f5f"
            },
            "marker": {
             "line": {
              "color": "#E5ECF6",
              "width": 0.5
             },
             "pattern": {
              "fillmode": "overlay",
              "size": 10,
              "solidity": 0.2
             }
            },
            "type": "bar"
           }
          ],
          "barpolar": [
           {
            "marker": {
             "line": {
              "color": "#E5ECF6",
              "width": 0.5
             },
             "pattern": {
              "fillmode": "overlay",
              "size": 10,
              "solidity": 0.2
             }
            },
            "type": "barpolar"
           }
          ],
          "carpet": [
           {
            "aaxis": {
             "endlinecolor": "#2a3f5f",
             "gridcolor": "white",
             "linecolor": "white",
             "minorgridcolor": "white",
             "startlinecolor": "#2a3f5f"
            },
            "baxis": {
             "endlinecolor": "#2a3f5f",
             "gridcolor": "white",
             "linecolor": "white",
             "minorgridcolor": "white",
             "startlinecolor": "#2a3f5f"
            },
            "type": "carpet"
           }
          ],
          "choropleth": [
           {
            "colorbar": {
             "outlinewidth": 0,
             "ticks": ""
            },
            "type": "choropleth"
           }
          ],
          "contour": [
           {
            "colorbar": {
             "outlinewidth": 0,
             "ticks": ""
            },
            "colorscale": [
             [
              0,
              "#0d0887"
             ],
             [
              0.1111111111111111,
              "#46039f"
             ],
             [
              0.2222222222222222,
              "#7201a8"
             ],
             [
              0.3333333333333333,
              "#9c179e"
             ],
             [
              0.4444444444444444,
              "#bd3786"
             ],
             [
              0.5555555555555556,
              "#d8576b"
             ],
             [
              0.6666666666666666,
              "#ed7953"
             ],
             [
              0.7777777777777778,
              "#fb9f3a"
             ],
             [
              0.8888888888888888,
              "#fdca26"
             ],
             [
              1,
              "#f0f921"
             ]
            ],
            "type": "contour"
           }
          ],
          "contourcarpet": [
           {
            "colorbar": {
             "outlinewidth": 0,
             "ticks": ""
            },
            "type": "contourcarpet"
           }
          ],
          "heatmap": [
           {
            "colorbar": {
             "outlinewidth": 0,
             "ticks": ""
            },
            "colorscale": [
             [
              0,
              "#0d0887"
             ],
             [
              0.1111111111111111,
              "#46039f"
             ],
             [
              0.2222222222222222,
              "#7201a8"
             ],
             [
              0.3333333333333333,
              "#9c179e"
             ],
             [
              0.4444444444444444,
              "#bd3786"
             ],
             [
              0.5555555555555556,
              "#d8576b"
             ],
             [
              0.6666666666666666,
              "#ed7953"
             ],
             [
              0.7777777777777778,
              "#fb9f3a"
             ],
             [
              0.8888888888888888,
              "#fdca26"
             ],
             [
              1,
              "#f0f921"
             ]
            ],
            "type": "heatmap"
           }
          ],
          "heatmapgl": [
           {
            "colorbar": {
             "outlinewidth": 0,
             "ticks": ""
            },
            "colorscale": [
             [
              0,
              "#0d0887"
             ],
             [
              0.1111111111111111,
              "#46039f"
             ],
             [
              0.2222222222222222,
              "#7201a8"
             ],
             [
              0.3333333333333333,
              "#9c179e"
             ],
             [
              0.4444444444444444,
              "#bd3786"
             ],
             [
              0.5555555555555556,
              "#d8576b"
             ],
             [
              0.6666666666666666,
              "#ed7953"
             ],
             [
              0.7777777777777778,
              "#fb9f3a"
             ],
             [
              0.8888888888888888,
              "#fdca26"
             ],
             [
              1,
              "#f0f921"
             ]
            ],
            "type": "heatmapgl"
           }
          ],
          "histogram": [
           {
            "marker": {
             "pattern": {
              "fillmode": "overlay",
              "size": 10,
              "solidity": 0.2
             }
            },
            "type": "histogram"
           }
          ],
          "histogram2d": [
           {
            "colorbar": {
             "outlinewidth": 0,
             "ticks": ""
            },
            "colorscale": [
             [
              0,
              "#0d0887"
             ],
             [
              0.1111111111111111,
              "#46039f"
             ],
             [
              0.2222222222222222,
              "#7201a8"
             ],
             [
              0.3333333333333333,
              "#9c179e"
             ],
             [
              0.4444444444444444,
              "#bd3786"
             ],
             [
              0.5555555555555556,
              "#d8576b"
             ],
             [
              0.6666666666666666,
              "#ed7953"
             ],
             [
              0.7777777777777778,
              "#fb9f3a"
             ],
             [
              0.8888888888888888,
              "#fdca26"
             ],
             [
              1,
              "#f0f921"
             ]
            ],
            "type": "histogram2d"
           }
          ],
          "histogram2dcontour": [
           {
            "colorbar": {
             "outlinewidth": 0,
             "ticks": ""
            },
            "colorscale": [
             [
              0,
              "#0d0887"
             ],
             [
              0.1111111111111111,
              "#46039f"
             ],
             [
              0.2222222222222222,
              "#7201a8"
             ],
             [
              0.3333333333333333,
              "#9c179e"
             ],
             [
              0.4444444444444444,
              "#bd3786"
             ],
             [
              0.5555555555555556,
              "#d8576b"
             ],
             [
              0.6666666666666666,
              "#ed7953"
             ],
             [
              0.7777777777777778,
              "#fb9f3a"
             ],
             [
              0.8888888888888888,
              "#fdca26"
             ],
             [
              1,
              "#f0f921"
             ]
            ],
            "type": "histogram2dcontour"
           }
          ],
          "mesh3d": [
           {
            "colorbar": {
             "outlinewidth": 0,
             "ticks": ""
            },
            "type": "mesh3d"
           }
          ],
          "parcoords": [
           {
            "line": {
             "colorbar": {
              "outlinewidth": 0,
              "ticks": ""
             }
            },
            "type": "parcoords"
           }
          ],
          "pie": [
           {
            "automargin": true,
            "type": "pie"
           }
          ],
          "scatter": [
           {
            "fillpattern": {
             "fillmode": "overlay",
             "size": 10,
             "solidity": 0.2
            },
            "type": "scatter"
           }
          ],
          "scatter3d": [
           {
            "line": {
             "colorbar": {
              "outlinewidth": 0,
              "ticks": ""
             }
            },
            "marker": {
             "colorbar": {
              "outlinewidth": 0,
              "ticks": ""
             }
            },
            "type": "scatter3d"
           }
          ],
          "scattercarpet": [
           {
            "marker": {
             "colorbar": {
              "outlinewidth": 0,
              "ticks": ""
             }
            },
            "type": "scattercarpet"
           }
          ],
          "scattergeo": [
           {
            "marker": {
             "colorbar": {
              "outlinewidth": 0,
              "ticks": ""
             }
            },
            "type": "scattergeo"
           }
          ],
          "scattergl": [
           {
            "marker": {
             "colorbar": {
              "outlinewidth": 0,
              "ticks": ""
             }
            },
            "type": "scattergl"
           }
          ],
          "scattermapbox": [
           {
            "marker": {
             "colorbar": {
              "outlinewidth": 0,
              "ticks": ""
             }
            },
            "type": "scattermapbox"
           }
          ],
          "scatterpolar": [
           {
            "marker": {
             "colorbar": {
              "outlinewidth": 0,
              "ticks": ""
             }
            },
            "type": "scatterpolar"
           }
          ],
          "scatterpolargl": [
           {
            "marker": {
             "colorbar": {
              "outlinewidth": 0,
              "ticks": ""
             }
            },
            "type": "scatterpolargl"
           }
          ],
          "scatterternary": [
           {
            "marker": {
             "colorbar": {
              "outlinewidth": 0,
              "ticks": ""
             }
            },
            "type": "scatterternary"
           }
          ],
          "surface": [
           {
            "colorbar": {
             "outlinewidth": 0,
             "ticks": ""
            },
            "colorscale": [
             [
              0,
              "#0d0887"
             ],
             [
              0.1111111111111111,
              "#46039f"
             ],
             [
              0.2222222222222222,
              "#7201a8"
             ],
             [
              0.3333333333333333,
              "#9c179e"
             ],
             [
              0.4444444444444444,
              "#bd3786"
             ],
             [
              0.5555555555555556,
              "#d8576b"
             ],
             [
              0.6666666666666666,
              "#ed7953"
             ],
             [
              0.7777777777777778,
              "#fb9f3a"
             ],
             [
              0.8888888888888888,
              "#fdca26"
             ],
             [
              1,
              "#f0f921"
             ]
            ],
            "type": "surface"
           }
          ],
          "table": [
           {
            "cells": {
             "fill": {
              "color": "#EBF0F8"
             },
             "line": {
              "color": "white"
             }
            },
            "header": {
             "fill": {
              "color": "#C8D4E3"
             },
             "line": {
              "color": "white"
             }
            },
            "type": "table"
           }
          ]
         },
         "layout": {
          "annotationdefaults": {
           "arrowcolor": "#2a3f5f",
           "arrowhead": 0,
           "arrowwidth": 1
          },
          "autotypenumbers": "strict",
          "coloraxis": {
           "colorbar": {
            "outlinewidth": 0,
            "ticks": ""
           }
          },
          "colorscale": {
           "diverging": [
            [
             0,
             "#8e0152"
            ],
            [
             0.1,
             "#c51b7d"
            ],
            [
             0.2,
             "#de77ae"
            ],
            [
             0.3,
             "#f1b6da"
            ],
            [
             0.4,
             "#fde0ef"
            ],
            [
             0.5,
             "#f7f7f7"
            ],
            [
             0.6,
             "#e6f5d0"
            ],
            [
             0.7,
             "#b8e186"
            ],
            [
             0.8,
             "#7fbc41"
            ],
            [
             0.9,
             "#4d9221"
            ],
            [
             1,
             "#276419"
            ]
           ],
           "sequential": [
            [
             0,
             "#0d0887"
            ],
            [
             0.1111111111111111,
             "#46039f"
            ],
            [
             0.2222222222222222,
             "#7201a8"
            ],
            [
             0.3333333333333333,
             "#9c179e"
            ],
            [
             0.4444444444444444,
             "#bd3786"
            ],
            [
             0.5555555555555556,
             "#d8576b"
            ],
            [
             0.6666666666666666,
             "#ed7953"
            ],
            [
             0.7777777777777778,
             "#fb9f3a"
            ],
            [
             0.8888888888888888,
             "#fdca26"
            ],
            [
             1,
             "#f0f921"
            ]
           ],
           "sequentialminus": [
            [
             0,
             "#0d0887"
            ],
            [
             0.1111111111111111,
             "#46039f"
            ],
            [
             0.2222222222222222,
             "#7201a8"
            ],
            [
             0.3333333333333333,
             "#9c179e"
            ],
            [
             0.4444444444444444,
             "#bd3786"
            ],
            [
             0.5555555555555556,
             "#d8576b"
            ],
            [
             0.6666666666666666,
             "#ed7953"
            ],
            [
             0.7777777777777778,
             "#fb9f3a"
            ],
            [
             0.8888888888888888,
             "#fdca26"
            ],
            [
             1,
             "#f0f921"
            ]
           ]
          },
          "colorway": [
           "#636efa",
           "#EF553B",
           "#00cc96",
           "#ab63fa",
           "#FFA15A",
           "#19d3f3",
           "#FF6692",
           "#B6E880",
           "#FF97FF",
           "#FECB52"
          ],
          "font": {
           "color": "#2a3f5f"
          },
          "geo": {
           "bgcolor": "white",
           "lakecolor": "white",
           "landcolor": "#E5ECF6",
           "showlakes": true,
           "showland": true,
           "subunitcolor": "white"
          },
          "hoverlabel": {
           "align": "left"
          },
          "hovermode": "closest",
          "mapbox": {
           "style": "light"
          },
          "paper_bgcolor": "white",
          "plot_bgcolor": "#E5ECF6",
          "polar": {
           "angularaxis": {
            "gridcolor": "white",
            "linecolor": "white",
            "ticks": ""
           },
           "bgcolor": "#E5ECF6",
           "radialaxis": {
            "gridcolor": "white",
            "linecolor": "white",
            "ticks": ""
           }
          },
          "scene": {
           "xaxis": {
            "backgroundcolor": "#E5ECF6",
            "gridcolor": "white",
            "gridwidth": 2,
            "linecolor": "white",
            "showbackground": true,
            "ticks": "",
            "zerolinecolor": "white"
           },
           "yaxis": {
            "backgroundcolor": "#E5ECF6",
            "gridcolor": "white",
            "gridwidth": 2,
            "linecolor": "white",
            "showbackground": true,
            "ticks": "",
            "zerolinecolor": "white"
           },
           "zaxis": {
            "backgroundcolor": "#E5ECF6",
            "gridcolor": "white",
            "gridwidth": 2,
            "linecolor": "white",
            "showbackground": true,
            "ticks": "",
            "zerolinecolor": "white"
           }
          },
          "shapedefaults": {
           "line": {
            "color": "#2a3f5f"
           }
          },
          "ternary": {
           "aaxis": {
            "gridcolor": "white",
            "linecolor": "white",
            "ticks": ""
           },
           "baxis": {
            "gridcolor": "white",
            "linecolor": "white",
            "ticks": ""
           },
           "bgcolor": "#E5ECF6",
           "caxis": {
            "gridcolor": "white",
            "linecolor": "white",
            "ticks": ""
           }
          },
          "title": {
           "x": 0.05
          },
          "xaxis": {
           "automargin": true,
           "gridcolor": "white",
           "linecolor": "white",
           "ticks": "",
           "title": {
            "standoff": 15
           },
           "zerolinecolor": "white",
           "zerolinewidth": 2
          },
          "yaxis": {
           "automargin": true,
           "gridcolor": "white",
           "linecolor": "white",
           "ticks": "",
           "title": {
            "standoff": 15
           },
           "zerolinecolor": "white",
           "zerolinewidth": 2
          }
         }
        },
        "title": {
         "text": "Package: core\\src\\main\\java\\org\\elasticsearch\\cluster"
        },
        "xaxis": {
         "anchor": "y",
         "categoryorder": "total descending",
         "domain": [
          0,
          1
         ],
         "title": {
          "text": "Authors"
         }
        },
        "yaxis": {
         "anchor": "x",
         "domain": [
          0,
          1
         ],
         "title": {
          "text": "Number of Lines"
         }
        }
       }
      }
     },
     "metadata": {},
     "output_type": "display_data"
    }
   ],
   "source": [
    "import plotly.express as px\n",
    "def graph_interactive(data, title):\n",
    "    # Sort the dictionary by values (number of lines)\n",
    "    sorted_data = dict(sorted(data.items(), key=lambda item: item[1]))\n",
    "\n",
    "    # Splitting the sorted dictionary into authors and lines\n",
    "    authors = list(sorted_data.keys())\n",
    "    lines = list(sorted_data.values())\n",
    "\n",
    "    # Creating an interactive bar chart using Plotly\n",
    "    fig = px.bar(x=authors, y=lines)\n",
    "    fig.update_layout(\n",
    "        title=title,\n",
    "        xaxis_title=\"Authors\",\n",
    "        yaxis_title=\"Number of Lines\",\n",
    "        xaxis={'categoryorder':'total descending'}\n",
    "    )\n",
    "    fig.show()\n",
    "\n",
    "\n",
    "for pack in packages:\n",
    "    graph_interactive(analysis_packages[pack][Modification.TOTAL], \"Package: \"+pack)\n"
   ]
  },
  {
   "cell_type": "markdown",
   "metadata": {},
   "source": [
    "As visible in the graphic, Simon Willnauer is the main contributor in all of these packages. Accorsing to controbutions the package 'cluster' has much more contributions than the other 2 packages."
   ]
  },
  {
   "cell_type": "markdown",
   "metadata": {},
   "source": [
    "## Task 2: Knowledge loss"
   ]
  },
  {
   "cell_type": "markdown",
   "id": "ff9eee63",
   "metadata": {},
   "source": [
    "We now want to analyze the knowledge loss when the main contributor of the analyzed project would leave. For this we will use the circle packaging layout introduced in the \"Code as a Crime Scene\" book. This assignment includes the necessary `knowledge_loss.html` file as well as the `d3` folder for all dependencies. Your task is to create the `output.json` file according to the specification below. This file can then be visualized with the files provided.\n",
    "\n",
    "For showing the visualization, once you have the output as `output.json` you should\n",
    "\n",
    "* make sure to have the `knowledge_loss.html` file in the same folder\n",
    "* start a local HTTP server in the same folder (e.g. with python `python3 -m http.server`) to serve the html file (necessary for d3 to work)\n",
    "* open the served `knowledge_loss.html` and look at the visualization\n",
    "\n",
    "Based on the visualization, comment on how is the project in terms of project loss and what could happen if the main contributor would leave.\n",
    "\n",
    "\n",
    "### Output Format for Visualization\n",
    "\n",
    "* `root` is always the root of the tree\n",
    "* `size` should be the total number of lines of contribution\n",
    "* `weight` can be set to the same as `size`\n",
    "* `ownership` should be set to the percentage of contributions from the main author (e.g. 0.98 for 98% if contributions coming from the main author)\n",
    "\n",
    "```\n",
    "{\n",
    "  \"name\": \"root\",\n",
    "  \"children\": [\n",
    "    {\n",
    "      \"name\": \"test\",\n",
    "      \"children\": [\n",
    "        {\n",
    "          \"name\": \"benchmarking\",\n",
    "          \"children\": [\n",
    "            {\n",
    "              \"author_color\": \"red\",\n",
    "              \"size\": \"4005\",\n",
    "              \"name\": \"t6726-patmat-analysis.scala\",\n",
    "              \"weight\": 1.0,\n",
    "              \"ownership\": 0.9,\n",
    "              \"children\": []\n",
    "            },\n",
    "            {\n",
    "              \"author_color\": \"red\",\n",
    "              \"size\": \"55\",\n",
    "              \"name\": \"TreeSetIterator.scala\",\n",
    "              \"weight\": 0.88,\n",
    "              \"ownership\": 0.9,\n",
    "              \"children\": []\n",
    "            }\n",
    "          ]\n",
    "        }\n",
    "      ]\n",
    "    }\n",
    "  ]\n",
    "}\n",
    "\n",
    "{\n",
    "  \"name\": \"root\",\n",
    "  \"children\": [\n",
    "    {\n",
    "      \"name\": \".settings\",\n",
    "      \"children\": [\n",
    "        {\n",
    "              \"name\": \"org.eclipse.core.resources.prefs\",\n",
    "              \"val1\": 0,\n",
    "              \"val2\": 6,\n",
    "              \"children\": []\n",
    "        },\n",
    "        {\n",
    "              \"name\": \"org.eclipse.jdt.core.prefs\",\n",
    "              \"val1\": 0,\n",
    "              \"val2\": 18,\n",
    "              \"children\": []\n",
    "        },\n",
    "      \n",
    "          ]\n",
    "        },\n",
    "        {\n",
    "      \"name\": \"core\",\n",
    "      \"children\": [\n",
    "          {\n",
    "                \"name\": \"license.txt\",\n",
    "                \"val1\": 0,\n",
    "                \"val2\": 6,\n",
    "                \"children\": []\n",
    "          },\n",
    "          {\n",
    "                \"name\": \"lsrc\",\n",
    "                \"children\": [\n",
    "                  {\n",
    "                        \"name\": \"core.prefs\",\n",
    "                        \"val1\": 0,\n",
    "                        \"val2\": 18,\n",
    "                        \"children\": []\n",
    "                  },\n",
    "                ]\n",
    "          },\n",
    "      \n",
    "          ]\n",
    "        }\n",
    "      ]\n",
    "    }\n",
    "  ]\n",
    "}\n",
    "```\n",
    "\n",
    "### JSON Export\n",
    "\n",
    "For exporting the data to JSON you can use the following snippet:\n",
    "\n",
    "```\n",
    "import json\n",
    "\n",
    "with open(\"output.json\", \"w\") as file:\n",
    "    json.dump(tree, file, indent=4)\n",
    "```"
   ]
  },
  {
   "cell_type": "code",
   "execution_count": 12,
   "metadata": {},
   "outputs": [],
   "source": [
    "# Determine the main contributor 0> look at github stats:) Shay Banon (kimchy)\n",
    "# UNIX was not tested!!!!\n",
    "import shlex\n",
    "def count_lines_total_and_by_authors(file_path, author_names):\n",
    "    if(os.getcwd() != repo_path):\n",
    "        raise ValueError(\"You must be in the repository folder to run this function\")\n",
    "    \n",
    "    os_type = platform.system()\n",
    "    # Create a grep pattern that matches any of the authors\n",
    "    \n",
    "\n",
    "    # needs system path \n",
    "    # Count total lines in the file\n",
    "    if os_type == 'Windows':\n",
    "        total_lines_cmd = f\"powershell -Command \\\"(Get-Content {file_path} | Measure-Object).Count\\\"\"\n",
    "    else:\n",
    "        total_lines_cmd = f\"wc -l < {file_path}\"\n",
    "\n",
    "    # print()\n",
    "    total_lines_result = subprocess.run(total_lines_cmd, shell=True, capture_output=True, text=True)\n",
    "    total_lines = int(total_lines_result.stdout.strip())\n",
    "\n",
    "    # remove repo path from file path  (fix the slash that is missint at the end of repopath, otherwise reative)\n",
    "    # FIX\n",
    "\n",
    "   \n",
    "    relative_file_path = file_path.replace((repo_path+\"\\\\\"), '')\n",
    "    # Count lines by authors\n",
    "\n",
    "    # needs relative path\n",
    "    if os_type == 'Windows':\n",
    "\n",
    "        patterns = ', '.join([f\"'author {author}'\" for author in author_names])\n",
    "        author_lines_cmd = f\"(git blame --line-porcelain {relative_file_path} | Select-String -Pattern {patterns}).Count\"\n",
    "        author_lines_cmd = f\"powershell -Command \\\"{author_lines_cmd}\\\"\"\n",
    "    else:\n",
    "        grep_pattern = '|'.join([f'^author {shlex.quote(author)}' for author in author_names])\n",
    "        # Unix-like systems: using grep with extended regex\n",
    "        author_lines_cmd = f\"git blame --line-porcelain {relative_file_path} | grep -E '{grep_pattern}' | wc -l\"\n",
    "\n",
    "    # print(author_lines_cmd)\n",
    "   \n",
    "    author_lines_result = subprocess.run(author_lines_cmd, shell=True, capture_output=True, text=True)\n",
    "    author_lines = int(author_lines_result.stdout.strip())\n",
    "    \n",
    "\n",
    "    return total_lines, author_lines"
   ]
  },
  {
   "cell_type": "code",
   "execution_count": null,
   "metadata": {},
   "outputs": [],
   "source": [
    "# Test function\n",
    "# fp = \"c:\\\\school\\\\schweiz_UNI\\\\fss\\\\fss-se1\\\\se2\\\\elasticsearch\\\\core\\\\src\\\\main\\\\java\\\\org\\\\elasticsearch\\\\Build.java\"\n",
    "# count_lines_total_and_by_authors(fp, [\"kimchy\", \"Shay Banon\"])"
   ]
  },
  {
   "cell_type": "code",
   "execution_count": 20,
   "metadata": {},
   "outputs": [
    {
     "name": "stderr",
     "output_type": "stream",
     "text": [
      "Analyzing files: 100%|██████████| 6059/6059 [1:58:06<00:00,  1.17s/file]   \n"
     ]
    }
   ],
   "source": [
    "\n",
    "gr = Git(repo_path)\n",
    "commit = gr.get_commit_from_tag(to_tag)\n",
    "gr.checkout(commit.hash)\n",
    "files = defaultdict(lambda: (0 ,0))\n",
    "i = 10\n",
    "# change into repo path\n",
    "os.chdir(repo_path)\n",
    "for file in tqdm(gr.files(), desc=\"Analyzing files\", unit=\"file\"):\n",
    "    # # lowercase first letter of filepath -> windows fix the file is returned with C not c as drive\n",
    "    file = file[0].lower() + file[1:]\n",
    "    total, kimchy = count_lines_total_and_by_authors(file, ['kimchy', 'Shay Banon'])\n",
    "    # print(file)\n",
    "    # print(total, kimchy)\n",
    "    file_relative = file.replace((repo_path+\"\\\\\"), '')\n",
    "    files[file_relative] = (total, kimchy)\n",
    "\n",
    "    # i -= 1\n",
    "    # if(i == 0):\n",
    "    #     break\n",
    "    \n",
    "os.chdir(\"..\")"
   ]
  },
  {
   "cell_type": "code",
   "execution_count": 26,
   "metadata": {},
   "outputs": [],
   "source": [
    "def build_json_structure(data):\n",
    "    def add_to_tree(base, parts, values):\n",
    "        for part in parts[:-1]:\n",
    "            found = next((item for item in base if item['name'] == part), None)\n",
    "            if not found:\n",
    "                new_node = {\"name\": part, \"children\": []}\n",
    "                base.append(new_node)\n",
    "                base = new_node['children']\n",
    "            else:\n",
    "                base = found['children']\n",
    "        \n",
    "        # Add the file as a child to the last directory\n",
    "        # values[0] -> total\n",
    "        # values[1] -> kimchy\n",
    "        to_append = {\n",
    "                    \"name\": parts[-1], \n",
    "                    \"author_color\": values[0] != 0 and (values[1]/values[0] > 0.5 and \"red\" or \"green\") or \"green\",\n",
    "                    \"size\": values[0], \n",
    "                    \"weight\": values[0],\n",
    "                    \"ownership\":  values[0] != 0 and values[1]/values[0] or 0\n",
    "                    }\n",
    "        base.append(to_append)\n",
    "\n",
    "    tree = {\"name\": \"root\", \"children\": []}\n",
    "    \n",
    "    # Sort the paths for easier processing\n",
    "    sorted_data = sorted(data.items())\n",
    "\n",
    "    for path, values in sorted_data:\n",
    "        parts = path.split('\\\\')\n",
    "        add_to_tree(tree['children'], parts, values)\n",
    "\n",
    "    return tree\n"
   ]
  },
  {
   "cell_type": "code",
   "execution_count": 27,
   "metadata": {},
   "outputs": [
    {
     "name": "stdout",
     "output_type": "stream",
     "text": [
      "Now run your local python server and open the knowledge_loss.html file in your browser\n",
      "http://localhost:8000/knowledge_loss.html\n"
     ]
    }
   ],
   "source": [
    "import os\n",
    "\n",
    "# Check if the JSON file already exists\n",
    "if os.path.exists(\"output.json\"):\n",
    "    overwrite = input(\"The JSON file already exists. Do you want to overwrite it? (y/n): \")\n",
    "    if overwrite.lower() != \"y\":\n",
    "        print(\"JSON file not overwritten. Exiting...\")\n",
    "        exit()\n",
    "\n",
    "# Generate JSON\n",
    "json_structure = build_json_structure(files)\n",
    "json_output = json.dumps(json_structure, indent=2)\n",
    "\n",
    "# Save JSON to file\n",
    "with open(\"output.json\", \"w\") as file:\n",
    "    file.write(json_output)\n",
    "\n",
    "print(\"Now run your local python server by `python3 -m http.server` and open the knowledge_loss.html file in your browser\")\n",
    "print(\"http://localhost:8000/knowledge_loss.html\")"
   ]
  },
  {
   "cell_type": "markdown",
   "metadata": {},
   "source": []
  },
  {
   "cell_type": "markdown",
   "metadata": {},
   "source": [
    "## Task 3: Code Churn Analysis"
   ]
  },
  {
   "cell_type": "markdown",
   "id": "6fe260b7",
   "metadata": {},
   "source": [
    "\n",
    "\n",
    "The third and last task is to analyze the code churn of the _elasticsearch_ project. For this analysis we look at the code churn, meaning the daily change in the total number of lines of the project.\n",
    "\n",
    "Visualize the code churn over time bucketing the data by day. Remember that you'll need to consider also the days when there are no commits.\n",
    "\n",
    "Look at the churn trend over time, identify one outlier, and for it:\n",
    "\n",
    "* investigate if it was caused by a single or multiple commits (since you are bucketing the data by day)\n",
    "* find the hash of the involved commit(s)\n",
    "* find the involved files, and for each file look at the number of lines added and/or deleted as well as the modification type (addition, deletion, modification, renaming)\n",
    "* look at the commit messages\n",
    "\n",
    "Based on the above, discuss the potential reasons for the outlier and if it should be a reason for concern."
   ]
  },
  {
   "cell_type": "markdown",
   "metadata": {},
   "source": [
    "### Generating the Timegraph"
   ]
  },
  {
   "cell_type": "code",
   "execution_count": 4,
   "id": "a1c94bca-d57f-48e8-9603-0061d372c0f3",
   "metadata": {},
   "outputs": [],
   "source": [
    "all_commits = [commit for commit in repo.traverse_commits()]"
   ]
  },
  {
   "cell_type": "code",
   "execution_count": 17,
   "metadata": {},
   "outputs": [
    {
     "name": "stderr",
     "output_type": "stream",
     "text": [
      "Analyzing commits:   0%|          | 0/1746 [00:00<?, ?commit/s]"
     ]
    },
    {
     "name": "stderr",
     "output_type": "stream",
     "text": [
      "Analyzing commits: 100%|██████████| 1746/1746 [04:23<00:00,  6.62commit/s]\n"
     ]
    }
   ],
   "source": [
    "progress = tqdm(total=len(all_commits), desc=\"Analyzing commits\", unit=\"commit\")\n",
    "\n",
    "analysis = {\n",
    "    'addition' : defaultdict(lambda: 0),\n",
    "    'deletion' : defaultdict(lambda: 0),\n",
    "}\n",
    "for commit in repo.traverse_commits():\n",
    "    date = commit.committer_date.strftime(\"%Y-%m-%d\") #use commiter_date othwesise there are also dates which are not in the data\n",
    "    analysis['addition'][date] += commit.insertions\n",
    "    analysis['deletion'][date] += commit.deletions\n",
    "\n",
    "    \n",
    "    progress.update(1)\n",
    "\n",
    "progress.close()\n"
   ]
  },
  {
   "cell_type": "code",
   "execution_count": 18,
   "metadata": {},
   "outputs": [],
   "source": [
    "# exlapolate the datatime series\n",
    "\n",
    "def exlaporate(serie, data_from, data_to):\n",
    "    # create a new dict with all the dates\n",
    "    # fill the gaps with 0\n",
    "    # add the data from the old dict\n",
    "    # return the new dict\n",
    "    new_serie = {}\n",
    "    for date in pd.date_range(data_from.date(), data_to.date()):\n",
    "        new_serie[date.strftime(\"%Y-%m-%d\")] = 0\n",
    "\n",
    "    for date, value in serie.items():\n",
    "        new_serie[date] = value\n",
    "    \n",
    "    return new_serie"
   ]
  },
  {
   "cell_type": "code",
   "execution_count": 19,
   "metadata": {},
   "outputs": [],
   "source": [
    "analysis_e = {}\n",
    "analysis_e['addition'] = exlaporate(analysis['addition'], since_time, to_time)\n",
    "analysis_e['deletion'] = exlaporate(analysis['deletion'], since_time, to_time)\n"
   ]
  },
  {
   "cell_type": "code",
   "execution_count": 20,
   "metadata": {},
   "outputs": [],
   "source": [
    "format=  '%Y-%m-%d'\n",
    "for set  in analysis_e:\n",
    "    prev_key = since_time.strftime(format)\n",
    "    for key, value in analysis_e[set].items():\n",
    "        if(datetime.strptime(key, format) < datetime.strptime(prev_key, format)):\n",
    "            assert False, \"The dates are not sorted\"\n",
    "        prev_key = key\n",
    "assert len(analysis_e['addition']) == len(analysis_e['deletion']), \"The length of the series is not the same\""
   ]
  },
  {
   "cell_type": "code",
   "execution_count": 63,
   "metadata": {},
   "outputs": [],
   "source": [
    "keys = list(analysis_e['addition'].keys())\n",
    "df = {}\n",
    "for i in keys:\n",
    "    df[i] = [analysis_e['addition'][i], analysis_e['deletion'][i]]\n",
    "df = pd.DataFrame(df).transpose()\n",
    "df.columns = ['addition', 'deletion']"
   ]
  },
  {
   "cell_type": "code",
   "execution_count": 24,
   "metadata": {},
   "outputs": [],
   "source": [
    "# Assuming 'df' is your DataFrame and it has 'addition' and 'deletion' columns\n",
    "def create_graph(df, important_days=[]):\n",
    "    datatimeseries = pd.to_datetime(df.index)\n",
    "\n",
    "    # Create subplots: one main plot and one subplot for an overview\n",
    "    fig = make_subplots(rows=1, cols=1)\n",
    "\n",
    "    # Add 'addition' trace\n",
    "    fig.add_trace(\n",
    "        go.Scatter(x=datatimeseries, y=df['addition'], mode='lines', name='Addition', line=dict(color='green')),\n",
    "    )\n",
    "\n",
    "    # Add 'deletion' trace\n",
    "    fig.add_trace(\n",
    "        go.Scatter(x=datatimeseries, y=df['deletion'], mode='lines', name='Deletion', line=dict(color='red')),\n",
    "    )\n",
    "\n",
    "    # Update layout\n",
    "    fig.update_layout(\n",
    "        height=600, width=800, title_text=\"Time Series Analysis (blue lines are the interesting days that are further analyzed)\",\n",
    "        xaxis=dict(\n",
    "            rangeselector=dict(\n",
    "                buttons=list([\n",
    "                    dict(count=1, label=\"1m\", step=\"month\", stepmode=\"backward\"),\n",
    "                    dict(count=6, label=\"6m\", step=\"month\", stepmode=\"backward\"),\n",
    "                    dict(step=\"all\")\n",
    "                ])\n",
    "            ),\n",
    "            rangeslider=dict(\n",
    "                visible=True\n",
    "            ),\n",
    "            type=\"date\",\n",
    "            tickformat=\"%Y-%m-%d\"\n",
    "        ),\n",
    "        xaxis_title=\"Time\",\n",
    "        yaxis_title=\"Values\"\n",
    "    )\n",
    "\n",
    "    # Highlight important days with vertical lines\n",
    "    for day in important_days:\n",
    "        if day in datatimeseries:\n",
    "            fig.add_shape(\n",
    "                go.layout.Shape(\n",
    "                    type=\"line\",\n",
    "                    x0=day,\n",
    "                    x1=day,\n",
    "                    y0=min(df['deletion'].min(), df['addition'].min()),\n",
    "                    y1=max(df['deletion'].max(), df['addition'].max()),\n",
    "                    line=dict(color='blue', width=2, dash=\"dash\"),\n",
    "                )\n",
    "            )\n",
    "\n",
    "    # Show the plot\n",
    "    fig.show()"
   ]
  },
  {
   "cell_type": "code",
   "execution_count": 61,
   "metadata": {},
   "outputs": [
    {
     "data": {
      "text/html": [
       "<div>\n",
       "<style scoped>\n",
       "    .dataframe tbody tr th:only-of-type {\n",
       "        vertical-align: middle;\n",
       "    }\n",
       "\n",
       "    .dataframe tbody tr th {\n",
       "        vertical-align: top;\n",
       "    }\n",
       "\n",
       "    .dataframe thead th {\n",
       "        text-align: right;\n",
       "    }\n",
       "</style>\n",
       "<table border=\"1\" class=\"dataframe\">\n",
       "  <thead>\n",
       "    <tr style=\"text-align: right;\">\n",
       "      <th></th>\n",
       "      <th>addition</th>\n",
       "      <th>deletion</th>\n",
       "      <th>total</th>\n",
       "    </tr>\n",
       "  </thead>\n",
       "  <tbody>\n",
       "    <tr>\n",
       "      <th>2015-06-13</th>\n",
       "      <td>236</td>\n",
       "      <td>8104</td>\n",
       "      <td>8340</td>\n",
       "    </tr>\n",
       "    <tr>\n",
       "      <th>2015-06-17</th>\n",
       "      <td>12470</td>\n",
       "      <td>2531</td>\n",
       "      <td>15001</td>\n",
       "    </tr>\n",
       "    <tr>\n",
       "      <th>2015-06-23</th>\n",
       "      <td>24314</td>\n",
       "      <td>1133</td>\n",
       "      <td>25447</td>\n",
       "    </tr>\n",
       "    <tr>\n",
       "      <th>2015-06-24</th>\n",
       "      <td>20299</td>\n",
       "      <td>8823</td>\n",
       "      <td>29122</td>\n",
       "    </tr>\n",
       "    <tr>\n",
       "      <th>2015-06-29</th>\n",
       "      <td>5544</td>\n",
       "      <td>4574</td>\n",
       "      <td>10118</td>\n",
       "    </tr>\n",
       "    <tr>\n",
       "      <th>2015-07-21</th>\n",
       "      <td>21873</td>\n",
       "      <td>3054</td>\n",
       "      <td>24927</td>\n",
       "    </tr>\n",
       "    <tr>\n",
       "      <th>2015-08-03</th>\n",
       "      <td>58452</td>\n",
       "      <td>22592</td>\n",
       "      <td>81044</td>\n",
       "    </tr>\n",
       "    <tr>\n",
       "      <th>2015-08-06</th>\n",
       "      <td>12803</td>\n",
       "      <td>5662</td>\n",
       "      <td>18465</td>\n",
       "    </tr>\n",
       "  </tbody>\n",
       "</table>\n",
       "</div>"
      ],
      "text/plain": [
       "            addition  deletion  total\n",
       "2015-06-13       236      8104   8340\n",
       "2015-06-17     12470      2531  15001\n",
       "2015-06-23     24314      1133  25447\n",
       "2015-06-24     20299      8823  29122\n",
       "2015-06-29      5544      4574  10118\n",
       "2015-07-21     21873      3054  24927\n",
       "2015-08-03     58452     22592  81044\n",
       "2015-08-06     12803      5662  18465"
      ]
     },
     "execution_count": 61,
     "metadata": {},
     "output_type": "execute_result"
    }
   ],
   "source": [
    "# Find the dates automatically -> less tideous (count together addition and deletions and find which days are more than 100% increase to previous days)\n",
    "def generate_outliners_df(analysis_e, method='mean'):\n",
    "    df_analysis = pd.DataFrame(analysis_e)\n",
    "    df_analysis['total'] = df_analysis['addition'] + df_analysis['deletion']\n",
    "\n",
    "    if(method == 'mean'):\n",
    "        mean_a = df_analysis['addition'].mean()*4\n",
    "        mean_d = df_analysis['deletion'].mean()*4\n",
    "        df_outliners = df_analysis[(df_analysis['addition'] > mean_a) | (df_analysis['deletion'] > mean_d)]\n",
    "        return df_outliners\n",
    "    \n",
    "    elif(method == 'rolling'):\n",
    "        df_analysis['rolling_total'] = df_analysis['total'].rolling(window=6).sum()\n",
    "        df_analysis['diff'] = df_analysis['total'].diff()\n",
    "\n",
    "        # divide diff by the prebious total\n",
    "        df_analysis['diff_relative'] = df_analysis['diff'] / df_analysis['rolling_total'].shift(1)\n",
    "\n",
    "        df_analysis.replace([np.inf, -np.inf], np.nan, inplace=True)\n",
    "        df_outliners = df_analysis[df_analysis['diff_relative'] > 0.5]\n",
    "\n",
    "        return df_outliners\n",
    "\n",
    "df_outliners = generate_outliners_df(analysis_e=analysis_e, method ='mean')\n",
    "outliner_days = df_outliners.index\n",
    "df_outliners"
   ]
  },
  {
   "cell_type": "code",
   "execution_count": 62,
   "metadata": {},
   "outputs": [
    {
     "data": {
      "application/vnd.plotly.v1+json": {
       "config": {
        "plotlyServerURL": "https://plot.ly"
       },
       "data": [
        {
         "line": {
          "color": "green"
         },
         "mode": "lines",
         "name": "Addition",
         "type": "scatter",
         "x": [
          "2015-06-09T00:00:00",
          "2015-06-10T00:00:00",
          "2015-06-11T00:00:00",
          "2015-06-12T00:00:00",
          "2015-06-13T00:00:00",
          "2015-06-14T00:00:00",
          "2015-06-15T00:00:00",
          "2015-06-16T00:00:00",
          "2015-06-17T00:00:00",
          "2015-06-18T00:00:00",
          "2015-06-19T00:00:00",
          "2015-06-20T00:00:00",
          "2015-06-21T00:00:00",
          "2015-06-22T00:00:00",
          "2015-06-23T00:00:00",
          "2015-06-24T00:00:00",
          "2015-06-25T00:00:00",
          "2015-06-26T00:00:00",
          "2015-06-27T00:00:00",
          "2015-06-28T00:00:00",
          "2015-06-29T00:00:00",
          "2015-06-30T00:00:00",
          "2015-07-01T00:00:00",
          "2015-07-02T00:00:00",
          "2015-07-03T00:00:00",
          "2015-07-04T00:00:00",
          "2015-07-05T00:00:00",
          "2015-07-06T00:00:00",
          "2015-07-07T00:00:00",
          "2015-07-08T00:00:00",
          "2015-07-09T00:00:00",
          "2015-07-10T00:00:00",
          "2015-07-11T00:00:00",
          "2015-07-12T00:00:00",
          "2015-07-13T00:00:00",
          "2015-07-14T00:00:00",
          "2015-07-15T00:00:00",
          "2015-07-16T00:00:00",
          "2015-07-17T00:00:00",
          "2015-07-18T00:00:00",
          "2015-07-19T00:00:00",
          "2015-07-20T00:00:00",
          "2015-07-21T00:00:00",
          "2015-07-22T00:00:00",
          "2015-07-23T00:00:00",
          "2015-07-24T00:00:00",
          "2015-07-25T00:00:00",
          "2015-07-26T00:00:00",
          "2015-07-27T00:00:00",
          "2015-07-28T00:00:00",
          "2015-07-29T00:00:00",
          "2015-07-30T00:00:00",
          "2015-07-31T00:00:00",
          "2015-08-01T00:00:00",
          "2015-08-02T00:00:00",
          "2015-08-03T00:00:00",
          "2015-08-04T00:00:00",
          "2015-08-05T00:00:00",
          "2015-08-06T00:00:00",
          "2015-08-07T00:00:00",
          "2015-08-08T00:00:00",
          "2015-08-09T00:00:00",
          "2015-08-10T00:00:00",
          "2015-08-11T00:00:00",
          "2015-08-12T00:00:00",
          "2015-08-13T00:00:00",
          "2015-08-14T00:00:00",
          "2015-08-15T00:00:00",
          "2015-08-16T00:00:00",
          "2015-08-17T00:00:00",
          "2015-08-18T00:00:00",
          "2015-08-19T00:00:00",
          "2015-08-20T00:00:00",
          "2015-08-21T00:00:00",
          "2015-08-22T00:00:00",
          "2015-08-23T00:00:00",
          "2015-08-24T00:00:00",
          "2015-08-25T00:00:00",
          "2015-08-26T00:00:00",
          "2015-08-27T00:00:00",
          "2015-08-28T00:00:00",
          "2015-08-29T00:00:00",
          "2015-08-30T00:00:00",
          "2015-08-31T00:00:00",
          "2015-09-01T00:00:00",
          "2015-09-02T00:00:00",
          "2015-09-03T00:00:00",
          "2015-09-04T00:00:00",
          "2015-09-05T00:00:00",
          "2015-09-06T00:00:00",
          "2015-09-07T00:00:00",
          "2015-09-08T00:00:00",
          "2015-09-09T00:00:00",
          "2015-09-10T00:00:00",
          "2015-09-11T00:00:00",
          "2015-09-12T00:00:00",
          "2015-09-13T00:00:00",
          "2015-09-14T00:00:00",
          "2015-09-15T00:00:00",
          "2015-09-16T00:00:00",
          "2015-09-17T00:00:00",
          "2015-09-18T00:00:00",
          "2015-09-19T00:00:00",
          "2015-09-20T00:00:00",
          "2015-09-21T00:00:00",
          "2015-09-22T00:00:00",
          "2015-09-23T00:00:00",
          "2015-09-24T00:00:00",
          "2015-09-25T00:00:00",
          "2015-09-26T00:00:00",
          "2015-09-27T00:00:00",
          "2015-09-28T00:00:00",
          "2015-09-29T00:00:00",
          "2015-09-30T00:00:00",
          "2015-10-01T00:00:00",
          "2015-10-02T00:00:00",
          "2015-10-03T00:00:00",
          "2015-10-04T00:00:00",
          "2015-10-05T00:00:00",
          "2015-10-06T00:00:00",
          "2015-10-07T00:00:00",
          "2015-10-08T00:00:00",
          "2015-10-09T00:00:00",
          "2015-10-10T00:00:00",
          "2015-10-11T00:00:00",
          "2015-10-12T00:00:00",
          "2015-10-13T00:00:00",
          "2015-10-14T00:00:00",
          "2015-10-15T00:00:00",
          "2015-10-16T00:00:00",
          "2015-10-17T00:00:00",
          "2015-10-18T00:00:00",
          "2015-10-19T00:00:00",
          "2015-10-20T00:00:00",
          "2015-10-21T00:00:00"
         ],
         "y": [
          5688,
          384,
          1379,
          2589,
          236,
          31,
          1483,
          1188,
          12470,
          1618,
          1293,
          0,
          21,
          3352,
          24314,
          20299,
          1842,
          573,
          19,
          0,
          5544,
          5543,
          4342,
          961,
          597,
          0,
          6,
          1761,
          8519,
          8356,
          601,
          6660,
          38,
          3,
          419,
          1672,
          3290,
          2713,
          526,
          10,
          44,
          3053,
          21873,
          900,
          1346,
          4720,
          10,
          4,
          2832,
          145,
          2183,
          1153,
          569,
          337,
          27,
          58452,
          1050,
          2242,
          12803,
          2187,
          2,
          252,
          5520,
          2401,
          7727,
          2966,
          4113,
          4411,
          4,
          806,
          782,
          1859,
          1376,
          1720,
          211,
          0,
          640,
          698,
          515,
          703,
          740,
          2871,
          82,
          702,
          1492,
          2310,
          1075,
          332,
          0,
          0,
          210,
          1160,
          619,
          266,
          401,
          0,
          74,
          260,
          482,
          560,
          565,
          32,
          10,
          0,
          276,
          88,
          314,
          21,
          749,
          0,
          0,
          526,
          146,
          138,
          15,
          77,
          17,
          0,
          38,
          321,
          1931,
          814,
          12,
          0,
          0,
          154,
          551,
          789,
          6,
          5,
          0,
          0,
          41,
          46,
          344
         ]
        },
        {
         "line": {
          "color": "red"
         },
         "mode": "lines",
         "name": "Deletion",
         "type": "scatter",
         "x": [
          "2015-06-09T00:00:00",
          "2015-06-10T00:00:00",
          "2015-06-11T00:00:00",
          "2015-06-12T00:00:00",
          "2015-06-13T00:00:00",
          "2015-06-14T00:00:00",
          "2015-06-15T00:00:00",
          "2015-06-16T00:00:00",
          "2015-06-17T00:00:00",
          "2015-06-18T00:00:00",
          "2015-06-19T00:00:00",
          "2015-06-20T00:00:00",
          "2015-06-21T00:00:00",
          "2015-06-22T00:00:00",
          "2015-06-23T00:00:00",
          "2015-06-24T00:00:00",
          "2015-06-25T00:00:00",
          "2015-06-26T00:00:00",
          "2015-06-27T00:00:00",
          "2015-06-28T00:00:00",
          "2015-06-29T00:00:00",
          "2015-06-30T00:00:00",
          "2015-07-01T00:00:00",
          "2015-07-02T00:00:00",
          "2015-07-03T00:00:00",
          "2015-07-04T00:00:00",
          "2015-07-05T00:00:00",
          "2015-07-06T00:00:00",
          "2015-07-07T00:00:00",
          "2015-07-08T00:00:00",
          "2015-07-09T00:00:00",
          "2015-07-10T00:00:00",
          "2015-07-11T00:00:00",
          "2015-07-12T00:00:00",
          "2015-07-13T00:00:00",
          "2015-07-14T00:00:00",
          "2015-07-15T00:00:00",
          "2015-07-16T00:00:00",
          "2015-07-17T00:00:00",
          "2015-07-18T00:00:00",
          "2015-07-19T00:00:00",
          "2015-07-20T00:00:00",
          "2015-07-21T00:00:00",
          "2015-07-22T00:00:00",
          "2015-07-23T00:00:00",
          "2015-07-24T00:00:00",
          "2015-07-25T00:00:00",
          "2015-07-26T00:00:00",
          "2015-07-27T00:00:00",
          "2015-07-28T00:00:00",
          "2015-07-29T00:00:00",
          "2015-07-30T00:00:00",
          "2015-07-31T00:00:00",
          "2015-08-01T00:00:00",
          "2015-08-02T00:00:00",
          "2015-08-03T00:00:00",
          "2015-08-04T00:00:00",
          "2015-08-05T00:00:00",
          "2015-08-06T00:00:00",
          "2015-08-07T00:00:00",
          "2015-08-08T00:00:00",
          "2015-08-09T00:00:00",
          "2015-08-10T00:00:00",
          "2015-08-11T00:00:00",
          "2015-08-12T00:00:00",
          "2015-08-13T00:00:00",
          "2015-08-14T00:00:00",
          "2015-08-15T00:00:00",
          "2015-08-16T00:00:00",
          "2015-08-17T00:00:00",
          "2015-08-18T00:00:00",
          "2015-08-19T00:00:00",
          "2015-08-20T00:00:00",
          "2015-08-21T00:00:00",
          "2015-08-22T00:00:00",
          "2015-08-23T00:00:00",
          "2015-08-24T00:00:00",
          "2015-08-25T00:00:00",
          "2015-08-26T00:00:00",
          "2015-08-27T00:00:00",
          "2015-08-28T00:00:00",
          "2015-08-29T00:00:00",
          "2015-08-30T00:00:00",
          "2015-08-31T00:00:00",
          "2015-09-01T00:00:00",
          "2015-09-02T00:00:00",
          "2015-09-03T00:00:00",
          "2015-09-04T00:00:00",
          "2015-09-05T00:00:00",
          "2015-09-06T00:00:00",
          "2015-09-07T00:00:00",
          "2015-09-08T00:00:00",
          "2015-09-09T00:00:00",
          "2015-09-10T00:00:00",
          "2015-09-11T00:00:00",
          "2015-09-12T00:00:00",
          "2015-09-13T00:00:00",
          "2015-09-14T00:00:00",
          "2015-09-15T00:00:00",
          "2015-09-16T00:00:00",
          "2015-09-17T00:00:00",
          "2015-09-18T00:00:00",
          "2015-09-19T00:00:00",
          "2015-09-20T00:00:00",
          "2015-09-21T00:00:00",
          "2015-09-22T00:00:00",
          "2015-09-23T00:00:00",
          "2015-09-24T00:00:00",
          "2015-09-25T00:00:00",
          "2015-09-26T00:00:00",
          "2015-09-27T00:00:00",
          "2015-09-28T00:00:00",
          "2015-09-29T00:00:00",
          "2015-09-30T00:00:00",
          "2015-10-01T00:00:00",
          "2015-10-02T00:00:00",
          "2015-10-03T00:00:00",
          "2015-10-04T00:00:00",
          "2015-10-05T00:00:00",
          "2015-10-06T00:00:00",
          "2015-10-07T00:00:00",
          "2015-10-08T00:00:00",
          "2015-10-09T00:00:00",
          "2015-10-10T00:00:00",
          "2015-10-11T00:00:00",
          "2015-10-12T00:00:00",
          "2015-10-13T00:00:00",
          "2015-10-14T00:00:00",
          "2015-10-15T00:00:00",
          "2015-10-16T00:00:00",
          "2015-10-17T00:00:00",
          "2015-10-18T00:00:00",
          "2015-10-19T00:00:00",
          "2015-10-20T00:00:00",
          "2015-10-21T00:00:00"
         ],
         "y": [
          2233,
          2737,
          2008,
          329,
          8104,
          20,
          1915,
          436,
          2531,
          817,
          1050,
          0,
          13,
          3775,
          1133,
          8823,
          493,
          1222,
          16,
          0,
          4574,
          2588,
          3234,
          900,
          1813,
          0,
          5,
          1651,
          3446,
          3028,
          465,
          1650,
          1,
          0,
          280,
          3582,
          767,
          1156,
          1122,
          7,
          8,
          1597,
          3054,
          1408,
          1535,
          1331,
          6,
          0,
          1333,
          29,
          334,
          352,
          151,
          451,
          4,
          22592,
          2396,
          700,
          5662,
          1429,
          2,
          213,
          2660,
          1082,
          3541,
          2002,
          2575,
          3583,
          4,
          671,
          356,
          2070,
          683,
          1382,
          68,
          0,
          152,
          1739,
          390,
          401,
          255,
          1787,
          18,
          559,
          838,
          1976,
          1736,
          49,
          0,
          0,
          123,
          580,
          241,
          330,
          201,
          0,
          46,
          64,
          191,
          265,
          363,
          7,
          9,
          0,
          1595,
          379,
          65,
          5,
          270,
          0,
          0,
          242,
          35,
          48,
          18,
          23,
          4,
          0,
          8,
          91,
          683,
          287,
          4,
          0,
          0,
          24,
          161,
          171,
          2,
          5,
          0,
          0,
          46,
          5,
          261
         ]
        }
       ],
       "layout": {
        "height": 600,
        "shapes": [
         {
          "line": {
           "color": "blue",
           "dash": "dash",
           "width": 2
          },
          "type": "line",
          "x0": "2015-06-13",
          "x1": "2015-06-13",
          "y0": 0,
          "y1": 58452
         },
         {
          "line": {
           "color": "blue",
           "dash": "dash",
           "width": 2
          },
          "type": "line",
          "x0": "2015-06-17",
          "x1": "2015-06-17",
          "y0": 0,
          "y1": 58452
         },
         {
          "line": {
           "color": "blue",
           "dash": "dash",
           "width": 2
          },
          "type": "line",
          "x0": "2015-06-23",
          "x1": "2015-06-23",
          "y0": 0,
          "y1": 58452
         },
         {
          "line": {
           "color": "blue",
           "dash": "dash",
           "width": 2
          },
          "type": "line",
          "x0": "2015-06-24",
          "x1": "2015-06-24",
          "y0": 0,
          "y1": 58452
         },
         {
          "line": {
           "color": "blue",
           "dash": "dash",
           "width": 2
          },
          "type": "line",
          "x0": "2015-06-29",
          "x1": "2015-06-29",
          "y0": 0,
          "y1": 58452
         },
         {
          "line": {
           "color": "blue",
           "dash": "dash",
           "width": 2
          },
          "type": "line",
          "x0": "2015-07-21",
          "x1": "2015-07-21",
          "y0": 0,
          "y1": 58452
         },
         {
          "line": {
           "color": "blue",
           "dash": "dash",
           "width": 2
          },
          "type": "line",
          "x0": "2015-08-03",
          "x1": "2015-08-03",
          "y0": 0,
          "y1": 58452
         },
         {
          "line": {
           "color": "blue",
           "dash": "dash",
           "width": 2
          },
          "type": "line",
          "x0": "2015-08-06",
          "x1": "2015-08-06",
          "y0": 0,
          "y1": 58452
         }
        ],
        "template": {
         "data": {
          "bar": [
           {
            "error_x": {
             "color": "#2a3f5f"
            },
            "error_y": {
             "color": "#2a3f5f"
            },
            "marker": {
             "line": {
              "color": "#E5ECF6",
              "width": 0.5
             },
             "pattern": {
              "fillmode": "overlay",
              "size": 10,
              "solidity": 0.2
             }
            },
            "type": "bar"
           }
          ],
          "barpolar": [
           {
            "marker": {
             "line": {
              "color": "#E5ECF6",
              "width": 0.5
             },
             "pattern": {
              "fillmode": "overlay",
              "size": 10,
              "solidity": 0.2
             }
            },
            "type": "barpolar"
           }
          ],
          "carpet": [
           {
            "aaxis": {
             "endlinecolor": "#2a3f5f",
             "gridcolor": "white",
             "linecolor": "white",
             "minorgridcolor": "white",
             "startlinecolor": "#2a3f5f"
            },
            "baxis": {
             "endlinecolor": "#2a3f5f",
             "gridcolor": "white",
             "linecolor": "white",
             "minorgridcolor": "white",
             "startlinecolor": "#2a3f5f"
            },
            "type": "carpet"
           }
          ],
          "choropleth": [
           {
            "colorbar": {
             "outlinewidth": 0,
             "ticks": ""
            },
            "type": "choropleth"
           }
          ],
          "contour": [
           {
            "colorbar": {
             "outlinewidth": 0,
             "ticks": ""
            },
            "colorscale": [
             [
              0,
              "#0d0887"
             ],
             [
              0.1111111111111111,
              "#46039f"
             ],
             [
              0.2222222222222222,
              "#7201a8"
             ],
             [
              0.3333333333333333,
              "#9c179e"
             ],
             [
              0.4444444444444444,
              "#bd3786"
             ],
             [
              0.5555555555555556,
              "#d8576b"
             ],
             [
              0.6666666666666666,
              "#ed7953"
             ],
             [
              0.7777777777777778,
              "#fb9f3a"
             ],
             [
              0.8888888888888888,
              "#fdca26"
             ],
             [
              1,
              "#f0f921"
             ]
            ],
            "type": "contour"
           }
          ],
          "contourcarpet": [
           {
            "colorbar": {
             "outlinewidth": 0,
             "ticks": ""
            },
            "type": "contourcarpet"
           }
          ],
          "heatmap": [
           {
            "colorbar": {
             "outlinewidth": 0,
             "ticks": ""
            },
            "colorscale": [
             [
              0,
              "#0d0887"
             ],
             [
              0.1111111111111111,
              "#46039f"
             ],
             [
              0.2222222222222222,
              "#7201a8"
             ],
             [
              0.3333333333333333,
              "#9c179e"
             ],
             [
              0.4444444444444444,
              "#bd3786"
             ],
             [
              0.5555555555555556,
              "#d8576b"
             ],
             [
              0.6666666666666666,
              "#ed7953"
             ],
             [
              0.7777777777777778,
              "#fb9f3a"
             ],
             [
              0.8888888888888888,
              "#fdca26"
             ],
             [
              1,
              "#f0f921"
             ]
            ],
            "type": "heatmap"
           }
          ],
          "heatmapgl": [
           {
            "colorbar": {
             "outlinewidth": 0,
             "ticks": ""
            },
            "colorscale": [
             [
              0,
              "#0d0887"
             ],
             [
              0.1111111111111111,
              "#46039f"
             ],
             [
              0.2222222222222222,
              "#7201a8"
             ],
             [
              0.3333333333333333,
              "#9c179e"
             ],
             [
              0.4444444444444444,
              "#bd3786"
             ],
             [
              0.5555555555555556,
              "#d8576b"
             ],
             [
              0.6666666666666666,
              "#ed7953"
             ],
             [
              0.7777777777777778,
              "#fb9f3a"
             ],
             [
              0.8888888888888888,
              "#fdca26"
             ],
             [
              1,
              "#f0f921"
             ]
            ],
            "type": "heatmapgl"
           }
          ],
          "histogram": [
           {
            "marker": {
             "pattern": {
              "fillmode": "overlay",
              "size": 10,
              "solidity": 0.2
             }
            },
            "type": "histogram"
           }
          ],
          "histogram2d": [
           {
            "colorbar": {
             "outlinewidth": 0,
             "ticks": ""
            },
            "colorscale": [
             [
              0,
              "#0d0887"
             ],
             [
              0.1111111111111111,
              "#46039f"
             ],
             [
              0.2222222222222222,
              "#7201a8"
             ],
             [
              0.3333333333333333,
              "#9c179e"
             ],
             [
              0.4444444444444444,
              "#bd3786"
             ],
             [
              0.5555555555555556,
              "#d8576b"
             ],
             [
              0.6666666666666666,
              "#ed7953"
             ],
             [
              0.7777777777777778,
              "#fb9f3a"
             ],
             [
              0.8888888888888888,
              "#fdca26"
             ],
             [
              1,
              "#f0f921"
             ]
            ],
            "type": "histogram2d"
           }
          ],
          "histogram2dcontour": [
           {
            "colorbar": {
             "outlinewidth": 0,
             "ticks": ""
            },
            "colorscale": [
             [
              0,
              "#0d0887"
             ],
             [
              0.1111111111111111,
              "#46039f"
             ],
             [
              0.2222222222222222,
              "#7201a8"
             ],
             [
              0.3333333333333333,
              "#9c179e"
             ],
             [
              0.4444444444444444,
              "#bd3786"
             ],
             [
              0.5555555555555556,
              "#d8576b"
             ],
             [
              0.6666666666666666,
              "#ed7953"
             ],
             [
              0.7777777777777778,
              "#fb9f3a"
             ],
             [
              0.8888888888888888,
              "#fdca26"
             ],
             [
              1,
              "#f0f921"
             ]
            ],
            "type": "histogram2dcontour"
           }
          ],
          "mesh3d": [
           {
            "colorbar": {
             "outlinewidth": 0,
             "ticks": ""
            },
            "type": "mesh3d"
           }
          ],
          "parcoords": [
           {
            "line": {
             "colorbar": {
              "outlinewidth": 0,
              "ticks": ""
             }
            },
            "type": "parcoords"
           }
          ],
          "pie": [
           {
            "automargin": true,
            "type": "pie"
           }
          ],
          "scatter": [
           {
            "fillpattern": {
             "fillmode": "overlay",
             "size": 10,
             "solidity": 0.2
            },
            "type": "scatter"
           }
          ],
          "scatter3d": [
           {
            "line": {
             "colorbar": {
              "outlinewidth": 0,
              "ticks": ""
             }
            },
            "marker": {
             "colorbar": {
              "outlinewidth": 0,
              "ticks": ""
             }
            },
            "type": "scatter3d"
           }
          ],
          "scattercarpet": [
           {
            "marker": {
             "colorbar": {
              "outlinewidth": 0,
              "ticks": ""
             }
            },
            "type": "scattercarpet"
           }
          ],
          "scattergeo": [
           {
            "marker": {
             "colorbar": {
              "outlinewidth": 0,
              "ticks": ""
             }
            },
            "type": "scattergeo"
           }
          ],
          "scattergl": [
           {
            "marker": {
             "colorbar": {
              "outlinewidth": 0,
              "ticks": ""
             }
            },
            "type": "scattergl"
           }
          ],
          "scattermapbox": [
           {
            "marker": {
             "colorbar": {
              "outlinewidth": 0,
              "ticks": ""
             }
            },
            "type": "scattermapbox"
           }
          ],
          "scatterpolar": [
           {
            "marker": {
             "colorbar": {
              "outlinewidth": 0,
              "ticks": ""
             }
            },
            "type": "scatterpolar"
           }
          ],
          "scatterpolargl": [
           {
            "marker": {
             "colorbar": {
              "outlinewidth": 0,
              "ticks": ""
             }
            },
            "type": "scatterpolargl"
           }
          ],
          "scatterternary": [
           {
            "marker": {
             "colorbar": {
              "outlinewidth": 0,
              "ticks": ""
             }
            },
            "type": "scatterternary"
           }
          ],
          "surface": [
           {
            "colorbar": {
             "outlinewidth": 0,
             "ticks": ""
            },
            "colorscale": [
             [
              0,
              "#0d0887"
             ],
             [
              0.1111111111111111,
              "#46039f"
             ],
             [
              0.2222222222222222,
              "#7201a8"
             ],
             [
              0.3333333333333333,
              "#9c179e"
             ],
             [
              0.4444444444444444,
              "#bd3786"
             ],
             [
              0.5555555555555556,
              "#d8576b"
             ],
             [
              0.6666666666666666,
              "#ed7953"
             ],
             [
              0.7777777777777778,
              "#fb9f3a"
             ],
             [
              0.8888888888888888,
              "#fdca26"
             ],
             [
              1,
              "#f0f921"
             ]
            ],
            "type": "surface"
           }
          ],
          "table": [
           {
            "cells": {
             "fill": {
              "color": "#EBF0F8"
             },
             "line": {
              "color": "white"
             }
            },
            "header": {
             "fill": {
              "color": "#C8D4E3"
             },
             "line": {
              "color": "white"
             }
            },
            "type": "table"
           }
          ]
         },
         "layout": {
          "annotationdefaults": {
           "arrowcolor": "#2a3f5f",
           "arrowhead": 0,
           "arrowwidth": 1
          },
          "autotypenumbers": "strict",
          "coloraxis": {
           "colorbar": {
            "outlinewidth": 0,
            "ticks": ""
           }
          },
          "colorscale": {
           "diverging": [
            [
             0,
             "#8e0152"
            ],
            [
             0.1,
             "#c51b7d"
            ],
            [
             0.2,
             "#de77ae"
            ],
            [
             0.3,
             "#f1b6da"
            ],
            [
             0.4,
             "#fde0ef"
            ],
            [
             0.5,
             "#f7f7f7"
            ],
            [
             0.6,
             "#e6f5d0"
            ],
            [
             0.7,
             "#b8e186"
            ],
            [
             0.8,
             "#7fbc41"
            ],
            [
             0.9,
             "#4d9221"
            ],
            [
             1,
             "#276419"
            ]
           ],
           "sequential": [
            [
             0,
             "#0d0887"
            ],
            [
             0.1111111111111111,
             "#46039f"
            ],
            [
             0.2222222222222222,
             "#7201a8"
            ],
            [
             0.3333333333333333,
             "#9c179e"
            ],
            [
             0.4444444444444444,
             "#bd3786"
            ],
            [
             0.5555555555555556,
             "#d8576b"
            ],
            [
             0.6666666666666666,
             "#ed7953"
            ],
            [
             0.7777777777777778,
             "#fb9f3a"
            ],
            [
             0.8888888888888888,
             "#fdca26"
            ],
            [
             1,
             "#f0f921"
            ]
           ],
           "sequentialminus": [
            [
             0,
             "#0d0887"
            ],
            [
             0.1111111111111111,
             "#46039f"
            ],
            [
             0.2222222222222222,
             "#7201a8"
            ],
            [
             0.3333333333333333,
             "#9c179e"
            ],
            [
             0.4444444444444444,
             "#bd3786"
            ],
            [
             0.5555555555555556,
             "#d8576b"
            ],
            [
             0.6666666666666666,
             "#ed7953"
            ],
            [
             0.7777777777777778,
             "#fb9f3a"
            ],
            [
             0.8888888888888888,
             "#fdca26"
            ],
            [
             1,
             "#f0f921"
            ]
           ]
          },
          "colorway": [
           "#636efa",
           "#EF553B",
           "#00cc96",
           "#ab63fa",
           "#FFA15A",
           "#19d3f3",
           "#FF6692",
           "#B6E880",
           "#FF97FF",
           "#FECB52"
          ],
          "font": {
           "color": "#2a3f5f"
          },
          "geo": {
           "bgcolor": "white",
           "lakecolor": "white",
           "landcolor": "#E5ECF6",
           "showlakes": true,
           "showland": true,
           "subunitcolor": "white"
          },
          "hoverlabel": {
           "align": "left"
          },
          "hovermode": "closest",
          "mapbox": {
           "style": "light"
          },
          "paper_bgcolor": "white",
          "plot_bgcolor": "#E5ECF6",
          "polar": {
           "angularaxis": {
            "gridcolor": "white",
            "linecolor": "white",
            "ticks": ""
           },
           "bgcolor": "#E5ECF6",
           "radialaxis": {
            "gridcolor": "white",
            "linecolor": "white",
            "ticks": ""
           }
          },
          "scene": {
           "xaxis": {
            "backgroundcolor": "#E5ECF6",
            "gridcolor": "white",
            "gridwidth": 2,
            "linecolor": "white",
            "showbackground": true,
            "ticks": "",
            "zerolinecolor": "white"
           },
           "yaxis": {
            "backgroundcolor": "#E5ECF6",
            "gridcolor": "white",
            "gridwidth": 2,
            "linecolor": "white",
            "showbackground": true,
            "ticks": "",
            "zerolinecolor": "white"
           },
           "zaxis": {
            "backgroundcolor": "#E5ECF6",
            "gridcolor": "white",
            "gridwidth": 2,
            "linecolor": "white",
            "showbackground": true,
            "ticks": "",
            "zerolinecolor": "white"
           }
          },
          "shapedefaults": {
           "line": {
            "color": "#2a3f5f"
           }
          },
          "ternary": {
           "aaxis": {
            "gridcolor": "white",
            "linecolor": "white",
            "ticks": ""
           },
           "baxis": {
            "gridcolor": "white",
            "linecolor": "white",
            "ticks": ""
           },
           "bgcolor": "#E5ECF6",
           "caxis": {
            "gridcolor": "white",
            "linecolor": "white",
            "ticks": ""
           }
          },
          "title": {
           "x": 0.05
          },
          "xaxis": {
           "automargin": true,
           "gridcolor": "white",
           "linecolor": "white",
           "ticks": "",
           "title": {
            "standoff": 15
           },
           "zerolinecolor": "white",
           "zerolinewidth": 2
          },
          "yaxis": {
           "automargin": true,
           "gridcolor": "white",
           "linecolor": "white",
           "ticks": "",
           "title": {
            "standoff": 15
           },
           "zerolinecolor": "white",
           "zerolinewidth": 2
          }
         }
        },
        "title": {
         "text": "Time Series Analysis with Zoomed Out Option"
        },
        "width": 800,
        "xaxis": {
         "anchor": "y",
         "domain": [
          0,
          1
         ],
         "rangeselector": {
          "buttons": [
           {
            "count": 1,
            "label": "1m",
            "step": "month",
            "stepmode": "backward"
           },
           {
            "count": 6,
            "label": "6m",
            "step": "month",
            "stepmode": "backward"
           },
           {
            "step": "all"
           }
          ]
         },
         "rangeslider": {
          "visible": true
         },
         "tickformat": "%Y-%m-%d",
         "title": {
          "text": "Time"
         },
         "type": "date"
        },
        "yaxis": {
         "anchor": "x",
         "domain": [
          0,
          1
         ],
         "title": {
          "text": "Values"
         }
        }
       }
      }
     },
     "metadata": {},
     "output_type": "display_data"
    }
   ],
   "source": [
    "# display the previous graph with filtered days displayed as important\n",
    "create_graph(df, important_days=df_outliners.index)"
   ]
  },
  {
   "cell_type": "markdown",
   "metadata": {},
   "source": [
    "### Deep dive2hotspots"
   ]
  },
  {
   "cell_type": "code",
   "execution_count": 75,
   "metadata": {},
   "outputs": [
    {
     "name": "stderr",
     "output_type": "stream",
     "text": [
      "Analyzing commits: 100%|██████████| 8/8 [00:43<00:00,  5.39s/day]\n"
     ]
    }
   ],
   "source": [
    "# Create 2 arrays -> one for files, one for commits for important days\n",
    "commit_data = []        \n",
    "files_in_important_days = []     \n",
    "\n",
    "\n",
    "# Iterate over each day and commit\n",
    "for day in tqdm(outliner_days, 'Analyzing commits', unit='day'):\n",
    "    commit_count = 0\n",
    "\n",
    "    for commit in all_commits:\n",
    "        if commit.committer_date.strftime(\"%Y-%m-%d\") == day:\n",
    "            modified_files = 0\n",
    "            modified_lines = 0\n",
    "            for file in commit.modified_files:\n",
    "                files_in_important_days.append({\n",
    "                    'Date': commit.committer_date.strftime(\"%Y-%m-%d\"), \n",
    "                    'Commit_Hash': commit.hash, 'File': file.filename, \n",
    "                    'Additions': file.added_lines, 'Deletions': file.deleted_lines, \n",
    "                    'Total': file.added_lines + file.deleted_lines,\n",
    "                    'Modification_Type': file.change_type.name,\n",
    "                    'nloc': file.nloc,\n",
    "                    })\n",
    "                \n",
    "                modified_files += 1\n",
    "                modified_lines += file.added_lines + file.deleted_lines\n",
    "\n",
    "            commit_data.append({'Date': day, 'Commit_Hash': commit.hash, 'Modified_Files': modified_files, 'Modified_Lines': modified_lines})\n",
    "            commit_count += 1\n",
    "\n",
    "# Convert the list to a DataFrame\n",
    "commit_df = pd.DataFrame(commit_data)\n",
    "files_in_important_days_df = pd.DataFrame(files_in_important_days)"
   ]
  },
  {
   "cell_type": "code",
   "execution_count": null,
   "metadata": {},
   "outputs": [],
   "source": [
    "# Function to investigate the commits of a specific day\n",
    "summary = commit_df.groupby('Date').agg(\n",
    "    Total_Commits=pd.NamedAgg(column='Commit_Hash', aggfunc='count'),\n",
    "    Total_Modified_Files=pd.NamedAgg(column='Modified_Files', aggfunc='sum'),\n",
    "    Total_Modified_Lines=pd.NamedAgg(column='Modified_Lines', aggfunc='sum')\n",
    ")\n",
    "# Display the summary\n",
    "print(summary)\n",
    "\n",
    "# select subframe for each day, sort by largest modified lines/commit and select so many that 75% of the total changes are covered\n",
    "# it can only help to understand the changes, but not to find the most important commits\n",
    "def get_most_important_commits_per_day(df, day):\n",
    "    df = commit_df[commit_df['Date'] == day]\n",
    "    df_day = df[df['Date'] == day]\n",
    "    df_day = df_day.sort_values(by=['Modified_Lines'], ascending=False)\n",
    "    df_day['cumsum'] = df_day['Modified_Lines'].cumsum()\n",
    "    df_day['cumsum_percentage'] = df_day['cumsum'] / df_day['Modified_Lines'].sum()\n",
    "    df_day = df_day[df_day['cumsum_percentage'] <= 0.75]\n",
    "    return df_day\n",
    "\n",
    "get_most_important_commits_per_day(commit_df, '2015-08-03')"
   ]
  },
  {
   "cell_type": "code",
   "execution_count": 68,
   "metadata": {},
   "outputs": [],
   "source": [
    "# create graph with the data get each file each day and create small graphics for each day's top files accross all commits\n",
    "# try to explain 75% of all lines\n",
    "def get_most_important_files_per_day(dataframe, day):\n",
    "    df = dataframe[dataframe['Date'] == day]\n",
    "    df = df.sort_values(by=['Total'], ascending=False)\n",
    "    df['cumsum'] = df['Total'].cumsum()\n",
    "    df['cumsum_percentage'] = df['cumsum'] / df['Total'].sum()\n",
    "\n",
    "    #Uncomment followinf if you want to see the files that cover 75% of the changes\n",
    "    df = df[df['cumsum_percentage'] <= 0.75]\n",
    "    # # if there are more than 30 files select first 30\n",
    "    # if(len(df) > 30):\n",
    "    #     df = df.head(30)\n",
    "    \n",
    "    return df"
   ]
  },
  {
   "cell_type": "code",
   "execution_count": 69,
   "metadata": {},
   "outputs": [
    {
     "data": {
      "application/vnd.plotly.v1+json": {
       "config": {
        "plotlyServerURL": "https://plot.ly"
       },
       "data": [
        {
         "marker": {
          "color": "green"
         },
         "name": "Additions",
         "type": "bar",
         "x": [
          "UpdateTests.java",
          "ScriptedMetricTests.java",
          "IndexLookupTests.java",
          "SimpleSortTests.java",
          "RangeTests.java",
          "DateRangeTests.java",
          "DateHistogramTests.java",
          "IPv4RangeTests.java",
          "StringTermsTests.java",
          "DoubleTermsTests.java",
          "TemplateQueryTest.java",
          "BulkTests.java",
          "LongTermsTests.java",
          "HistogramTests.java",
          "ScriptedMetricBuilder.java",
          "FunctionScoreTests.java",
          "InternalEngineTests.java"
         ],
         "xaxis": "x",
         "y": [
          0,
          0,
          0,
          0,
          0,
          0,
          0,
          0,
          0,
          0,
          0,
          0,
          0,
          0,
          0,
          1,
          111
         ],
         "yaxis": "y"
        },
        {
         "marker": {
          "color": "red"
         },
         "name": "Deletions",
         "type": "bar",
         "x": [
          "UpdateTests.java",
          "ScriptedMetricTests.java",
          "IndexLookupTests.java",
          "SimpleSortTests.java",
          "RangeTests.java",
          "DateRangeTests.java",
          "DateHistogramTests.java",
          "IPv4RangeTests.java",
          "StringTermsTests.java",
          "DoubleTermsTests.java",
          "TemplateQueryTest.java",
          "BulkTests.java",
          "LongTermsTests.java",
          "HistogramTests.java",
          "ScriptedMetricBuilder.java",
          "FunctionScoreTests.java",
          "InternalEngineTests.java"
         ],
         "xaxis": "x",
         "y": [
          732,
          660,
          501,
          487,
          387,
          378,
          374,
          356,
          318,
          290,
          279,
          274,
          257,
          251,
          242,
          241,
          107
         ],
         "yaxis": "y"
        },
        {
         "marker": {
          "color": "green"
         },
         "name": "Additions",
         "type": "bar",
         "x": [
          "lucene-LICENSE.txt",
          "DeleteByQueryTests.java",
          "TransportDeleteByQueryActionTests.java",
          "TransportDeleteByQueryAction.java",
          "DeleteByQueryRequest.java",
          "hppc-LICENSE.txt",
          "joda-time-LICENSE.txt",
          "spatial4j-LICENSE.txt",
          "t-digest-LICENSE.txt",
          "joda-convert-LICENSE.txt",
          "commons-cli-LICENSE.txt",
          "groovy-all-LICENSE-CLI.txt",
          "commons-lang3-LICENSE.txt",
          "netty-LICENSE.txt",
          "apache-log4j-extras-LICENSE",
          "log4j-LICENSE",
          "guava-LICENSE.txt",
          "DeleteByQueryResponse.java",
          "sigar-LICENSE.txt",
          "lucene-NOTICE.txt",
          "check_license_and_sha.pl",
          "DeleteByQueryRequestBuilder.java",
          "jna-LICENSE.txt",
          "snakeyaml-LICENSE.txt",
          "IndexDeleteByQueryResponseTests.java"
         ],
         "xaxis": "x2",
         "y": [
          475,
          445,
          429,
          328,
          260,
          203,
          202,
          202,
          202,
          202,
          202,
          202,
          202,
          202,
          202,
          202,
          202,
          201,
          201,
          191,
          182,
          178,
          177,
          176,
          166
         ],
         "yaxis": "y2"
        },
        {
         "marker": {
          "color": "red"
         },
         "name": "Deletions",
         "type": "bar",
         "x": [
          "lucene-LICENSE.txt",
          "DeleteByQueryTests.java",
          "TransportDeleteByQueryActionTests.java",
          "TransportDeleteByQueryAction.java",
          "DeleteByQueryRequest.java",
          "hppc-LICENSE.txt",
          "joda-time-LICENSE.txt",
          "spatial4j-LICENSE.txt",
          "t-digest-LICENSE.txt",
          "joda-convert-LICENSE.txt",
          "commons-cli-LICENSE.txt",
          "groovy-all-LICENSE-CLI.txt",
          "commons-lang3-LICENSE.txt",
          "netty-LICENSE.txt",
          "apache-log4j-extras-LICENSE",
          "log4j-LICENSE",
          "guava-LICENSE.txt",
          "DeleteByQueryResponse.java",
          "sigar-LICENSE.txt",
          "lucene-NOTICE.txt",
          "check_license_and_sha.pl",
          "DeleteByQueryRequestBuilder.java",
          "jna-LICENSE.txt",
          "snakeyaml-LICENSE.txt",
          "IndexDeleteByQueryResponseTests.java"
         ],
         "xaxis": "x2",
         "y": [
          0,
          0,
          0,
          0,
          0,
          0,
          0,
          0,
          0,
          0,
          0,
          0,
          0,
          0,
          0,
          0,
          0,
          0,
          0,
          0,
          0,
          0,
          0,
          0,
          0
         ],
         "yaxis": "y2"
        },
        {
         "marker": {
          "color": "green"
         },
         "name": "Additions",
         "type": "bar",
         "x": [
          "azure-LICENSE.txt",
          "jaxb-LICENSE.txt",
          "SnapshotShardsService.java",
          "lucene-LICENSE.txt",
          "lucene-LICENSE.txt",
          "lucene-LICENSE.txt",
          "lucene-LICENSE.txt",
          "lucene-LICENSE.txt",
          "SnapshotsService.java",
          "rhino-LICENSE.txt",
          "jersey-LICENSE.txt",
          "LICENSE.txt",
          "LICENSE.txt",
          "LICENSE.txt",
          "guava-LICENSE.txt",
          "LICENSE.txt",
          "LICENSE.txt",
          "mail-LICENSE.txt",
          "LICENSE.txt",
          "LICENSE.txt",
          "stax-LICENSE.txt",
          "LICENSE.txt",
          "javax.inject-LICENSE.txt",
          "commons-lang3-LICENSE.txt",
          "joda-time-LICENSE.txt",
          "LICENSE.txt",
          "commons-logging-LICENSE.txt",
          "commons-codec-LICENSE.txt",
          "LICENSE.txt",
          "LICENSE.txt",
          "google-LICENSE.txt",
          "jython-standalone-LICENSE.txt"
         ],
         "xaxis": "x3",
         "y": [
          1565,
          705,
          524,
          475,
          475,
          475,
          475,
          475,
          18,
          375,
          274,
          202,
          202,
          202,
          202,
          202,
          202,
          202,
          202,
          202,
          202,
          202,
          202,
          202,
          202,
          202,
          202,
          202,
          202,
          202,
          201,
          201
         ],
         "yaxis": "y3"
        },
        {
         "marker": {
          "color": "red"
         },
         "name": "Deletions",
         "type": "bar",
         "x": [
          "azure-LICENSE.txt",
          "jaxb-LICENSE.txt",
          "SnapshotShardsService.java",
          "lucene-LICENSE.txt",
          "lucene-LICENSE.txt",
          "lucene-LICENSE.txt",
          "lucene-LICENSE.txt",
          "lucene-LICENSE.txt",
          "SnapshotsService.java",
          "rhino-LICENSE.txt",
          "jersey-LICENSE.txt",
          "LICENSE.txt",
          "LICENSE.txt",
          "LICENSE.txt",
          "guava-LICENSE.txt",
          "LICENSE.txt",
          "LICENSE.txt",
          "mail-LICENSE.txt",
          "LICENSE.txt",
          "LICENSE.txt",
          "stax-LICENSE.txt",
          "LICENSE.txt",
          "javax.inject-LICENSE.txt",
          "commons-lang3-LICENSE.txt",
          "joda-time-LICENSE.txt",
          "LICENSE.txt",
          "commons-logging-LICENSE.txt",
          "commons-codec-LICENSE.txt",
          "LICENSE.txt",
          "LICENSE.txt",
          "google-LICENSE.txt",
          "jython-standalone-LICENSE.txt"
         ],
         "xaxis": "x3",
         "y": [
          0,
          0,
          0,
          0,
          0,
          0,
          0,
          0,
          440,
          0,
          0,
          0,
          0,
          0,
          0,
          0,
          0,
          0,
          0,
          0,
          0,
          0,
          0,
          0,
          0,
          0,
          0,
          0,
          0,
          0,
          0,
          0
         ],
         "yaxis": "y3"
        },
        {
         "marker": {
          "color": "green"
         },
         "name": "Additions",
         "type": "bar",
         "x": [
          "ShardRouting.java",
          "ImmutableShardRouting.java",
          "StoreRecoveryService.java",
          "IndexShardGateway.java",
          "IndexShardGatewayService.java",
          "MutableShardRouting.java",
          "RoutingNodes.java",
          "SearchSlowLog.java",
          "IndexShardSnapshotAndRestoreService.java",
          "ShardGetService.java",
          "ShardRoutingTests.java",
          "IndexingSlowLog.java",
          "SearchFieldsTests.java",
          "XContentMapValuesTests.java",
          "SearchService.java",
          "SnapshotShardsService.java",
          "BalancedShardsAllocator.java",
          "IndexShard.java",
          "GetActionTests.java",
          "FieldsVisitor.java",
          "UidAndRoutingFieldsVisitor.java",
          "ShardFilterCache.java",
          "XContentMapValuesTests.java",
          "InternalEngineTests.java",
          "UidAndSourceFieldsVisitor.java",
          "IgnoreGatewayRecoveryException.java",
          "RoutingNode.java",
          "AllocationService.java",
          "JustSourceFieldsVisitor.java",
          "IndexShardGatewayException.java",
          "IndexShardGatewayRecoveryException.java",
          "IndexDynamicSettingsModule.java",
          "MultiSearchResponse.java"
         ],
         "xaxis": "x4",
         "y": [
          471,
          0,
          337,
          0,
          0,
          0,
          73,
          67,
          0,
          67,
          125,
          46,
          77,
          85,
          38,
          59,
          33,
          32,
          50,
          55,
          0,
          0,
          40,
          17,
          0,
          0,
          19,
          19,
          0,
          0,
          0,
          18,
          27
         ],
         "yaxis": "y4"
        },
        {
         "marker": {
          "color": "red"
         },
         "name": "Deletions",
         "type": "bar",
         "x": [
          "ShardRouting.java",
          "ImmutableShardRouting.java",
          "StoreRecoveryService.java",
          "IndexShardGateway.java",
          "IndexShardGatewayService.java",
          "MutableShardRouting.java",
          "RoutingNodes.java",
          "SearchSlowLog.java",
          "IndexShardSnapshotAndRestoreService.java",
          "ShardGetService.java",
          "ShardRoutingTests.java",
          "IndexingSlowLog.java",
          "SearchFieldsTests.java",
          "XContentMapValuesTests.java",
          "SearchService.java",
          "SnapshotShardsService.java",
          "BalancedShardsAllocator.java",
          "IndexShard.java",
          "GetActionTests.java",
          "FieldsVisitor.java",
          "UidAndRoutingFieldsVisitor.java",
          "ShardFilterCache.java",
          "XContentMapValuesTests.java",
          "InternalEngineTests.java",
          "UidAndSourceFieldsVisitor.java",
          "IgnoreGatewayRecoveryException.java",
          "RoutingNode.java",
          "AllocationService.java",
          "JustSourceFieldsVisitor.java",
          "IndexShardGatewayException.java",
          "IndexShardGatewayRecoveryException.java",
          "IndexDynamicSettingsModule.java",
          "MultiSearchResponse.java"
         ],
         "xaxis": "x4",
         "y": [
          41,
          396,
          0,
          192,
          174,
          160,
          73,
          78,
          140,
          59,
          0,
          58,
          16,
          0,
          30,
          8,
          33,
          28,
          10,
          4,
          57,
          54,
          12,
          31,
          41,
          39,
          19,
          19,
          37,
          37,
          37,
          18,
          8
         ],
         "yaxis": "y4"
        },
        {
         "marker": {
          "color": "green"
         },
         "name": "Additions",
         "type": "bar",
         "x": [
          "jsr166e-LICENSE",
          "IndicesQueryCache.java",
          "IndicesRequestCache.java",
          "Mockito.java",
          "IndicesFilterCache.java",
          "FilterCacheStats.java",
          "IndexStatsTests.java",
          "PluginServiceTests.java",
          "RequestCacheStats.java",
          "QueryCacheStats.java",
          "pom.xml",
          "JarHell.java",
          "Bootstrap.java",
          "PluginLuceneCheckerTests.java"
         ],
         "xaxis": "x5",
         "y": [
          1050,
          231,
          503,
          367,
          0,
          0,
          77,
          0,
          113,
          78,
          107,
          102,
          94,
          0
         ],
         "yaxis": "y5"
        },
        {
         "marker": {
          "color": "red"
         },
         "name": "Deletions",
         "type": "bar",
         "x": [
          "jsr166e-LICENSE",
          "IndicesQueryCache.java",
          "IndicesRequestCache.java",
          "Mockito.java",
          "IndicesFilterCache.java",
          "FilterCacheStats.java",
          "IndexStatsTests.java",
          "PluginServiceTests.java",
          "RequestCacheStats.java",
          "QueryCacheStats.java",
          "pom.xml",
          "JarHell.java",
          "Bootstrap.java",
          "PluginLuceneCheckerTests.java"
         ],
         "xaxis": "x5",
         "y": [
          0,
          382,
          0,
          0,
          308,
          162,
          77,
          123,
          0,
          29,
          0,
          0,
          0,
          85
         ],
         "yaxis": "y5"
        },
        {
         "marker": {
          "color": "green"
         },
         "name": "Additions",
         "type": "bar",
         "x": [
          "Zip.pm",
          "Extract.pm",
          "Member.pm",
          "Archive.pm",
          "Ar.pm",
          "PluginManagerTests.java",
          "ZipFileMember.pm",
          "MemberRead.pm",
          "FAQ.pod"
         ],
         "xaxis": "x6",
         "y": [
          2136,
          1694,
          1247,
          1020,
          806,
          232,
          416,
          348,
          344
         ],
         "yaxis": "y6"
        },
        {
         "marker": {
          "color": "red"
         },
         "name": "Deletions",
         "type": "bar",
         "x": [
          "Zip.pm",
          "Extract.pm",
          "Member.pm",
          "Archive.pm",
          "Ar.pm",
          "PluginManagerTests.java",
          "ZipFileMember.pm",
          "MemberRead.pm",
          "FAQ.pod"
         ],
         "xaxis": "x6",
         "y": [
          0,
          0,
          0,
          0,
          0,
          241,
          0,
          0,
          0
         ],
         "yaxis": "y6"
        },
        {
         "marker": {
          "color": "green"
         },
         "name": "Additions",
         "type": "bar",
         "x": [
          "SecurityTests.java",
          "25_tar_plugins.bats",
          "DeleteByQueryRestTests.java",
          "AggregatorFactories.java",
          "SiteContentsIT.java",
          "DerivativeTests.java",
          "HighlighterSearchIT.java",
          "PrioritizedEsThreadPoolExecutor.java",
          "ESIntegTestCase.java",
          "pom.xml",
          "SharedClusterSnapshotRestoreIT.java",
          "pom.xml",
          "Search1StressBenchmark.java",
          "TESTING.asciidoc",
          "GceComputeEngineTest.java",
          "IndexAliasesIT.java",
          "SearchQueryIT.java",
          "NamingConventionTests.java",
          "GetTermVectorsIT.java",
          "integration-tests.xml",
          "RelocationIT.java",
          "RecoveryFromGatewayIT.java",
          "pom.xml",
          "RecoveryPercolatorIT.java",
          "ZenDiscoveryIT.java",
          "pom.xml",
          "SimpleThreadPoolIT.java",
          "AbstractSnapshotIntegTestCase.java",
          "pom.xml",
          "pom.xml",
          "AnalyzerBackwardsCompatTests.java",
          "DuelFieldDataTests.java",
          "OldIndexBackwardsCompatibilityIT.java",
          "ElasticsearchIntegrationTest.java",
          "ReproduceInfoPrinter.java",
          "SimpleNodesInfoTests.java",
          "HotThreadsIT.java",
          "MergePolicySettingsTest.java",
          "AbstractAwsTest.java",
          "UpgradeReallyOldIndexIT.java",
          "CircuitBreakerServiceIT.java",
          "AbstractCompressedStreamTests.java",
          "ESBackcompatTestCase.java",
          "plugin",
          "ESRestTestCase.java",
          "PipelineAggregatorFactory.java",
          "NamingConventionTests.java",
          "DiscoveryWithServiceDisruptionsIT.java",
          "PreBuiltAnalyzerIntegrationIT.java",
          "IndicesStoreIntegrationIT.java",
          "InternalEngineMergeIT.java",
          "IndexStatsIT.java",
          "ClusterAllocationRerouteBenchmark.java",
          "MockFSDirectoryService.java",
          "ScriptedMetricIT.java",
          "integration-tests.xml",
          "ShardSizeTestCase.java",
          "ScriptFieldIT.java",
          "RecoveryWhileUnderLoadIT.java",
          "FreqTermsEnumTests.java",
          "DedicatedClusterSnapshotRestoreIT.java",
          "TransportClientRetryIT.java",
          "SimpleStringMappingTests.java",
          "ConcurrentDynamicTemplateIT.java",
          "RestoreBackwardsCompatIT.java",
          "MinimumMasterNodesIT.java",
          "RecoveryBackwardsCompatibilityIT.java",
          "JsonVsCborTests.java",
          "SimpleNestedIT.java",
          "StartRecoveryRequestTest.java",
          "SnapshotBlocksIT.java",
          "SearchWithRejectionsIT.java",
          "StressSearchServiceReaperIT.java",
          "DateHistogramOffsetIT.java",
          "IndicesRequestIT.java",
          "UpgradeIT.java",
          "RejectionActionIT.java",
          "RepositoryBlocksIT.java",
          "CorsRegexIT.java",
          "RelocationIT.java",
          "FullRollingRestartIT.java",
          "SitePluginRelativePathConfigIT.java",
          "ClusterStatsIT.java",
          "CustomSuggesterSearchIT.java",
          "PendingTasksBlocksIT.java",
          "IndexLifecycleActionIT.java",
          "ChildQuerySearchIT.java",
          "IndicesStoreIntegrationIT.java",
          "IndexTemplateFilteringIT.java",
          "FunctionScorePluginIT.java",
          "CloseIndexDisableCloseAllIT.java",
          "GatewayIndicesWarmerIT.java",
          "CustomHighlighterSearchIT.java",
          "FetchSubPhasePluginIT.java",
          "IndexRecoveryIT.java",
          "IndicesWarmerBlocksIT.java",
          "DetailedErrorsDisabledIT.java",
          "SitePluginIT.java",
          "DetailedErrorsEnabledIT.java",
          "IndicesLeaksIT.java",
          "RecoveryPercolatorIT.java",
          "HunspellServiceIT.java",
          "TTLPercolatorIT.java",
          "PluggableTransportModuleIT.java",
          "IndicesLifecycleListenerIT.java",
          "PluginManagerIT.java",
          "ExplainableScriptIT.java",
          "ResponseHeaderPluginIT.java",
          "IndexTemplateBlocksIT.java",
          "ClearIndicesCacheBlocksIT.java",
          "HttpPublishPortIT.java",
          "UpdateByNativeScriptIT.java",
          "BasicAnalysisBackwardCompatibilityIT.java",
          "NodesStatsBasicBackwardsCompatIT.java",
          "RecoverAfterNodesIT.java",
          "SimpleValidateQueryIT.java",
          "RestoreBackwardsCompatIT.java",
          "QuorumGatewayIT.java",
          "NodeClientIT.java",
          "TransportClientIT.java",
          "MetaDataWriteDataNodesIT.java",
          "ClusterServiceIT.java",
          "MultiTermVectorsIT.java",
          "NoMasterNodeIT.java",
          "SimpleDataNodesIT.java",
          "SpecificMasterNodesIT.java",
          "UpdateSettingsValidationIT.java",
          "ShardsAllocatorModuleIT.java",
          "CreateIndexIT.java",
          "10_basic.yaml",
          "AckClusterUpdateSettingsIT.java",
          "GatewayIndexStateIT.java",
          "AwarenessAllocationIT.java",
          "ClusterRerouteIT.java",
          "RecoveryFromGatewayIT.java",
          "SimpleTTLIT.java",
          "FilteringAllocationIT.java",
          "ClusterSearchShardsIT.java",
          "CliToolTestCase.java",
          "IndicesSegmentsBlocksIT.java",
          "NettyTransportMultiPortIntegrationIT.java",
          "NettyPipeliningEnabledIT.java",
          "RefreshBlocksIT.java",
          "OptimizeBlocksIT.java",
          "ContextAndHeaderTransportIT.java",
          "IndicesStatsBlocksIT.java",
          "BulkProcessorClusterSettingsIT.java",
          "ZenUnicastDiscoveryIT.java",
          "NettyTransportIT.java",
          "SettingsFilteringIT.java",
          "ClusterSettingsIT.java",
          "FlushBlocksIT.java",
          "DeleteIndexBlocksIT.java",
          "NettyPipeliningDisabledIT.java",
          "DeleteByQueryTests.java",
          "AbstractGceTest.java",
          "GetIndexIT.java",
          "AvgBucketIT.java",
          "IndicesShardStoreRequestIT.java",
          "UnicastZenPingIT.java",
          "InternalTestCluster.java",
          "IndexShardTests.java",
          "ScriptQuerySearchIT.java",
          "GceSimpleITest.java",
          "SumBucketIT.java",
          "DateDerivativeIT.java",
          "TribeUnitTests.java",
          "TruncatedRecoveryIT.java",
          "BytesStreamsTests.java",
          "PluginInfoTests.java",
          "PluginTestCase.java",
          "ScriptIndexSettingsIT.java",
          "FunctionScoreIT.java",
          "ChildrenIT.java",
          "GlobalIT.java",
          "GeoHashGridIT.java",
          "GeoDistanceIT.java",
          "FiltersIT.java",
          "FilterIT.java",
          "DateRangeIT.java",
          "SimpleJodaTests.java",
          "DateHistogramIT.java",
          "BooleanTermsIT.java",
          "GroovySecurityIT.java",
          "AbstractTermsTests.java",
          "MissingValueIT.java",
          "AggregationsIntegrationIT.java",
          "AggregationsBinaryIT.java",
          "BigArraysTests.java",
          "ZenDiscoveryIT.java",
          "S3BlobStore.java",
          "OnDiskScriptIT.java",
          "SuggestSearchIT.java",
          "UpdateSettingsIT.java",
          "IndexWithShadowReplicasIT.java",
          "CorruptedTranslogIT.java",
          "RecoverAfterNodesIT.java",
          "StaticIndexBackwardCompatibilityIT.java",
          "OldIndexBackwardsCompatibilityIT.java",
          "RandomScoreFunctionIT.java",
          "DoubleIndexingDocTest.java",
          "SuggestStatsIT.java",
          "SimpleBlocksIT.java",
          "ExceptionRetryIT.java",
          "TestMergeMapperTests.java",
          "SimpleThreadPoolIT.java",
          "CorruptedFileIT.java",
          "JavaMultiFieldMergeTests.java",
          "IndicesShardStoreResponseTest.java",
          "pom.xml",
          "AbstractChildTestCase.java",
          "TemplateQueryParserTest.java",
          "IPv4RangeIT.java",
          "TemplateQueryIT.java",
          "ClusterInfoServiceIT.java",
          "ClusterStateDiffIT.java",
          "PathMatchDynamicTemplateTests.java",
          "SimpleGetMappingsIT.java",
          "DestructiveOperationsIntegrationIT.java",
          "TransportIndexFailuresIT.java",
          "ChannelsTests.java",
          "MockDiskUsagesIT.java",
          "EnableAllocationDeciderIT.java",
          "StartedShardsRoutingTests.java",
          "RoutingBackwardCompatibilityUponUpgradeIT.java",
          "DelayedAllocationIT.java",
          "CopyToMapperTests.java",
          "SimpleIndexStateIT.java",
          "OldIndexBackwardsCompatibilityIT.java",
          "RareClusterStateIT.java",
          "UpdateNumberOfReplicasIT.java",
          "AckIT.java",
          "CircuitBreakerNoopIT.java",
          "IndexingMemoryControllerIT.java",
          "UpdateMappingIntegrationIT.java",
          "HistogramIT.java",
          "ShardUtils.java",
          "MultiDataPathUpgraderTests.java",
          "LangJavaScriptRestIT.java",
          "LangPythonScriptRestIT.java",
          "MovAvgIT.java",
          "MinBucketIT.java",
          "ClusterInfoServiceIT.java",
          "SuiteScopeClusterIT.java",
          "MaxBucketIT.java",
          "TestScopeClusterIT.java",
          "DerivativeIT.java",
          "CumulativeSumIT.java",
          "IndexingMemoryControllerIT.java",
          "SiteRestIT.java",
          "BucketSelectorIT.java",
          "AnalysisKuromojiRestIT.java",
          "AzureSimpleITest.java",
          "BucketScriptIT.java",
          "SerialDiffIT.java",
          "AnalysisSmartChineseRestIT.java",
          "ValueCountIT.java",
          "SearchWhileRelocatingIT.java",
          "ESTestCase.java",
          "GeoPolygonIT.java",
          "GeoFilterIT.java",
          "RepositoriesTests.java",
          "SearchPreferenceIT.java",
          "AzureSnapshotRestoreITest.java",
          "SearchTimeoutIT.java",
          "CloudAzureRestIT.java",
          "CloudAWSRestIT.java",
          "AzureSnapshotRestoreTest.java",
          "CloudGCERestIT.java",
          "DeleteByQueryRestIT.java",
          "AbstractAzureTest.java",
          "SearchStatsIT.java",
          "AnalysisPolishRestIT.java",
          "AnalysisICURestIT.java",
          "AnalysisPhoneticRestIT.java",
          "TermsDocCountErrorIT.java",
          "RenderSearchTemplateIT.java",
          "GeoBoundsIT.java",
          "TribeIT.java",
          "ShardReduceIT.java",
          "TopHitsIT.java",
          "ClusterSettingsIT.java",
          "AbstractStringFieldDataTests.java",
          "SamplerIT.java",
          "AbstractNumericTests.java",
          "SignificantTermsSignificanceScoreIT.java",
          "RangeIT.java",
          "SearchScrollWithFailingNodesIT.java",
          "ReverseNestedIT.java",
          "SignificantTermsIT.java",
          "MissingIT.java",
          "NestedIT.java",
          "NaNSortingIT.java",
          "CardinalityIT.java",
          "GeoShapeIntegrationIT.java",
          "Ec2DiscoveryUpdateSettingsITest.java",
          "SimpleIndexQueryParserTests.java",
          "NoisyChannelSpellCheckerTests.java",
          "HttpPipeliningHandlerTest.java",
          "AbstractParserTestCase.java",
          "ShapeBuilderTests.java",
          "VersionFieldUpgraderTest.java",
          "AbstractTermVectorsTests.java",
          "BlobStoreTest.java",
          "FunctionScoreBackwardCompatibilityIT.java",
          "OsProbeTests.java",
          "OpenCloseIndexIT.java",
          "AbstractCompressedStreamTests.java",
          "TokenCountFieldMapperIntegrationIT.java",
          "Ec2DiscoveryITest.java",
          "SimpleAllMapperTests.java",
          "RandomScoreFunctionIT.java",
          "UUIDTests.java",
          "FieldDataFilterIntegrationIT.java",
          "ParentFieldLoadingIT.java",
          "TTLMappingTests.java",
          "CreateIndexRequestBuilderTest.java",
          "CatAllocationTestCase.java",
          "SimpleRoutingIT.java",
          "GenericStoreDynamicTemplateTests.java",
          "TypesExistsIT.java",
          "MetaDataWriteDataNodesIT.java",
          "AbstractS3SnapshotRestoreTest.java",
          "SnapshotBackwardsCompatibilityIT.java",
          "GatewayIndexStateIT.java",
          "SearchWithRandomExceptionsIT.java",
          "SearchWhileCreatingIndexIT.java",
          "SyncedFlushSingleNodeTest.java",
          "BasicBackwardsCompatibilityIT.java",
          "SimpleObjectMappingTests.java",
          "MulticastZenPingIT.java",
          "MultiDataPathUpgraderTests.java",
          "FailedShardsRoutingTests.java",
          "IndicesOptionsIntegrationIT.java",
          "RestTestParserTests.java",
          "Security.java",
          "pom.xml",
          "MultiOrdinalsTests.java",
          "ReplaceMissingTests.java",
          "SingleOrdinalsTests.java",
          "FieldDataLoadingIT.java",
          "FieldTypeTestCase.java",
          "UidTests.java",
          "ScriptDocValuesTests.java",
          "IndexFieldDataServiceTests.java",
          "TransformOnIndexMapperIT.java",
          "FieldDataTests.java",
          "ParentChildFilteredTermsEnumTests.java",
          "FieldTypeLookupTests.java",
          "DynamicMappingIntegrationIT.java",
          "DynamicMappingTests.java",
          "BinaryMappingTests.java",
          "PolishAnalysisTests.java",
          "CustomBoostMappingTests.java",
          "ConcurrentDocumentOperationIT.java",
          "SimpleExternalMappingTests.java",
          "ResourceWatcherServiceTests.java",
          "FileWatcherTest.java",
          "GeoEncodingTests.java",
          "GeoPointFieldMapperTests.java",
          "GeoShapeFieldMapperTests.java",
          "SimpleVersioningIT.java",
          "UpdateNoopIT.java",
          "SimpleDynamicTemplatesTests.java",
          "GeohashMappingGeoPointTests.java",
          "IdMappingTests.java",
          "UpdateIT.java",
          "IndexTypeMapperTests.java",
          "FieldNamesFieldMapperTests.java",
          "SimpleIpMappingTests.java",
          "NettyTransportMultiPortTests.java",
          "ExternalValuesMapperIntegrationIT.java",
          "SimpleIcuAnalysisTests.java",
          "FieldLevelBoostTests.java",
          "TokenCountFieldMapperTests.java",
          "CamelCaseFieldNameTests.java",
          "CompletionFieldMapperTests.java",
          "CompoundTypesTests.java",
          "CopyToMapperIntegrationIT.java",
          "S3OutputStreamTest.java",
          "BooleanFieldMapperTests.java",
          "Murmur3FieldMapperTests.java",
          "DateBackwardsCompatibilityTests.java",
          "SimpleIcuCollationTokenFilterTests.java",
          "AWSSignersTest.java",
          "SimplePolishTokenFilterTests.java",
          "SimpleSmartChineseAnalysisTests.java",
          "SimplePhoneticAnalysisTests.java",
          "SimpleDateMappingTests.java",
          "KuromojiAnalysisTests.java",
          "SimpleIcuNormalizerCharFilterTests.java",
          "DisabledFieldDataFormatTests.java",
          "MinDocCountTests.java",
          "AbstractFieldDataTests.java",
          "GatewayServiceTests.java",
          "NodeEnvironmentTests.java",
          "SimpleExistsIT.java",
          "ExplainActionIT.java",
          "HDRPercentileRanksIT.java",
          "FieldStatsIntegrationIT.java",
          "FieldStatsTests.java",
          "AsyncShardFetchTests.java",
          "DanglingIndicesStateTests.java",
          "GatewayMetaStateTests.java",
          "MetaDataStateFormatTest.java",
          "NettyHttpServerPipeliningTest.java",
          "PythonScriptMultiThreadedTest.java",
          "MetaStateServiceTests.java",
          "PrimaryShardAllocatorTests.java",
          "PriorityComparatorTests.java",
          "PythonScriptEngineTests.java",
          "JavaScriptScriptMultiThreadedTest.java",
          "ReplicaShardAllocatorTests.java",
          "GetActionIT.java",
          "JavaScriptScriptEngineTests.java",
          "EnvironmentTests.java",
          "ShardInfoIT.java",
          "DocumentActionsIT.java",
          "BulkIT.java",
          "XContentHelperTests.java",
          "XContentMapValuesTests.java",
          "AbstractFilteringJsonGeneratorTests.java",
          "WriteConsistencyLevelIT.java",
          "SimpleCountIT.java",
          "JacksonLocationTests.java",
          "SimpleLuceneTests.java",
          "VectorHighlighterTests.java",
          "BlockingClusterStatePublishResponseHandlerTests.java",
          "ZenFaultDetectionTests.java",
          "TDigestPercentilesIT.java",
          "ElectMasterServiceTest.java",
          "NodeJoinControllerTests.java",
          "TDigestPercentileRanksIT.java",
          "HDRPercentilesIT.java",
          "ZenDiscoveryUnitTest.java",
          "ZenPingTests.java",
          "MulticastZenPingIT.java",
          "UnicastZenPingIT.java",
          "NettyHttpChannelTests.java",
          "TransportDeleteByQueryActionTests.java",
          "ShadowEngineTests.java",
          "StopTokenFilterTests.java",
          "PreBuiltAnalyzerProviderFactoryTests.java",
          "PreBuiltAnalyzerTests.java",
          "StoredNumericValuesTest.java",
          "PreBuiltTokenFilterFactoryFactoryTests.java",
          "PreBuiltTokenizerFactoryFactoryTests.java",
          "ShingleTokenFilterFactoryTests.java",
          "SnowballAnalyzerTests.java",
          "StemmerTokenFilterFactoryTests.java",
          "StopAnalyzerTests.java",
          "WordDelimiterTokenFilterFactoryTests.java",
          "IndexDeleteByQueryResponseTests.java",
          "CommonGramsTokenFilterFactoryTests.java",
          "SynonymsAnalysisTest.java",
          "BitSetFilterCacheTest.java",
          "CodecTests.java",
          "SnapshotDeletionPolicyTests.java",
          "CommitStatsTests.java",
          "InternalEngineIT.java",
          "InternalEngineSettingsTest.java",
          "InternalEngineTests.java",
          "AbstractAzureComputeServiceTest.java",
          "AzureMinimumMasterNodesTest.java",
          "PatternCaptureTokenFilterTests.java",
          "AzureSimpleTest.java",
          "IndexRequestBuilderIT.java",
          "VersionTypeTests.java",
          "IndexAliasesServiceTests.java",
          "ASCIIFoldingTokenFilterFactoryTests.java",
          "AnalysisFactoryTests.java",
          "AnalysisModuleTests.java",
          "AnalysisTests.java",
          "AbstractAzureFsTest.java",
          "CJKFilterFactoryTests.java",
          "CharFilterTests.java",
          "CompoundAnalysisTests.java",
          "HunspellTokenFilterFactoryTests.java",
          "KeepFilterFactoryTests.java",
          "KeepTypesFilterFactoryTests.java",
          "AzureTwoStartedNodesTest.java",
          "LimitTokenCountFilterFactoryTests.java",
          "NGramTokenizerFactoryTests.java",
          "NumericAnalyzerTests.java",
          "PatternAnalyzerTest.java",
          "PreBuiltCharFilterFactoryFactoryTests.java",
          "UpdateThreadPoolSettingsTests.java",
          "MultiFieldTests.java",
          "SearchSourceBuilderTest.java",
          "SearchSourceCompressTests.java",
          "SimpleIndicesWarmerIT.java",
          "SimpleMgetIT.java",
          "FsProbeTests.java",
          "ProcessProbeTests.java",
          "DirectBufferNetworkIT.java",
          "InternalSettingsPreparerTests.java",
          "ParentFieldLoadingBwcIT.java",
          "ChildQuerySearchBwcIT.java",
          "TransportTwoNodesSearchIT.java",
          "MissingValuesTests.java",
          "TransportSearchFailuresIT.java",
          "ConcurrentPercolatorIT.java",
          "MultiPercolatorIT.java",
          "PercolatorBackwardsCompatibilityIT.java",
          "SearchWithRandomExceptionsIT.java",
          "PercolatorFacetsAndAggregationsIT.java",
          "PercolatorIT.java",
          "SearchWhileCreatingIndexIT.java",
          "ScriptValuesTests.java",
          "NestedChildrenFilterTest.java",
          "SimpleIndexTemplateIT.java",
          "SearchFieldsIT.java",
          "DecayFunctionScoreIT.java",
          "ExistsMissingIT.java",
          "SimpleGetFieldMappingsIT.java",
          "SimpleMultiSearchIT.java",
          "MoreLikeThisIT.java",
          "ItemSerializationTests.java",
          "MatchedQueriesIT.java",
          "CircuitBreakerUnitTests.java",
          "RandomExceptionCircuitBreakerIT.java",
          "InnerHitsIT.java",
          "SimpleIndicesBoostSearchIT.java",
          "RecoveryStateTest.java",
          "RecoveryStatusTests.java",
          "HighlighterSearchIT.java",
          "GetSettingsBlocksIT.java",
          "GeoDistanceIT.java",
          "GeoBoundingBoxIT.java",
          "FunctionScoreIT.java",
          "FunctionScoreFieldValueIT.java",
          "IndicesStoreTests.java",
          "PathTests.java",
          "PluginManagerUnitTests.java",
          "SearchQueryIT.java",
          "NestedAggregatorTest.java",
          "ScriptServiceTests.java",
          "ExpressionScriptIT.java",
          "MustacheScriptEngineTest.java",
          "MustacheTest.java",
          "CountSearchIT.java",
          "MultiValueModeTests.java",
          "SearchServiceTests.java",
          "SignificanceHeuristicTests.java",
          "AggregationCollectorTests.java",
          "CombiIT.java",
          "MovAvgUnitTests.java",
          "EquivalenceIT.java",
          "MetaDataIT.java",
          "TermsShardMinDocCountIT.java",
          "ParsingIT.java",
          "StringTermsTests.java",
          "SignificantTermsBackwardCompatibilityIT.java",
          "DedicatedAggregationIT.java",
          "DoubleTermsTests.java",
          "ParentIdAggIT.java",
          "ScriptParameterParserTest.java",
          "ScriptModesTests.java",
          "ScriptContextRegistryTests.java",
          "NativeScriptTests.java",
          "PipelineAggregationHelperTests.java",
          "RecoveriesCollectionTests.java",
          "RecoverySettingsTest.java",
          "RecoveryWhileUnderLoadIT.java",
          "SimpleRecoveryIT.java",
          "BytesRestResponseTests.java",
          "CorsRegexDefaultIT.java",
          "HeadersAndContextCopyClientTests.java",
          "RestFilterChainTests.java",
          "RestRequestTests.java",
          "RestTableTest.java",
          "RestUtilsTests.java",
          "AliasResolveRoutingIT.java",
          "AliasRoutingIT.java",
          "CustomScriptContextIT.java",
          "GroovyScriptIT.java",
          "HyperLogLogPlusPlusTests.java",
          "IndexLookupIT.java",
          "IndexedScriptIT.java",
          "MultiMatchQueryIT.java",
          "SimpleQueryStringIT.java",
          "MultiFieldsIntegrationIT.java",
          "RestApiParserFailingTests.java",
          "SimpleTimestampIT.java",
          "LongTermsTests.java",
          "ThreadPoolSerializationTests.java",
          "GeoShapeQueryBuilderTests.java",
          "AssertingLocalTransport.java",
          "VersionUtilsTests.java",
          "LoggingListenerTests.java",
          "InternalTestClusterTests.java",
          "IndexQueryParserFilterDateRangeFormatTests.java",
          "JsonPathTests.java",
          "GeoHashUtilsTests.java",
          "IndexQueryParserFilterDateRangeTimezoneTests.java",
          "FileUtilsTests.java",
          "TemplateQueryBuilderTest.java",
          "Features.java",
          "MockEngineSupport.java",
          "NetworkPartitionIT.java",
          "CustomQueryParserIT.java",
          "MockPageCacheRecycler.java",
          "ScoreTypeTests.java",
          "UpdateMappingTests.java",
          "AbstractSimpleTransportTests.java",
          "ActionNamesIT.java",
          "NettySizeHeaderFrameDecoderTests.java",
          "NettyScheduledPingTests.java",
          "NestedMappingTests.java",
          "NullValueTests.java",
          "SimpleNumericTests.java",
          "NullValueObjectMappingTests.java",
          "ParentMappingTests.java",
          "PathMapperTests.java",
          "RoutingTypeMapperTests.java",
          "SimpleMapperTests.java",
          "SizeMappingIntegrationIT.java",
          "SizeMappingTests.java",
          "CompressSourceMappingTests.java",
          "DefaultSourceMappingTests.java",
          "KeyedLockTests.java",
          "TimestampMappingTests.java",
          "TransportMessageTests.java",
          "ParseDocumentTypeLevelsTests.java",
          "ParseMappingTypeLevelTests.java",
          "UpdateMappingOnClusterIT.java",
          "GeoDistanceTests.java",
          "GeoPointParsingTests.java",
          "QueryRescorerIT.java",
          "AnalyzeActionIT.java",
          "DateMathIndexExpressionsIntegrationIT.java",
          "SearchStatsUnitTests.java",
          "IndicesCustomDataPathIT.java",
          "SourceFetchingIT.java",
          "SortParserTests.java",
          "SimpleSortIT.java",
          "IndicesLifecycleListenerSingleNodeTests.java",
          "IndicesServiceTest.java",
          "SimpleSearchIT.java",
          "SearchScrollIT.java",
          "GeoUtilsTests.java",
          "DuelScrollIT.java",
          "IndicesRequestCacheIT.java",
          "SearchScanScrollingIT.java",
          "SearchScanIT.java",
          "IndicesExistsIT.java",
          "FlushIT.java",
          "SyncedFlushUnitTests.java",
          "ScanContextTests.java",
          "DedicatedMasterGetFieldMappingIT.java",
          "CompletionSuggestSearchIT.java",
          "IndexActionIT.java",
          "TranslogVersionTests.java",
          "CompletionTokenStreamTest.java",
          "CommitPointsTests.java",
          "IndexShardModuleTests.java",
          "MockBigArrays.java",
          "SnapshotUtilsTests.java",
          "ShardPathTests.java",
          "ShardUtilsTests.java",
          "SimilarityTests.java",
          "FileInfoTest.java",
          "SlicedInputStreamTest.java",
          "SimilarityIT.java",
          "DirectoryUtilsTest.java",
          "GeoLocationContextMappingTest.java",
          "IndexStoreTests.java",
          "LegacyVerificationTests.java",
          "StoreTest.java",
          "CompletionPostingsFormatTest.java",
          "SuggestSearchIT.java",
          "ContextSuggestSearchIT.java",
          "TranslogTests.java",
          "JsonVsSmileTests.java",
          "TimeZoneRoundingTests.java",
          "CborXContentParserTests.java",
          "ListenableActionFutureTests.java",
          "ClusterStateBackwardsCompatIT.java",
          "BroadcastActionsIT.java",
          "SecurityTests.java",
          "JarHellTests.java",
          "JNANativesTests.java",
          "IndexAliasesIT.java",
          "UpdateRequestTests.java",
          "TermVectorsUnitTests.java",
          "GetTermVectorsCheckDocFreqIT.java",
          "ShardReplicationTests.java",
          "TransportActionFilterChainTests.java",
          "IndicesOptionsTests.java",
          "AwarenessAllocationTests.java",
          "SearchRequestBuilderTests.java",
          "MultiSearchRequestTests.java",
          "MultiPercolatorRequestTests.java",
          "GetIndexedScriptRequestTests.java"
         ],
         "xaxis": "x7",
         "y": [
          75,
          98,
          0,
          50,
          58,
          44,
          35,
          24,
          19,
          21,
          31,
          31,
          15,
          28,
          17,
          21,
          25,
          14,
          17,
          22,
          14,
          5,
          2,
          12,
          12,
          18,
          9,
          8,
          17,
          17,
          6,
          8,
          12,
          0,
          7,
          2,
          7,
          2,
          3,
          6,
          4,
          6,
          5,
          6,
          6,
          8,
          11,
          5,
          5,
          7,
          4,
          5,
          5,
          5,
          5,
          10,
          4,
          4,
          4,
          2,
          4,
          4,
          2,
          3,
          5,
          4,
          4,
          2,
          2,
          2,
          4,
          3,
          4,
          4,
          4,
          4,
          4,
          4,
          4,
          4,
          4,
          4,
          4,
          4,
          4,
          4,
          4,
          4,
          4,
          4,
          4,
          4,
          4,
          4,
          4,
          4,
          4,
          4,
          4,
          4,
          4,
          4,
          4,
          4,
          4,
          4,
          4,
          4,
          4,
          4,
          4,
          4,
          4,
          4,
          4,
          4,
          4,
          4,
          4,
          4,
          4,
          4,
          4,
          4,
          4,
          4,
          4,
          4,
          4,
          4,
          4,
          4,
          4,
          4,
          4,
          4,
          4,
          4,
          2,
          4,
          4,
          4,
          4,
          4,
          4,
          4,
          4,
          4,
          4,
          4,
          4,
          4,
          4,
          4,
          4,
          3,
          3,
          3,
          3,
          1,
          3,
          2,
          3,
          3,
          3,
          3,
          4,
          3,
          3,
          2,
          2,
          3,
          3,
          3,
          3,
          3,
          3,
          3,
          3,
          3,
          2,
          3,
          3,
          3,
          2,
          3,
          3,
          3,
          3,
          3,
          6,
          3,
          3,
          3,
          3,
          3,
          0,
          3,
          3,
          4,
          2,
          3,
          3,
          3,
          2,
          3,
          3,
          2,
          2,
          0,
          2,
          3,
          3,
          3,
          3,
          3,
          2,
          3,
          3,
          3,
          2,
          3,
          3,
          2,
          3,
          3,
          2,
          3,
          3,
          3,
          3,
          3,
          3,
          3,
          3,
          3,
          5,
          3,
          3,
          3,
          3,
          3,
          3,
          3,
          3,
          3,
          3,
          3,
          3,
          3,
          3,
          3,
          3,
          3,
          3,
          3,
          3,
          3,
          3,
          3,
          2,
          3,
          3,
          3,
          3,
          3,
          3,
          3,
          3,
          3,
          3,
          3,
          3,
          3,
          3,
          3,
          3,
          3,
          3,
          3,
          3,
          3,
          3,
          3,
          3,
          3,
          3,
          3,
          3,
          3,
          3,
          3,
          3,
          3,
          2,
          2,
          2,
          2,
          2,
          2,
          2,
          2,
          2,
          2,
          2,
          2,
          2,
          2,
          2,
          2,
          2,
          2,
          2,
          2,
          2,
          2,
          2,
          2,
          2,
          2,
          2,
          0,
          2,
          2,
          0,
          3,
          0,
          2,
          2,
          2,
          1,
          2,
          2,
          2,
          2,
          3,
          0,
          2,
          2,
          2,
          2,
          2,
          2,
          2,
          2,
          2,
          2,
          2,
          2,
          2,
          2,
          2,
          2,
          2,
          2,
          2,
          2,
          2,
          2,
          2,
          2,
          2,
          2,
          2,
          2,
          2,
          2,
          2,
          2,
          2,
          2,
          2,
          2,
          2,
          2,
          2,
          2,
          2,
          2,
          2,
          2,
          2,
          2,
          2,
          2,
          2,
          2,
          2,
          2,
          2,
          2,
          2,
          2,
          2,
          2,
          2,
          2,
          2,
          2,
          2,
          2,
          2,
          2,
          2,
          2,
          2,
          2,
          2,
          2,
          2,
          2,
          2,
          2,
          2,
          2,
          2,
          2,
          2,
          2,
          2,
          2,
          2,
          2,
          2,
          2,
          2,
          2,
          2,
          2,
          2,
          2,
          2,
          2,
          2,
          2,
          2,
          2,
          2,
          2,
          2,
          2,
          2,
          2,
          2,
          2,
          2,
          2,
          2,
          2,
          2,
          2,
          2,
          2,
          2,
          2,
          2,
          2,
          2,
          2,
          2,
          2,
          2,
          2,
          2,
          2,
          2,
          2,
          2,
          2,
          2,
          2,
          2,
          2,
          2,
          2,
          2,
          2,
          2,
          2,
          2,
          2,
          2,
          2,
          2,
          2,
          2,
          2,
          2,
          2,
          2,
          2,
          2,
          2,
          2,
          2,
          2,
          2,
          2,
          2,
          2,
          2,
          2,
          2,
          2,
          2,
          2,
          2,
          2,
          2,
          2,
          2,
          2,
          2,
          2,
          2,
          2,
          2,
          2,
          2,
          2,
          2,
          2,
          2,
          2,
          2,
          2,
          2,
          2,
          2,
          2,
          2,
          2,
          2,
          2,
          2,
          2,
          2,
          2,
          2,
          2,
          2,
          2,
          2,
          2,
          2,
          2,
          2,
          2,
          2,
          2,
          2,
          2,
          2,
          2,
          2,
          2,
          2,
          2,
          2,
          2,
          2,
          2,
          2,
          2,
          2,
          2,
          2,
          2,
          2,
          2,
          2,
          2,
          2,
          2,
          2,
          2,
          2,
          2,
          2,
          2,
          2,
          2,
          2,
          2,
          2,
          2,
          2,
          2,
          2,
          2,
          2,
          2,
          2,
          2,
          2,
          2,
          2,
          2,
          2,
          2,
          2,
          2,
          2,
          2,
          2,
          2,
          2,
          2,
          2,
          2,
          2,
          2,
          2,
          2,
          2,
          2,
          2,
          2,
          2,
          2,
          2,
          2,
          2,
          2,
          2,
          2,
          2,
          2,
          2,
          2,
          2,
          2,
          2,
          2,
          2,
          2,
          2,
          2,
          2,
          2,
          2,
          2,
          2,
          2,
          2,
          2,
          2,
          2,
          2,
          2,
          2,
          2,
          2,
          2,
          2,
          2,
          2,
          2,
          2,
          2,
          2,
          2,
          2,
          2,
          2,
          2,
          2,
          2,
          2,
          2,
          2,
          2,
          2,
          2,
          2,
          2,
          2,
          2,
          2,
          2,
          2,
          2,
          2,
          2,
          2,
          2,
          2,
          2,
          2,
          2,
          2,
          2,
          2,
          2
         ],
         "yaxis": "y7"
        },
        {
         "marker": {
          "color": "red"
         },
         "name": "Deletions",
         "type": "bar",
         "x": [
          "SecurityTests.java",
          "25_tar_plugins.bats",
          "DeleteByQueryRestTests.java",
          "AggregatorFactories.java",
          "SiteContentsIT.java",
          "DerivativeTests.java",
          "HighlighterSearchIT.java",
          "PrioritizedEsThreadPoolExecutor.java",
          "ESIntegTestCase.java",
          "pom.xml",
          "SharedClusterSnapshotRestoreIT.java",
          "pom.xml",
          "Search1StressBenchmark.java",
          "TESTING.asciidoc",
          "GceComputeEngineTest.java",
          "IndexAliasesIT.java",
          "SearchQueryIT.java",
          "NamingConventionTests.java",
          "GetTermVectorsIT.java",
          "integration-tests.xml",
          "RelocationIT.java",
          "RecoveryFromGatewayIT.java",
          "pom.xml",
          "RecoveryPercolatorIT.java",
          "ZenDiscoveryIT.java",
          "pom.xml",
          "SimpleThreadPoolIT.java",
          "AbstractSnapshotIntegTestCase.java",
          "pom.xml",
          "pom.xml",
          "AnalyzerBackwardsCompatTests.java",
          "DuelFieldDataTests.java",
          "OldIndexBackwardsCompatibilityIT.java",
          "ElasticsearchIntegrationTest.java",
          "ReproduceInfoPrinter.java",
          "SimpleNodesInfoTests.java",
          "HotThreadsIT.java",
          "MergePolicySettingsTest.java",
          "AbstractAwsTest.java",
          "UpgradeReallyOldIndexIT.java",
          "CircuitBreakerServiceIT.java",
          "AbstractCompressedStreamTests.java",
          "ESBackcompatTestCase.java",
          "plugin",
          "ESRestTestCase.java",
          "PipelineAggregatorFactory.java",
          "NamingConventionTests.java",
          "DiscoveryWithServiceDisruptionsIT.java",
          "PreBuiltAnalyzerIntegrationIT.java",
          "IndicesStoreIntegrationIT.java",
          "InternalEngineMergeIT.java",
          "IndexStatsIT.java",
          "ClusterAllocationRerouteBenchmark.java",
          "MockFSDirectoryService.java",
          "ScriptedMetricIT.java",
          "integration-tests.xml",
          "ShardSizeTestCase.java",
          "ScriptFieldIT.java",
          "RecoveryWhileUnderLoadIT.java",
          "FreqTermsEnumTests.java",
          "DedicatedClusterSnapshotRestoreIT.java",
          "TransportClientRetryIT.java",
          "SimpleStringMappingTests.java",
          "ConcurrentDynamicTemplateIT.java",
          "RestoreBackwardsCompatIT.java",
          "MinimumMasterNodesIT.java",
          "RecoveryBackwardsCompatibilityIT.java",
          "JsonVsCborTests.java",
          "SimpleNestedIT.java",
          "StartRecoveryRequestTest.java",
          "SnapshotBlocksIT.java",
          "SearchWithRejectionsIT.java",
          "StressSearchServiceReaperIT.java",
          "DateHistogramOffsetIT.java",
          "IndicesRequestIT.java",
          "UpgradeIT.java",
          "RejectionActionIT.java",
          "RepositoryBlocksIT.java",
          "CorsRegexIT.java",
          "RelocationIT.java",
          "FullRollingRestartIT.java",
          "SitePluginRelativePathConfigIT.java",
          "ClusterStatsIT.java",
          "CustomSuggesterSearchIT.java",
          "PendingTasksBlocksIT.java",
          "IndexLifecycleActionIT.java",
          "ChildQuerySearchIT.java",
          "IndicesStoreIntegrationIT.java",
          "IndexTemplateFilteringIT.java",
          "FunctionScorePluginIT.java",
          "CloseIndexDisableCloseAllIT.java",
          "GatewayIndicesWarmerIT.java",
          "CustomHighlighterSearchIT.java",
          "FetchSubPhasePluginIT.java",
          "IndexRecoveryIT.java",
          "IndicesWarmerBlocksIT.java",
          "DetailedErrorsDisabledIT.java",
          "SitePluginIT.java",
          "DetailedErrorsEnabledIT.java",
          "IndicesLeaksIT.java",
          "RecoveryPercolatorIT.java",
          "HunspellServiceIT.java",
          "TTLPercolatorIT.java",
          "PluggableTransportModuleIT.java",
          "IndicesLifecycleListenerIT.java",
          "PluginManagerIT.java",
          "ExplainableScriptIT.java",
          "ResponseHeaderPluginIT.java",
          "IndexTemplateBlocksIT.java",
          "ClearIndicesCacheBlocksIT.java",
          "HttpPublishPortIT.java",
          "UpdateByNativeScriptIT.java",
          "BasicAnalysisBackwardCompatibilityIT.java",
          "NodesStatsBasicBackwardsCompatIT.java",
          "RecoverAfterNodesIT.java",
          "SimpleValidateQueryIT.java",
          "RestoreBackwardsCompatIT.java",
          "QuorumGatewayIT.java",
          "NodeClientIT.java",
          "TransportClientIT.java",
          "MetaDataWriteDataNodesIT.java",
          "ClusterServiceIT.java",
          "MultiTermVectorsIT.java",
          "NoMasterNodeIT.java",
          "SimpleDataNodesIT.java",
          "SpecificMasterNodesIT.java",
          "UpdateSettingsValidationIT.java",
          "ShardsAllocatorModuleIT.java",
          "CreateIndexIT.java",
          "10_basic.yaml",
          "AckClusterUpdateSettingsIT.java",
          "GatewayIndexStateIT.java",
          "AwarenessAllocationIT.java",
          "ClusterRerouteIT.java",
          "RecoveryFromGatewayIT.java",
          "SimpleTTLIT.java",
          "FilteringAllocationIT.java",
          "ClusterSearchShardsIT.java",
          "CliToolTestCase.java",
          "IndicesSegmentsBlocksIT.java",
          "NettyTransportMultiPortIntegrationIT.java",
          "NettyPipeliningEnabledIT.java",
          "RefreshBlocksIT.java",
          "OptimizeBlocksIT.java",
          "ContextAndHeaderTransportIT.java",
          "IndicesStatsBlocksIT.java",
          "BulkProcessorClusterSettingsIT.java",
          "ZenUnicastDiscoveryIT.java",
          "NettyTransportIT.java",
          "SettingsFilteringIT.java",
          "ClusterSettingsIT.java",
          "FlushBlocksIT.java",
          "DeleteIndexBlocksIT.java",
          "NettyPipeliningDisabledIT.java",
          "DeleteByQueryTests.java",
          "AbstractGceTest.java",
          "GetIndexIT.java",
          "AvgBucketIT.java",
          "IndicesShardStoreRequestIT.java",
          "UnicastZenPingIT.java",
          "InternalTestCluster.java",
          "IndexShardTests.java",
          "ScriptQuerySearchIT.java",
          "GceSimpleITest.java",
          "SumBucketIT.java",
          "DateDerivativeIT.java",
          "TribeUnitTests.java",
          "TruncatedRecoveryIT.java",
          "BytesStreamsTests.java",
          "PluginInfoTests.java",
          "PluginTestCase.java",
          "ScriptIndexSettingsIT.java",
          "FunctionScoreIT.java",
          "ChildrenIT.java",
          "GlobalIT.java",
          "GeoHashGridIT.java",
          "GeoDistanceIT.java",
          "FiltersIT.java",
          "FilterIT.java",
          "DateRangeIT.java",
          "SimpleJodaTests.java",
          "DateHistogramIT.java",
          "BooleanTermsIT.java",
          "GroovySecurityIT.java",
          "AbstractTermsTests.java",
          "MissingValueIT.java",
          "AggregationsIntegrationIT.java",
          "AggregationsBinaryIT.java",
          "BigArraysTests.java",
          "ZenDiscoveryIT.java",
          "S3BlobStore.java",
          "OnDiskScriptIT.java",
          "SuggestSearchIT.java",
          "UpdateSettingsIT.java",
          "IndexWithShadowReplicasIT.java",
          "CorruptedTranslogIT.java",
          "RecoverAfterNodesIT.java",
          "StaticIndexBackwardCompatibilityIT.java",
          "OldIndexBackwardsCompatibilityIT.java",
          "RandomScoreFunctionIT.java",
          "DoubleIndexingDocTest.java",
          "SuggestStatsIT.java",
          "SimpleBlocksIT.java",
          "ExceptionRetryIT.java",
          "TestMergeMapperTests.java",
          "SimpleThreadPoolIT.java",
          "CorruptedFileIT.java",
          "JavaMultiFieldMergeTests.java",
          "IndicesShardStoreResponseTest.java",
          "pom.xml",
          "AbstractChildTestCase.java",
          "TemplateQueryParserTest.java",
          "IPv4RangeIT.java",
          "TemplateQueryIT.java",
          "ClusterInfoServiceIT.java",
          "ClusterStateDiffIT.java",
          "PathMatchDynamicTemplateTests.java",
          "SimpleGetMappingsIT.java",
          "DestructiveOperationsIntegrationIT.java",
          "TransportIndexFailuresIT.java",
          "ChannelsTests.java",
          "MockDiskUsagesIT.java",
          "EnableAllocationDeciderIT.java",
          "StartedShardsRoutingTests.java",
          "RoutingBackwardCompatibilityUponUpgradeIT.java",
          "DelayedAllocationIT.java",
          "CopyToMapperTests.java",
          "SimpleIndexStateIT.java",
          "OldIndexBackwardsCompatibilityIT.java",
          "RareClusterStateIT.java",
          "UpdateNumberOfReplicasIT.java",
          "AckIT.java",
          "CircuitBreakerNoopIT.java",
          "IndexingMemoryControllerIT.java",
          "UpdateMappingIntegrationIT.java",
          "HistogramIT.java",
          "ShardUtils.java",
          "MultiDataPathUpgraderTests.java",
          "LangJavaScriptRestIT.java",
          "LangPythonScriptRestIT.java",
          "MovAvgIT.java",
          "MinBucketIT.java",
          "ClusterInfoServiceIT.java",
          "SuiteScopeClusterIT.java",
          "MaxBucketIT.java",
          "TestScopeClusterIT.java",
          "DerivativeIT.java",
          "CumulativeSumIT.java",
          "IndexingMemoryControllerIT.java",
          "SiteRestIT.java",
          "BucketSelectorIT.java",
          "AnalysisKuromojiRestIT.java",
          "AzureSimpleITest.java",
          "BucketScriptIT.java",
          "SerialDiffIT.java",
          "AnalysisSmartChineseRestIT.java",
          "ValueCountIT.java",
          "SearchWhileRelocatingIT.java",
          "ESTestCase.java",
          "GeoPolygonIT.java",
          "GeoFilterIT.java",
          "RepositoriesTests.java",
          "SearchPreferenceIT.java",
          "AzureSnapshotRestoreITest.java",
          "SearchTimeoutIT.java",
          "CloudAzureRestIT.java",
          "CloudAWSRestIT.java",
          "AzureSnapshotRestoreTest.java",
          "CloudGCERestIT.java",
          "DeleteByQueryRestIT.java",
          "AbstractAzureTest.java",
          "SearchStatsIT.java",
          "AnalysisPolishRestIT.java",
          "AnalysisICURestIT.java",
          "AnalysisPhoneticRestIT.java",
          "TermsDocCountErrorIT.java",
          "RenderSearchTemplateIT.java",
          "GeoBoundsIT.java",
          "TribeIT.java",
          "ShardReduceIT.java",
          "TopHitsIT.java",
          "ClusterSettingsIT.java",
          "AbstractStringFieldDataTests.java",
          "SamplerIT.java",
          "AbstractNumericTests.java",
          "SignificantTermsSignificanceScoreIT.java",
          "RangeIT.java",
          "SearchScrollWithFailingNodesIT.java",
          "ReverseNestedIT.java",
          "SignificantTermsIT.java",
          "MissingIT.java",
          "NestedIT.java",
          "NaNSortingIT.java",
          "CardinalityIT.java",
          "GeoShapeIntegrationIT.java",
          "Ec2DiscoveryUpdateSettingsITest.java",
          "SimpleIndexQueryParserTests.java",
          "NoisyChannelSpellCheckerTests.java",
          "HttpPipeliningHandlerTest.java",
          "AbstractParserTestCase.java",
          "ShapeBuilderTests.java",
          "VersionFieldUpgraderTest.java",
          "AbstractTermVectorsTests.java",
          "BlobStoreTest.java",
          "FunctionScoreBackwardCompatibilityIT.java",
          "OsProbeTests.java",
          "OpenCloseIndexIT.java",
          "AbstractCompressedStreamTests.java",
          "TokenCountFieldMapperIntegrationIT.java",
          "Ec2DiscoveryITest.java",
          "SimpleAllMapperTests.java",
          "RandomScoreFunctionIT.java",
          "UUIDTests.java",
          "FieldDataFilterIntegrationIT.java",
          "ParentFieldLoadingIT.java",
          "TTLMappingTests.java",
          "CreateIndexRequestBuilderTest.java",
          "CatAllocationTestCase.java",
          "SimpleRoutingIT.java",
          "GenericStoreDynamicTemplateTests.java",
          "TypesExistsIT.java",
          "MetaDataWriteDataNodesIT.java",
          "AbstractS3SnapshotRestoreTest.java",
          "SnapshotBackwardsCompatibilityIT.java",
          "GatewayIndexStateIT.java",
          "SearchWithRandomExceptionsIT.java",
          "SearchWhileCreatingIndexIT.java",
          "SyncedFlushSingleNodeTest.java",
          "BasicBackwardsCompatibilityIT.java",
          "SimpleObjectMappingTests.java",
          "MulticastZenPingIT.java",
          "MultiDataPathUpgraderTests.java",
          "FailedShardsRoutingTests.java",
          "IndicesOptionsIntegrationIT.java",
          "RestTestParserTests.java",
          "Security.java",
          "pom.xml",
          "MultiOrdinalsTests.java",
          "ReplaceMissingTests.java",
          "SingleOrdinalsTests.java",
          "FieldDataLoadingIT.java",
          "FieldTypeTestCase.java",
          "UidTests.java",
          "ScriptDocValuesTests.java",
          "IndexFieldDataServiceTests.java",
          "TransformOnIndexMapperIT.java",
          "FieldDataTests.java",
          "ParentChildFilteredTermsEnumTests.java",
          "FieldTypeLookupTests.java",
          "DynamicMappingIntegrationIT.java",
          "DynamicMappingTests.java",
          "BinaryMappingTests.java",
          "PolishAnalysisTests.java",
          "CustomBoostMappingTests.java",
          "ConcurrentDocumentOperationIT.java",
          "SimpleExternalMappingTests.java",
          "ResourceWatcherServiceTests.java",
          "FileWatcherTest.java",
          "GeoEncodingTests.java",
          "GeoPointFieldMapperTests.java",
          "GeoShapeFieldMapperTests.java",
          "SimpleVersioningIT.java",
          "UpdateNoopIT.java",
          "SimpleDynamicTemplatesTests.java",
          "GeohashMappingGeoPointTests.java",
          "IdMappingTests.java",
          "UpdateIT.java",
          "IndexTypeMapperTests.java",
          "FieldNamesFieldMapperTests.java",
          "SimpleIpMappingTests.java",
          "NettyTransportMultiPortTests.java",
          "ExternalValuesMapperIntegrationIT.java",
          "SimpleIcuAnalysisTests.java",
          "FieldLevelBoostTests.java",
          "TokenCountFieldMapperTests.java",
          "CamelCaseFieldNameTests.java",
          "CompletionFieldMapperTests.java",
          "CompoundTypesTests.java",
          "CopyToMapperIntegrationIT.java",
          "S3OutputStreamTest.java",
          "BooleanFieldMapperTests.java",
          "Murmur3FieldMapperTests.java",
          "DateBackwardsCompatibilityTests.java",
          "SimpleIcuCollationTokenFilterTests.java",
          "AWSSignersTest.java",
          "SimplePolishTokenFilterTests.java",
          "SimpleSmartChineseAnalysisTests.java",
          "SimplePhoneticAnalysisTests.java",
          "SimpleDateMappingTests.java",
          "KuromojiAnalysisTests.java",
          "SimpleIcuNormalizerCharFilterTests.java",
          "DisabledFieldDataFormatTests.java",
          "MinDocCountTests.java",
          "AbstractFieldDataTests.java",
          "GatewayServiceTests.java",
          "NodeEnvironmentTests.java",
          "SimpleExistsIT.java",
          "ExplainActionIT.java",
          "HDRPercentileRanksIT.java",
          "FieldStatsIntegrationIT.java",
          "FieldStatsTests.java",
          "AsyncShardFetchTests.java",
          "DanglingIndicesStateTests.java",
          "GatewayMetaStateTests.java",
          "MetaDataStateFormatTest.java",
          "NettyHttpServerPipeliningTest.java",
          "PythonScriptMultiThreadedTest.java",
          "MetaStateServiceTests.java",
          "PrimaryShardAllocatorTests.java",
          "PriorityComparatorTests.java",
          "PythonScriptEngineTests.java",
          "JavaScriptScriptMultiThreadedTest.java",
          "ReplicaShardAllocatorTests.java",
          "GetActionIT.java",
          "JavaScriptScriptEngineTests.java",
          "EnvironmentTests.java",
          "ShardInfoIT.java",
          "DocumentActionsIT.java",
          "BulkIT.java",
          "XContentHelperTests.java",
          "XContentMapValuesTests.java",
          "AbstractFilteringJsonGeneratorTests.java",
          "WriteConsistencyLevelIT.java",
          "SimpleCountIT.java",
          "JacksonLocationTests.java",
          "SimpleLuceneTests.java",
          "VectorHighlighterTests.java",
          "BlockingClusterStatePublishResponseHandlerTests.java",
          "ZenFaultDetectionTests.java",
          "TDigestPercentilesIT.java",
          "ElectMasterServiceTest.java",
          "NodeJoinControllerTests.java",
          "TDigestPercentileRanksIT.java",
          "HDRPercentilesIT.java",
          "ZenDiscoveryUnitTest.java",
          "ZenPingTests.java",
          "MulticastZenPingIT.java",
          "UnicastZenPingIT.java",
          "NettyHttpChannelTests.java",
          "TransportDeleteByQueryActionTests.java",
          "ShadowEngineTests.java",
          "StopTokenFilterTests.java",
          "PreBuiltAnalyzerProviderFactoryTests.java",
          "PreBuiltAnalyzerTests.java",
          "StoredNumericValuesTest.java",
          "PreBuiltTokenFilterFactoryFactoryTests.java",
          "PreBuiltTokenizerFactoryFactoryTests.java",
          "ShingleTokenFilterFactoryTests.java",
          "SnowballAnalyzerTests.java",
          "StemmerTokenFilterFactoryTests.java",
          "StopAnalyzerTests.java",
          "WordDelimiterTokenFilterFactoryTests.java",
          "IndexDeleteByQueryResponseTests.java",
          "CommonGramsTokenFilterFactoryTests.java",
          "SynonymsAnalysisTest.java",
          "BitSetFilterCacheTest.java",
          "CodecTests.java",
          "SnapshotDeletionPolicyTests.java",
          "CommitStatsTests.java",
          "InternalEngineIT.java",
          "InternalEngineSettingsTest.java",
          "InternalEngineTests.java",
          "AbstractAzureComputeServiceTest.java",
          "AzureMinimumMasterNodesTest.java",
          "PatternCaptureTokenFilterTests.java",
          "AzureSimpleTest.java",
          "IndexRequestBuilderIT.java",
          "VersionTypeTests.java",
          "IndexAliasesServiceTests.java",
          "ASCIIFoldingTokenFilterFactoryTests.java",
          "AnalysisFactoryTests.java",
          "AnalysisModuleTests.java",
          "AnalysisTests.java",
          "AbstractAzureFsTest.java",
          "CJKFilterFactoryTests.java",
          "CharFilterTests.java",
          "CompoundAnalysisTests.java",
          "HunspellTokenFilterFactoryTests.java",
          "KeepFilterFactoryTests.java",
          "KeepTypesFilterFactoryTests.java",
          "AzureTwoStartedNodesTest.java",
          "LimitTokenCountFilterFactoryTests.java",
          "NGramTokenizerFactoryTests.java",
          "NumericAnalyzerTests.java",
          "PatternAnalyzerTest.java",
          "PreBuiltCharFilterFactoryFactoryTests.java",
          "UpdateThreadPoolSettingsTests.java",
          "MultiFieldTests.java",
          "SearchSourceBuilderTest.java",
          "SearchSourceCompressTests.java",
          "SimpleIndicesWarmerIT.java",
          "SimpleMgetIT.java",
          "FsProbeTests.java",
          "ProcessProbeTests.java",
          "DirectBufferNetworkIT.java",
          "InternalSettingsPreparerTests.java",
          "ParentFieldLoadingBwcIT.java",
          "ChildQuerySearchBwcIT.java",
          "TransportTwoNodesSearchIT.java",
          "MissingValuesTests.java",
          "TransportSearchFailuresIT.java",
          "ConcurrentPercolatorIT.java",
          "MultiPercolatorIT.java",
          "PercolatorBackwardsCompatibilityIT.java",
          "SearchWithRandomExceptionsIT.java",
          "PercolatorFacetsAndAggregationsIT.java",
          "PercolatorIT.java",
          "SearchWhileCreatingIndexIT.java",
          "ScriptValuesTests.java",
          "NestedChildrenFilterTest.java",
          "SimpleIndexTemplateIT.java",
          "SearchFieldsIT.java",
          "DecayFunctionScoreIT.java",
          "ExistsMissingIT.java",
          "SimpleGetFieldMappingsIT.java",
          "SimpleMultiSearchIT.java",
          "MoreLikeThisIT.java",
          "ItemSerializationTests.java",
          "MatchedQueriesIT.java",
          "CircuitBreakerUnitTests.java",
          "RandomExceptionCircuitBreakerIT.java",
          "InnerHitsIT.java",
          "SimpleIndicesBoostSearchIT.java",
          "RecoveryStateTest.java",
          "RecoveryStatusTests.java",
          "HighlighterSearchIT.java",
          "GetSettingsBlocksIT.java",
          "GeoDistanceIT.java",
          "GeoBoundingBoxIT.java",
          "FunctionScoreIT.java",
          "FunctionScoreFieldValueIT.java",
          "IndicesStoreTests.java",
          "PathTests.java",
          "PluginManagerUnitTests.java",
          "SearchQueryIT.java",
          "NestedAggregatorTest.java",
          "ScriptServiceTests.java",
          "ExpressionScriptIT.java",
          "MustacheScriptEngineTest.java",
          "MustacheTest.java",
          "CountSearchIT.java",
          "MultiValueModeTests.java",
          "SearchServiceTests.java",
          "SignificanceHeuristicTests.java",
          "AggregationCollectorTests.java",
          "CombiIT.java",
          "MovAvgUnitTests.java",
          "EquivalenceIT.java",
          "MetaDataIT.java",
          "TermsShardMinDocCountIT.java",
          "ParsingIT.java",
          "StringTermsTests.java",
          "SignificantTermsBackwardCompatibilityIT.java",
          "DedicatedAggregationIT.java",
          "DoubleTermsTests.java",
          "ParentIdAggIT.java",
          "ScriptParameterParserTest.java",
          "ScriptModesTests.java",
          "ScriptContextRegistryTests.java",
          "NativeScriptTests.java",
          "PipelineAggregationHelperTests.java",
          "RecoveriesCollectionTests.java",
          "RecoverySettingsTest.java",
          "RecoveryWhileUnderLoadIT.java",
          "SimpleRecoveryIT.java",
          "BytesRestResponseTests.java",
          "CorsRegexDefaultIT.java",
          "HeadersAndContextCopyClientTests.java",
          "RestFilterChainTests.java",
          "RestRequestTests.java",
          "RestTableTest.java",
          "RestUtilsTests.java",
          "AliasResolveRoutingIT.java",
          "AliasRoutingIT.java",
          "CustomScriptContextIT.java",
          "GroovyScriptIT.java",
          "HyperLogLogPlusPlusTests.java",
          "IndexLookupIT.java",
          "IndexedScriptIT.java",
          "MultiMatchQueryIT.java",
          "SimpleQueryStringIT.java",
          "MultiFieldsIntegrationIT.java",
          "RestApiParserFailingTests.java",
          "SimpleTimestampIT.java",
          "LongTermsTests.java",
          "ThreadPoolSerializationTests.java",
          "GeoShapeQueryBuilderTests.java",
          "AssertingLocalTransport.java",
          "VersionUtilsTests.java",
          "LoggingListenerTests.java",
          "InternalTestClusterTests.java",
          "IndexQueryParserFilterDateRangeFormatTests.java",
          "JsonPathTests.java",
          "GeoHashUtilsTests.java",
          "IndexQueryParserFilterDateRangeTimezoneTests.java",
          "FileUtilsTests.java",
          "TemplateQueryBuilderTest.java",
          "Features.java",
          "MockEngineSupport.java",
          "NetworkPartitionIT.java",
          "CustomQueryParserIT.java",
          "MockPageCacheRecycler.java",
          "ScoreTypeTests.java",
          "UpdateMappingTests.java",
          "AbstractSimpleTransportTests.java",
          "ActionNamesIT.java",
          "NettySizeHeaderFrameDecoderTests.java",
          "NettyScheduledPingTests.java",
          "NestedMappingTests.java",
          "NullValueTests.java",
          "SimpleNumericTests.java",
          "NullValueObjectMappingTests.java",
          "ParentMappingTests.java",
          "PathMapperTests.java",
          "RoutingTypeMapperTests.java",
          "SimpleMapperTests.java",
          "SizeMappingIntegrationIT.java",
          "SizeMappingTests.java",
          "CompressSourceMappingTests.java",
          "DefaultSourceMappingTests.java",
          "KeyedLockTests.java",
          "TimestampMappingTests.java",
          "TransportMessageTests.java",
          "ParseDocumentTypeLevelsTests.java",
          "ParseMappingTypeLevelTests.java",
          "UpdateMappingOnClusterIT.java",
          "GeoDistanceTests.java",
          "GeoPointParsingTests.java",
          "QueryRescorerIT.java",
          "AnalyzeActionIT.java",
          "DateMathIndexExpressionsIntegrationIT.java",
          "SearchStatsUnitTests.java",
          "IndicesCustomDataPathIT.java",
          "SourceFetchingIT.java",
          "SortParserTests.java",
          "SimpleSortIT.java",
          "IndicesLifecycleListenerSingleNodeTests.java",
          "IndicesServiceTest.java",
          "SimpleSearchIT.java",
          "SearchScrollIT.java",
          "GeoUtilsTests.java",
          "DuelScrollIT.java",
          "IndicesRequestCacheIT.java",
          "SearchScanScrollingIT.java",
          "SearchScanIT.java",
          "IndicesExistsIT.java",
          "FlushIT.java",
          "SyncedFlushUnitTests.java",
          "ScanContextTests.java",
          "DedicatedMasterGetFieldMappingIT.java",
          "CompletionSuggestSearchIT.java",
          "IndexActionIT.java",
          "TranslogVersionTests.java",
          "CompletionTokenStreamTest.java",
          "CommitPointsTests.java",
          "IndexShardModuleTests.java",
          "MockBigArrays.java",
          "SnapshotUtilsTests.java",
          "ShardPathTests.java",
          "ShardUtilsTests.java",
          "SimilarityTests.java",
          "FileInfoTest.java",
          "SlicedInputStreamTest.java",
          "SimilarityIT.java",
          "DirectoryUtilsTest.java",
          "GeoLocationContextMappingTest.java",
          "IndexStoreTests.java",
          "LegacyVerificationTests.java",
          "StoreTest.java",
          "CompletionPostingsFormatTest.java",
          "SuggestSearchIT.java",
          "ContextSuggestSearchIT.java",
          "TranslogTests.java",
          "JsonVsSmileTests.java",
          "TimeZoneRoundingTests.java",
          "CborXContentParserTests.java",
          "ListenableActionFutureTests.java",
          "ClusterStateBackwardsCompatIT.java",
          "BroadcastActionsIT.java",
          "SecurityTests.java",
          "JarHellTests.java",
          "JNANativesTests.java",
          "IndexAliasesIT.java",
          "UpdateRequestTests.java",
          "TermVectorsUnitTests.java",
          "GetTermVectorsCheckDocFreqIT.java",
          "ShardReplicationTests.java",
          "TransportActionFilterChainTests.java",
          "IndicesOptionsTests.java",
          "AwarenessAllocationTests.java",
          "SearchRequestBuilderTests.java",
          "MultiSearchRequestTests.java",
          "MultiPercolatorRequestTests.java",
          "GetIndexedScriptRequestTests.java"
         ],
         "xaxis": "x7",
         "y": [
          32,
          0,
          60,
          10,
          0,
          4,
          8,
          16,
          21,
          18,
          7,
          6,
          19,
          5,
          16,
          9,
          5,
          12,
          7,
          0,
          7,
          15,
          18,
          8,
          6,
          0,
          9,
          9,
          0,
          0,
          10,
          8,
          4,
          16,
          7,
          11,
          6,
          11,
          10,
          6,
          8,
          6,
          7,
          6,
          6,
          4,
          1,
          6,
          5,
          3,
          6,
          5,
          5,
          5,
          5,
          0,
          6,
          5,
          5,
          7,
          5,
          5,
          7,
          6,
          4,
          5,
          5,
          7,
          7,
          7,
          5,
          5,
          4,
          4,
          4,
          4,
          4,
          4,
          4,
          4,
          4,
          4,
          4,
          4,
          4,
          4,
          4,
          4,
          4,
          4,
          4,
          4,
          4,
          4,
          4,
          4,
          4,
          4,
          4,
          4,
          4,
          4,
          4,
          4,
          4,
          4,
          4,
          4,
          4,
          4,
          4,
          4,
          4,
          4,
          4,
          4,
          4,
          4,
          4,
          4,
          4,
          4,
          4,
          4,
          4,
          4,
          4,
          4,
          4,
          4,
          4,
          4,
          4,
          4,
          4,
          4,
          4,
          4,
          6,
          4,
          4,
          4,
          4,
          4,
          4,
          4,
          4,
          4,
          4,
          4,
          4,
          4,
          4,
          4,
          4,
          4,
          4,
          4,
          4,
          6,
          4,
          5,
          4,
          4,
          4,
          4,
          3,
          3,
          3,
          4,
          4,
          3,
          3,
          3,
          3,
          3,
          3,
          3,
          3,
          3,
          4,
          3,
          3,
          3,
          4,
          3,
          3,
          3,
          3,
          3,
          0,
          3,
          3,
          3,
          3,
          3,
          6,
          3,
          3,
          2,
          4,
          3,
          3,
          3,
          4,
          3,
          3,
          4,
          4,
          6,
          4,
          3,
          3,
          3,
          3,
          3,
          4,
          3,
          3,
          3,
          4,
          3,
          3,
          4,
          3,
          3,
          4,
          3,
          3,
          3,
          3,
          3,
          3,
          3,
          3,
          3,
          1,
          3,
          3,
          3,
          3,
          3,
          3,
          3,
          3,
          3,
          3,
          3,
          3,
          3,
          3,
          3,
          3,
          3,
          3,
          3,
          3,
          3,
          3,
          3,
          4,
          3,
          3,
          3,
          3,
          3,
          3,
          3,
          3,
          3,
          3,
          3,
          3,
          3,
          3,
          3,
          3,
          3,
          3,
          3,
          3,
          3,
          3,
          3,
          3,
          3,
          3,
          3,
          3,
          3,
          3,
          3,
          3,
          3,
          3,
          3,
          3,
          3,
          3,
          3,
          3,
          3,
          3,
          3,
          3,
          3,
          3,
          3,
          3,
          3,
          3,
          3,
          3,
          3,
          3,
          3,
          3,
          3,
          3,
          3,
          3,
          5,
          3,
          3,
          5,
          2,
          5,
          3,
          3,
          3,
          4,
          3,
          3,
          3,
          3,
          2,
          5,
          2,
          2,
          2,
          2,
          2,
          2,
          2,
          2,
          2,
          2,
          2,
          2,
          2,
          2,
          2,
          2,
          2,
          2,
          2,
          2,
          2,
          2,
          2,
          2,
          2,
          2,
          2,
          2,
          2,
          2,
          2,
          2,
          2,
          2,
          2,
          2,
          2,
          2,
          2,
          2,
          2,
          2,
          2,
          2,
          2,
          2,
          2,
          2,
          2,
          2,
          2,
          2,
          2,
          2,
          2,
          2,
          2,
          2,
          2,
          2,
          2,
          2,
          2,
          2,
          2,
          2,
          2,
          2,
          2,
          2,
          2,
          2,
          2,
          2,
          2,
          2,
          2,
          2,
          2,
          2,
          2,
          2,
          2,
          2,
          2,
          2,
          2,
          2,
          2,
          2,
          2,
          2,
          2,
          2,
          2,
          2,
          2,
          2,
          2,
          2,
          2,
          2,
          2,
          2,
          2,
          2,
          2,
          2,
          2,
          2,
          2,
          2,
          2,
          2,
          2,
          2,
          2,
          2,
          2,
          2,
          2,
          2,
          2,
          2,
          2,
          2,
          2,
          2,
          2,
          2,
          2,
          2,
          2,
          2,
          2,
          2,
          2,
          2,
          2,
          2,
          2,
          2,
          2,
          2,
          2,
          2,
          2,
          2,
          2,
          2,
          2,
          2,
          2,
          2,
          2,
          2,
          2,
          2,
          2,
          2,
          2,
          2,
          2,
          2,
          2,
          2,
          2,
          2,
          2,
          2,
          2,
          2,
          2,
          2,
          2,
          2,
          2,
          2,
          2,
          2,
          2,
          2,
          2,
          2,
          2,
          2,
          2,
          2,
          2,
          2,
          2,
          2,
          2,
          2,
          2,
          2,
          2,
          2,
          2,
          2,
          2,
          2,
          2,
          2,
          2,
          2,
          2,
          2,
          2,
          2,
          2,
          2,
          2,
          2,
          2,
          2,
          2,
          2,
          2,
          2,
          2,
          2,
          2,
          2,
          2,
          2,
          2,
          2,
          2,
          2,
          2,
          2,
          2,
          2,
          2,
          2,
          2,
          2,
          2,
          2,
          2,
          2,
          2,
          2,
          2,
          2,
          2,
          2,
          2,
          2,
          2,
          2,
          2,
          2,
          2,
          2,
          2,
          2,
          2,
          2,
          2,
          2,
          2,
          2,
          2,
          2,
          2,
          2,
          2,
          2,
          2,
          2,
          2,
          2,
          2,
          2,
          2,
          2,
          2,
          2,
          2,
          2,
          2,
          2,
          2,
          2,
          2,
          2,
          2,
          2,
          2,
          2,
          2,
          2,
          2,
          2,
          2,
          2,
          2,
          2,
          2,
          2,
          2,
          2,
          2,
          2,
          2,
          2,
          2,
          2,
          2,
          2,
          2,
          2,
          2,
          2,
          2,
          2,
          2,
          2,
          2,
          2,
          2,
          2,
          2,
          2,
          2,
          2,
          2,
          2,
          2,
          2,
          2,
          2,
          2,
          2,
          2,
          2,
          2,
          2,
          2,
          2,
          2,
          2,
          2,
          2,
          2,
          2,
          2,
          2,
          2,
          2,
          2,
          2,
          2,
          2,
          2
         ],
         "yaxis": "y7"
        },
        {
         "marker": {
          "color": "green"
         },
         "name": "Additions",
         "type": "bar",
         "x": [
          "core-types.asciidoc",
          "format.asciidoc",
          "templates.asciidoc",
          "fielddata_formats.asciidoc",
          "date-format.asciidoc",
          "fielddata.asciidoc",
          "geo-point-type.asciidoc",
          "nested.asciidoc",
          "mapping.asciidoc",
          "root-object-type.asciidoc",
          "object-type.asciidoc",
          "string.asciidoc",
          "geo-point.asciidoc",
          "nested-type.asciidoc",
          "field-mapping.asciidoc",
          "date.asciidoc",
          "mapping.asciidoc",
          "BytesStreamsTests.java",
          "multi-fields.asciidoc",
          "boolean.asciidoc",
          "token-count.asciidoc",
          "object.asciidoc",
          "properties.asciidoc",
          "params.asciidoc",
          "array.asciidoc",
          "dynamic-mapping.asciidoc",
          "enabled.asciidoc",
          "numeric.asciidoc",
          "coerce.asciidoc",
          "ip.asciidoc",
          "dynamic.asciidoc",
          "NamedWriteableRegistry.java",
          "include-in-all.asciidoc",
          "ignore-malformed.asciidoc",
          "default-mapping.asciidoc",
          "analyzer.asciidoc",
          "DiskThresholdDeciderUnitTests.java",
          "search-analyzer.asciidoc",
          "range-query.asciidoc",
          "store.asciidoc",
          "types.asciidoc",
          "FilterStreamInput.java",
          "index-options.asciidoc",
          "geohash.asciidoc",
          "all-field.asciidoc",
          "term-vector.asciidoc",
          "position-offset-gap.asciidoc",
          "copy-to.asciidoc",
          "norms.asciidoc",
          "geohash-prefix.asciidoc",
          "lat-lon.asciidoc",
          "array-type.asciidoc",
          "ignore-above.asciidoc"
         ],
         "xaxis": "x8",
         "y": [
          0,
          281,
          251,
          0,
          0,
          225,
          0,
          201,
          140,
          0,
          0,
          169,
          167,
          0,
          139,
          138,
          71,
          129,
          132,
          119,
          107,
          105,
          101,
          100,
          99,
          46,
          94,
          93,
          89,
          89,
          87,
          84,
          83,
          83,
          82,
          80,
          63,
          79,
          63,
          73,
          59,
          71,
          70,
          70,
          5,
          68,
          68,
          64,
          64,
          64,
          63,
          0,
          61
         ],
         "yaxis": "y8"
        },
        {
         "marker": {
          "color": "red"
         },
         "name": "Deletions",
         "type": "bar",
         "x": [
          "core-types.asciidoc",
          "format.asciidoc",
          "templates.asciidoc",
          "fielddata_formats.asciidoc",
          "date-format.asciidoc",
          "fielddata.asciidoc",
          "geo-point-type.asciidoc",
          "nested.asciidoc",
          "mapping.asciidoc",
          "root-object-type.asciidoc",
          "object-type.asciidoc",
          "string.asciidoc",
          "geo-point.asciidoc",
          "nested-type.asciidoc",
          "field-mapping.asciidoc",
          "date.asciidoc",
          "mapping.asciidoc",
          "BytesStreamsTests.java",
          "multi-fields.asciidoc",
          "boolean.asciidoc",
          "token-count.asciidoc",
          "object.asciidoc",
          "properties.asciidoc",
          "params.asciidoc",
          "array.asciidoc",
          "dynamic-mapping.asciidoc",
          "enabled.asciidoc",
          "numeric.asciidoc",
          "coerce.asciidoc",
          "ip.asciidoc",
          "dynamic.asciidoc",
          "NamedWriteableRegistry.java",
          "include-in-all.asciidoc",
          "ignore-malformed.asciidoc",
          "default-mapping.asciidoc",
          "analyzer.asciidoc",
          "DiskThresholdDeciderUnitTests.java",
          "search-analyzer.asciidoc",
          "range-query.asciidoc",
          "store.asciidoc",
          "types.asciidoc",
          "FilterStreamInput.java",
          "index-options.asciidoc",
          "geohash.asciidoc",
          "all-field.asciidoc",
          "term-vector.asciidoc",
          "position-offset-gap.asciidoc",
          "copy-to.asciidoc",
          "norms.asciidoc",
          "geohash-prefix.asciidoc",
          "lat-lon.asciidoc",
          "array-type.asciidoc",
          "ignore-above.asciidoc"
         ],
         "xaxis": "x8",
         "y": [
          619,
          0,
          0,
          243,
          238,
          0,
          203,
          0,
          58,
          178,
          171,
          0,
          0,
          153,
          0,
          0,
          64,
          4,
          0,
          0,
          0,
          0,
          0,
          0,
          0,
          50,
          0,
          0,
          0,
          0,
          0,
          0,
          0,
          0,
          0,
          0,
          16,
          0,
          14,
          0,
          12,
          0,
          0,
          0,
          65,
          0,
          0,
          0,
          0,
          0,
          0,
          63,
          0
         ],
         "yaxis": "y8"
        }
       ],
       "layout": {
        "annotations": [
         {
          "font": {
           "size": 16
          },
          "showarrow": false,
          "text": "2015-06-13",
          "x": 0.225,
          "xanchor": "center",
          "xref": "paper",
          "y": 1,
          "yanchor": "bottom",
          "yref": "paper"
         },
         {
          "font": {
           "size": 16
          },
          "showarrow": false,
          "text": "2015-06-17",
          "x": 0.775,
          "xanchor": "center",
          "xref": "paper",
          "y": 1,
          "yanchor": "bottom",
          "yref": "paper"
         },
         {
          "font": {
           "size": 16
          },
          "showarrow": false,
          "text": "2015-06-23",
          "x": 0.225,
          "xanchor": "center",
          "xref": "paper",
          "y": 0.71875,
          "yanchor": "bottom",
          "yref": "paper"
         },
         {
          "font": {
           "size": 16
          },
          "showarrow": false,
          "text": "2015-06-24",
          "x": 0.775,
          "xanchor": "center",
          "xref": "paper",
          "y": 0.71875,
          "yanchor": "bottom",
          "yref": "paper"
         },
         {
          "font": {
           "size": 16
          },
          "showarrow": false,
          "text": "2015-06-29",
          "x": 0.225,
          "xanchor": "center",
          "xref": "paper",
          "y": 0.4375,
          "yanchor": "bottom",
          "yref": "paper"
         },
         {
          "font": {
           "size": 16
          },
          "showarrow": false,
          "text": "2015-07-21",
          "x": 0.775,
          "xanchor": "center",
          "xref": "paper",
          "y": 0.4375,
          "yanchor": "bottom",
          "yref": "paper"
         },
         {
          "font": {
           "size": 16
          },
          "showarrow": false,
          "text": "2015-08-03",
          "x": 0.225,
          "xanchor": "center",
          "xref": "paper",
          "y": 0.15625,
          "yanchor": "bottom",
          "yref": "paper"
         },
         {
          "font": {
           "size": 16
          },
          "showarrow": false,
          "text": "2015-08-06",
          "x": 0.775,
          "xanchor": "center",
          "xref": "paper",
          "y": 0.15625,
          "yanchor": "bottom",
          "yref": "paper"
         }
        ],
        "height": 1600,
        "showlegend": true,
        "template": {
         "data": {
          "bar": [
           {
            "error_x": {
             "color": "#2a3f5f"
            },
            "error_y": {
             "color": "#2a3f5f"
            },
            "marker": {
             "line": {
              "color": "#E5ECF6",
              "width": 0.5
             },
             "pattern": {
              "fillmode": "overlay",
              "size": 10,
              "solidity": 0.2
             }
            },
            "type": "bar"
           }
          ],
          "barpolar": [
           {
            "marker": {
             "line": {
              "color": "#E5ECF6",
              "width": 0.5
             },
             "pattern": {
              "fillmode": "overlay",
              "size": 10,
              "solidity": 0.2
             }
            },
            "type": "barpolar"
           }
          ],
          "carpet": [
           {
            "aaxis": {
             "endlinecolor": "#2a3f5f",
             "gridcolor": "white",
             "linecolor": "white",
             "minorgridcolor": "white",
             "startlinecolor": "#2a3f5f"
            },
            "baxis": {
             "endlinecolor": "#2a3f5f",
             "gridcolor": "white",
             "linecolor": "white",
             "minorgridcolor": "white",
             "startlinecolor": "#2a3f5f"
            },
            "type": "carpet"
           }
          ],
          "choropleth": [
           {
            "colorbar": {
             "outlinewidth": 0,
             "ticks": ""
            },
            "type": "choropleth"
           }
          ],
          "contour": [
           {
            "colorbar": {
             "outlinewidth": 0,
             "ticks": ""
            },
            "colorscale": [
             [
              0,
              "#0d0887"
             ],
             [
              0.1111111111111111,
              "#46039f"
             ],
             [
              0.2222222222222222,
              "#7201a8"
             ],
             [
              0.3333333333333333,
              "#9c179e"
             ],
             [
              0.4444444444444444,
              "#bd3786"
             ],
             [
              0.5555555555555556,
              "#d8576b"
             ],
             [
              0.6666666666666666,
              "#ed7953"
             ],
             [
              0.7777777777777778,
              "#fb9f3a"
             ],
             [
              0.8888888888888888,
              "#fdca26"
             ],
             [
              1,
              "#f0f921"
             ]
            ],
            "type": "contour"
           }
          ],
          "contourcarpet": [
           {
            "colorbar": {
             "outlinewidth": 0,
             "ticks": ""
            },
            "type": "contourcarpet"
           }
          ],
          "heatmap": [
           {
            "colorbar": {
             "outlinewidth": 0,
             "ticks": ""
            },
            "colorscale": [
             [
              0,
              "#0d0887"
             ],
             [
              0.1111111111111111,
              "#46039f"
             ],
             [
              0.2222222222222222,
              "#7201a8"
             ],
             [
              0.3333333333333333,
              "#9c179e"
             ],
             [
              0.4444444444444444,
              "#bd3786"
             ],
             [
              0.5555555555555556,
              "#d8576b"
             ],
             [
              0.6666666666666666,
              "#ed7953"
             ],
             [
              0.7777777777777778,
              "#fb9f3a"
             ],
             [
              0.8888888888888888,
              "#fdca26"
             ],
             [
              1,
              "#f0f921"
             ]
            ],
            "type": "heatmap"
           }
          ],
          "heatmapgl": [
           {
            "colorbar": {
             "outlinewidth": 0,
             "ticks": ""
            },
            "colorscale": [
             [
              0,
              "#0d0887"
             ],
             [
              0.1111111111111111,
              "#46039f"
             ],
             [
              0.2222222222222222,
              "#7201a8"
             ],
             [
              0.3333333333333333,
              "#9c179e"
             ],
             [
              0.4444444444444444,
              "#bd3786"
             ],
             [
              0.5555555555555556,
              "#d8576b"
             ],
             [
              0.6666666666666666,
              "#ed7953"
             ],
             [
              0.7777777777777778,
              "#fb9f3a"
             ],
             [
              0.8888888888888888,
              "#fdca26"
             ],
             [
              1,
              "#f0f921"
             ]
            ],
            "type": "heatmapgl"
           }
          ],
          "histogram": [
           {
            "marker": {
             "pattern": {
              "fillmode": "overlay",
              "size": 10,
              "solidity": 0.2
             }
            },
            "type": "histogram"
           }
          ],
          "histogram2d": [
           {
            "colorbar": {
             "outlinewidth": 0,
             "ticks": ""
            },
            "colorscale": [
             [
              0,
              "#0d0887"
             ],
             [
              0.1111111111111111,
              "#46039f"
             ],
             [
              0.2222222222222222,
              "#7201a8"
             ],
             [
              0.3333333333333333,
              "#9c179e"
             ],
             [
              0.4444444444444444,
              "#bd3786"
             ],
             [
              0.5555555555555556,
              "#d8576b"
             ],
             [
              0.6666666666666666,
              "#ed7953"
             ],
             [
              0.7777777777777778,
              "#fb9f3a"
             ],
             [
              0.8888888888888888,
              "#fdca26"
             ],
             [
              1,
              "#f0f921"
             ]
            ],
            "type": "histogram2d"
           }
          ],
          "histogram2dcontour": [
           {
            "colorbar": {
             "outlinewidth": 0,
             "ticks": ""
            },
            "colorscale": [
             [
              0,
              "#0d0887"
             ],
             [
              0.1111111111111111,
              "#46039f"
             ],
             [
              0.2222222222222222,
              "#7201a8"
             ],
             [
              0.3333333333333333,
              "#9c179e"
             ],
             [
              0.4444444444444444,
              "#bd3786"
             ],
             [
              0.5555555555555556,
              "#d8576b"
             ],
             [
              0.6666666666666666,
              "#ed7953"
             ],
             [
              0.7777777777777778,
              "#fb9f3a"
             ],
             [
              0.8888888888888888,
              "#fdca26"
             ],
             [
              1,
              "#f0f921"
             ]
            ],
            "type": "histogram2dcontour"
           }
          ],
          "mesh3d": [
           {
            "colorbar": {
             "outlinewidth": 0,
             "ticks": ""
            },
            "type": "mesh3d"
           }
          ],
          "parcoords": [
           {
            "line": {
             "colorbar": {
              "outlinewidth": 0,
              "ticks": ""
             }
            },
            "type": "parcoords"
           }
          ],
          "pie": [
           {
            "automargin": true,
            "type": "pie"
           }
          ],
          "scatter": [
           {
            "fillpattern": {
             "fillmode": "overlay",
             "size": 10,
             "solidity": 0.2
            },
            "type": "scatter"
           }
          ],
          "scatter3d": [
           {
            "line": {
             "colorbar": {
              "outlinewidth": 0,
              "ticks": ""
             }
            },
            "marker": {
             "colorbar": {
              "outlinewidth": 0,
              "ticks": ""
             }
            },
            "type": "scatter3d"
           }
          ],
          "scattercarpet": [
           {
            "marker": {
             "colorbar": {
              "outlinewidth": 0,
              "ticks": ""
             }
            },
            "type": "scattercarpet"
           }
          ],
          "scattergeo": [
           {
            "marker": {
             "colorbar": {
              "outlinewidth": 0,
              "ticks": ""
             }
            },
            "type": "scattergeo"
           }
          ],
          "scattergl": [
           {
            "marker": {
             "colorbar": {
              "outlinewidth": 0,
              "ticks": ""
             }
            },
            "type": "scattergl"
           }
          ],
          "scattermapbox": [
           {
            "marker": {
             "colorbar": {
              "outlinewidth": 0,
              "ticks": ""
             }
            },
            "type": "scattermapbox"
           }
          ],
          "scatterpolar": [
           {
            "marker": {
             "colorbar": {
              "outlinewidth": 0,
              "ticks": ""
             }
            },
            "type": "scatterpolar"
           }
          ],
          "scatterpolargl": [
           {
            "marker": {
             "colorbar": {
              "outlinewidth": 0,
              "ticks": ""
             }
            },
            "type": "scatterpolargl"
           }
          ],
          "scatterternary": [
           {
            "marker": {
             "colorbar": {
              "outlinewidth": 0,
              "ticks": ""
             }
            },
            "type": "scatterternary"
           }
          ],
          "surface": [
           {
            "colorbar": {
             "outlinewidth": 0,
             "ticks": ""
            },
            "colorscale": [
             [
              0,
              "#0d0887"
             ],
             [
              0.1111111111111111,
              "#46039f"
             ],
             [
              0.2222222222222222,
              "#7201a8"
             ],
             [
              0.3333333333333333,
              "#9c179e"
             ],
             [
              0.4444444444444444,
              "#bd3786"
             ],
             [
              0.5555555555555556,
              "#d8576b"
             ],
             [
              0.6666666666666666,
              "#ed7953"
             ],
             [
              0.7777777777777778,
              "#fb9f3a"
             ],
             [
              0.8888888888888888,
              "#fdca26"
             ],
             [
              1,
              "#f0f921"
             ]
            ],
            "type": "surface"
           }
          ],
          "table": [
           {
            "cells": {
             "fill": {
              "color": "#EBF0F8"
             },
             "line": {
              "color": "white"
             }
            },
            "header": {
             "fill": {
              "color": "#C8D4E3"
             },
             "line": {
              "color": "white"
             }
            },
            "type": "table"
           }
          ]
         },
         "layout": {
          "annotationdefaults": {
           "arrowcolor": "#2a3f5f",
           "arrowhead": 0,
           "arrowwidth": 1
          },
          "autotypenumbers": "strict",
          "coloraxis": {
           "colorbar": {
            "outlinewidth": 0,
            "ticks": ""
           }
          },
          "colorscale": {
           "diverging": [
            [
             0,
             "#8e0152"
            ],
            [
             0.1,
             "#c51b7d"
            ],
            [
             0.2,
             "#de77ae"
            ],
            [
             0.3,
             "#f1b6da"
            ],
            [
             0.4,
             "#fde0ef"
            ],
            [
             0.5,
             "#f7f7f7"
            ],
            [
             0.6,
             "#e6f5d0"
            ],
            [
             0.7,
             "#b8e186"
            ],
            [
             0.8,
             "#7fbc41"
            ],
            [
             0.9,
             "#4d9221"
            ],
            [
             1,
             "#276419"
            ]
           ],
           "sequential": [
            [
             0,
             "#0d0887"
            ],
            [
             0.1111111111111111,
             "#46039f"
            ],
            [
             0.2222222222222222,
             "#7201a8"
            ],
            [
             0.3333333333333333,
             "#9c179e"
            ],
            [
             0.4444444444444444,
             "#bd3786"
            ],
            [
             0.5555555555555556,
             "#d8576b"
            ],
            [
             0.6666666666666666,
             "#ed7953"
            ],
            [
             0.7777777777777778,
             "#fb9f3a"
            ],
            [
             0.8888888888888888,
             "#fdca26"
            ],
            [
             1,
             "#f0f921"
            ]
           ],
           "sequentialminus": [
            [
             0,
             "#0d0887"
            ],
            [
             0.1111111111111111,
             "#46039f"
            ],
            [
             0.2222222222222222,
             "#7201a8"
            ],
            [
             0.3333333333333333,
             "#9c179e"
            ],
            [
             0.4444444444444444,
             "#bd3786"
            ],
            [
             0.5555555555555556,
             "#d8576b"
            ],
            [
             0.6666666666666666,
             "#ed7953"
            ],
            [
             0.7777777777777778,
             "#fb9f3a"
            ],
            [
             0.8888888888888888,
             "#fdca26"
            ],
            [
             1,
             "#f0f921"
            ]
           ]
          },
          "colorway": [
           "#636efa",
           "#EF553B",
           "#00cc96",
           "#ab63fa",
           "#FFA15A",
           "#19d3f3",
           "#FF6692",
           "#B6E880",
           "#FF97FF",
           "#FECB52"
          ],
          "font": {
           "color": "#2a3f5f"
          },
          "geo": {
           "bgcolor": "white",
           "lakecolor": "white",
           "landcolor": "#E5ECF6",
           "showlakes": true,
           "showland": true,
           "subunitcolor": "white"
          },
          "hoverlabel": {
           "align": "left"
          },
          "hovermode": "closest",
          "mapbox": {
           "style": "light"
          },
          "paper_bgcolor": "white",
          "plot_bgcolor": "#E5ECF6",
          "polar": {
           "angularaxis": {
            "gridcolor": "white",
            "linecolor": "white",
            "ticks": ""
           },
           "bgcolor": "#E5ECF6",
           "radialaxis": {
            "gridcolor": "white",
            "linecolor": "white",
            "ticks": ""
           }
          },
          "scene": {
           "xaxis": {
            "backgroundcolor": "#E5ECF6",
            "gridcolor": "white",
            "gridwidth": 2,
            "linecolor": "white",
            "showbackground": true,
            "ticks": "",
            "zerolinecolor": "white"
           },
           "yaxis": {
            "backgroundcolor": "#E5ECF6",
            "gridcolor": "white",
            "gridwidth": 2,
            "linecolor": "white",
            "showbackground": true,
            "ticks": "",
            "zerolinecolor": "white"
           },
           "zaxis": {
            "backgroundcolor": "#E5ECF6",
            "gridcolor": "white",
            "gridwidth": 2,
            "linecolor": "white",
            "showbackground": true,
            "ticks": "",
            "zerolinecolor": "white"
           }
          },
          "shapedefaults": {
           "line": {
            "color": "#2a3f5f"
           }
          },
          "ternary": {
           "aaxis": {
            "gridcolor": "white",
            "linecolor": "white",
            "ticks": ""
           },
           "baxis": {
            "gridcolor": "white",
            "linecolor": "white",
            "ticks": ""
           },
           "bgcolor": "#E5ECF6",
           "caxis": {
            "gridcolor": "white",
            "linecolor": "white",
            "ticks": ""
           }
          },
          "title": {
           "x": 0.05
          },
          "xaxis": {
           "automargin": true,
           "gridcolor": "white",
           "linecolor": "white",
           "ticks": "",
           "title": {
            "standoff": 15
           },
           "zerolinecolor": "white",
           "zerolinewidth": 2
          },
          "yaxis": {
           "automargin": true,
           "gridcolor": "white",
           "linecolor": "white",
           "ticks": "",
           "title": {
            "standoff": 15
           },
           "zerolinecolor": "white",
           "zerolinewidth": 2
          }
         }
        },
        "title": {
         "text": "File Changes per Day"
        },
        "width": 1200,
        "xaxis": {
         "anchor": "y",
         "domain": [
          0,
          0.45
         ]
        },
        "xaxis2": {
         "anchor": "y2",
         "domain": [
          0.55,
          1
         ]
        },
        "xaxis3": {
         "anchor": "y3",
         "domain": [
          0,
          0.45
         ]
        },
        "xaxis4": {
         "anchor": "y4",
         "domain": [
          0.55,
          1
         ]
        },
        "xaxis5": {
         "anchor": "y5",
         "domain": [
          0,
          0.45
         ]
        },
        "xaxis6": {
         "anchor": "y6",
         "domain": [
          0.55,
          1
         ]
        },
        "xaxis7": {
         "anchor": "y7",
         "domain": [
          0,
          0.45
         ]
        },
        "xaxis8": {
         "anchor": "y8",
         "domain": [
          0.55,
          1
         ]
        },
        "yaxis": {
         "anchor": "x",
         "domain": [
          0.84375,
          1
         ],
         "title": {
          "text": "Count"
         }
        },
        "yaxis2": {
         "anchor": "x2",
         "domain": [
          0.84375,
          1
         ]
        },
        "yaxis3": {
         "anchor": "x3",
         "domain": [
          0.5625,
          0.71875
         ],
         "title": {
          "text": "Count"
         }
        },
        "yaxis4": {
         "anchor": "x4",
         "domain": [
          0.5625,
          0.71875
         ]
        },
        "yaxis5": {
         "anchor": "x5",
         "domain": [
          0.28125,
          0.4375
         ],
         "title": {
          "text": "Count"
         }
        },
        "yaxis6": {
         "anchor": "x6",
         "domain": [
          0.28125,
          0.4375
         ]
        },
        "yaxis7": {
         "anchor": "x7",
         "domain": [
          0,
          0.15625
         ],
         "title": {
          "text": "Count"
         }
        },
        "yaxis8": {
         "anchor": "x8",
         "domain": [
          0,
          0.15625
         ]
        }
       }
      }
     },
     "metadata": {},
     "output_type": "display_data"
    }
   ],
   "source": [
    "def plot_file_changes(unique_dates, files_in_important_days_df):\n",
    "    # Get unique dates from the dataframe\n",
    "\n",
    "    # Create subplots, one for each date\n",
    "    rows = math.ceil(len(unique_dates) / 2)\n",
    "    fig = make_subplots(rows=rows, cols=2,  subplot_titles=unique_dates)\n",
    "\n",
    "    # Iterate over each date and plot the bar graph\n",
    "    for i, date in enumerate(unique_dates):\n",
    "        row = (i // 2) + 1\n",
    "        col = (i % 2) + 1\n",
    "\n",
    "\n",
    "        # Filter data for the current date\n",
    "        df_date = get_most_important_files_per_day(files_in_important_days_df, date)\n",
    "\n",
    "        # Add the bar graph to the subplot\n",
    "        fig.add_trace(go.Bar(\n",
    "            x=df_date['File'],\n",
    "            y=df_date['Additions'],\n",
    "            name='Additions',\n",
    "            marker_color='green'\n",
    "        ), row=row, col=col)\n",
    "\n",
    "        fig.add_trace(go.Bar(\n",
    "            x=df_date['File'],\n",
    "            y=df_date['Deletions'],\n",
    "            name='Deletions',\n",
    "            marker_color='red'\n",
    "        ), row=row, col=col)\n",
    "\n",
    "    # Update layout\n",
    "    fig.update_layout(height=400 *rows, width=1200, showlegend=True, title_text=\"File Changes per Day\")\n",
    "    fig.update_xaxes(title_text=\"File Name\", row=len(unique_dates), col=1)\n",
    "    fig.update_yaxes(title_text=\"Count\", col=1)\n",
    "\n",
    "    # Show the figure\n",
    "    fig.show()\n",
    "\n",
    "plot_file_changes(outliner_days, files_in_important_days_df)"
   ]
  },
  {
   "cell_type": "code",
   "execution_count": 54,
   "metadata": {},
   "outputs": [
    {
     "data": {
      "text/html": [
       "<div>\n",
       "<style scoped>\n",
       "    .dataframe tbody tr th:only-of-type {\n",
       "        vertical-align: middle;\n",
       "    }\n",
       "\n",
       "    .dataframe tbody tr th {\n",
       "        vertical-align: top;\n",
       "    }\n",
       "\n",
       "    .dataframe thead th {\n",
       "        text-align: right;\n",
       "    }\n",
       "</style>\n",
       "<table border=\"1\" class=\"dataframe\">\n",
       "  <thead>\n",
       "    <tr style=\"text-align: right;\">\n",
       "      <th></th>\n",
       "      <th>addition</th>\n",
       "      <th>deletion</th>\n",
       "      <th>total</th>\n",
       "      <th>Total</th>\n",
       "      <th>Additions</th>\n",
       "      <th>Deletions</th>\n",
       "    </tr>\n",
       "  </thead>\n",
       "  <tbody>\n",
       "    <tr>\n",
       "      <th>2015-06-13</th>\n",
       "      <td>236</td>\n",
       "      <td>8104</td>\n",
       "      <td>8340</td>\n",
       "      <td>8340</td>\n",
       "      <td>236</td>\n",
       "      <td>8104</td>\n",
       "    </tr>\n",
       "    <tr>\n",
       "      <th>2015-06-17</th>\n",
       "      <td>12470</td>\n",
       "      <td>2531</td>\n",
       "      <td>15001</td>\n",
       "      <td>7797</td>\n",
       "      <td>7702</td>\n",
       "      <td>95</td>\n",
       "    </tr>\n",
       "    <tr>\n",
       "      <th>2015-06-23</th>\n",
       "      <td>24314</td>\n",
       "      <td>1133</td>\n",
       "      <td>25447</td>\n",
       "      <td>14102</td>\n",
       "      <td>12989</td>\n",
       "      <td>1113</td>\n",
       "    </tr>\n",
       "    <tr>\n",
       "      <th>2015-06-24</th>\n",
       "      <td>20299</td>\n",
       "      <td>8823</td>\n",
       "      <td>29122</td>\n",
       "      <td>4898</td>\n",
       "      <td>2302</td>\n",
       "      <td>2596</td>\n",
       "    </tr>\n",
       "    <tr>\n",
       "      <th>2015-06-29</th>\n",
       "      <td>5544</td>\n",
       "      <td>4574</td>\n",
       "      <td>10118</td>\n",
       "      <td>5211</td>\n",
       "      <td>3418</td>\n",
       "      <td>1793</td>\n",
       "    </tr>\n",
       "    <tr>\n",
       "      <th>2015-07-21</th>\n",
       "      <td>21873</td>\n",
       "      <td>3054</td>\n",
       "      <td>24927</td>\n",
       "      <td>11644</td>\n",
       "      <td>10192</td>\n",
       "      <td>1452</td>\n",
       "    </tr>\n",
       "    <tr>\n",
       "      <th>2015-08-03</th>\n",
       "      <td>58452</td>\n",
       "      <td>22592</td>\n",
       "      <td>81044</td>\n",
       "      <td>6267</td>\n",
       "      <td>3238</td>\n",
       "      <td>3029</td>\n",
       "    </tr>\n",
       "    <tr>\n",
       "      <th>2015-08-06</th>\n",
       "      <td>12803</td>\n",
       "      <td>5662</td>\n",
       "      <td>18465</td>\n",
       "      <td>9061</td>\n",
       "      <td>6310</td>\n",
       "      <td>2751</td>\n",
       "    </tr>\n",
       "  </tbody>\n",
       "</table>\n",
       "</div>"
      ],
      "text/plain": [
       "            addition  deletion  total  Total  Additions  Deletions\n",
       "2015-06-13       236      8104   8340   8340        236       8104\n",
       "2015-06-17     12470      2531  15001   7797       7702         95\n",
       "2015-06-23     24314      1133  25447  14102      12989       1113\n",
       "2015-06-24     20299      8823  29122   4898       2302       2596\n",
       "2015-06-29      5544      4574  10118   5211       3418       1793\n",
       "2015-07-21     21873      3054  24927  11644      10192       1452\n",
       "2015-08-03     58452     22592  81044   6267       3238       3029\n",
       "2015-08-06     12803      5662  18465   9061       6310       2751"
      ]
     },
     "execution_count": 54,
     "metadata": {},
     "output_type": "execute_result"
    }
   ],
   "source": [
    "# create dataframe with sum of totals deletions and modifications according to files and according to the deletions(show how much modifications are not explained by files)\n",
    "files_in_important_days_df\n",
    "\n",
    "summary_commits = files_in_important_days_df.groupby('Date').agg(\n",
    "    Total=pd.NamedAgg(column='Total', aggfunc='sum'),\n",
    "    Additions=pd.NamedAgg(column='Additions', aggfunc='sum'),\n",
    "    Deletions=pd.NamedAgg(column='Deletions', aggfunc='sum')\n",
    ")\n",
    "\n",
    "# merge summary_commits and df_outliners bu index\n",
    "all_changes = df_outliners.merge(summary_commits, left_index=True, right_index=True)\n",
    "all_changes\n",
    "\n",
    "# Show an overvire first 3 colums are based on the commits insertion/aditions summary\n",
    "# the last 3 columns are based on the files insertion/aditions summary\n",
    "# the different cannot be explained by file analysis -> maybe movements?"
   ]
  },
  {
   "cell_type": "code",
   "execution_count": 94,
   "metadata": {},
   "outputs": [
    {
     "data": {
      "application/vnd.plotly.v1+json": {
       "config": {
        "plotlyServerURL": "https://plot.ly"
       },
       "data": [
        {
         "alignmentgroup": "True",
         "hovertemplate": "Modification_Type=MODIFY<br>Date=%{x}<br>sum_NLOC=%{y}<extra></extra>",
         "legendgroup": "MODIFY",
         "marker": {
          "color": "#636efa",
          "pattern": {
           "shape": ""
          }
         },
         "name": "MODIFY",
         "offsetgroup": "MODIFY",
         "orientation": "v",
         "showlegend": true,
         "textposition": "auto",
         "type": "bar",
         "x": [
          "2015-06-13",
          "2015-06-17",
          "2015-06-23",
          "2015-06-24",
          "2015-06-29",
          "2015-07-21",
          "2015-08-03",
          "2015-08-06"
         ],
         "xaxis": "x",
         "y": [
          29034,
          7355,
          33911,
          45742,
          32799,
          22745,
          193980,
          22402
         ],
         "yaxis": "y"
        },
        {
         "alignmentgroup": "True",
         "hovertemplate": "Modification_Type=ADD<br>Date=%{x}<br>sum_NLOC=%{y}<extra></extra>",
         "legendgroup": "ADD",
         "marker": {
          "color": "#EF553B",
          "pattern": {
           "shape": ""
          }
         },
         "name": "ADD",
         "offsetgroup": "ADD",
         "orientation": "v",
         "showlegend": true,
         "textposition": "auto",
         "type": "bar",
         "x": [
          "2015-06-17",
          "2015-06-23",
          "2015-06-24",
          "2015-06-29",
          "2015-07-21",
          "2015-08-03",
          "2015-08-06"
         ],
         "xaxis": "x",
         "y": [
          1767,
          476,
          355,
          827,
          375,
          30,
          224
         ],
         "yaxis": "y"
        },
        {
         "alignmentgroup": "True",
         "hovertemplate": "Modification_Type=RENAME<br>Date=%{x}<br>sum_NLOC=%{y}<extra></extra>",
         "legendgroup": "RENAME",
         "marker": {
          "color": "#00cc96",
          "pattern": {
           "shape": ""
          }
         },
         "name": "RENAME",
         "offsetgroup": "RENAME",
         "orientation": "v",
         "showlegend": true,
         "textposition": "auto",
         "type": "bar",
         "x": [
          "2015-06-17",
          "2015-06-23",
          "2015-06-24",
          "2015-06-29",
          "2015-07-21",
          "2015-08-03",
          "2015-08-06"
         ],
         "xaxis": "x",
         "y": [
          0,
          710,
          846,
          232,
          275,
          94177,
          630
         ],
         "yaxis": "y"
        },
        {
         "alignmentgroup": "True",
         "hovertemplate": "Modification_Type=DELETE<br>Date=%{x}<br>sum_NLOC=%{y}<extra></extra>",
         "legendgroup": "DELETE",
         "marker": {
          "color": "#ab63fa",
          "pattern": {
           "shape": ""
          }
         },
         "name": "DELETE",
         "offsetgroup": "DELETE",
         "orientation": "v",
         "showlegend": true,
         "textposition": "auto",
         "type": "bar",
         "x": [
          "2015-06-23",
          "2015-06-24",
          "2015-06-29",
          "2015-07-21",
          "2015-08-03",
          "2015-08-06"
         ],
         "xaxis": "x",
         "y": [
          0,
          0,
          0,
          0,
          0,
          0
         ],
         "yaxis": "y"
        }
       ],
       "layout": {
        "barmode": "group",
        "legend": {
         "title": {
          "text": "Modification_Type"
         },
         "tracegroupgap": 0
        },
        "template": {
         "data": {
          "bar": [
           {
            "error_x": {
             "color": "#2a3f5f"
            },
            "error_y": {
             "color": "#2a3f5f"
            },
            "marker": {
             "line": {
              "color": "#E5ECF6",
              "width": 0.5
             },
             "pattern": {
              "fillmode": "overlay",
              "size": 10,
              "solidity": 0.2
             }
            },
            "type": "bar"
           }
          ],
          "barpolar": [
           {
            "marker": {
             "line": {
              "color": "#E5ECF6",
              "width": 0.5
             },
             "pattern": {
              "fillmode": "overlay",
              "size": 10,
              "solidity": 0.2
             }
            },
            "type": "barpolar"
           }
          ],
          "carpet": [
           {
            "aaxis": {
             "endlinecolor": "#2a3f5f",
             "gridcolor": "white",
             "linecolor": "white",
             "minorgridcolor": "white",
             "startlinecolor": "#2a3f5f"
            },
            "baxis": {
             "endlinecolor": "#2a3f5f",
             "gridcolor": "white",
             "linecolor": "white",
             "minorgridcolor": "white",
             "startlinecolor": "#2a3f5f"
            },
            "type": "carpet"
           }
          ],
          "choropleth": [
           {
            "colorbar": {
             "outlinewidth": 0,
             "ticks": ""
            },
            "type": "choropleth"
           }
          ],
          "contour": [
           {
            "colorbar": {
             "outlinewidth": 0,
             "ticks": ""
            },
            "colorscale": [
             [
              0,
              "#0d0887"
             ],
             [
              0.1111111111111111,
              "#46039f"
             ],
             [
              0.2222222222222222,
              "#7201a8"
             ],
             [
              0.3333333333333333,
              "#9c179e"
             ],
             [
              0.4444444444444444,
              "#bd3786"
             ],
             [
              0.5555555555555556,
              "#d8576b"
             ],
             [
              0.6666666666666666,
              "#ed7953"
             ],
             [
              0.7777777777777778,
              "#fb9f3a"
             ],
             [
              0.8888888888888888,
              "#fdca26"
             ],
             [
              1,
              "#f0f921"
             ]
            ],
            "type": "contour"
           }
          ],
          "contourcarpet": [
           {
            "colorbar": {
             "outlinewidth": 0,
             "ticks": ""
            },
            "type": "contourcarpet"
           }
          ],
          "heatmap": [
           {
            "colorbar": {
             "outlinewidth": 0,
             "ticks": ""
            },
            "colorscale": [
             [
              0,
              "#0d0887"
             ],
             [
              0.1111111111111111,
              "#46039f"
             ],
             [
              0.2222222222222222,
              "#7201a8"
             ],
             [
              0.3333333333333333,
              "#9c179e"
             ],
             [
              0.4444444444444444,
              "#bd3786"
             ],
             [
              0.5555555555555556,
              "#d8576b"
             ],
             [
              0.6666666666666666,
              "#ed7953"
             ],
             [
              0.7777777777777778,
              "#fb9f3a"
             ],
             [
              0.8888888888888888,
              "#fdca26"
             ],
             [
              1,
              "#f0f921"
             ]
            ],
            "type": "heatmap"
           }
          ],
          "heatmapgl": [
           {
            "colorbar": {
             "outlinewidth": 0,
             "ticks": ""
            },
            "colorscale": [
             [
              0,
              "#0d0887"
             ],
             [
              0.1111111111111111,
              "#46039f"
             ],
             [
              0.2222222222222222,
              "#7201a8"
             ],
             [
              0.3333333333333333,
              "#9c179e"
             ],
             [
              0.4444444444444444,
              "#bd3786"
             ],
             [
              0.5555555555555556,
              "#d8576b"
             ],
             [
              0.6666666666666666,
              "#ed7953"
             ],
             [
              0.7777777777777778,
              "#fb9f3a"
             ],
             [
              0.8888888888888888,
              "#fdca26"
             ],
             [
              1,
              "#f0f921"
             ]
            ],
            "type": "heatmapgl"
           }
          ],
          "histogram": [
           {
            "marker": {
             "pattern": {
              "fillmode": "overlay",
              "size": 10,
              "solidity": 0.2
             }
            },
            "type": "histogram"
           }
          ],
          "histogram2d": [
           {
            "colorbar": {
             "outlinewidth": 0,
             "ticks": ""
            },
            "colorscale": [
             [
              0,
              "#0d0887"
             ],
             [
              0.1111111111111111,
              "#46039f"
             ],
             [
              0.2222222222222222,
              "#7201a8"
             ],
             [
              0.3333333333333333,
              "#9c179e"
             ],
             [
              0.4444444444444444,
              "#bd3786"
             ],
             [
              0.5555555555555556,
              "#d8576b"
             ],
             [
              0.6666666666666666,
              "#ed7953"
             ],
             [
              0.7777777777777778,
              "#fb9f3a"
             ],
             [
              0.8888888888888888,
              "#fdca26"
             ],
             [
              1,
              "#f0f921"
             ]
            ],
            "type": "histogram2d"
           }
          ],
          "histogram2dcontour": [
           {
            "colorbar": {
             "outlinewidth": 0,
             "ticks": ""
            },
            "colorscale": [
             [
              0,
              "#0d0887"
             ],
             [
              0.1111111111111111,
              "#46039f"
             ],
             [
              0.2222222222222222,
              "#7201a8"
             ],
             [
              0.3333333333333333,
              "#9c179e"
             ],
             [
              0.4444444444444444,
              "#bd3786"
             ],
             [
              0.5555555555555556,
              "#d8576b"
             ],
             [
              0.6666666666666666,
              "#ed7953"
             ],
             [
              0.7777777777777778,
              "#fb9f3a"
             ],
             [
              0.8888888888888888,
              "#fdca26"
             ],
             [
              1,
              "#f0f921"
             ]
            ],
            "type": "histogram2dcontour"
           }
          ],
          "mesh3d": [
           {
            "colorbar": {
             "outlinewidth": 0,
             "ticks": ""
            },
            "type": "mesh3d"
           }
          ],
          "parcoords": [
           {
            "line": {
             "colorbar": {
              "outlinewidth": 0,
              "ticks": ""
             }
            },
            "type": "parcoords"
           }
          ],
          "pie": [
           {
            "automargin": true,
            "type": "pie"
           }
          ],
          "scatter": [
           {
            "fillpattern": {
             "fillmode": "overlay",
             "size": 10,
             "solidity": 0.2
            },
            "type": "scatter"
           }
          ],
          "scatter3d": [
           {
            "line": {
             "colorbar": {
              "outlinewidth": 0,
              "ticks": ""
             }
            },
            "marker": {
             "colorbar": {
              "outlinewidth": 0,
              "ticks": ""
             }
            },
            "type": "scatter3d"
           }
          ],
          "scattercarpet": [
           {
            "marker": {
             "colorbar": {
              "outlinewidth": 0,
              "ticks": ""
             }
            },
            "type": "scattercarpet"
           }
          ],
          "scattergeo": [
           {
            "marker": {
             "colorbar": {
              "outlinewidth": 0,
              "ticks": ""
             }
            },
            "type": "scattergeo"
           }
          ],
          "scattergl": [
           {
            "marker": {
             "colorbar": {
              "outlinewidth": 0,
              "ticks": ""
             }
            },
            "type": "scattergl"
           }
          ],
          "scattermapbox": [
           {
            "marker": {
             "colorbar": {
              "outlinewidth": 0,
              "ticks": ""
             }
            },
            "type": "scattermapbox"
           }
          ],
          "scatterpolar": [
           {
            "marker": {
             "colorbar": {
              "outlinewidth": 0,
              "ticks": ""
             }
            },
            "type": "scatterpolar"
           }
          ],
          "scatterpolargl": [
           {
            "marker": {
             "colorbar": {
              "outlinewidth": 0,
              "ticks": ""
             }
            },
            "type": "scatterpolargl"
           }
          ],
          "scatterternary": [
           {
            "marker": {
             "colorbar": {
              "outlinewidth": 0,
              "ticks": ""
             }
            },
            "type": "scatterternary"
           }
          ],
          "surface": [
           {
            "colorbar": {
             "outlinewidth": 0,
             "ticks": ""
            },
            "colorscale": [
             [
              0,
              "#0d0887"
             ],
             [
              0.1111111111111111,
              "#46039f"
             ],
             [
              0.2222222222222222,
              "#7201a8"
             ],
             [
              0.3333333333333333,
              "#9c179e"
             ],
             [
              0.4444444444444444,
              "#bd3786"
             ],
             [
              0.5555555555555556,
              "#d8576b"
             ],
             [
              0.6666666666666666,
              "#ed7953"
             ],
             [
              0.7777777777777778,
              "#fb9f3a"
             ],
             [
              0.8888888888888888,
              "#fdca26"
             ],
             [
              1,
              "#f0f921"
             ]
            ],
            "type": "surface"
           }
          ],
          "table": [
           {
            "cells": {
             "fill": {
              "color": "#EBF0F8"
             },
             "line": {
              "color": "white"
             }
            },
            "header": {
             "fill": {
              "color": "#C8D4E3"
             },
             "line": {
              "color": "white"
             }
            },
            "type": "table"
           }
          ]
         },
         "layout": {
          "annotationdefaults": {
           "arrowcolor": "#2a3f5f",
           "arrowhead": 0,
           "arrowwidth": 1
          },
          "autotypenumbers": "strict",
          "coloraxis": {
           "colorbar": {
            "outlinewidth": 0,
            "ticks": ""
           }
          },
          "colorscale": {
           "diverging": [
            [
             0,
             "#8e0152"
            ],
            [
             0.1,
             "#c51b7d"
            ],
            [
             0.2,
             "#de77ae"
            ],
            [
             0.3,
             "#f1b6da"
            ],
            [
             0.4,
             "#fde0ef"
            ],
            [
             0.5,
             "#f7f7f7"
            ],
            [
             0.6,
             "#e6f5d0"
            ],
            [
             0.7,
             "#b8e186"
            ],
            [
             0.8,
             "#7fbc41"
            ],
            [
             0.9,
             "#4d9221"
            ],
            [
             1,
             "#276419"
            ]
           ],
           "sequential": [
            [
             0,
             "#0d0887"
            ],
            [
             0.1111111111111111,
             "#46039f"
            ],
            [
             0.2222222222222222,
             "#7201a8"
            ],
            [
             0.3333333333333333,
             "#9c179e"
            ],
            [
             0.4444444444444444,
             "#bd3786"
            ],
            [
             0.5555555555555556,
             "#d8576b"
            ],
            [
             0.6666666666666666,
             "#ed7953"
            ],
            [
             0.7777777777777778,
             "#fb9f3a"
            ],
            [
             0.8888888888888888,
             "#fdca26"
            ],
            [
             1,
             "#f0f921"
            ]
           ],
           "sequentialminus": [
            [
             0,
             "#0d0887"
            ],
            [
             0.1111111111111111,
             "#46039f"
            ],
            [
             0.2222222222222222,
             "#7201a8"
            ],
            [
             0.3333333333333333,
             "#9c179e"
            ],
            [
             0.4444444444444444,
             "#bd3786"
            ],
            [
             0.5555555555555556,
             "#d8576b"
            ],
            [
             0.6666666666666666,
             "#ed7953"
            ],
            [
             0.7777777777777778,
             "#fb9f3a"
            ],
            [
             0.8888888888888888,
             "#fdca26"
            ],
            [
             1,
             "#f0f921"
            ]
           ]
          },
          "colorway": [
           "#636efa",
           "#EF553B",
           "#00cc96",
           "#ab63fa",
           "#FFA15A",
           "#19d3f3",
           "#FF6692",
           "#B6E880",
           "#FF97FF",
           "#FECB52"
          ],
          "font": {
           "color": "#2a3f5f"
          },
          "geo": {
           "bgcolor": "white",
           "lakecolor": "white",
           "landcolor": "#E5ECF6",
           "showlakes": true,
           "showland": true,
           "subunitcolor": "white"
          },
          "hoverlabel": {
           "align": "left"
          },
          "hovermode": "closest",
          "mapbox": {
           "style": "light"
          },
          "paper_bgcolor": "white",
          "plot_bgcolor": "#E5ECF6",
          "polar": {
           "angularaxis": {
            "gridcolor": "white",
            "linecolor": "white",
            "ticks": ""
           },
           "bgcolor": "#E5ECF6",
           "radialaxis": {
            "gridcolor": "white",
            "linecolor": "white",
            "ticks": ""
           }
          },
          "scene": {
           "xaxis": {
            "backgroundcolor": "#E5ECF6",
            "gridcolor": "white",
            "gridwidth": 2,
            "linecolor": "white",
            "showbackground": true,
            "ticks": "",
            "zerolinecolor": "white"
           },
           "yaxis": {
            "backgroundcolor": "#E5ECF6",
            "gridcolor": "white",
            "gridwidth": 2,
            "linecolor": "white",
            "showbackground": true,
            "ticks": "",
            "zerolinecolor": "white"
           },
           "zaxis": {
            "backgroundcolor": "#E5ECF6",
            "gridcolor": "white",
            "gridwidth": 2,
            "linecolor": "white",
            "showbackground": true,
            "ticks": "",
            "zerolinecolor": "white"
           }
          },
          "shapedefaults": {
           "line": {
            "color": "#2a3f5f"
           }
          },
          "ternary": {
           "aaxis": {
            "gridcolor": "white",
            "linecolor": "white",
            "ticks": ""
           },
           "baxis": {
            "gridcolor": "white",
            "linecolor": "white",
            "ticks": ""
           },
           "bgcolor": "#E5ECF6",
           "caxis": {
            "gridcolor": "white",
            "linecolor": "white",
            "ticks": ""
           }
          },
          "title": {
           "x": 0.05
          },
          "xaxis": {
           "automargin": true,
           "gridcolor": "white",
           "linecolor": "white",
           "ticks": "",
           "title": {
            "standoff": 15
           },
           "zerolinecolor": "white",
           "zerolinewidth": 2
          },
          "yaxis": {
           "automargin": true,
           "gridcolor": "white",
           "linecolor": "white",
           "ticks": "",
           "title": {
            "standoff": 15
           },
           "zerolinecolor": "white",
           "zerolinewidth": 2
          }
         }
        },
        "title": {
         "text": "Modification Types Over Time"
        },
        "xaxis": {
         "anchor": "y",
         "categoryarray": [
          "2015-06-13",
          "2015-06-17",
          "2015-06-23",
          "2015-06-24",
          "2015-06-29",
          "2015-07-21",
          "2015-08-03",
          "2015-08-06"
         ],
         "categoryorder": "array",
         "domain": [
          0,
          1
         ],
         "title": {
          "text": "Date"
         }
        },
        "yaxis": {
         "anchor": "x",
         "domain": [
          0,
          1
         ],
         "title": {
          "text": "sum_NLOC"
         },
         "type": "log"
        }
       }
      }
     },
     "metadata": {},
     "output_type": "display_data"
    }
   ],
   "source": [
    "modifications_df = files_in_important_days_df.groupby(['Date','Modification_Type']).agg(\n",
    "    Total=pd.NamedAgg(column='Total', aggfunc='sum'),\n",
    "    Additions=pd.NamedAgg(column='Additions', aggfunc='sum'),\n",
    "    Deletions=pd.NamedAgg(column='Deletions', aggfunc='sum'),\n",
    "    sum_NLOC=pd.NamedAgg(column='nloc', aggfunc='sum')\n",
    ")\n",
    "modifications_df.reset_index(inplace=True)\n",
    "\n",
    "# Converting 'Date' to datetime\n",
    "# modifications_df['Date'] = pd.to_datetime(modifications_df['Date'])\n",
    "\n",
    "# Creating a bar chart with Plotly\n",
    "fig = px.bar(modifications_df, x='Date', y='sum_NLOC', color='Modification_Type', title='Modification Types Over Time per NLOC',\n",
    "             category_orders={\"Date\": modifications_df['Date'].sort_values().unique()},\n",
    "             barmode='group',\n",
    "             log_y=True\n",
    "             )\n",
    "\n",
    "\n",
    "fig.show()"
   ]
  },
  {
   "cell_type": "markdown",
   "metadata": {},
   "source": [
    "as we can see there are a lot of renames on the 03 august, which also makes the analysis harder, since these modifications are then projected to each file which is changed by 2 files, therefore we have also a lot of small files to explain 75% of the changes "
   ]
  }
 ],
 "metadata": {
  "kernelspec": {
   "display_name": "utils_env",
   "language": "python",
   "name": "python3"
  },
  "language_info": {
   "codemirror_mode": {
    "name": "ipython",
    "version": 3
   },
   "file_extension": ".py",
   "mimetype": "text/x-python",
   "name": "python",
   "nbconvert_exporter": "python",
   "pygments_lexer": "ipython3",
   "version": "3.12.0"
  }
 },
 "nbformat": 4,
 "nbformat_minor": 5
}
