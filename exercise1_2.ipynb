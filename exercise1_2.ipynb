{
 "cells": [
  {
   "cell_type": "markdown",
   "metadata": {},
   "source": [
    "# Preprocessing"
   ]
  },
  {
   "cell_type": "code",
   "execution_count": 1,
   "metadata": {},
   "outputs": [
    {
     "name": "stdout",
     "output_type": "stream",
     "text": [
      "Requirement already satisfied: pydriller in c:\\users\\adam\\anaconda3\\envs\\utils_env\\lib\\site-packages (2.5.1)\n",
      "Requirement already satisfied: gitpython in c:\\users\\adam\\anaconda3\\envs\\utils_env\\lib\\site-packages (from pydriller) (3.1.40)\n",
      "Requirement already satisfied: pytz in c:\\users\\adam\\anaconda3\\envs\\utils_env\\lib\\site-packages (from pydriller) (2023.3.post1)\n",
      "Requirement already satisfied: types-pytz in c:\\users\\adam\\anaconda3\\envs\\utils_env\\lib\\site-packages (from pydriller) (2023.3.1.1)\n",
      "Requirement already satisfied: lizard in c:\\users\\adam\\anaconda3\\envs\\utils_env\\lib\\site-packages (from pydriller) (1.17.10)\n",
      "Requirement already satisfied: gitdb<5,>=4.0.1 in c:\\users\\adam\\anaconda3\\envs\\utils_env\\lib\\site-packages (from gitpython->pydriller) (4.0.11)\n",
      "Requirement already satisfied: smmap<6,>=3.0.1 in c:\\users\\adam\\anaconda3\\envs\\utils_env\\lib\\site-packages (from gitdb<5,>=4.0.1->gitpython->pydriller) (5.0.1)\n",
      "Note: you may need to restart the kernel to use updated packages.\n",
      "Requirement already satisfied: lizard in c:\\users\\adam\\anaconda3\\envs\\utils_env\\lib\\site-packages (1.17.10)\n",
      "Note: you may need to restart the kernel to use updated packages.\n"
     ]
    }
   ],
   "source": [
    "%pip install pydriller\n",
    "%pip install lizard"
   ]
  },
  {
   "cell_type": "code",
   "execution_count": 2,
   "metadata": {},
   "outputs": [],
   "source": [
    "from pydriller import Repository\n",
    "import os\n",
    "import datetime as dt\n",
    "import pandas as pd"
   ]
  },
  {
   "cell_type": "code",
   "execution_count": 3,
   "metadata": {},
   "outputs": [
    {
     "data": {
      "text/plain": [
       "128"
      ]
     },
     "execution_count": 3,
     "metadata": {},
     "output_type": "execute_result"
    }
   ],
   "source": [
    "# Clone code from the repo and save it for code portability -> via normal git clone\n",
    "url = \"https://github.com/apache/kafka\"\n",
    "repo_path = os.path.join(os.getcwd(), 'kafka')\n",
    "clone = f\"git clone {url} {repo_path}\" \n",
    "\n",
    "os.system(clone) # Cloning"
   ]
  },
  {
   "cell_type": "code",
   "execution_count": 4,
   "metadata": {},
   "outputs": [],
   "source": [
    "# checkout the tag 3.6.0\n",
    "os.chdir(repo_path)\n",
    "os.system(\"git checkout 3.6.0\")\n",
    "# back to the \"home\" folder\n",
    "os.chdir(\"..\")"
   ]
  },
  {
   "cell_type": "code",
   "execution_count": 5,
   "metadata": {},
   "outputs": [],
   "source": [
    "from_tag = \"3.5.1\"\n",
    "from_date=dt.datetime(2023, 7, 14, 18, 51, 0)\n",
    "\n",
    "to_tag = \"3.6.0\"\n",
    "to_date=dt.datetime(2023, 9, 29, 6, 56, 0)\n",
    "\n",
    "# Using datetimes of the releases, since tags don't yield any commits\n",
    "# Open question \n",
    "# repo = Repository(path_to_repo=repo_path, from_tag=to_tag, to_tag=from_tag)\n",
    "repo = Repository(path_to_repo=repo_path, since=from_date, to=to_date)"
   ]
  },
  {
   "cell_type": "markdown",
   "metadata": {},
   "source": [
    "# Exercise 1"
   ]
  },
  {
   "cell_type": "code",
   "execution_count": 42,
   "metadata": {},
   "outputs": [],
   "source": [
    "file_changes = {}\n",
    "# i = 30\n",
    "for commit in repo.traverse_commits():\n",
    "\n",
    "    author = commit.author.name\n",
    "\n",
    "    for file in commit.modified_files:\n",
    "\n",
    "        filename = file.new_path if file.new_path else file.old_path\n",
    "\n",
    "        if(filename not in file_changes):\n",
    "            file_changes[filename] = {\n",
    "                'num of revisions': 0,\n",
    "                'authors': {},\n",
    "                'revisions': {},\n",
    "            }\n",
    "\n",
    "        file_changes[filename]['num of revisions'] += 1\n",
    "        \n",
    "        if(author not in file_changes[filename]['authors']):\n",
    "            file_changes[filename]['authors'][author] = {\n",
    "                \"added\": 0,\n",
    "                \"removed\": 0,\n",
    "                'total': 0,\n",
    "            }\n",
    "\n",
    "        file_changes[filename]['authors'][author]['added'] += file.added_lines\n",
    "        file_changes[filename]['authors'][author]['removed'] += file.deleted_lines\n",
    "        file_changes[filename]['authors'][author]['total'] += file.added_lines + file.deleted_lines\n",
    "\n",
    "\n",
    "        file_changes[filename]['revisions'][commit.hash] = {\n",
    "            'changed lines': file.added_lines + file.deleted_lines\n",
    "        }"
   ]
  },
  {
   "cell_type": "code",
   "execution_count": 7,
   "metadata": {},
   "outputs": [],
   "source": [
    "# save data into json \"exercise1.json\"\n",
    "import json\n",
    "with open('exercise1.json', 'w') as outfile:\n",
    "    json.dump(file_changes, outfile, indent=4)"
   ]
  },
  {
   "cell_type": "markdown",
   "metadata": {},
   "source": [
    "# Exercise 2"
   ]
  },
  {
   "cell_type": "code",
   "execution_count": 8,
   "metadata": {},
   "outputs": [],
   "source": [
    "import lizard"
   ]
  },
  {
   "cell_type": "code",
   "execution_count": 9,
   "metadata": {},
   "outputs": [],
   "source": [
    "def calculate_indentation_complexity(file_path):\n",
    "    \"\"\"\n",
    "    Calculate the indentation-based complexity of a Python file.\n",
    "\n",
    "    :param file_path: Path to the Python file.\n",
    "    :return: The total indentation count and the number of lines\n",
    "    \"\"\"\n",
    "    total_indentation = 0\n",
    "    nr_lines = 0\n",
    "\n",
    "    with open(file_path, 'r') as file:\n",
    "        for line in file:\n",
    "            # Count leading spaces and tabs\n",
    "            indentation = len(line) - len(line.lstrip())\n",
    "            \n",
    "            # Update total and max indentation\n",
    "            total_indentation += indentation\n",
    "            nr_lines += 1\n",
    "\n",
    "    return total_indentation, nr_lines"
   ]
  },
  {
   "cell_type": "code",
   "execution_count": 23,
   "metadata": {},
   "outputs": [],
   "source": [
    "def get_nr_changes_between_commits(relative_file_path):\n",
    "    \"\"\"\n",
    "    Get the number of changes between two commits for a file.\n",
    "\n",
    "    :param relative_file_path: relative filepath in the analysed repository.\n",
    "    :return: The number of changes.\n",
    "    \"\"\"\n",
    "    # if relative file path has not \\\\ like separator replace them\n",
    "    if relative_file_path in file_changes:\n",
    "        return file_changes[relative_file_path]['num of revisions']\n",
    "    else:\n",
    "        return -1"
   ]
  },
  {
   "cell_type": "code",
   "execution_count": 40,
   "metadata": {},
   "outputs": [
    {
     "data": {
      "text/plain": [
       "1"
      ]
     },
     "execution_count": 40,
     "metadata": {},
     "output_type": "execute_result"
    }
   ],
   "source": [
    "get_nr_changes_between_commits(\"clients\\\\src\\\\test\\\\java\\\\org\\\\apache\\\\kafka\\\\clients\\\\MockClient.java\")"
   ]
  },
  {
   "cell_type": "code",
   "execution_count": 41,
   "metadata": {},
   "outputs": [
    {
     "name": "stdout",
     "output_type": "stream",
     "text": [
      "true\n"
     ]
    }
   ],
   "source": [
    "# Calculate lines of code for each .java file\n",
    "\n",
    "# Get all java files\n",
    "java_files = []\n",
    "for root, dirs, files in os.walk(repo_path):\n",
    "    # print(root, dirs)\n",
    "    for file in files:\n",
    "        if file.endswith(\".java\"):\n",
    "             java_files.append(os.path.join(root, file))\n",
    "\n",
    "# Calculate lines of code and cyclomatic complexity for each file\n",
    "analysis = {}\n",
    "for file in java_files:\n",
    "    i = lizard.analyze_file(file)\n",
    "\n",
    "    # filename = relative path to cwd\n",
    "    filename = file.replace(repo_path+\"\\\\\", \"\")\n",
    "\n",
    "    analysis[filename] = {\n",
    "        'loc': i.nloc,\n",
    "        'cc': sum([func.cyclomatic_complexity for func in i.function_list]),\n",
    "        'ic': calculate_indentation_complexity(file)[0], # for absolute values TODO maybe divide by nr of lines returned\n",
    "        'nr_changes': get_nr_changes_between_commits(filename),\n",
    "    }\n"
   ]
  },
  {
   "cell_type": "code",
   "execution_count": 43,
   "metadata": {},
   "outputs": [
    {
     "data": {
      "text/html": [
       "<div>\n",
       "<style scoped>\n",
       "    .dataframe tbody tr th:only-of-type {\n",
       "        vertical-align: middle;\n",
       "    }\n",
       "\n",
       "    .dataframe tbody tr th {\n",
       "        vertical-align: top;\n",
       "    }\n",
       "\n",
       "    .dataframe thead th {\n",
       "        text-align: right;\n",
       "    }\n",
       "</style>\n",
       "<table border=\"1\" class=\"dataframe\">\n",
       "  <thead>\n",
       "    <tr style=\"text-align: right;\">\n",
       "      <th></th>\n",
       "      <th>loc</th>\n",
       "      <th>cc</th>\n",
       "      <th>ic</th>\n",
       "      <th>nr_changes</th>\n",
       "    </tr>\n",
       "  </thead>\n",
       "  <tbody>\n",
       "    <tr>\n",
       "      <th>streams\\src\\test\\java\\org\\apache\\kafka\\streams\\processor\\internals\\assignment\\AssignmentTestUtils.java</th>\n",
       "      <td>926</td>\n",
       "      <td>111</td>\n",
       "      <td>11180</td>\n",
       "      <td>7</td>\n",
       "    </tr>\n",
       "    <tr>\n",
       "      <th>streams\\src\\main\\java\\org\\apache\\kafka\\streams\\processor\\internals\\assignment\\RackAwareTaskAssignor.java</th>\n",
       "      <td>454</td>\n",
       "      <td>89</td>\n",
       "      <td>6724</td>\n",
       "      <td>7</td>\n",
       "    </tr>\n",
       "    <tr>\n",
       "      <th>core\\src\\test\\java\\kafka\\log\\remote\\RemoteLogManagerTest.java</th>\n",
       "      <td>1396</td>\n",
       "      <td>64</td>\n",
       "      <td>14304</td>\n",
       "      <td>7</td>\n",
       "    </tr>\n",
       "    <tr>\n",
       "      <th>group-coordinator\\src\\main\\java\\org\\apache\\kafka\\coordinator\\group\\GroupMetadataManager.java</th>\n",
       "      <td>1900</td>\n",
       "      <td>311</td>\n",
       "      <td>26980</td>\n",
       "      <td>6</td>\n",
       "    </tr>\n",
       "    <tr>\n",
       "      <th>metadata\\src\\main\\java\\org\\apache\\kafka\\controller\\QuorumController.java</th>\n",
       "      <td>1753</td>\n",
       "      <td>265</td>\n",
       "      <td>22092</td>\n",
       "      <td>6</td>\n",
       "    </tr>\n",
       "    <tr>\n",
       "      <th>streams\\src\\test\\java\\org\\apache\\kafka\\streams\\processor\\internals\\assignment\\RackAwareTaskAssignorTest.java</th>\n",
       "      <td>929</td>\n",
       "      <td>54</td>\n",
       "      <td>8015</td>\n",
       "      <td>6</td>\n",
       "    </tr>\n",
       "    <tr>\n",
       "      <th>core\\src\\main\\java\\kafka\\log\\remote\\RemoteLogManager.java</th>\n",
       "      <td>1196</td>\n",
       "      <td>247</td>\n",
       "      <td>17963</td>\n",
       "      <td>6</td>\n",
       "    </tr>\n",
       "    <tr>\n",
       "      <th>connect\\runtime\\src\\main\\java\\org\\apache\\kafka\\connect\\runtime\\isolation\\PluginUtils.java</th>\n",
       "      <td>346</td>\n",
       "      <td>52</td>\n",
       "      <td>4323</td>\n",
       "      <td>5</td>\n",
       "    </tr>\n",
       "    <tr>\n",
       "      <th>group-coordinator\\src\\test\\java\\org\\apache\\kafka\\coordinator\\group\\GroupCoordinatorServiceTest.java</th>\n",
       "      <td>486</td>\n",
       "      <td>20</td>\n",
       "      <td>4031</td>\n",
       "      <td>5</td>\n",
       "    </tr>\n",
       "    <tr>\n",
       "      <th>group-coordinator\\src\\test\\java\\org\\apache\\kafka\\coordinator\\group\\GroupMetadataManagerTest.java</th>\n",
       "      <td>7225</td>\n",
       "      <td>280</td>\n",
       "      <td>86937</td>\n",
       "      <td>5</td>\n",
       "    </tr>\n",
       "  </tbody>\n",
       "</table>\n",
       "</div>"
      ],
      "text/plain": [
       "                                                     loc   cc     ic  \\\n",
       "streams\\src\\test\\java\\org\\apache\\kafka\\streams\\...   926  111  11180   \n",
       "streams\\src\\main\\java\\org\\apache\\kafka\\streams\\...   454   89   6724   \n",
       "core\\src\\test\\java\\kafka\\log\\remote\\RemoteLogMa...  1396   64  14304   \n",
       "group-coordinator\\src\\main\\java\\org\\apache\\kafk...  1900  311  26980   \n",
       "metadata\\src\\main\\java\\org\\apache\\kafka\\control...  1753  265  22092   \n",
       "streams\\src\\test\\java\\org\\apache\\kafka\\streams\\...   929   54   8015   \n",
       "core\\src\\main\\java\\kafka\\log\\remote\\RemoteLogMa...  1196  247  17963   \n",
       "connect\\runtime\\src\\main\\java\\org\\apache\\kafka\\...   346   52   4323   \n",
       "group-coordinator\\src\\test\\java\\org\\apache\\kafk...   486   20   4031   \n",
       "group-coordinator\\src\\test\\java\\org\\apache\\kafk...  7225  280  86937   \n",
       "\n",
       "                                                    nr_changes  \n",
       "streams\\src\\test\\java\\org\\apache\\kafka\\streams\\...           7  \n",
       "streams\\src\\main\\java\\org\\apache\\kafka\\streams\\...           7  \n",
       "core\\src\\test\\java\\kafka\\log\\remote\\RemoteLogMa...           7  \n",
       "group-coordinator\\src\\main\\java\\org\\apache\\kafk...           6  \n",
       "metadata\\src\\main\\java\\org\\apache\\kafka\\control...           6  \n",
       "streams\\src\\test\\java\\org\\apache\\kafka\\streams\\...           6  \n",
       "core\\src\\main\\java\\kafka\\log\\remote\\RemoteLogMa...           6  \n",
       "connect\\runtime\\src\\main\\java\\org\\apache\\kafka\\...           5  \n",
       "group-coordinator\\src\\test\\java\\org\\apache\\kafk...           5  \n",
       "group-coordinator\\src\\test\\java\\org\\apache\\kafk...           5  "
      ]
     },
     "execution_count": 43,
     "metadata": {},
     "output_type": "execute_result"
    }
   ],
   "source": [
    "# convert to pandas dataframe\n",
    "df = pd.DataFrame.from_dict(analysis, orient='index')\n",
    "df = df.sort_values(by=['nr_changes'], ascending=False)\n",
    "df.head(10)"
   ]
  },
  {
   "cell_type": "markdown",
   "metadata": {},
   "source": [
    "# Exercise 3"
   ]
  },
  {
   "cell_type": "code",
   "execution_count": null,
   "metadata": {},
   "outputs": [],
   "source": []
  }
 ],
 "metadata": {
  "kernelspec": {
   "display_name": "utils_env",
   "language": "python",
   "name": "python3"
  },
  "language_info": {
   "codemirror_mode": {
    "name": "ipython",
    "version": 3
   },
   "file_extension": ".py",
   "mimetype": "text/x-python",
   "name": "python",
   "nbconvert_exporter": "python",
   "pygments_lexer": "ipython3",
   "version": "3.12.0"
  }
 },
 "nbformat": 4,
 "nbformat_minor": 2
}
