{
 "cells": [
  {
   "cell_type": "markdown",
   "source": [
    "# Preprocessing"
   ],
   "metadata": {
    "collapsed": false
   },
   "id": "e68f0b5155563b0"
  },
  {
   "cell_type": "code",
   "execution_count": 94,
   "id": "initial_id",
   "metadata": {
    "collapsed": true,
    "ExecuteTime": {
     "end_time": "2023-11-25T19:54:39.200677800Z",
     "start_time": "2023-11-25T19:54:31.156089300Z"
    }
   },
   "outputs": [
    {
     "name": "stdout",
     "output_type": "stream",
     "text": [
      "Requirement already satisfied: pydriller in c:\\users\\aless\\appdata\\local\\programs\\python\\python312\\lib\\site-packages (2.6)\n",
      "Requirement already satisfied: gitpython in c:\\users\\aless\\appdata\\local\\programs\\python\\python312\\lib\\site-packages (from pydriller) (3.1.40)\n",
      "Requirement already satisfied: pytz in c:\\users\\aless\\appdata\\local\\programs\\python\\python312\\lib\\site-packages (from pydriller) (2023.3.post1)\n",
      "Requirement already satisfied: types-pytz in c:\\users\\aless\\appdata\\local\\programs\\python\\python312\\lib\\site-packages (from pydriller) (2023.3.1.1)\n",
      "Requirement already satisfied: lizard in c:\\users\\aless\\appdata\\local\\programs\\python\\python312\\lib\\site-packages (from pydriller) (1.17.10)\n",
      "Requirement already satisfied: gitdb<5,>=4.0.1 in c:\\users\\aless\\appdata\\local\\programs\\python\\python312\\lib\\site-packages (from gitpython->pydriller) (4.0.11)\n",
      "Requirement already satisfied: smmap<6,>=3.0.1 in c:\\users\\aless\\appdata\\local\\programs\\python\\python312\\lib\\site-packages (from gitdb<5,>=4.0.1->gitpython->pydriller) (5.0.1)\n",
      "Note: you may need to restart the kernel to use updated packages.\n",
      "Requirement already satisfied: ujson in c:\\users\\aless\\appdata\\local\\programs\\python\\python312\\lib\\site-packages (5.8.0)\n",
      "Note: you may need to restart the kernel to use updated packages.\n",
      "Requirement already satisfied: numpy in c:\\users\\aless\\appdata\\local\\programs\\python\\python312\\lib\\site-packages (1.26.2)\n",
      "Note: you may need to restart the kernel to use updated packages.\n",
      "Requirement already satisfied: scipy in c:\\users\\aless\\appdata\\local\\programs\\python\\python312\\lib\\site-packages (1.11.4)\n",
      "Requirement already satisfied: numpy<1.28.0,>=1.21.6 in c:\\users\\aless\\appdata\\local\\programs\\python\\python312\\lib\\site-packages (from scipy) (1.26.2)\n",
      "Note: you may need to restart the kernel to use updated packages.\n"
     ]
    }
   ],
   "source": [
    "%pip install pydriller --upgrade\n",
    "%pip install ujson --upgrade\n",
    "%pip install numpy --upgrade\n",
    "%pip install scipy --upgrade"
   ]
  },
  {
   "cell_type": "code",
   "execution_count": 95,
   "outputs": [],
   "source": [
    "from pydriller import Repository, Git\n",
    "import numpy as np\n",
    "from scipy.sparse import csc_matrix, vstack\n",
    "from datetime import timedelta, datetime\n",
    "import os\n",
    "import ujson\n",
    "from collections import deque"
   ],
   "metadata": {
    "collapsed": false,
    "ExecuteTime": {
     "end_time": "2023-11-25T19:54:39.200677800Z",
     "start_time": "2023-11-25T19:54:39.199506100Z"
    }
   },
   "id": "8402de1ce5762dd8"
  },
  {
   "cell_type": "code",
   "execution_count": 96,
   "outputs": [
    {
     "data": {
      "text/plain": "128"
     },
     "execution_count": 96,
     "metadata": {},
     "output_type": "execute_result"
    }
   ],
   "source": [
    "# Clone code from the repo and save it for code portability -> via normal git clone\n",
    "url = \"https://github.com/apache/kafka\"\n",
    "repo_path = os.path.join(os.getcwd(), 'kafka')\n",
    "clone = f\"git clone {url} {repo_path}\" \n",
    "\n",
    "os.system(clone) # Cloning"
   ],
   "metadata": {
    "collapsed": false,
    "ExecuteTime": {
     "end_time": "2023-11-25T19:54:39.255747300Z",
     "start_time": "2023-11-25T19:54:39.200677800Z"
    }
   },
   "id": "c28ff228a1e1b016"
  },
  {
   "cell_type": "code",
   "execution_count": 97,
   "outputs": [],
   "source": [
    "# checkout the tag 3.6.0\n",
    "os.chdir(repo_path)\n",
    "os.system(\"git checkout 3.6.0\")\n",
    "# back to the \"home\" folder\n",
    "os.chdir(\"..\")"
   ],
   "metadata": {
    "collapsed": false,
    "ExecuteTime": {
     "end_time": "2023-11-25T19:54:39.321634900Z",
     "start_time": "2023-11-25T19:54:39.250065600Z"
    }
   },
   "id": "64d8de252a2b2fd7"
  },
  {
   "cell_type": "markdown",
   "source": [
    "# Exercise 3"
   ],
   "metadata": {
    "collapsed": false
   },
   "id": "9bf96b83d55442ff"
  },
  {
   "cell_type": "code",
   "execution_count": 98,
   "outputs": [],
   "source": [
    "# Configuration\n",
    "\n",
    "# Timeframes to look at\n",
    "timeframes = [168, 72, 48, 24]\n",
    "\n",
    "temporal_coupling_save_file = \"./ex_3_temporal_coupling.json\"\n",
    "logical_coupling_save_file = \"./ex_3_logical_coupling.json\"\n",
    "\n",
    "repo_path = \"./kafka\""
   ],
   "metadata": {
    "collapsed": false,
    "ExecuteTime": {
     "end_time": "2023-11-25T19:54:39.329487500Z",
     "start_time": "2023-11-25T19:54:39.325701500Z"
    }
   },
   "id": "73130d2e39b80abb"
  },
  {
   "cell_type": "code",
   "execution_count": 99,
   "outputs": [],
   "source": [
    "# Get all files currently in the repository\n",
    "files = [os.path.relpath(entity, repo_path) for entity in Git(repo_path).files()]\n",
    "\n",
    "number_of_files = len(files)\n",
    "commits_since = datetime(2023, 9, 1, 0, 0, 0)\n",
    "\n",
    "commits = [c for c in Repository(repo_path).traverse_commits()]\n",
    "\n",
    "timeframes.sort(reverse=True)"
   ],
   "metadata": {
    "collapsed": false,
    "ExecuteTime": {
     "end_time": "2023-11-25T19:54:40.603215800Z",
     "start_time": "2023-11-25T19:54:39.328991900Z"
    }
   },
   "id": "1193eadf87edd071"
  },
  {
   "cell_type": "code",
   "execution_count": null,
   "outputs": [],
   "source": [
    "commit_window = deque()\n",
    "temporal_update_vectors = [{'v': [], 'w': []} for _ in timeframes]\n",
    "logical_update_vectors = []\n",
    "\n",
    "for commit in commits:\n",
    "    modifications = [file.new_path for file in commit.modified_files]\n",
    "    mask = np.isin(files, modifications)\n",
    "    indices = np.where(mask)[0]\n",
    "    c1_modifications = csc_matrix((np.ones_like(indices), (np.zeros_like(indices), indices)), shape=(1, len(files)))\n",
    "    c1_time = commit.committer_date\n",
    "    c1 = {\"time\": c1_time, \"modifications\": c1_modifications}\n",
    "    inside_timeframe = [False for _ in timeframes]\n",
    "    i = 0\n",
    "    logical_update_vectors.append(c1_modifications)\n",
    "    while i < len(commit_window):\n",
    "        c2 = commit_window[i]\n",
    "        delta = c1_time - c2[\"time\"]\n",
    "        for idx, timeframe in enumerate(timeframes):\n",
    "            if inside_timeframe[idx] or delta <= timedelta(hours=timeframe):\n",
    "                temporal_update_vectors[idx]['v'].append(c1_modifications)\n",
    "                temporal_update_vectors[idx]['w'].append(c2[\"modifications\"])\n",
    "                inside_timeframe[idx] = True\n",
    "        if inside_timeframe[0]:\n",
    "            i += 1\n",
    "        else:\n",
    "            commit_window.popleft()\n",
    "    commit_window.append(c1)              "
   ],
   "metadata": {
    "collapsed": false,
    "is_executing": true,
    "ExecuteTime": {
     "start_time": "2023-11-25T19:54:40.603215800Z"
    }
   },
   "id": "d17d254d55561550"
  },
  {
   "cell_type": "code",
   "execution_count": null,
   "outputs": [],
   "source": [
    "# For each timeframe compute a temporal coupling matrix\n",
    "temporal_matrices = [vstack(update_matrix['v']).transpose() @ vstack(update_matrix['w']) for update_matrix in temporal_update_vectors]"
   ],
   "metadata": {
    "collapsed": false,
    "is_executing": true
   },
   "id": "d86019982700d88b"
  },
  {
   "cell_type": "code",
   "execution_count": null,
   "outputs": [],
   "source": [
    "# Compute the logical coupling matrix and joint commits vector\n",
    "logical_coupling_matrix = vstack(logical_update_vectors).transpose() @ vstack(logical_update_vectors)\n",
    "\n",
    "joint_commits_vector = logical_coupling_matrix.sum(axis=0).A1 - logical_coupling_matrix.diagonal()"
   ],
   "metadata": {
    "collapsed": false,
    "is_executing": true
   },
   "id": "539a68e18b5f05f1"
  },
  {
   "cell_type": "code",
   "execution_count": null,
   "outputs": [],
   "source": [
    "# Convert the temporal coupling matrix to the required format\n",
    "temporal_coupling = {}\n",
    "for idx, matrix in enumerate(temporal_matrices):\n",
    "    for row, col in zip(*matrix.nonzero()):\n",
    "        if row == col:\n",
    "            continue\n",
    "        val = int(matrix[row, col])\n",
    "        key = f\"{row}_{col}\"\n",
    "        if key not in temporal_coupling:\n",
    "            temporal_coupling[key] = {\n",
    "                \"file_pair\": [\n",
    "                    files[row],\n",
    "                    files[col]\n",
    "                ],\n",
    "                \"coupled_commits\": [\n",
    "                    {\n",
    "                        \"time_window\": timeframe,\n",
    "                        \"commit_count\": 0\n",
    "                    } for timeframe in reversed(timeframes)\n",
    "                ]\n",
    "            }\n",
    "        temporal_coupling[key][\"coupled_commits\"][len(timeframes) - 1 - idx][\"commit_count\"] = val"
   ],
   "metadata": {
    "collapsed": false,
    "is_executing": true
   },
   "id": "fde5d05b58e6d6de"
  },
  {
   "cell_type": "code",
   "execution_count": null,
   "outputs": [],
   "source": [
    "# Convert the logical coupling matrix and vector to the required format\n",
    "logical_coupling = []\n",
    "for row, col in zip(*logical_coupling_matrix.nonzero()):\n",
    "    # We just need to look at the upper triangle because the matrix is symmetric\n",
    "    if row >= col:\n",
    "        continue\n",
    "    val = int(logical_coupling_matrix[row, col])\n",
    "    file_name_1 = files[row]\n",
    "    file_name_2 = files[col]\n",
    "    \n",
    "    logical_coupling.append({\n",
    "        \"file_pair\": [file_name_1, file_name_2],\n",
    "        \"logical_coupling\": {\n",
    "            \"Joint\": val,\n",
    "            file_name_1: int(joint_commits_vector[row]) - val,\n",
    "            file_name_2: int(joint_commits_vector[col]) - val\n",
    "        }\n",
    "    })"
   ],
   "metadata": {
    "collapsed": false,
    "is_executing": true
   },
   "id": "4eb9c769e0fc16cf"
  },
  {
   "cell_type": "code",
   "execution_count": null,
   "outputs": [],
   "source": [
    "# Saving temporal couplings\n",
    "with open(temporal_coupling_save_file, \"w\") as f:\n",
    "    ujson.dump(list(temporal_coupling.values()), f, indent=4)"
   ],
   "metadata": {
    "collapsed": false,
    "is_executing": true
   },
   "id": "4f06ec8f4ab9123e"
  },
  {
   "cell_type": "code",
   "execution_count": null,
   "outputs": [],
   "source": [
    "# Saving logical couplings\n",
    "with open(logical_coupling_save_file, \"w\") as f:\n",
    "    ujson.dump(logical_coupling, f, indent=4)"
   ],
   "metadata": {
    "collapsed": false,
    "is_executing": true
   },
   "id": "b7d7d3e7b3d6c600"
  },
  {
   "cell_type": "markdown",
   "source": [
    "# Analysis"
   ],
   "metadata": {
    "collapsed": false
   },
   "id": "8d5a7b45c47eb301"
  },
  {
   "cell_type": "markdown",
   "source": [
    "## 1. KafkaApis.scala and ReplicaManager.scala\n",
    "**KafkaApis.scala**:        core\\src\\main\\scala\\kafka\\server\\KafkaApis.scala\n",
    "**ReplicaManager.scala**:   core\\src\\main\\scala\\kafka\\server\\ReplicaManager.scala\n",
    "\n",
    "The file *KafkaApis.scala* and the file *ReplicaManager.scala* have a high temporal coupling, with 103 commits in a 24hour timeframe, 188 commits in a 48hour timeframe, 239 commits in a 72hour timeframe and 519 commits in a 168 timeframe. There also exists a high logical coupling with 147 logically coupled commits. These commits include various keywords like 'add(ed)', 'fix', 'refactor(ing)', 'feature', 'bug', etc., without one being significantly more frequent than the rest (TODO: ADD IS MORE). When we look at a sample of the commits in the issue tracking system we can also see various types of issues, ranging from *Bug* to *Improvement*. This is possible because most of the commits include an issue tracking id at the beginning of the commit message. For example commit [45c8195fa14c766b200c720f316836dbb84e9d8b](https://github.com/apache/kafka/commit/45c8195fa14c766b200c720f316836dbb84e9d8b) is a sub-task of the issue [KAFKA-3259](https://issues.apache.org/jira/browse/KAFKA-3259) which is of type *Improvement*. On the other hand the commit [660c0c0aa33ced5307ee70bfdb78ebde4b978d73](https://github.com/apache/kafka/commit/660c0c0aa33ced5307ee70bfdb78ebde4b978d73) is of type *Bug*. We also took a closer look at the files themselves. In *KafkaApis.scala*, the class `KafkaApis` has a member variable that is an instance of `ReplicaManager`, which is defined in *ReplicaManager.scala*. Changing the method `appendRecords` in *ReplicaManager.scala* on line 611 - 639 in the commit [56dcb837a2f1c1d8c016cfccf8268a910bb77a36](https://github.com/apache/kafka/commit/56dcb837a2f1c1d8c016cfccf8268a910bb77a36#diff-78812e247ffeae6f8c49b1b22506434701b1e1bafe7f92ef8f8708059e292bf0) required propagating the changes up to or down from *KafkaApi.scala*, demonstrating an architectural dependency between the two files. \n",
    "\n"
   ],
   "metadata": {
    "collapsed": false
   },
   "id": "37607a847b55199f"
  },
  {
   "cell_type": "markdown",
   "source": [
    "## 2. KafkaApis.scala and KafkaConsumer.java\n",
    "**KafkaApis.scala**:        core\\\\src\\\\main\\\\scala\\\\kafka\\\\server\\\\KafkaApis.scala\n",
    "**KafkaConsumer.java**:     clients\\\\src\\\\main\\\\java\\\\org\\\\apache\\\\kafka\\\\clients\\\\consumer\\\\KafkaConsumer.java\n",
    "\n",
    "The file *KafkaApis.scala* and the file *KafkaConsumer.java* have a relatively high temporal coupling of 84 commits in a 24hour timeframe, 137 commits in a 48hour timeframe, 183 commits in a 72hour timeframe and 390 commits in a 168hour timeframe. In contrast, there seems to be just a slight logical coupling between the two files. There are just 24 logically coupled commits, where *KafakaConsumer.java* has 4644 commits with other files and *KafkaApis.scala* has 10481 commits with other files. The reason behind the high temporal coupling proved difficult to ascertain from the temporally coupled commits alone. Temporally coupled files may not be coupled in an obvious way, so understanding their influence requires a deep understanding of the system. Additionally, two files can be temporally linked even if they do not heavily influence each other, because coupled commits were created purely by chance. This is especially true if the files are modified frequently. We can not exclude that the files have any effect on each other, but that both files have very large commits counts with other files and are not strongly logically coupled does not speak in favor of it. On the other hand, the naming of the files could imply that the *KafkaConsumer* consumes the *KafkaApi* share an architectural dependency. For example the logically coupled commit [69645f1fe5103adb00de6fa43152e7df989f3aea](https://github.com/apache/kafka/commit/69645f1fe5103adb00de6fa43152e7df989f3aea#diff-4537fba2845d55d73736763b6f555e04fb21cd56f183320eda45c92a3a52f11d) would support this statement. There seams to be a connection between the change in the *KafkaConsumer.java* on the line 2314 - 2338 and the *KafakApis.scala* on the line 1693, where an optional join group request reason field is added in both files. "
   ],
   "metadata": {
    "collapsed": false
   },
   "id": "dd6a5c68a2515665"
  },
  {
   "cell_type": "markdown",
   "source": [
    "## 3. Filename1 and Filename2 (TODO)\n",
    "**Filename1**:  \n",
    "**Filename2**: "
   ],
   "metadata": {
    "collapsed": false
   },
   "id": "f65dbfc2c91bf91e"
  },
  {
   "cell_type": "code",
   "execution_count": null,
   "outputs": [],
   "source": [],
   "metadata": {
    "collapsed": false,
    "is_executing": true
   },
   "id": "8f5326e0174d52cc"
  }
 ],
 "metadata": {
  "kernelspec": {
   "display_name": "Python 3",
   "language": "python",
   "name": "python3"
  },
  "language_info": {
   "codemirror_mode": {
    "name": "ipython",
    "version": 2
   },
   "file_extension": ".py",
   "mimetype": "text/x-python",
   "name": "python",
   "nbconvert_exporter": "python",
   "pygments_lexer": "ipython2",
   "version": "2.7.6"
  }
 },
 "nbformat": 4,
 "nbformat_minor": 5
}
